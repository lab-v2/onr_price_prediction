{
 "cells": [
  {
   "cell_type": "code",
   "execution_count": 1,
   "metadata": {},
   "outputs": [],
   "source": [
    "import pandas as pd"
   ]
  },
  {
   "cell_type": "code",
   "execution_count": 3,
   "metadata": {},
   "outputs": [],
   "source": [
    "nickel_export = pd.read_csv('/Users/harshdeepsingh/ASU/Lab_V2/GSN/onr_price_prediction/metals/nickel/nickel_export.csv')\n",
    "nickel_import = pd.read_csv('/Users/harshdeepsingh/ASU/Lab_V2/GSN/onr_price_prediction/metals/nickel/nickel_import.csv')"
   ]
  },
  {
   "cell_type": "code",
   "execution_count": 6,
   "metadata": {},
   "outputs": [],
   "source": [
    "nickel_import['Product Trade Value'] = -nickel_import['Product Trade Value']"
   ]
  },
  {
   "cell_type": "code",
   "execution_count": 10,
   "metadata": {},
   "outputs": [],
   "source": [
    "nickel_unioun = pd.concat([nickel_import,nickel_export])\n",
    "nickel_unioun = nickel_unioun.groupby(['Year','Country']).sum()"
   ]
  },
  {
   "cell_type": "code",
   "execution_count": 12,
   "metadata": {},
   "outputs": [],
   "source": [
    "nickel_unioun.to_csv('/Users/harshdeepsingh/ASU/Lab_V2/GSN/onr_price_prediction/metals/nickel/nickel_unioun.csv')"
   ]
  }
 ],
 "metadata": {
  "kernelspec": {
   "display_name": "lab_v2",
   "language": "python",
   "name": "python3"
  },
  "language_info": {
   "codemirror_mode": {
    "name": "ipython",
    "version": 3
   },
   "file_extension": ".py",
   "mimetype": "text/x-python",
   "name": "python",
   "nbconvert_exporter": "python",
   "pygments_lexer": "ipython3",
   "version": "3.11.0"
  }
 },
 "nbformat": 4,
 "nbformat_minor": 2
}
