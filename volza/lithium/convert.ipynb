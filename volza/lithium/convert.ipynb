{
 "cells": [
  {
   "cell_type": "code",
   "execution_count": 3,
   "metadata": {},
   "outputs": [],
   "source": [
    "import pandas as pd\n",
    "\n",
    "COMMODITY = 'lithium'\n",
    "PRICE_FILE = f'{COMMODITY}_prices.csv'\n",
    "# filename = 'Cobalt 2020-2023.xlsx'\n",
    "# sheet = 'Global Search Data'\n",
    "\n",
    "# df = pd.read_excel(filename, sheet_name=sheet, skiprows=1)\n",
    "# csv = df.to_csv(f'{COMMODITY}.csv')\n",
    "# df"
   ]
  },
  {
   "cell_type": "code",
   "execution_count": 4,
   "metadata": {},
   "outputs": [],
   "source": [
    "# Convert Price csv date format\n",
    "\n",
    "price_df = pd.read_csv(PRICE_FILE)\n",
    " \n",
    "# Convert 'Date' column to datetime format\n",
    "price_df['Date'] = pd.to_datetime(price_df['Date'])\n",
    "\n",
    "# Format 'Date' column to 'MMM DD, YYYY' format\n",
    "price_df['Date'] = price_df['Date'].dt.strftime('%b %d, %Y')\n",
    "\n",
    "price_df.to_csv(PRICE_FILE)"
   ]
  }
 ],
 "metadata": {
  "kernelspec": {
   "display_name": "venv",
   "language": "python",
   "name": "python3"
  },
  "language_info": {
   "codemirror_mode": {
    "name": "ipython",
    "version": 3
   },
   "file_extension": ".py",
   "mimetype": "text/x-python",
   "name": "python",
   "nbconvert_exporter": "python",
   "pygments_lexer": "ipython3",
   "version": "3.11.6"
  }
 },
 "nbformat": 4,
 "nbformat_minor": 2
}
