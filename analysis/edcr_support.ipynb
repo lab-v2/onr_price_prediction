{
 "cells": [
  {
   "cell_type": "code",
   "execution_count": 1,
   "metadata": {},
   "outputs": [
    {
     "name": "stdout",
     "output_type": "stream",
     "text": [
      "WARNING:tensorflow:From c:\\Users\\manim\\LabV2\\ONR-Price-Prediction\\onr_price_prediction\\venv\\Lib\\site-packages\\keras\\src\\losses.py:2976: The name tf.losses.sparse_softmax_cross_entropy is deprecated. Please use tf.compat.v1.losses.sparse_softmax_cross_entropy instead.\n",
      "\n"
     ]
    }
   ],
   "source": [
    "\n",
    "import models\n",
    "import utils\n",
    "import data_processing\n",
    "from constants import (\n",
    "    VALUE_COLUMN,\n",
    "    UNIT_RATE_COLUMN,\n",
    "    QUANTITY_COLUMN,\n",
    "    GROSS_WEIGHT_COLUMN,\n",
    "    SHIP_COUNT_COLUMN,\n",
    "    PORT_COUNT_COLUMN,\n",
    "    FILL_METHOD,\n",
    "    TARGET_COLUMN,\n",
    "    VOLZA_COLUMNS,\n",
    "    AIS_COLUMNS,\n",
    "    OIL_COLUMNS,\n",
    "    ARIMA_RESIDUAL_COLUMN,\n",
    "    RANDOM_STATE\n",
    ")\n",
    "import pandas as pd\n",
    "import constants\n",
    "import sys\n",
    "from datetime import datetime\n",
    "from build_data import get_data\n",
    "from sklearn.model_selection import train_test_split\n",
    "from sklearn.preprocessing import KBinsDiscretizer\n",
    "\n",
    "import matplotlib.pyplot as plt\n",
    "import numpy as np"
   ]
  },
  {
   "cell_type": "code",
   "execution_count": 2,
   "metadata": {},
   "outputs": [
    {
     "name": "stdout",
     "output_type": "stream",
     "text": [
      "Building data...\n"
     ]
    },
    {
     "name": "stderr",
     "output_type": "stream",
     "text": [
      "c:\\Users\\manim\\LabV2\\ONR-Price-Prediction\\onr_price_prediction\\analysis\\build_data.py:63: SettingWithCopyWarning: \n",
      "A value is trying to be set on a copy of a slice from a DataFrame\n",
      "\n",
      "See the caveats in the documentation: https://pandas.pydata.org/pandas-docs/stable/user_guide/indexing.html#returning-a-view-versus-a-copy\n",
      "  brent_df.rename(columns={\"Value\": \"Brent Oil Value\"}, inplace=True)\n",
      "c:\\Users\\manim\\LabV2\\ONR-Price-Prediction\\onr_price_prediction\\analysis\\build_data.py:64: SettingWithCopyWarning: \n",
      "A value is trying to be set on a copy of a slice from a DataFrame\n",
      "\n",
      "See the caveats in the documentation: https://pandas.pydata.org/pandas-docs/stable/user_guide/indexing.html#returning-a-view-versus-a-copy\n",
      "  wti_df.rename(columns={\"Value\": \"WTI Oil Value\"}, inplace=True)\n",
      "c:\\Users\\manim\\LabV2\\ONR-Price-Prediction\\onr_price_prediction\\analysis\\build_data.py:69: FutureWarning: DataFrame.fillna with 'method' is deprecated and will raise in a future version. Use obj.ffill() or obj.bfill() instead.\n",
      "  date_wise_volza = date_wise_volza.join(ais_popular_pd, how=\"left\").fillna(\n",
      "c:\\Users\\manim\\LabV2\\ONR-Price-Prediction\\onr_price_prediction\\analysis\\build_data.py:72: FutureWarning: DataFrame.fillna with 'method' is deprecated and will raise in a future version. Use obj.ffill() or obj.bfill() instead.\n",
      "  aggregated_df = date_wise_volza.join(prices_pd, how=\"left\").fillna(method=FILL_METHOD)\n",
      "c:\\Users\\manim\\LabV2\\ONR-Price-Prediction\\onr_price_prediction\\analysis\\build_data.py:75: FutureWarning: DataFrame.fillna with 'method' is deprecated and will raise in a future version. Use obj.ffill() or obj.bfill() instead.\n",
      "  ).fillna(method=FILL_METHOD)\n",
      "c:\\Users\\manim\\LabV2\\ONR-Price-Prediction\\onr_price_prediction\\analysis\\build_data.py:78: FutureWarning: DataFrame.fillna with 'method' is deprecated and will raise in a future version. Use obj.ffill() or obj.bfill() instead.\n",
      "  ).fillna(method=FILL_METHOD)\n"
     ]
    },
    {
     "name": "stdout",
     "output_type": "stream",
     "text": [
      "Rows dropped due to NaN values: 1\n",
      "Detecting spikes... 20\n"
     ]
    },
    {
     "name": "stderr",
     "output_type": "stream",
     "text": [
      "c:\\Users\\manim\\LabV2\\ONR-Price-Prediction\\onr_price_prediction\\venv\\Lib\\site-packages\\statsmodels\\tsa\\base\\tsa_model.py:836: ValueWarning: No supported index is available. Prediction results will be given with an integer index beginning at `start`.\n",
      "  return get_prediction_index(\n",
      "c:\\Users\\manim\\LabV2\\ONR-Price-Prediction\\onr_price_prediction\\venv\\Lib\\site-packages\\statsmodels\\tsa\\base\\tsa_model.py:836: FutureWarning: No supported index is available. In the next version, calling this method in a model without a supported index will result in an exception.\n",
      "  return get_prediction_index(\n"
     ]
    }
   ],
   "source": [
    "COMMODITY = \"copper\"\n",
    "WINDOW_SIZE = 20\n",
    "\n",
    "VOLZA_FILE_PATH = f\"../volza/{COMMODITY}/{COMMODITY}.csv\"\n",
    "PRICE_FILE_PATH = f\"../volza/{COMMODITY}/{COMMODITY}_prices.csv\"\n",
    "\n",
    "# Get the data\n",
    "data = get_data(VOLZA_FILE_PATH, PRICE_FILE_PATH, window_size=20, center=False)\n",
    "\n",
    "# Add Isolation Forest spikes column\n",
    "data['spikes_if'] = utils.detect_spikes_if(data, [TARGET_COLUMN], contamination=0.1)\n",
    "\n",
    "# TRAIN_SIZE = 0.5"
   ]
  },
  {
   "cell_type": "code",
   "execution_count": 3,
   "metadata": {},
   "outputs": [
    {
     "data": {
      "text/html": [
       "<div>\n",
       "<style scoped>\n",
       "    .dataframe tbody tr th:only-of-type {\n",
       "        vertical-align: middle;\n",
       "    }\n",
       "\n",
       "    .dataframe tbody tr th {\n",
       "        vertical-align: top;\n",
       "    }\n",
       "\n",
       "    .dataframe thead th {\n",
       "        text-align: right;\n",
       "    }\n",
       "</style>\n",
       "<table border=\"1\" class=\"dataframe\">\n",
       "  <thead>\n",
       "    <tr style=\"text-align: right;\">\n",
       "      <th></th>\n",
       "      <th>Date</th>\n",
       "      <th>Value</th>\n",
       "      <th>Std. Quantity (KG)</th>\n",
       "      <th>Gross Weight</th>\n",
       "      <th>Std. Unit Rate ($/KG)</th>\n",
       "      <th>ship_count</th>\n",
       "      <th>popular_port</th>\n",
       "      <th>popular_port_count</th>\n",
       "      <th>Price</th>\n",
       "      <th>Brent Oil Value</th>\n",
       "      <th>WTI Oil Value</th>\n",
       "      <th>ARIMA_Residuals</th>\n",
       "      <th>spikes</th>\n",
       "      <th>spikes_if</th>\n",
       "    </tr>\n",
       "  </thead>\n",
       "  <tbody>\n",
       "    <tr>\n",
       "      <th>1</th>\n",
       "      <td>2019-01-02</td>\n",
       "      <td>28997742.33</td>\n",
       "      <td>4504496.0</td>\n",
       "      <td>4507752.0</td>\n",
       "      <td>6.420416</td>\n",
       "      <td>NaN</td>\n",
       "      <td>NaN</td>\n",
       "      <td>NaN</td>\n",
       "      <td>2.6250</td>\n",
       "      <td>54.06</td>\n",
       "      <td>46.31</td>\n",
       "      <td>2.6250</td>\n",
       "      <td>0</td>\n",
       "      <td>0</td>\n",
       "    </tr>\n",
       "    <tr>\n",
       "      <th>2</th>\n",
       "      <td>2019-01-03</td>\n",
       "      <td>16525428.57</td>\n",
       "      <td>2427492.0</td>\n",
       "      <td>2428782.0</td>\n",
       "      <td>9.079466</td>\n",
       "      <td>NaN</td>\n",
       "      <td>NaN</td>\n",
       "      <td>NaN</td>\n",
       "      <td>2.5705</td>\n",
       "      <td>53.23</td>\n",
       "      <td>46.92</td>\n",
       "      <td>-0.0545</td>\n",
       "      <td>0</td>\n",
       "      <td>0</td>\n",
       "    </tr>\n",
       "  </tbody>\n",
       "</table>\n",
       "</div>"
      ],
      "text/plain": [
       "        Date        Value  Std. Quantity (KG)  Gross Weight  \\\n",
       "1 2019-01-02  28997742.33           4504496.0     4507752.0   \n",
       "2 2019-01-03  16525428.57           2427492.0     2428782.0   \n",
       "\n",
       "   Std. Unit Rate ($/KG)  ship_count popular_port  popular_port_count   Price  \\\n",
       "1               6.420416         NaN          NaN                 NaN  2.6250   \n",
       "2               9.079466         NaN          NaN                 NaN  2.5705   \n",
       "\n",
       "   Brent Oil Value  WTI Oil Value  ARIMA_Residuals  spikes  spikes_if  \n",
       "1            54.06          46.31           2.6250       0          0  \n",
       "2            53.23          46.92          -0.0545       0          0  "
      ]
     },
     "execution_count": 3,
     "metadata": {},
     "output_type": "execute_result"
    }
   ],
   "source": [
    "import matplotlib.pyplot as plt\n",
    "\n",
    "aggregated_df = data.copy()\n",
    "data.head(2)"
   ]
  },
  {
   "cell_type": "code",
   "execution_count": 4,
   "metadata": {},
   "outputs": [],
   "source": [
    "# Add Lagged Features\n",
    "aggregated_df = utils.add_lagged_features(aggregated_df, 'Price', n_lags=5)\n",
    "\n",
    "# Add Moving Averages\n",
    "aggregated_df = utils.add_moving_averages(aggregated_df, 'Price', windows=[5, 10])\n",
    "\n",
    "# Add Returns\n",
    "aggregated_df = utils.add_returns(aggregated_df, 'Price')\n",
    "\n",
    "# Add Volatility\n",
    "aggregated_df = utils.add_volatility(aggregated_df, 'returns', windows=[7, 14])"
   ]
  },
  {
   "cell_type": "code",
   "execution_count": 5,
   "metadata": {},
   "outputs": [
    {
     "name": "stdout",
     "output_type": "stream",
     "text": [
      "Spike Percentage: 10.02%\n"
     ]
    },
    {
     "data": {
      "image/png": "[encoded data removed]",
      "text/plain": [
       "<Figure size 1000x600 with 1 Axes>"
      ]
     },
     "metadata": {},
     "output_type": "display_data"
    }
   ],
   "source": [
    "import matplotlib.pyplot as plt\n",
    "# Plotting the price data\n",
    "utils.plot_prices(aggregated_df,column='spikes_if')"
   ]
  },
  {
   "cell_type": "code",
   "execution_count": 6,
   "metadata": {},
   "outputs": [],
   "source": [
    "PRICE_FEATURE_COLUMNS = ['ma_5', 'ma_10', 'returns']\n",
    "PRICE_LAG_FEATURE_COLUMNS = ['lag_1', 'lag_2', 'lag_3']\n",
    "FEATURE_COLUMNS = VOLZA_COLUMNS + OIL_COLUMNS + [ARIMA_RESIDUAL_COLUMN]\n",
    "PRICE_COLUMN = ['Price']\n",
    "TARGET_COLUMN = ['spikes_if']"
   ]
  },
  {
   "cell_type": "code",
   "execution_count": 7,
   "metadata": {},
   "outputs": [
    {
     "name": "stdout",
     "output_type": "stream",
     "text": [
      "copper/test/predictions/test\n",
      "WARNING:tensorflow:From c:\\Users\\manim\\LabV2\\ONR-Price-Prediction\\onr_price_prediction\\venv\\Lib\\site-packages\\keras\\src\\backend.py:873: The name tf.get_default_graph is deprecated. Please use tf.compat.v1.get_default_graph instead.\n",
      "\n",
      "WARNING:tensorflow:From c:\\Users\\manim\\LabV2\\ONR-Price-Prediction\\onr_price_prediction\\venv\\Lib\\site-packages\\keras\\src\\optimizers\\__init__.py:309: The name tf.train.Optimizer is deprecated. Please use tf.compat.v1.train.Optimizer instead.\n",
      "\n",
      "WARNING:tensorflow:From c:\\Users\\manim\\LabV2\\ONR-Price-Prediction\\onr_price_prediction\\venv\\Lib\\site-packages\\keras\\src\\utils\\tf_utils.py:492: The name tf.ragged.RaggedTensorValue is deprecated. Please use tf.compat.v1.ragged.RaggedTensorValue instead.\n",
      "\n",
      "12/12 [==============================] - 0s 3ms/step\n",
      "12/12 [==============================] - 0s 3ms/step\n",
      "Predictions saved to CSV file: copper/test/predictions/test/LSTM_256_layers_predictions.csv\n",
      "Predictions saved to NPY file: copper/test/predictions/test/LSTM_256_layers_predictions.npy\n"
     ]
    },
    {
     "name": "stderr",
     "output_type": "stream",
     "text": [
      "c:\\Users\\manim\\LabV2\\ONR-Price-Prediction\\onr_price_prediction\\venv\\Lib\\site-packages\\sklearn\\metrics\\_classification.py:1471: UndefinedMetricWarning: Precision and F-score are ill-defined and being set to 0.0 in labels with no predicted samples. Use `zero_division` parameter to control this behavior.\n",
      "  _warn_prf(average, modifier, msg_start, len(result))\n",
      "c:\\Users\\manim\\LabV2\\ONR-Price-Prediction\\onr_price_prediction\\venv\\Lib\\site-packages\\sklearn\\metrics\\_classification.py:1471: UndefinedMetricWarning: Precision and F-score are ill-defined and being set to 0.0 in labels with no predicted samples. Use `zero_division` parameter to control this behavior.\n",
      "  _warn_prf(average, modifier, msg_start, len(result))\n",
      "c:\\Users\\manim\\LabV2\\ONR-Price-Prediction\\onr_price_prediction\\venv\\Lib\\site-packages\\sklearn\\metrics\\_classification.py:1471: UndefinedMetricWarning: Precision and F-score are ill-defined and being set to 0.0 in labels with no predicted samples. Use `zero_division` parameter to control this behavior.\n",
      "  _warn_prf(average, modifier, msg_start, len(result))\n"
     ]
    },
    {
     "name": "stdout",
     "output_type": "stream",
     "text": [
      "12/12 [==============================] - 0s 3ms/step\n",
      "12/12 [==============================] - 0s 2ms/step\n",
      "Predictions saved to CSV file: copper/test/predictions/test/LSTM_128_layers_predictions.csv\n",
      "Predictions saved to NPY file: copper/test/predictions/test/LSTM_128_layers_predictions.npy\n",
      "12/12 [==============================] - 0s 2ms/step\n",
      "12/12 [==============================] - 0s 2ms/step\n",
      "Predictions saved to CSV file: copper/test/predictions/test/LSTM_64_layers_predictions.csv\n",
      "Predictions saved to NPY file: copper/test/predictions/test/LSTM_64_layers_predictions.npy\n",
      "12/12 [==============================] - 0s 1ms/step\n",
      "12/12 [==============================] - 0s 1ms/step\n",
      "Predictions saved to CSV file: copper/test/predictions/test/LSTM_32_layers_predictions.csv\n",
      "Predictions saved to NPY file: copper/test/predictions/test/LSTM_32_layers_predictions.npy\n",
      "WARNING:tensorflow:From c:\\Users\\manim\\LabV2\\ONR-Price-Prediction\\onr_price_prediction\\venv\\Lib\\site-packages\\keras\\src\\backend.py:6642: The name tf.nn.max_pool is deprecated. Please use tf.nn.max_pool2d instead.\n",
      "\n",
      "WARNING:tensorflow:From c:\\Users\\manim\\LabV2\\ONR-Price-Prediction\\onr_price_prediction\\venv\\Lib\\site-packages\\keras\\src\\engine\\base_layer_utils.py:384: The name tf.executing_eagerly_outside_functions is deprecated. Please use tf.compat.v1.executing_eagerly_outside_functions instead.\n",
      "\n",
      "12/12 [==============================] - 0s 2ms/step\n",
      "12/12 [==============================] - 0s 1ms/step\n",
      "Predictions saved to CSV file: copper/test/predictions/test/CNN_Attention_32_filters_7_kernels_predictions.csv\n",
      "Predictions saved to NPY file: copper/test/predictions/test/CNN_Attention_32_filters_7_kernels_predictions.npy\n"
     ]
    },
    {
     "name": "stderr",
     "output_type": "stream",
     "text": [
      "c:\\Users\\manim\\LabV2\\ONR-Price-Prediction\\onr_price_prediction\\venv\\Lib\\site-packages\\sklearn\\metrics\\_classification.py:1471: UndefinedMetricWarning: Precision and F-score are ill-defined and being set to 0.0 in labels with no predicted samples. Use `zero_division` parameter to control this behavior.\n",
      "  _warn_prf(average, modifier, msg_start, len(result))\n",
      "c:\\Users\\manim\\LabV2\\ONR-Price-Prediction\\onr_price_prediction\\venv\\Lib\\site-packages\\sklearn\\metrics\\_classification.py:1471: UndefinedMetricWarning: Precision and F-score are ill-defined and being set to 0.0 in labels with no predicted samples. Use `zero_division` parameter to control this behavior.\n",
      "  _warn_prf(average, modifier, msg_start, len(result))\n",
      "c:\\Users\\manim\\LabV2\\ONR-Price-Prediction\\onr_price_prediction\\venv\\Lib\\site-packages\\sklearn\\metrics\\_classification.py:1471: UndefinedMetricWarning: Precision and F-score are ill-defined and being set to 0.0 in labels with no predicted samples. Use `zero_division` parameter to control this behavior.\n",
      "  _warn_prf(average, modifier, msg_start, len(result))\n"
     ]
    },
    {
     "name": "stdout",
     "output_type": "stream",
     "text": [
      "12/12 [==============================] - 0s 967us/step\n",
      "12/12 [==============================] - 0s 942us/step\n",
      "Predictions saved to CSV file: copper/test/predictions/test/CNN_Attention_32_filters_5_kernels_predictions.csv\n",
      "Predictions saved to NPY file: copper/test/predictions/test/CNN_Attention_32_filters_5_kernels_predictions.npy\n",
      "12/12 [==============================] - 0s 910us/step\n",
      "12/12 [==============================] - 0s 927us/step\n",
      "Predictions saved to CSV file: copper/test/predictions/test/CNN_Attention_32_filters_3_kernels_predictions.csv\n",
      "Predictions saved to NPY file: copper/test/predictions/test/CNN_Attention_32_filters_3_kernels_predictions.npy\n"
     ]
    },
    {
     "name": "stderr",
     "output_type": "stream",
     "text": [
      "c:\\Users\\manim\\LabV2\\ONR-Price-Prediction\\onr_price_prediction\\venv\\Lib\\site-packages\\sklearn\\metrics\\_classification.py:1471: UndefinedMetricWarning: Precision and F-score are ill-defined and being set to 0.0 in labels with no predicted samples. Use `zero_division` parameter to control this behavior.\n",
      "  _warn_prf(average, modifier, msg_start, len(result))\n",
      "c:\\Users\\manim\\LabV2\\ONR-Price-Prediction\\onr_price_prediction\\venv\\Lib\\site-packages\\sklearn\\metrics\\_classification.py:1471: UndefinedMetricWarning: Precision and F-score are ill-defined and being set to 0.0 in labels with no predicted samples. Use `zero_division` parameter to control this behavior.\n",
      "  _warn_prf(average, modifier, msg_start, len(result))\n",
      "c:\\Users\\manim\\LabV2\\ONR-Price-Prediction\\onr_price_prediction\\venv\\Lib\\site-packages\\sklearn\\metrics\\_classification.py:1471: UndefinedMetricWarning: Precision and F-score are ill-defined and being set to 0.0 in labels with no predicted samples. Use `zero_division` parameter to control this behavior.\n",
      "  _warn_prf(average, modifier, msg_start, len(result))\n"
     ]
    },
    {
     "name": "stdout",
     "output_type": "stream",
     "text": [
      "12/12 [==============================] - 0s 940us/step\n",
      "12/12 [==============================] - 0s 840us/step\n",
      "Predictions saved to CSV file: copper/test/predictions/test/CNN_Attention_64_filters_7_kernels_predictions.csv\n",
      "Predictions saved to NPY file: copper/test/predictions/test/CNN_Attention_64_filters_7_kernels_predictions.npy\n"
     ]
    },
    {
     "name": "stderr",
     "output_type": "stream",
     "text": [
      "c:\\Users\\manim\\LabV2\\ONR-Price-Prediction\\onr_price_prediction\\venv\\Lib\\site-packages\\sklearn\\metrics\\_classification.py:1471: UndefinedMetricWarning: Precision and F-score are ill-defined and being set to 0.0 in labels with no predicted samples. Use `zero_division` parameter to control this behavior.\n",
      "  _warn_prf(average, modifier, msg_start, len(result))\n",
      "c:\\Users\\manim\\LabV2\\ONR-Price-Prediction\\onr_price_prediction\\venv\\Lib\\site-packages\\sklearn\\metrics\\_classification.py:1471: UndefinedMetricWarning: Precision and F-score are ill-defined and being set to 0.0 in labels with no predicted samples. Use `zero_division` parameter to control this behavior.\n",
      "  _warn_prf(average, modifier, msg_start, len(result))\n",
      "c:\\Users\\manim\\LabV2\\ONR-Price-Prediction\\onr_price_prediction\\venv\\Lib\\site-packages\\sklearn\\metrics\\_classification.py:1471: UndefinedMetricWarning: Precision and F-score are ill-defined and being set to 0.0 in labels with no predicted samples. Use `zero_division` parameter to control this behavior.\n",
      "  _warn_prf(average, modifier, msg_start, len(result))\n"
     ]
    },
    {
     "name": "stdout",
     "output_type": "stream",
     "text": [
      "12/12 [==============================] - 0s 1ms/step\n",
      "12/12 [==============================] - 0s 946us/step\n",
      "Predictions saved to CSV file: copper/test/predictions/test/CNN_Attention_64_filters_5_kernels_predictions.csv\n",
      "Predictions saved to NPY file: copper/test/predictions/test/CNN_Attention_64_filters_5_kernels_predictions.npy\n",
      "12/12 [==============================] - 0s 997us/step\n",
      "12/12 [==============================] - 0s 1ms/step\n",
      "Predictions saved to CSV file: copper/test/predictions/test/CNN_Attention_64_filters_3_kernels_predictions.csv\n",
      "Predictions saved to NPY file: copper/test/predictions/test/CNN_Attention_64_filters_3_kernels_predictions.npy\n"
     ]
    },
    {
     "name": "stderr",
     "output_type": "stream",
     "text": [
      "c:\\Users\\manim\\LabV2\\ONR-Price-Prediction\\onr_price_prediction\\venv\\Lib\\site-packages\\sklearn\\metrics\\_classification.py:1471: UndefinedMetricWarning: Precision and F-score are ill-defined and being set to 0.0 in labels with no predicted samples. Use `zero_division` parameter to control this behavior.\n",
      "  _warn_prf(average, modifier, msg_start, len(result))\n",
      "c:\\Users\\manim\\LabV2\\ONR-Price-Prediction\\onr_price_prediction\\venv\\Lib\\site-packages\\sklearn\\metrics\\_classification.py:1471: UndefinedMetricWarning: Precision and F-score are ill-defined and being set to 0.0 in labels with no predicted samples. Use `zero_division` parameter to control this behavior.\n",
      "  _warn_prf(average, modifier, msg_start, len(result))\n",
      "c:\\Users\\manim\\LabV2\\ONR-Price-Prediction\\onr_price_prediction\\venv\\Lib\\site-packages\\sklearn\\metrics\\_classification.py:1471: UndefinedMetricWarning: Precision and F-score are ill-defined and being set to 0.0 in labels with no predicted samples. Use `zero_division` parameter to control this behavior.\n",
      "  _warn_prf(average, modifier, msg_start, len(result))\n"
     ]
    },
    {
     "name": "stdout",
     "output_type": "stream",
     "text": [
      "12/12 [==============================] - 0s 1ms/step\n",
      "12/12 [==============================] - 0s 1ms/step\n",
      "Predictions saved to CSV file: copper/test/predictions/test/CNN_Attention_128_filters_7_kernels_predictions.csv\n",
      "Predictions saved to NPY file: copper/test/predictions/test/CNN_Attention_128_filters_7_kernels_predictions.npy\n",
      "12/12 [==============================] - 0s 996us/step\n",
      "12/12 [==============================] - 0s 975us/step\n",
      "Predictions saved to CSV file: copper/test/predictions/test/CNN_Attention_128_filters_5_kernels_predictions.csv\n",
      "Predictions saved to NPY file: copper/test/predictions/test/CNN_Attention_128_filters_5_kernels_predictions.npy\n",
      "12/12 [==============================] - 0s 1ms/step\n",
      "12/12 [==============================] - 0s 1ms/step\n",
      "Predictions saved to CSV file: copper/test/predictions/test/CNN_Attention_128_filters_3_kernels_predictions.csv\n",
      "Predictions saved to NPY file: copper/test/predictions/test/CNN_Attention_128_filters_3_kernels_predictions.npy\n"
     ]
    },
    {
     "name": "stderr",
     "output_type": "stream",
     "text": [
      "c:\\Users\\manim\\LabV2\\ONR-Price-Prediction\\onr_price_prediction\\venv\\Lib\\site-packages\\sklearn\\metrics\\_classification.py:1471: UndefinedMetricWarning: Precision and F-score are ill-defined and being set to 0.0 in labels with no predicted samples. Use `zero_division` parameter to control this behavior.\n",
      "  _warn_prf(average, modifier, msg_start, len(result))\n",
      "c:\\Users\\manim\\LabV2\\ONR-Price-Prediction\\onr_price_prediction\\venv\\Lib\\site-packages\\sklearn\\metrics\\_classification.py:1471: UndefinedMetricWarning: Precision and F-score are ill-defined and being set to 0.0 in labels with no predicted samples. Use `zero_division` parameter to control this behavior.\n",
      "  _warn_prf(average, modifier, msg_start, len(result))\n",
      "c:\\Users\\manim\\LabV2\\ONR-Price-Prediction\\onr_price_prediction\\venv\\Lib\\site-packages\\sklearn\\metrics\\_classification.py:1471: UndefinedMetricWarning: Precision and F-score are ill-defined and being set to 0.0 in labels with no predicted samples. Use `zero_division` parameter to control this behavior.\n",
      "  _warn_prf(average, modifier, msg_start, len(result))\n"
     ]
    },
    {
     "name": "stdout",
     "output_type": "stream",
     "text": [
      "12/12 [==============================] - 0s 1ms/step\n",
      "12/12 [==============================] - 0s 1ms/step\n",
      "Predictions saved to CSV file: copper/test/predictions/test/CNN_Attention_256_filters_7_kernels_predictions.csv\n",
      "Predictions saved to NPY file: copper/test/predictions/test/CNN_Attention_256_filters_7_kernels_predictions.npy\n"
     ]
    },
    {
     "name": "stderr",
     "output_type": "stream",
     "text": [
      "c:\\Users\\manim\\LabV2\\ONR-Price-Prediction\\onr_price_prediction\\venv\\Lib\\site-packages\\sklearn\\metrics\\_classification.py:1471: UndefinedMetricWarning: Precision and F-score are ill-defined and being set to 0.0 in labels with no predicted samples. Use `zero_division` parameter to control this behavior.\n",
      "  _warn_prf(average, modifier, msg_start, len(result))\n",
      "c:\\Users\\manim\\LabV2\\ONR-Price-Prediction\\onr_price_prediction\\venv\\Lib\\site-packages\\sklearn\\metrics\\_classification.py:1471: UndefinedMetricWarning: Precision and F-score are ill-defined and being set to 0.0 in labels with no predicted samples. Use `zero_division` parameter to control this behavior.\n",
      "  _warn_prf(average, modifier, msg_start, len(result))\n",
      "c:\\Users\\manim\\LabV2\\ONR-Price-Prediction\\onr_price_prediction\\venv\\Lib\\site-packages\\sklearn\\metrics\\_classification.py:1471: UndefinedMetricWarning: Precision and F-score are ill-defined and being set to 0.0 in labels with no predicted samples. Use `zero_division` parameter to control this behavior.\n",
      "  _warn_prf(average, modifier, msg_start, len(result))\n"
     ]
    },
    {
     "name": "stdout",
     "output_type": "stream",
     "text": [
      "12/12 [==============================] - 0s 1ms/step\n",
      "12/12 [==============================] - 0s 916us/step\n",
      "Predictions saved to CSV file: copper/test/predictions/test/CNN_Attention_256_filters_5_kernels_predictions.csv\n",
      "Predictions saved to NPY file: copper/test/predictions/test/CNN_Attention_256_filters_5_kernels_predictions.npy\n"
     ]
    },
    {
     "name": "stderr",
     "output_type": "stream",
     "text": [
      "c:\\Users\\manim\\LabV2\\ONR-Price-Prediction\\onr_price_prediction\\venv\\Lib\\site-packages\\sklearn\\metrics\\_classification.py:1471: UndefinedMetricWarning: Precision and F-score are ill-defined and being set to 0.0 in labels with no predicted samples. Use `zero_division` parameter to control this behavior.\n",
      "  _warn_prf(average, modifier, msg_start, len(result))\n",
      "c:\\Users\\manim\\LabV2\\ONR-Price-Prediction\\onr_price_prediction\\venv\\Lib\\site-packages\\sklearn\\metrics\\_classification.py:1471: UndefinedMetricWarning: Precision and F-score are ill-defined and being set to 0.0 in labels with no predicted samples. Use `zero_division` parameter to control this behavior.\n",
      "  _warn_prf(average, modifier, msg_start, len(result))\n",
      "c:\\Users\\manim\\LabV2\\ONR-Price-Prediction\\onr_price_prediction\\venv\\Lib\\site-packages\\sklearn\\metrics\\_classification.py:1471: UndefinedMetricWarning: Precision and F-score are ill-defined and being set to 0.0 in labels with no predicted samples. Use `zero_division` parameter to control this behavior.\n",
      "  _warn_prf(average, modifier, msg_start, len(result))\n"
     ]
    },
    {
     "name": "stdout",
     "output_type": "stream",
     "text": [
      "12/12 [==============================] - 0s 2ms/step\n",
      "12/12 [==============================] - 0s 1ms/step\n",
      "Predictions saved to CSV file: copper/test/predictions/test/CNN_Attention_256_filters_3_kernels_predictions.csv\n",
      "Predictions saved to NPY file: copper/test/predictions/test/CNN_Attention_256_filters_3_kernels_predictions.npy\n",
      "12/12 [==============================] - 0s 2ms/step\n",
      "12/12 [==============================] - 0s 2ms/step\n",
      "Predictions saved to CSV file: copper/test/predictions/test/RNN_256_units_predictions.csv\n",
      "Predictions saved to NPY file: copper/test/predictions/test/RNN_256_units_predictions.npy\n"
     ]
    },
    {
     "name": "stderr",
     "output_type": "stream",
     "text": [
      "c:\\Users\\manim\\LabV2\\ONR-Price-Prediction\\onr_price_prediction\\venv\\Lib\\site-packages\\sklearn\\metrics\\_classification.py:1471: UndefinedMetricWarning: Precision and F-score are ill-defined and being set to 0.0 in labels with no predicted samples. Use `zero_division` parameter to control this behavior.\n",
      "  _warn_prf(average, modifier, msg_start, len(result))\n",
      "c:\\Users\\manim\\LabV2\\ONR-Price-Prediction\\onr_price_prediction\\venv\\Lib\\site-packages\\sklearn\\metrics\\_classification.py:1471: UndefinedMetricWarning: Precision and F-score are ill-defined and being set to 0.0 in labels with no predicted samples. Use `zero_division` parameter to control this behavior.\n",
      "  _warn_prf(average, modifier, msg_start, len(result))\n",
      "c:\\Users\\manim\\LabV2\\ONR-Price-Prediction\\onr_price_prediction\\venv\\Lib\\site-packages\\sklearn\\metrics\\_classification.py:1471: UndefinedMetricWarning: Precision and F-score are ill-defined and being set to 0.0 in labels with no predicted samples. Use `zero_division` parameter to control this behavior.\n",
      "  _warn_prf(average, modifier, msg_start, len(result))\n"
     ]
    },
    {
     "name": "stdout",
     "output_type": "stream",
     "text": [
      "12/12 [==============================] - 0s 1ms/step\n",
      "12/12 [==============================] - 0s 1ms/step\n",
      "Predictions saved to CSV file: copper/test/predictions/test/RNN_128_units_predictions.csv\n",
      "Predictions saved to NPY file: copper/test/predictions/test/RNN_128_units_predictions.npy\n"
     ]
    },
    {
     "name": "stderr",
     "output_type": "stream",
     "text": [
      "c:\\Users\\manim\\LabV2\\ONR-Price-Prediction\\onr_price_prediction\\venv\\Lib\\site-packages\\sklearn\\metrics\\_classification.py:1471: UndefinedMetricWarning: Precision and F-score are ill-defined and being set to 0.0 in labels with no predicted samples. Use `zero_division` parameter to control this behavior.\n",
      "  _warn_prf(average, modifier, msg_start, len(result))\n",
      "c:\\Users\\manim\\LabV2\\ONR-Price-Prediction\\onr_price_prediction\\venv\\Lib\\site-packages\\sklearn\\metrics\\_classification.py:1471: UndefinedMetricWarning: Precision and F-score are ill-defined and being set to 0.0 in labels with no predicted samples. Use `zero_division` parameter to control this behavior.\n",
      "  _warn_prf(average, modifier, msg_start, len(result))\n",
      "c:\\Users\\manim\\LabV2\\ONR-Price-Prediction\\onr_price_prediction\\venv\\Lib\\site-packages\\sklearn\\metrics\\_classification.py:1471: UndefinedMetricWarning: Precision and F-score are ill-defined and being set to 0.0 in labels with no predicted samples. Use `zero_division` parameter to control this behavior.\n",
      "  _warn_prf(average, modifier, msg_start, len(result))\n"
     ]
    },
    {
     "name": "stdout",
     "output_type": "stream",
     "text": [
      "12/12 [==============================] - 0s 1ms/step\n",
      "12/12 [==============================] - 0s 1ms/step\n",
      "Predictions saved to CSV file: copper/test/predictions/test/RNN_64_units_predictions.csv\n",
      "Predictions saved to NPY file: copper/test/predictions/test/RNN_64_units_predictions.npy\n",
      "12/12 [==============================] - 0s 948us/step\n",
      "12/12 [==============================] - 0s 1ms/step\n",
      "Predictions saved to CSV file: copper/test/predictions/test/RNN_32_units_predictions.csv\n",
      "Predictions saved to NPY file: copper/test/predictions/test/RNN_32_units_predictions.npy\n",
      "12/12 [==============================] - 0s 960us/step\n",
      "12/12 [==============================] - 0s 958us/step\n",
      "Predictions saved to CSV file: copper/test/predictions/test/CNN_32_filters_7_kernels_predictions.csv\n",
      "Predictions saved to NPY file: copper/test/predictions/test/CNN_32_filters_7_kernels_predictions.npy\n"
     ]
    },
    {
     "name": "stderr",
     "output_type": "stream",
     "text": [
      "c:\\Users\\manim\\LabV2\\ONR-Price-Prediction\\onr_price_prediction\\venv\\Lib\\site-packages\\sklearn\\metrics\\_classification.py:1471: UndefinedMetricWarning: Precision and F-score are ill-defined and being set to 0.0 in labels with no predicted samples. Use `zero_division` parameter to control this behavior.\n",
      "  _warn_prf(average, modifier, msg_start, len(result))\n",
      "c:\\Users\\manim\\LabV2\\ONR-Price-Prediction\\onr_price_prediction\\venv\\Lib\\site-packages\\sklearn\\metrics\\_classification.py:1471: UndefinedMetricWarning: Precision and F-score are ill-defined and being set to 0.0 in labels with no predicted samples. Use `zero_division` parameter to control this behavior.\n",
      "  _warn_prf(average, modifier, msg_start, len(result))\n",
      "c:\\Users\\manim\\LabV2\\ONR-Price-Prediction\\onr_price_prediction\\venv\\Lib\\site-packages\\sklearn\\metrics\\_classification.py:1471: UndefinedMetricWarning: Precision and F-score are ill-defined and being set to 0.0 in labels with no predicted samples. Use `zero_division` parameter to control this behavior.\n",
      "  _warn_prf(average, modifier, msg_start, len(result))\n"
     ]
    },
    {
     "name": "stdout",
     "output_type": "stream",
     "text": [
      "12/12 [==============================] - 0s 835us/step\n",
      "12/12 [==============================] - 0s 891us/step\n",
      "Predictions saved to CSV file: copper/test/predictions/test/CNN_32_filters_5_kernels_predictions.csv\n",
      "Predictions saved to NPY file: copper/test/predictions/test/CNN_32_filters_5_kernels_predictions.npy\n"
     ]
    },
    {
     "name": "stderr",
     "output_type": "stream",
     "text": [
      "c:\\Users\\manim\\LabV2\\ONR-Price-Prediction\\onr_price_prediction\\venv\\Lib\\site-packages\\sklearn\\metrics\\_classification.py:1471: UndefinedMetricWarning: Precision and F-score are ill-defined and being set to 0.0 in labels with no predicted samples. Use `zero_division` parameter to control this behavior.\n",
      "  _warn_prf(average, modifier, msg_start, len(result))\n",
      "c:\\Users\\manim\\LabV2\\ONR-Price-Prediction\\onr_price_prediction\\venv\\Lib\\site-packages\\sklearn\\metrics\\_classification.py:1471: UndefinedMetricWarning: Precision and F-score are ill-defined and being set to 0.0 in labels with no predicted samples. Use `zero_division` parameter to control this behavior.\n",
      "  _warn_prf(average, modifier, msg_start, len(result))\n",
      "c:\\Users\\manim\\LabV2\\ONR-Price-Prediction\\onr_price_prediction\\venv\\Lib\\site-packages\\sklearn\\metrics\\_classification.py:1471: UndefinedMetricWarning: Precision and F-score are ill-defined and being set to 0.0 in labels with no predicted samples. Use `zero_division` parameter to control this behavior.\n",
      "  _warn_prf(average, modifier, msg_start, len(result))\n"
     ]
    },
    {
     "name": "stdout",
     "output_type": "stream",
     "text": [
      "12/12 [==============================] - 0s 843us/step\n",
      "12/12 [==============================] - 0s 905us/step\n",
      "Predictions saved to CSV file: copper/test/predictions/test/CNN_32_filters_3_kernels_predictions.csv\n",
      "Predictions saved to NPY file: copper/test/predictions/test/CNN_32_filters_3_kernels_predictions.npy\n"
     ]
    },
    {
     "name": "stderr",
     "output_type": "stream",
     "text": [
      "c:\\Users\\manim\\LabV2\\ONR-Price-Prediction\\onr_price_prediction\\venv\\Lib\\site-packages\\sklearn\\metrics\\_classification.py:1471: UndefinedMetricWarning: Precision and F-score are ill-defined and being set to 0.0 in labels with no predicted samples. Use `zero_division` parameter to control this behavior.\n",
      "  _warn_prf(average, modifier, msg_start, len(result))\n",
      "c:\\Users\\manim\\LabV2\\ONR-Price-Prediction\\onr_price_prediction\\venv\\Lib\\site-packages\\sklearn\\metrics\\_classification.py:1471: UndefinedMetricWarning: Precision and F-score are ill-defined and being set to 0.0 in labels with no predicted samples. Use `zero_division` parameter to control this behavior.\n",
      "  _warn_prf(average, modifier, msg_start, len(result))\n",
      "c:\\Users\\manim\\LabV2\\ONR-Price-Prediction\\onr_price_prediction\\venv\\Lib\\site-packages\\sklearn\\metrics\\_classification.py:1471: UndefinedMetricWarning: Precision and F-score are ill-defined and being set to 0.0 in labels with no predicted samples. Use `zero_division` parameter to control this behavior.\n",
      "  _warn_prf(average, modifier, msg_start, len(result))\n"
     ]
    },
    {
     "name": "stdout",
     "output_type": "stream",
     "text": [
      "12/12 [==============================] - 0s 934us/step\n",
      "12/12 [==============================] - 0s 1ms/step\n",
      "Predictions saved to CSV file: copper/test/predictions/test/CNN_64_filters_7_kernels_predictions.csv\n",
      "Predictions saved to NPY file: copper/test/predictions/test/CNN_64_filters_7_kernels_predictions.npy\n"
     ]
    },
    {
     "name": "stderr",
     "output_type": "stream",
     "text": [
      "c:\\Users\\manim\\LabV2\\ONR-Price-Prediction\\onr_price_prediction\\venv\\Lib\\site-packages\\sklearn\\metrics\\_classification.py:1471: UndefinedMetricWarning: Precision and F-score are ill-defined and being set to 0.0 in labels with no predicted samples. Use `zero_division` parameter to control this behavior.\n",
      "  _warn_prf(average, modifier, msg_start, len(result))\n",
      "c:\\Users\\manim\\LabV2\\ONR-Price-Prediction\\onr_price_prediction\\venv\\Lib\\site-packages\\sklearn\\metrics\\_classification.py:1471: UndefinedMetricWarning: Precision and F-score are ill-defined and being set to 0.0 in labels with no predicted samples. Use `zero_division` parameter to control this behavior.\n",
      "  _warn_prf(average, modifier, msg_start, len(result))\n",
      "c:\\Users\\manim\\LabV2\\ONR-Price-Prediction\\onr_price_prediction\\venv\\Lib\\site-packages\\sklearn\\metrics\\_classification.py:1471: UndefinedMetricWarning: Precision and F-score are ill-defined and being set to 0.0 in labels with no predicted samples. Use `zero_division` parameter to control this behavior.\n",
      "  _warn_prf(average, modifier, msg_start, len(result))\n"
     ]
    },
    {
     "name": "stdout",
     "output_type": "stream",
     "text": [
      "12/12 [==============================] - 0s 950us/step\n",
      "12/12 [==============================] - 0s 752us/step\n",
      "Predictions saved to CSV file: copper/test/predictions/test/CNN_64_filters_5_kernels_predictions.csv\n",
      "Predictions saved to NPY file: copper/test/predictions/test/CNN_64_filters_5_kernels_predictions.npy\n"
     ]
    },
    {
     "name": "stderr",
     "output_type": "stream",
     "text": [
      "c:\\Users\\manim\\LabV2\\ONR-Price-Prediction\\onr_price_prediction\\venv\\Lib\\site-packages\\sklearn\\metrics\\_classification.py:1471: UndefinedMetricWarning: Precision and F-score are ill-defined and being set to 0.0 in labels with no predicted samples. Use `zero_division` parameter to control this behavior.\n",
      "  _warn_prf(average, modifier, msg_start, len(result))\n",
      "c:\\Users\\manim\\LabV2\\ONR-Price-Prediction\\onr_price_prediction\\venv\\Lib\\site-packages\\sklearn\\metrics\\_classification.py:1471: UndefinedMetricWarning: Precision and F-score are ill-defined and being set to 0.0 in labels with no predicted samples. Use `zero_division` parameter to control this behavior.\n",
      "  _warn_prf(average, modifier, msg_start, len(result))\n",
      "c:\\Users\\manim\\LabV2\\ONR-Price-Prediction\\onr_price_prediction\\venv\\Lib\\site-packages\\sklearn\\metrics\\_classification.py:1471: UndefinedMetricWarning: Precision and F-score are ill-defined and being set to 0.0 in labels with no predicted samples. Use `zero_division` parameter to control this behavior.\n",
      "  _warn_prf(average, modifier, msg_start, len(result))\n"
     ]
    },
    {
     "name": "stdout",
     "output_type": "stream",
     "text": [
      "12/12 [==============================] - 0s 866us/step\n",
      "12/12 [==============================] - 0s 797us/step\n",
      "Predictions saved to CSV file: copper/test/predictions/test/CNN_64_filters_3_kernels_predictions.csv\n",
      "Predictions saved to NPY file: copper/test/predictions/test/CNN_64_filters_3_kernels_predictions.npy\n"
     ]
    },
    {
     "name": "stderr",
     "output_type": "stream",
     "text": [
      "c:\\Users\\manim\\LabV2\\ONR-Price-Prediction\\onr_price_prediction\\venv\\Lib\\site-packages\\sklearn\\metrics\\_classification.py:1471: UndefinedMetricWarning: Precision and F-score are ill-defined and being set to 0.0 in labels with no predicted samples. Use `zero_division` parameter to control this behavior.\n",
      "  _warn_prf(average, modifier, msg_start, len(result))\n",
      "c:\\Users\\manim\\LabV2\\ONR-Price-Prediction\\onr_price_prediction\\venv\\Lib\\site-packages\\sklearn\\metrics\\_classification.py:1471: UndefinedMetricWarning: Precision and F-score are ill-defined and being set to 0.0 in labels with no predicted samples. Use `zero_division` parameter to control this behavior.\n",
      "  _warn_prf(average, modifier, msg_start, len(result))\n",
      "c:\\Users\\manim\\LabV2\\ONR-Price-Prediction\\onr_price_prediction\\venv\\Lib\\site-packages\\sklearn\\metrics\\_classification.py:1471: UndefinedMetricWarning: Precision and F-score are ill-defined and being set to 0.0 in labels with no predicted samples. Use `zero_division` parameter to control this behavior.\n",
      "  _warn_prf(average, modifier, msg_start, len(result))\n"
     ]
    },
    {
     "name": "stdout",
     "output_type": "stream",
     "text": [
      "12/12 [==============================] - 0s 1ms/step\n",
      "12/12 [==============================] - 0s 1ms/step\n",
      "Predictions saved to CSV file: copper/test/predictions/test/CNN_128_filters_7_kernels_predictions.csv\n",
      "Predictions saved to NPY file: copper/test/predictions/test/CNN_128_filters_7_kernels_predictions.npy\n"
     ]
    },
    {
     "name": "stderr",
     "output_type": "stream",
     "text": [
      "c:\\Users\\manim\\LabV2\\ONR-Price-Prediction\\onr_price_prediction\\venv\\Lib\\site-packages\\sklearn\\metrics\\_classification.py:1471: UndefinedMetricWarning: Precision and F-score are ill-defined and being set to 0.0 in labels with no predicted samples. Use `zero_division` parameter to control this behavior.\n",
      "  _warn_prf(average, modifier, msg_start, len(result))\n",
      "c:\\Users\\manim\\LabV2\\ONR-Price-Prediction\\onr_price_prediction\\venv\\Lib\\site-packages\\sklearn\\metrics\\_classification.py:1471: UndefinedMetricWarning: Precision and F-score are ill-defined and being set to 0.0 in labels with no predicted samples. Use `zero_division` parameter to control this behavior.\n",
      "  _warn_prf(average, modifier, msg_start, len(result))\n",
      "c:\\Users\\manim\\LabV2\\ONR-Price-Prediction\\onr_price_prediction\\venv\\Lib\\site-packages\\sklearn\\metrics\\_classification.py:1471: UndefinedMetricWarning: Precision and F-score are ill-defined and being set to 0.0 in labels with no predicted samples. Use `zero_division` parameter to control this behavior.\n",
      "  _warn_prf(average, modifier, msg_start, len(result))\n"
     ]
    },
    {
     "name": "stdout",
     "output_type": "stream",
     "text": [
      "12/12 [==============================] - 0s 862us/step\n",
      "12/12 [==============================] - 0s 1ms/step\n",
      "Predictions saved to CSV file: copper/test/predictions/test/CNN_128_filters_5_kernels_predictions.csv\n",
      "Predictions saved to NPY file: copper/test/predictions/test/CNN_128_filters_5_kernels_predictions.npy\n",
      "12/12 [==============================] - 0s 935us/step\n",
      "12/12 [==============================] - 0s 978us/step\n",
      "Predictions saved to CSV file: copper/test/predictions/test/CNN_128_filters_3_kernels_predictions.csv\n",
      "Predictions saved to NPY file: copper/test/predictions/test/CNN_128_filters_3_kernels_predictions.npy\n",
      "12/12 [==============================] - 0s 1ms/step\n",
      "12/12 [==============================] - 0s 1ms/step\n",
      "Predictions saved to CSV file: copper/test/predictions/test/CNN_256_filters_7_kernels_predictions.csv\n",
      "Predictions saved to NPY file: copper/test/predictions/test/CNN_256_filters_7_kernels_predictions.npy\n",
      "12/12 [==============================] - 0s 1ms/step\n",
      "12/12 [==============================] - 0s 1ms/step\n",
      "Predictions saved to CSV file: copper/test/predictions/test/CNN_256_filters_5_kernels_predictions.csv\n",
      "Predictions saved to NPY file: copper/test/predictions/test/CNN_256_filters_5_kernels_predictions.npy\n",
      "12/12 [==============================] - 0s 2ms/step\n",
      "12/12 [==============================] - 0s 935us/step\n",
      "Predictions saved to CSV file: copper/test/predictions/test/CNN_256_filters_3_kernels_predictions.csv\n",
      "Predictions saved to NPY file: copper/test/predictions/test/CNN_256_filters_3_kernels_predictions.npy\n",
      "Best model saved at copper/best_model/LSTM_256_layers.h5\n"
     ]
    },
    {
     "name": "stderr",
     "output_type": "stream",
     "text": [
      "c:\\Users\\manim\\LabV2\\ONR-Price-Prediction\\onr_price_prediction\\venv\\Lib\\site-packages\\keras\\src\\engine\\training.py:3103: UserWarning: You are saving your model as an HDF5 file via `model.save()`. This file format is considered legacy. We recommend using instead the native Keras format, e.g. `model.save('my_model.keras')`.\n",
      "  saving_api.save_model(\n"
     ]
    }
   ],
   "source": [
    "from imblearn.over_sampling import RandomOverSampler\n",
    "\n",
    "# Prepare mixed data\n",
    "X_mix, y_mix = data_processing.prepare_features_and_target(aggregated_df, FEATURE_COLUMNS, TARGET_COLUMN)\n",
    "\n",
    "# Split mixed data\n",
    "X_train_mix, X_test_mix, y_train_mix, y_test_mix = train_test_split(X_mix, y_mix, test_size=0.3, random_state=RANDOM_STATE, shuffle=False)\n",
    "X_train_mix, X_val_mix, y_train_mix, y_val_mix = train_test_split(X_train_mix, y_train_mix, test_size=(10/70), random_state=RANDOM_STATE, shuffle=False)  # Adjusting test_size to get ~10% of the original\n",
    "\n",
    "# Balancing\n",
    "X_train_mix, y_train_mix = RandomOverSampler(random_state=RANDOM_STATE).fit_resample(X_train_mix, y_train_mix)\n",
    "\n",
    "# Scaling\n",
    "X_train_mix, X_test_mix, X_val_mix = data_processing.scale_features(X_train_mix, X_test_mix, X_val_mix)\n",
    "\n",
    "# Sequence making\n",
    "X_train_mix, y_train_mix = data_processing.create_sequences(X_train_mix, y_train_mix, WINDOW_SIZE)\n",
    "X_test_mix, y_test_mix = data_processing.create_sequences(X_test_mix, y_test_mix, WINDOW_SIZE)\n",
    "X_val_mix, y_val_mix = data_processing.create_sequences(X_val_mix, y_val_mix, WINDOW_SIZE)\n",
    "\n",
    "# Evaluate and create pre-trained model\n",
    "output_file_path = f'{COMMODITY}/test/results_test.csv'\n",
    "pred_file_path = f'{COMMODITY}/test/predictions/test'\n",
    "model_path = f'{COMMODITY}/best_model'\n",
    "print(pred_file_path)\n",
    "results_df, best_acc, best_model_descriptor = models.evaluate_all(X_train_mix, y_train_mix, X_val_mix, y_val_mix, X_test_mix, y_test_mix, output_file_path, pred_file_path, model_path)"
   ]
  },
  {
   "cell_type": "code",
   "execution_count": 8,
   "metadata": {},
   "outputs": [
    {
     "name": "stdout",
     "output_type": "stream",
     "text": [
      "Best Model: LSTM_256_layers \n",
      "Best Accuracy: 0.9291784702549575\n"
     ]
    }
   ],
   "source": [
    "print(f'Best Model: {best_model_descriptor} \\nBest Accuracy: {best_acc}')"
   ]
  },
  {
   "cell_type": "code",
   "execution_count": 9,
   "metadata": {},
   "outputs": [],
   "source": [
    "PRICE_COLUMN = VOLZA_COLUMNS + OIL_COLUMNS + [ARIMA_RESIDUAL_COLUMN]"
   ]
  },
  {
   "cell_type": "code",
   "execution_count": 10,
   "metadata": {},
   "outputs": [],
   "source": [
    "# Prepare price data\n",
    "X_price, y_price = data_processing.prepare_features_and_target(aggregated_df, PRICE_COLUMN, TARGET_COLUMN)\n",
    "\n",
    "# Split price data\n",
    "X_train_price, X_test_price, y_train_price, y_test_price = train_test_split(X_price, y_price, test_size=0.3, random_state=RANDOM_STATE, shuffle=False)\n",
    "X_train_price, X_val_price, y_train_price, y_val_price = train_test_split(X_train_price, y_train_price, test_size=(10/70), random_state=RANDOM_STATE, shuffle=False)\n",
    "\n",
    "# Balancing\n",
    "X_train_price, y_train_price = RandomOverSampler(random_state=RANDOM_STATE).fit_resample(X_train_price, y_train_price)\n",
    "\n",
    "# Scaling\n",
    "X_train_price, X_test_price, X_val_price = data_processing.scale_features(X_train_price, X_test_price, X_val_price)\n",
    "\n",
    "# Sequence making\n",
    "X_train_price, y_train_price = data_processing.create_sequences(X_train_price, y_train_price, WINDOW_SIZE)\n",
    "X_test_price, y_test_price = data_processing.create_sequences(X_test_price, y_test_price, WINDOW_SIZE)\n",
    "X_val_price, y_val_price = data_processing.create_sequences(X_val_price, y_val_price, WINDOW_SIZE)"
   ]
  },
  {
   "cell_type": "code",
   "execution_count": 11,
   "metadata": {},
   "outputs": [],
   "source": [
    "from tensorflow.keras.models import load_model\n",
    "\n",
    "saved_model_path = f'{model_path}/{best_model_descriptor}.h5'\n",
    "model = load_model(saved_model_path)\n",
    "# model.summary()\n"
   ]
  },
  {
   "cell_type": "code",
   "execution_count": 12,
   "metadata": {},
   "outputs": [
    {
     "name": "stdout",
     "output_type": "stream",
     "text": [
      "(1275, 20, 6) (105, 20, 6) (353, 20, 6)\n",
      "(1275, 20, 6) (105, 20, 6) (353, 20, 6)\n"
     ]
    }
   ],
   "source": [
    "print(X_train_price.shape, X_val_price.shape, X_test_price.shape)\n",
    "print(X_train_mix.shape, X_val_mix.shape, X_test_mix.shape)"
   ]
  },
  {
   "cell_type": "code",
   "execution_count": 13,
   "metadata": {},
   "outputs": [
    {
     "name": "stdout",
     "output_type": "stream",
     "text": [
      "12/12 [==============================] - 0s 5ms/step\n"
     ]
    },
    {
     "name": "stderr",
     "output_type": "stream",
     "text": [
      "c:\\Users\\manim\\LabV2\\ONR-Price-Prediction\\onr_price_prediction\\venv\\Lib\\site-packages\\sklearn\\metrics\\_classification.py:1471: UndefinedMetricWarning: Precision and F-score are ill-defined and being set to 0.0 in labels with no predicted samples. Use `zero_division` parameter to control this behavior.\n",
      "  _warn_prf(average, modifier, msg_start, len(result))\n",
      "c:\\Users\\manim\\LabV2\\ONR-Price-Prediction\\onr_price_prediction\\venv\\Lib\\site-packages\\sklearn\\metrics\\_classification.py:1471: UndefinedMetricWarning: Precision and F-score are ill-defined and being set to 0.0 in labels with no predicted samples. Use `zero_division` parameter to control this behavior.\n",
      "  _warn_prf(average, modifier, msg_start, len(result))\n",
      "c:\\Users\\manim\\LabV2\\ONR-Price-Prediction\\onr_price_prediction\\venv\\Lib\\site-packages\\sklearn\\metrics\\_classification.py:1471: UndefinedMetricWarning: Precision and F-score are ill-defined and being set to 0.0 in labels with no predicted samples. Use `zero_division` parameter to control this behavior.\n",
      "  _warn_prf(average, modifier, msg_start, len(result))\n"
     ]
    }
   ],
   "source": [
    "results_df = models.retrain_best_model(saved_model_path, X_train_price, y_train_price, X_val_price, y_val_price, X_test_price, y_test_price)"
   ]
  },
  {
   "cell_type": "code",
   "execution_count": 14,
   "metadata": {},
   "outputs": [
    {
     "data": {
      "text/html": [
       "<div>\n",
       "<style scoped>\n",
       "    .dataframe tbody tr th:only-of-type {\n",
       "        vertical-align: middle;\n",
       "    }\n",
       "\n",
       "    .dataframe tbody tr th {\n",
       "        vertical-align: top;\n",
       "    }\n",
       "\n",
       "    .dataframe thead th {\n",
       "        text-align: right;\n",
       "    }\n",
       "</style>\n",
       "<table border=\"1\" class=\"dataframe\">\n",
       "  <thead>\n",
       "    <tr style=\"text-align: right;\">\n",
       "      <th></th>\n",
       "      <th>Name</th>\n",
       "      <th>Params</th>\n",
       "      <th>Accuracy</th>\n",
       "      <th>Precision (0)</th>\n",
       "      <th>Recall (0)</th>\n",
       "      <th>F1 (0)</th>\n",
       "      <th>Precision (1)</th>\n",
       "      <th>Recall (1)</th>\n",
       "      <th>F1 (1)</th>\n",
       "      <th>Prior</th>\n",
       "    </tr>\n",
       "  </thead>\n",
       "  <tbody>\n",
       "    <tr>\n",
       "      <th>0</th>\n",
       "      <td>Retrained Model</td>\n",
       "      <td>LSTM_256_layers</td>\n",
       "      <td>0.929178</td>\n",
       "      <td>0.929178</td>\n",
       "      <td>1.0</td>\n",
       "      <td>0.963289</td>\n",
       "      <td>0.0</td>\n",
       "      <td>0.0</td>\n",
       "      <td>0.0</td>\n",
       "      <td>0.07</td>\n",
       "    </tr>\n",
       "  </tbody>\n",
       "</table>\n",
       "</div>"
      ],
      "text/plain": [
       "              Name           Params  Accuracy  Precision (0)  Recall (0)  \\\n",
       "0  Retrained Model  LSTM_256_layers  0.929178       0.929178         1.0   \n",
       "\n",
       "     F1 (0)  Precision (1)  Recall (1)  F1 (1) Prior  \n",
       "0  0.963289            0.0         0.0     0.0  0.07  "
      ]
     },
     "execution_count": 14,
     "metadata": {},
     "output_type": "execute_result"
    }
   ],
   "source": [
    "results_df"
   ]
  }
 ],
 "metadata": {
  "kernelspec": {
   "display_name": "lab_v2",
   "language": "python",
   "name": "python3"
  },
  "language_info": {
   "codemirror_mode": {
    "name": "ipython",
    "version": 3
   },
   "file_extension": ".py",
   "mimetype": "text/x-python",
   "name": "python",
   "nbconvert_exporter": "python",
   "pygments_lexer": "ipython3",
   "version": "3.11.6"
  }
 },
 "nbformat": 4,
 "nbformat_minor": 2
}
