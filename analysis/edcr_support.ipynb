{
 "cells": [
  {
   "cell_type": "code",
   "execution_count": 3,
   "metadata": {},
   "outputs": [],
   "source": [
    "\n",
    "import models\n",
    "import utils\n",
    "import data_processing\n",
    "from constants import (\n",
    "    VALUE_COLUMN,\n",
    "    UNIT_RATE_COLUMN,\n",
    "    QUANTITY_COLUMN,\n",
    "    GROSS_WEIGHT_COLUMN,\n",
    "    SHIP_COUNT_COLUMN,\n",
    "    PORT_COUNT_COLUMN,\n",
    "    FILL_METHOD,\n",
    "    TARGET_COLUMN,\n",
    "    VOLZA_COLUMNS,\n",
    "    AIS_COLUMNS,\n",
    "    OIL_COLUMNS,\n",
    "    ARIMA_RESIDUAL_COLUMN,\n",
    "    RANDOM_STATE\n",
    ")\n",
    "import pandas as pd\n",
    "import constants\n",
    "import sys\n",
    "from datetime import datetime\n",
    "from build_data import get_data\n",
    "from sklearn.model_selection import train_test_split\n",
    "from sklearn.preprocessing import KBinsDiscretizer\n",
    "\n",
    "import matplotlib.pyplot as plt\n",
    "import numpy as np"
   ]
  },
  {
   "cell_type": "code",
   "execution_count": 4,
   "metadata": {},
   "outputs": [
    {
     "name": "stdout",
     "output_type": "stream",
     "text": [
      "Building data...\n",
      "Rows dropped due to NaN values: 1\n"
     ]
    },
    {
     "name": "stderr",
     "output_type": "stream",
     "text": [
      "c:\\Users\\manim\\LabV2\\ONR-Price-Prediction\\onr_price_prediction\\analysis\\build_data.py:63: SettingWithCopyWarning: \n",
      "A value is trying to be set on a copy of a slice from a DataFrame\n",
      "\n",
      "See the caveats in the documentation: https://pandas.pydata.org/pandas-docs/stable/user_guide/indexing.html#returning-a-view-versus-a-copy\n",
      "  brent_df.rename(columns={\"Value\": \"Brent Oil Value\"}, inplace=True)\n",
      "c:\\Users\\manim\\LabV2\\ONR-Price-Prediction\\onr_price_prediction\\analysis\\build_data.py:64: SettingWithCopyWarning: \n",
      "A value is trying to be set on a copy of a slice from a DataFrame\n",
      "\n",
      "See the caveats in the documentation: https://pandas.pydata.org/pandas-docs/stable/user_guide/indexing.html#returning-a-view-versus-a-copy\n",
      "  wti_df.rename(columns={\"Value\": \"WTI Oil Value\"}, inplace=True)\n",
      "c:\\Users\\manim\\LabV2\\ONR-Price-Prediction\\onr_price_prediction\\analysis\\build_data.py:73: FutureWarning: DataFrame.fillna with 'method' is deprecated and will raise in a future version. Use obj.ffill() or obj.bfill() instead.\n",
      "  aggregated_df = date_wise_volza.join(prices_pd, how=\"left\").fillna(method=FILL_METHOD)\n",
      "c:\\Users\\manim\\LabV2\\ONR-Price-Prediction\\onr_price_prediction\\analysis\\build_data.py:76: FutureWarning: DataFrame.fillna with 'method' is deprecated and will raise in a future version. Use obj.ffill() or obj.bfill() instead.\n",
      "  ).fillna(method=FILL_METHOD)\n",
      "c:\\Users\\manim\\LabV2\\ONR-Price-Prediction\\onr_price_prediction\\analysis\\build_data.py:79: FutureWarning: DataFrame.fillna with 'method' is deprecated and will raise in a future version. Use obj.ffill() or obj.bfill() instead.\n",
      "  ).fillna(method=FILL_METHOD)\n"
     ]
    },
    {
     "name": "stdout",
     "output_type": "stream",
     "text": [
      "Detecting spikes... 20\n"
     ]
    },
    {
     "name": "stderr",
     "output_type": "stream",
     "text": [
      "c:\\Users\\manim\\LabV2\\ONR-Price-Prediction\\onr_price_prediction\\venv\\Lib\\site-packages\\statsmodels\\tsa\\base\\tsa_model.py:836: ValueWarning: No supported index is available. Prediction results will be given with an integer index beginning at `start`.\n",
      "  return get_prediction_index(\n",
      "c:\\Users\\manim\\LabV2\\ONR-Price-Prediction\\onr_price_prediction\\venv\\Lib\\site-packages\\statsmodels\\tsa\\base\\tsa_model.py:836: FutureWarning: No supported index is available. In the next version, calling this method in a model without a supported index will result in an exception.\n",
      "  return get_prediction_index(\n"
     ]
    }
   ],
   "source": [
    "COMMODITY = \"magnesium\"\n",
    "WINDOW_SIZE = 20\n",
    "\n",
    "VOLZA_FILE_PATH = f\"../volza/{COMMODITY}/{COMMODITY}.csv\"\n",
    "PRICE_FILE_PATH = f\"../volza/{COMMODITY}/{COMMODITY}_prices.csv\"\n",
    "\n",
    "# Get the data\n",
    "data = get_data(VOLZA_FILE_PATH, PRICE_FILE_PATH, window_size=20, center=False)\n",
    "\n",
    "# Add Isolation Forest spikes column\n",
    "data['spikes_if'] = utils.detect_spikes_if(data, TARGET_COLUMN, contamination=0.1)\n",
    "\n",
    "# # Add Bowen's spike detection\n",
    "# data[\"spikes_new\"] = utils.detect_spikes_new(data, TARGET_COLUMN, window_size=WINDOW_SIZE)\n",
    "\n",
    "# TRAIN_SIZE = 0.5"
   ]
  },
  {
   "cell_type": "code",
   "execution_count": 5,
   "metadata": {},
   "outputs": [
    {
     "data": {
      "text/html": [
       "<div>\n",
       "<style scoped>\n",
       "    .dataframe tbody tr th:only-of-type {\n",
       "        vertical-align: middle;\n",
       "    }\n",
       "\n",
       "    .dataframe tbody tr th {\n",
       "        vertical-align: top;\n",
       "    }\n",
       "\n",
       "    .dataframe thead th {\n",
       "        text-align: right;\n",
       "    }\n",
       "</style>\n",
       "<table border=\"1\" class=\"dataframe\">\n",
       "  <thead>\n",
       "    <tr style=\"text-align: right;\">\n",
       "      <th></th>\n",
       "      <th>Date</th>\n",
       "      <th>Value</th>\n",
       "      <th>Std. Quantity (KG)</th>\n",
       "      <th>Gross Weight</th>\n",
       "      <th>Std. Unit Rate ($/KG)</th>\n",
       "      <th>Price</th>\n",
       "      <th>Brent Oil Value</th>\n",
       "      <th>WTI Oil Value</th>\n",
       "      <th>ARIMA_Residuals</th>\n",
       "      <th>spikes</th>\n",
       "      <th>spikes_if</th>\n",
       "    </tr>\n",
       "  </thead>\n",
       "  <tbody>\n",
       "    <tr>\n",
       "      <th>1</th>\n",
       "      <td>2020-01-02</td>\n",
       "      <td>112499.980000</td>\n",
       "      <td>50000.00</td>\n",
       "      <td>50080.0</td>\n",
       "      <td>2.250000</td>\n",
       "      <td>14150.0</td>\n",
       "      <td>67.05</td>\n",
       "      <td>61.17</td>\n",
       "      <td>14150.000000</td>\n",
       "      <td>0</td>\n",
       "      <td>0</td>\n",
       "    </tr>\n",
       "    <tr>\n",
       "      <th>2</th>\n",
       "      <td>2020-01-03</td>\n",
       "      <td>874407.619695</td>\n",
       "      <td>100172.26</td>\n",
       "      <td>25040.0</td>\n",
       "      <td>768.449153</td>\n",
       "      <td>14100.0</td>\n",
       "      <td>69.08</td>\n",
       "      <td>63.00</td>\n",
       "      <td>-1453.965633</td>\n",
       "      <td>0</td>\n",
       "      <td>0</td>\n",
       "    </tr>\n",
       "  </tbody>\n",
       "</table>\n",
       "</div>"
      ],
      "text/plain": [
       "        Date          Value  Std. Quantity (KG)  Gross Weight  \\\n",
       "1 2020-01-02  112499.980000            50000.00       50080.0   \n",
       "2 2020-01-03  874407.619695           100172.26       25040.0   \n",
       "\n",
       "   Std. Unit Rate ($/KG)    Price  Brent Oil Value  WTI Oil Value  \\\n",
       "1               2.250000  14150.0            67.05          61.17   \n",
       "2             768.449153  14100.0            69.08          63.00   \n",
       "\n",
       "   ARIMA_Residuals  spikes  spikes_if  \n",
       "1     14150.000000       0          0  \n",
       "2     -1453.965633       0          0  "
      ]
     },
     "execution_count": 5,
     "metadata": {},
     "output_type": "execute_result"
    }
   ],
   "source": [
    "import matplotlib.pyplot as plt\n",
    "\n",
    "aggregated_df = data.copy()\n",
    "data.head(2)"
   ]
  },
  {
   "cell_type": "code",
   "execution_count": 6,
   "metadata": {},
   "outputs": [],
   "source": [
    "# Add Lagged Features\n",
    "aggregated_df = utils.add_lagged_features(aggregated_df, 'Price', n_lags=5)\n",
    "\n",
    "# Add Moving Averages\n",
    "aggregated_df = utils.add_moving_averages(aggregated_df, 'Price', windows=[5, 10])\n",
    "\n",
    "# Add Returns\n",
    "aggregated_df = utils.add_returns(aggregated_df, 'Price')\n",
    "\n",
    "# Add Volatility\n",
    "aggregated_df = utils.add_volatility(aggregated_df, 'returns', windows=[7, 14])"
   ]
  },
  {
   "cell_type": "code",
   "execution_count": 7,
   "metadata": {},
   "outputs": [
    {
     "ename": "KeyError",
     "evalue": "'spikes_new'",
     "output_type": "error",
     "traceback": [
      "\u001b[1;31m---------------------------------------------------------------------------\u001b[0m",
      "\u001b[1;31mKeyError\u001b[0m                                  Traceback (most recent call last)",
      "File \u001b[1;32mc:\\Users\\manim\\LabV2\\ONR-Price-Prediction\\onr_price_prediction\\venv\\Lib\\site-packages\\pandas\\core\\indexes\\base.py:3790\u001b[0m, in \u001b[0;36mIndex.get_loc\u001b[1;34m(self, key)\u001b[0m\n\u001b[0;32m   3789\u001b[0m \u001b[38;5;28;01mtry\u001b[39;00m:\n\u001b[1;32m-> 3790\u001b[0m     \u001b[38;5;28;01mreturn\u001b[39;00m \u001b[38;5;28;43mself\u001b[39;49m\u001b[38;5;241;43m.\u001b[39;49m\u001b[43m_engine\u001b[49m\u001b[38;5;241;43m.\u001b[39;49m\u001b[43mget_loc\u001b[49m\u001b[43m(\u001b[49m\u001b[43mcasted_key\u001b[49m\u001b[43m)\u001b[49m\n\u001b[0;32m   3791\u001b[0m \u001b[38;5;28;01mexcept\u001b[39;00m \u001b[38;5;167;01mKeyError\u001b[39;00m \u001b[38;5;28;01mas\u001b[39;00m err:\n",
      "File \u001b[1;32mindex.pyx:152\u001b[0m, in \u001b[0;36mpandas._libs.index.IndexEngine.get_loc\u001b[1;34m()\u001b[0m\n",
      "File \u001b[1;32mindex.pyx:181\u001b[0m, in \u001b[0;36mpandas._libs.index.IndexEngine.get_loc\u001b[1;34m()\u001b[0m\n",
      "File \u001b[1;32mpandas\\_libs\\hashtable_class_helper.pxi:7080\u001b[0m, in \u001b[0;36mpandas._libs.hashtable.PyObjectHashTable.get_item\u001b[1;34m()\u001b[0m\n",
      "File \u001b[1;32mpandas\\_libs\\hashtable_class_helper.pxi:7088\u001b[0m, in \u001b[0;36mpandas._libs.hashtable.PyObjectHashTable.get_item\u001b[1;34m()\u001b[0m\n",
      "\u001b[1;31mKeyError\u001b[0m: 'spikes_new'",
      "\nThe above exception was the direct cause of the following exception:\n",
      "\u001b[1;31mKeyError\u001b[0m                                  Traceback (most recent call last)",
      "Cell \u001b[1;32mIn[7], line 3\u001b[0m\n\u001b[0;32m      1\u001b[0m \u001b[38;5;28;01mimport\u001b[39;00m \u001b[38;5;21;01mmatplotlib\u001b[39;00m\u001b[38;5;21;01m.\u001b[39;00m\u001b[38;5;21;01mpyplot\u001b[39;00m \u001b[38;5;28;01mas\u001b[39;00m \u001b[38;5;21;01mplt\u001b[39;00m\n\u001b[0;32m      2\u001b[0m \u001b[38;5;66;03m# Plotting the price data\u001b[39;00m\n\u001b[1;32m----> 3\u001b[0m \u001b[43mutils\u001b[49m\u001b[38;5;241;43m.\u001b[39;49m\u001b[43mplot_prices\u001b[49m\u001b[43m(\u001b[49m\u001b[43maggregated_df\u001b[49m\u001b[43m,\u001b[49m\u001b[43mcolumn\u001b[49m\u001b[38;5;241;43m=\u001b[39;49m\u001b[38;5;124;43m'\u001b[39;49m\u001b[38;5;124;43mspikes_new\u001b[39;49m\u001b[38;5;124;43m'\u001b[39;49m\u001b[43m)\u001b[49m\n",
      "File \u001b[1;32mc:\\Users\\manim\\LabV2\\ONR-Price-Prediction\\onr_price_prediction\\analysis\\utils.py:156\u001b[0m, in \u001b[0;36mplot_prices\u001b[1;34m(df, column, title)\u001b[0m\n\u001b[0;32m    153\u001b[0m plt\u001b[38;5;241m.\u001b[39mplot(df\u001b[38;5;241m.\u001b[39mindex, df[\u001b[38;5;124m'\u001b[39m\u001b[38;5;124mPrice\u001b[39m\u001b[38;5;124m'\u001b[39m], label\u001b[38;5;241m=\u001b[39m\u001b[38;5;124m'\u001b[39m\u001b[38;5;124mPrice\u001b[39m\u001b[38;5;124m'\u001b[39m, color\u001b[38;5;241m=\u001b[39m\u001b[38;5;124m'\u001b[39m\u001b[38;5;124mblue\u001b[39m\u001b[38;5;124m'\u001b[39m)\n\u001b[0;32m    155\u001b[0m \u001b[38;5;66;03m# Highlighting spikes\u001b[39;00m\n\u001b[1;32m--> 156\u001b[0m spike_indices \u001b[38;5;241m=\u001b[39m df[\u001b[43mdf\u001b[49m\u001b[43m[\u001b[49m\u001b[43mcolumn\u001b[49m\u001b[43m]\u001b[49m \u001b[38;5;241m==\u001b[39m \u001b[38;5;241m1\u001b[39m]\u001b[38;5;241m.\u001b[39mindex\n\u001b[0;32m    157\u001b[0m spike_prices \u001b[38;5;241m=\u001b[39m df\u001b[38;5;241m.\u001b[39mloc[spike_indices, \u001b[38;5;124m'\u001b[39m\u001b[38;5;124mPrice\u001b[39m\u001b[38;5;124m'\u001b[39m]\n\u001b[0;32m    158\u001b[0m plt\u001b[38;5;241m.\u001b[39mscatter(spike_indices, spike_prices, color\u001b[38;5;241m=\u001b[39m\u001b[38;5;124m'\u001b[39m\u001b[38;5;124mred\u001b[39m\u001b[38;5;124m'\u001b[39m, marker\u001b[38;5;241m=\u001b[39m\u001b[38;5;124m'\u001b[39m\u001b[38;5;124m^\u001b[39m\u001b[38;5;124m'\u001b[39m, label\u001b[38;5;241m=\u001b[39m\u001b[38;5;124m'\u001b[39m\u001b[38;5;124mSpikes\u001b[39m\u001b[38;5;124m'\u001b[39m)\n",
      "File \u001b[1;32mc:\\Users\\manim\\LabV2\\ONR-Price-Prediction\\onr_price_prediction\\venv\\Lib\\site-packages\\pandas\\core\\frame.py:3893\u001b[0m, in \u001b[0;36mDataFrame.__getitem__\u001b[1;34m(self, key)\u001b[0m\n\u001b[0;32m   3891\u001b[0m \u001b[38;5;28;01mif\u001b[39;00m \u001b[38;5;28mself\u001b[39m\u001b[38;5;241m.\u001b[39mcolumns\u001b[38;5;241m.\u001b[39mnlevels \u001b[38;5;241m>\u001b[39m \u001b[38;5;241m1\u001b[39m:\n\u001b[0;32m   3892\u001b[0m     \u001b[38;5;28;01mreturn\u001b[39;00m \u001b[38;5;28mself\u001b[39m\u001b[38;5;241m.\u001b[39m_getitem_multilevel(key)\n\u001b[1;32m-> 3893\u001b[0m indexer \u001b[38;5;241m=\u001b[39m \u001b[38;5;28;43mself\u001b[39;49m\u001b[38;5;241;43m.\u001b[39;49m\u001b[43mcolumns\u001b[49m\u001b[38;5;241;43m.\u001b[39;49m\u001b[43mget_loc\u001b[49m\u001b[43m(\u001b[49m\u001b[43mkey\u001b[49m\u001b[43m)\u001b[49m\n\u001b[0;32m   3894\u001b[0m \u001b[38;5;28;01mif\u001b[39;00m is_integer(indexer):\n\u001b[0;32m   3895\u001b[0m     indexer \u001b[38;5;241m=\u001b[39m [indexer]\n",
      "File \u001b[1;32mc:\\Users\\manim\\LabV2\\ONR-Price-Prediction\\onr_price_prediction\\venv\\Lib\\site-packages\\pandas\\core\\indexes\\base.py:3797\u001b[0m, in \u001b[0;36mIndex.get_loc\u001b[1;34m(self, key)\u001b[0m\n\u001b[0;32m   3792\u001b[0m     \u001b[38;5;28;01mif\u001b[39;00m \u001b[38;5;28misinstance\u001b[39m(casted_key, \u001b[38;5;28mslice\u001b[39m) \u001b[38;5;129;01mor\u001b[39;00m (\n\u001b[0;32m   3793\u001b[0m         \u001b[38;5;28misinstance\u001b[39m(casted_key, abc\u001b[38;5;241m.\u001b[39mIterable)\n\u001b[0;32m   3794\u001b[0m         \u001b[38;5;129;01mand\u001b[39;00m \u001b[38;5;28many\u001b[39m(\u001b[38;5;28misinstance\u001b[39m(x, \u001b[38;5;28mslice\u001b[39m) \u001b[38;5;28;01mfor\u001b[39;00m x \u001b[38;5;129;01min\u001b[39;00m casted_key)\n\u001b[0;32m   3795\u001b[0m     ):\n\u001b[0;32m   3796\u001b[0m         \u001b[38;5;28;01mraise\u001b[39;00m InvalidIndexError(key)\n\u001b[1;32m-> 3797\u001b[0m     \u001b[38;5;28;01mraise\u001b[39;00m \u001b[38;5;167;01mKeyError\u001b[39;00m(key) \u001b[38;5;28;01mfrom\u001b[39;00m \u001b[38;5;21;01merr\u001b[39;00m\n\u001b[0;32m   3798\u001b[0m \u001b[38;5;28;01mexcept\u001b[39;00m \u001b[38;5;167;01mTypeError\u001b[39;00m:\n\u001b[0;32m   3799\u001b[0m     \u001b[38;5;66;03m# If we have a listlike key, _check_indexing_error will raise\u001b[39;00m\n\u001b[0;32m   3800\u001b[0m     \u001b[38;5;66;03m#  InvalidIndexError. Otherwise we fall through and re-raise\u001b[39;00m\n\u001b[0;32m   3801\u001b[0m     \u001b[38;5;66;03m#  the TypeError.\u001b[39;00m\n\u001b[0;32m   3802\u001b[0m     \u001b[38;5;28mself\u001b[39m\u001b[38;5;241m.\u001b[39m_check_indexing_error(key)\n",
      "\u001b[1;31mKeyError\u001b[0m: 'spikes_new'"
     ]
    },
    {
     "data": {
      "image/png": "[encoded data removed]",
      "text/plain": [
       "<Figure size 1000x600 with 1 Axes>"
      ]
     },
     "metadata": {},
     "output_type": "display_data"
    }
   ],
   "source": [
    "import matplotlib.pyplot as plt\n",
    "# Plotting the price data\n",
    "utils.plot_prices(aggregated_df,column='spikes_new')"
   ]
  },
  {
   "cell_type": "code",
   "execution_count": null,
   "metadata": {},
   "outputs": [],
   "source": [
    "PRICE_FEATURE_COLUMNS = ['ma_5', 'ma_10', 'returns']\n",
    "PRICE_LAG_FEATURE_COLUMNS = ['lag_1', 'lag_2', 'lag_3']\n",
    "FEATURE_COLUMNS = VOLZA_COLUMNS + OIL_COLUMNS + [ARIMA_RESIDUAL_COLUMN]  # Mix and match features here\n",
    "SPIKE_COLUMN = ['spikes_new']"
   ]
  },
  {
   "cell_type": "code",
   "execution_count": null,
   "metadata": {},
   "outputs": [
    {
     "name": "stdout",
     "output_type": "stream",
     "text": [
      "copper/test/predictions/test\n"
     ]
    },
    {
     "ename": "TypeError",
     "evalue": "evaluate_all() missing 1 required positional argument: 'pretrain'",
     "output_type": "error",
     "traceback": [
      "\u001b[1;31m---------------------------------------------------------------------------\u001b[0m",
      "\u001b[1;31mTypeError\u001b[0m                                 Traceback (most recent call last)",
      "\u001b[1;32m~\\AppData\\Local\\Temp\\ipykernel_15460\\3001055825.py\u001b[0m in \u001b[0;36m<module>\u001b[1;34m\u001b[0m\n\u001b[0;32m     25\u001b[0m \u001b[0mprint\u001b[0m\u001b[1;33m(\u001b[0m\u001b[0mpred_file_path\u001b[0m\u001b[1;33m)\u001b[0m\u001b[1;33m\u001b[0m\u001b[1;33m\u001b[0m\u001b[0m\n\u001b[0;32m     26\u001b[0m \u001b[1;33m\u001b[0m\u001b[0m\n\u001b[1;32m---> 27\u001b[1;33m \u001b[0mresults_df\u001b[0m\u001b[1;33m,\u001b[0m \u001b[0mbest_acc\u001b[0m\u001b[1;33m,\u001b[0m \u001b[0mbest_model_descriptor\u001b[0m \u001b[1;33m=\u001b[0m \u001b[0mmodels\u001b[0m\u001b[1;33m.\u001b[0m\u001b[0mevaluate_all\u001b[0m\u001b[1;33m(\u001b[0m\u001b[0mX_train_mix\u001b[0m\u001b[1;33m,\u001b[0m \u001b[0my_train_mix\u001b[0m\u001b[1;33m,\u001b[0m \u001b[0mX_val_mix\u001b[0m\u001b[1;33m,\u001b[0m \u001b[0my_val_mix\u001b[0m\u001b[1;33m,\u001b[0m \u001b[0mX_test_mix\u001b[0m\u001b[1;33m,\u001b[0m \u001b[0my_test_mix\u001b[0m\u001b[1;33m,\u001b[0m \u001b[0moutput_file_path\u001b[0m\u001b[1;33m,\u001b[0m \u001b[0mpred_file_path\u001b[0m\u001b[1;33m,\u001b[0m \u001b[0mmodel_path\u001b[0m\u001b[1;33m)\u001b[0m\u001b[1;33m\u001b[0m\u001b[1;33m\u001b[0m\u001b[0m\n\u001b[0m",
      "\u001b[1;31mTypeError\u001b[0m: evaluate_all() missing 1 required positional argument: 'pretrain'"
     ]
    }
   ],
   "source": [
    "from imblearn.over_sampling import RandomOverSampler\n",
    "\n",
    "# Prepare mixed data\n",
    "X_mix, y_mix = data_processing.prepare_features_and_target(aggregated_df, FEATURE_COLUMNS, SPIKE_COLUMN)\n",
    "\n",
    "# Split mixed data\n",
    "X_train_mix, X_test_mix, y_train_mix, y_test_mix = train_test_split(X_mix, y_mix, test_size=0.3, random_state=RANDOM_STATE, shuffle=False)\n",
    "X_train_mix, X_val_mix, y_train_mix, y_val_mix = train_test_split(X_train_mix, y_train_mix, test_size=(10/70), random_state=RANDOM_STATE, shuffle=False)  # Adjusting test_size to get ~10% of the original\n",
    "\n",
    "# Balancing\n",
    "X_train_mix, y_train_mix = RandomOverSampler(random_state=RANDOM_STATE).fit_resample(X_train_mix, y_train_mix)\n",
    "\n",
    "# Scaling\n",
    "X_train_mix, X_test_mix, X_val_mix = data_processing.scale_features(X_train_mix, X_test_mix, X_val_mix)\n",
    "\n",
    "# Sequence making\n",
    "X_train_mix, y_train_mix = data_processing.create_sequences(X_train_mix, y_train_mix, WINDOW_SIZE)\n",
    "X_test_mix, y_test_mix = data_processing.create_sequences(X_test_mix, y_test_mix, WINDOW_SIZE)\n",
    "X_val_mix, y_val_mix = data_processing.create_sequences(X_val_mix, y_val_mix, WINDOW_SIZE)\n",
    "\n",
    "# Evaluate and create pre-trained model\n",
    "output_file_path = f'{COMMODITY}/test/results_test.csv'\n",
    "pred_file_path = f'{COMMODITY}/test/predictions/test'\n",
    "model_path = f'{COMMODITY}/best_model'\n",
    "print(pred_file_path)\n",
    "\n",
    "results_df, best_acc, best_model_descriptor = models.evaluate_all(X_train_mix, y_train_mix, X_val_mix, y_val_mix, X_test_mix, y_test_mix, output_file_path, pred_file_path, model_path)"
   ]
  },
  {
   "cell_type": "code",
   "execution_count": null,
   "metadata": {},
   "outputs": [
    {
     "name": "stdout",
     "output_type": "stream",
     "text": [
      "Best Model: LSTM_256_layers \n",
      "Best Accuracy: 0.4\n"
     ]
    }
   ],
   "source": [
    "print(f'Best Model: {best_model_descriptor} \\nBest Accuracy: {best_acc}')"
   ]
  },
  {
   "cell_type": "code",
   "execution_count": null,
   "metadata": {},
   "outputs": [],
   "source": [
    "# Prepare price data\n",
    "X_price, y_price = data_processing.prepare_features_and_target(aggregated_df, TARGET_COLUMN, SPIKE_COLUMN)\n",
    "\n",
    "# Split price data\n",
    "X_train_price, X_test_price, y_train_price, y_test_price = train_test_split(X_price, y_price, test_size=0.3, random_state=RANDOM_STATE, shuffle=False)\n",
    "X_train_price, X_val_price, y_train_price, y_val_price = train_test_split(X_train_price, y_train_price, test_size=(10/70), random_state=RANDOM_STATE, shuffle=False)\n",
    "\n",
    "# Balancing\n",
    "X_train_price, y_train_price = RandomOverSampler(random_state=RANDOM_STATE).fit_resample(X_train_price, y_train_price)\n",
    "\n",
    "# Scaling\n",
    "X_train_price, X_test_price, X_val_price = data_processing.scale_features(X_train_price, X_test_price, X_val_price)\n",
    "\n",
    "# Sequence making\n",
    "X_train_price, y_train_price = data_processing.create_sequences(X_train_price, y_train_price, WINDOW_SIZE)\n",
    "X_test_price, y_test_price = data_processing.create_sequences(X_test_price, y_test_price, WINDOW_SIZE)\n",
    "X_val_price, y_val_price = data_processing.create_sequences(X_val_price, y_val_price, WINDOW_SIZE)"
   ]
  },
  {
   "cell_type": "code",
   "execution_count": null,
   "metadata": {},
   "outputs": [],
   "source": [
    "from tensorflow.keras.models import load_model\n",
    "\n",
    "saved_model_path = f'{model_path}/{best_model_descriptor}.h5'\n",
    "model = load_model(saved_model_path)\n",
    "# model.summary()\n"
   ]
  },
  {
   "cell_type": "code",
   "execution_count": null,
   "metadata": {},
   "outputs": [
    {
     "name": "stdout",
     "output_type": "stream",
     "text": [
      "(1445, 20, 1) (105, 20, 1) (353, 20, 1)\n",
      "(1445, 20, 6) (105, 20, 6) (353, 20, 6)\n"
     ]
    }
   ],
   "source": [
    "print(X_train_price.shape, X_val_price.shape, X_test_price.shape)\n",
    "print(X_train_mix.shape, X_val_mix.shape, X_test_mix.shape)"
   ]
  },
  {
   "cell_type": "code",
   "execution_count": null,
   "metadata": {},
   "outputs": [
    {
     "name": "stdout",
     "output_type": "stream",
     "text": [
      "12/12 [==============================] - 0s 6ms/step\n"
     ]
    }
   ],
   "source": [
    "results_df = models.retrain_best_model(saved_model_path, X_train_price, y_train_price, X_val_price, y_val_price, X_test_price, y_test_price)"
   ]
  },
  {
   "cell_type": "code",
   "execution_count": null,
   "metadata": {},
   "outputs": [
    {
     "data": {
      "text/html": [
       "<div>\n",
       "<style scoped>\n",
       "    .dataframe tbody tr th:only-of-type {\n",
       "        vertical-align: middle;\n",
       "    }\n",
       "\n",
       "    .dataframe tbody tr th {\n",
       "        vertical-align: top;\n",
       "    }\n",
       "\n",
       "    .dataframe thead th {\n",
       "        text-align: right;\n",
       "    }\n",
       "</style>\n",
       "<table border=\"1\" class=\"dataframe\">\n",
       "  <thead>\n",
       "    <tr style=\"text-align: right;\">\n",
       "      <th></th>\n",
       "      <th>Name</th>\n",
       "      <th>Params</th>\n",
       "      <th>Accuracy</th>\n",
       "      <th>Precision (0)</th>\n",
       "      <th>Recall (0)</th>\n",
       "      <th>F1 (0)</th>\n",
       "      <th>Precision (1)</th>\n",
       "      <th>Recall (1)</th>\n",
       "      <th></th>\n",
       "      <th>Prior</th>\n",
       "    </tr>\n",
       "  </thead>\n",
       "  <tbody>\n",
       "    <tr>\n",
       "      <th>0</th>\n",
       "      <td>Retrained Model</td>\n",
       "      <td>LSTM_256_layers</td>\n",
       "      <td>0.971671</td>\n",
       "      <td>0.985632</td>\n",
       "      <td>0.985632</td>\n",
       "      <td>0.985632</td>\n",
       "      <td>0.0</td>\n",
       "      <td>0.0</td>\n",
       "      <td>0.0</td>\n",
       "      <td>0.01</td>\n",
       "    </tr>\n",
       "  </tbody>\n",
       "</table>\n",
       "</div>"
      ],
      "text/plain": [
       "              Name           Params  Accuracy  Precision (0)  Recall (0)  \\\n",
       "0  Retrained Model  LSTM_256_layers  0.971671       0.985632    0.985632   \n",
       "\n",
       "     F1 (0)  Precision (1)  Recall (1)      Prior  \n",
       "0  0.985632            0.0         0.0  0.0  0.01  "
      ]
     },
     "execution_count": 13,
     "metadata": {},
     "output_type": "execute_result"
    }
   ],
   "source": [
    "results_df"
   ]
  },
  {
   "cell_type": "code",
   "execution_count": null,
   "metadata": {},
   "outputs": [],
   "source": []
  }
 ],
 "metadata": {
  "kernelspec": {
   "display_name": "venv",
   "language": "python",
   "name": "python3"
  },
  "language_info": {
   "codemirror_mode": {
    "name": "ipython",
    "version": 3
   },
   "file_extension": ".py",
   "mimetype": "text/x-python",
   "name": "python",
   "nbconvert_exporter": "python",
   "pygments_lexer": "ipython3",
   "version": "3.11.6"
  }
 },
 "nbformat": 4,
 "nbformat_minor": 4
}
