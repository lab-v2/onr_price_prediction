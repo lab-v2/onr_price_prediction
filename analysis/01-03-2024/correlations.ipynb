{
 "cells": [
  {
   "cell_type": "code",
   "execution_count": 1,
   "metadata": {},
   "outputs": [],
   "source": [
    "import pandas as pd"
   ]
  },
  {
   "cell_type": "markdown",
   "metadata": {},
   "source": [
    "### Extracting proportions of export countries have made"
   ]
  },
  {
   "cell_type": "code",
   "execution_count": 2,
   "metadata": {},
   "outputs": [],
   "source": [
    "# change these paths as necessary\n",
    "VOLZA_PATH = \"/home/pramod/MS/LabV2/onr_price_prediction/volza/magnesium/magnesium.csv\"\n",
    "SPOT_PRICES_PETROLEUM = \"/home/pramod/MS/LabV2/onr_price_prediction/volza/petroleum/petrol_crude_oil_spot_price.csv\"\n",
    "\n",
    "volza = pd.read_csv(VOLZA_PATH)\n",
    "volza = volza.dropna(subset=[\"Country of Origin\"])\n",
    "# filter out just the rows where the std. unit is in KG or TNE or TON\n",
    "volza = volza[volza[\"Std. Unit\"].isin([\"KGS\", \"TNE\", \"TON\"])]\n",
    "spot_prices = pd.read_csv(SPOT_PRICES_PETROLEUM, sep=\";\")"
   ]
  },
  {
   "cell_type": "code",
   "execution_count": 3,
   "metadata": {},
   "outputs": [],
   "source": [
    "volza['Year'] = pd.DatetimeIndex(volza['Date']).year\n",
    "volza['Month'] = pd.DatetimeIndex(volza['Date']).month"
   ]
  },
  {
   "cell_type": "code",
   "execution_count": 4,
   "metadata": {},
   "outputs": [],
   "source": [
    "import numpy as np\n",
    "\n",
    "# defining some constants\n",
    "proportions_of_sales_by_country_and_months = []\n",
    "_country_keys = np.unique(volza[\"Country of Origin\"])\n",
    "months = list(range(1, 13))\n",
    "years = list(range(2020, 2023))\n",
    "conversion_factor = {\n",
    "    \"KGS\": 1,\n",
    "    \"Kgs\": 1,\n",
    "    \"TON\": 907.185,\n",
    "    \"TNE\": 1000\n",
    "}\n",
    "\n",
    "# calculating the proportions\n",
    "for year in years:\n",
    "    for month in months:\n",
    "        volza_month_year = volza[(volza[\"Month\"] == month) & (volza[\"Year\"] == year)]\n",
    "        curr_row = { country: 0 for country in _country_keys }\n",
    "        _sum = 0\n",
    "        for i in range(volza_month_year.shape[0]):\n",
    "            country = volza.iloc[i][\"Country of Origin\"]\n",
    "            quantity = volza.iloc[i][\"Std. Quantity\"]\n",
    "            unit = volza.iloc[i][\"Std. Unit\"]\n",
    "            curr_row[country] += quantity * conversion_factor[unit]\n",
    "            _sum += quantity\n",
    "        for country in _country_keys:\n",
    "            curr_row[country] = round(curr_row[country] / _sum, 4)\n",
    "        curr_row[\"Month\"] = month\n",
    "        curr_row[\"Year\"] = year\n",
    "        proportions_of_sales_by_country_and_months.append(curr_row)"
   ]
  },
  {
   "cell_type": "markdown",
   "metadata": {},
   "source": [
    "### Monthly commodity price extraction"
   ]
  },
  {
   "cell_type": "code",
   "execution_count": 5,
   "metadata": {},
   "outputs": [],
   "source": [
    "commodity_prices = pd.read_csv(\"/home/pramod/MS/LabV2/onr_price_prediction/volza/magnesium/magnesium_price_2.csv\")\n",
    "commodity_prices['Year'] = pd.DatetimeIndex(commodity_prices['Date']).year\n",
    "commodity_prices['Month'] = pd.DatetimeIndex(commodity_prices['Date']).month\n",
    "commodity_prices[\"Price\"] = pd.to_numeric(commodity_prices[\"Price\"].str.replace(\",\", \"\"))\n",
    "\n",
    "_idx = 0\n",
    "for year in years:\n",
    "    for month in months:\n",
    "        monthly_prices = commodity_prices[(commodity_prices[\"Month\"] == month) & (commodity_prices[\"Year\"] == year)]\n",
    "        proportions_of_sales_by_country_and_months[_idx][\"median_commodity_price\"] = np.median(monthly_prices[\"Price\"])\n",
    "        _idx += 1"
   ]
  },
  {
   "cell_type": "markdown",
   "metadata": {},
   "source": [
    "### Extracting petroleum prices on a monthly basis"
   ]
  },
  {
   "cell_type": "code",
   "execution_count": 6,
   "metadata": {},
   "outputs": [
    {
     "name": "stdout",
     "output_type": "stream",
     "text": [
      "(1534, 10)\n"
     ]
    }
   ],
   "source": [
    "START_DATE = \"2020-01-01\"\n",
    "END_DATE = \"2022-12-31\"\n",
    "spot_prices_filtered = spot_prices[(spot_prices.Date >= START_DATE) & (spot_prices.Date <= END_DATE)]\n",
    "print(spot_prices_filtered.shape)"
   ]
  },
  {
   "cell_type": "code",
   "execution_count": 7,
   "metadata": {},
   "outputs": [
    {
     "name": "stderr",
     "output_type": "stream",
     "text": [
      "/tmp/ipykernel_22789/1984097924.py:1: SettingWithCopyWarning: \n",
      "A value is trying to be set on a copy of a slice from a DataFrame.\n",
      "Try using .loc[row_indexer,col_indexer] = value instead\n",
      "\n",
      "See the caveats in the documentation: https://pandas.pydata.org/pandas-docs/stable/user_guide/indexing.html#returning-a-view-versus-a-copy\n",
      "  spot_prices_filtered['Year'] = pd.DatetimeIndex(spot_prices_filtered['Date']).year\n",
      "/tmp/ipykernel_22789/1984097924.py:2: SettingWithCopyWarning: \n",
      "A value is trying to be set on a copy of a slice from a DataFrame.\n",
      "Try using .loc[row_indexer,col_indexer] = value instead\n",
      "\n",
      "See the caveats in the documentation: https://pandas.pydata.org/pandas-docs/stable/user_guide/indexing.html#returning-a-view-versus-a-copy\n",
      "  spot_prices_filtered['Month'] = pd.DatetimeIndex(spot_prices_filtered['Date']).month\n"
     ]
    }
   ],
   "source": [
    "spot_prices_filtered['Year'] = pd.DatetimeIndex(spot_prices_filtered['Date']).year\n",
    "spot_prices_filtered['Month'] = pd.DatetimeIndex(spot_prices_filtered['Date']).month\n",
    "\n",
    "_idx = 0\n",
    "for year in years:\n",
    "    for month in months:\n",
    "        monthly_prices = spot_prices_filtered[(spot_prices_filtered[\"Month\"] == month) & (spot_prices_filtered[\"Year\"] == year)]\n",
    "        proportions_of_sales_by_country_and_months[_idx][\"median_petroleum_price\"] = np.median(monthly_prices[\"Value\"])\n",
    "        _idx += 1"
   ]
  },
  {
   "cell_type": "markdown",
   "metadata": {},
   "source": [
    "### Checking for correlation"
   ]
  },
  {
   "cell_type": "code",
   "execution_count": 8,
   "metadata": {},
   "outputs": [],
   "source": [
    "proportion_df = pd.DataFrame(proportions_of_sales_by_country_and_months)\n",
    "proportion_df.drop(columns=[\"Year\", \"Month\"], inplace=True)"
   ]
  },
  {
   "cell_type": "code",
   "execution_count": 9,
   "metadata": {},
   "outputs": [],
   "source": [
    "correlations = proportion_df.corr()\n",
    "correlations.to_csv(\"/home/pramod/MS/LabV2/onr_price_prediction/analysis/correlations.csv\")"
   ]
  },
  {
   "cell_type": "code",
   "execution_count": null,
   "metadata": {},
   "outputs": [],
   "source": []
  }
 ],
 "metadata": {
  "kernelspec": {
   "display_name": "spire",
   "language": "python",
   "name": "python3"
  },
  "language_info": {
   "codemirror_mode": {
    "name": "ipython",
    "version": 3
   },
   "file_extension": ".py",
   "mimetype": "text/x-python",
   "name": "python",
   "nbconvert_exporter": "python",
   "pygments_lexer": "ipython3",
   "version": "3.10.6"
  }
 },
 "nbformat": 4,
 "nbformat_minor": 2
}
