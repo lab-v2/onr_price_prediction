{
 "cells": [
  {
   "cell_type": "code",
   "execution_count": 1,
   "id": "f13797a3",
   "metadata": {},
   "outputs": [
    {
     "name": "stderr",
     "output_type": "stream",
     "text": [
      "2024-02-20 23:48:12.015413: I tensorflow/core/platform/cpu_feature_guard.cc:182] This TensorFlow binary is optimized to use available CPU instructions in performance-critical operations.\n",
      "To enable the following instructions: AVX2 FMA, in other operations, rebuild TensorFlow with the appropriate compiler flags.\n"
     ]
    }
   ],
   "source": [
    "import sys\n",
    "import os\n",
    "\n",
    "module_path = os.path.abspath(os.path.join('..'))\n",
    "if module_path not in sys.path:\n",
    "    sys.path.append(module_path)\n",
    "\n",
    "import numpy as np\n",
    "import pandas as pd\n",
    "import matplotlib.pyplot as plt\n",
    "import tensorflow as tf\n",
    "from tensorflow.keras.layers import Conv1D, MaxPooling1D, Flatten, Dense, Dropout, Dropout, LayerNormalization, MultiHeadAttention, Input\n",
    "from tensorflow.keras.layers import Attention, Reshape\n",
    "from tensorflow.keras.models import Model\n",
    "\n",
    "import models\n",
    "import utils\n",
    "import data_processing"
   ]
  },
  {
   "cell_type": "code",
   "execution_count": 12,
   "id": "0f63b1a0",
   "metadata": {},
   "outputs": [],
   "source": [
    "# defining the necessary constants\n",
    "SPIKES_THRESHOLD = 2\n",
    "TARGET_COLUMN = 'Value'\n",
    "PETROL_FILE_PATH = '../../volza/petroleum/petrol_crude_oil_spot_price.csv'\n",
    "RANDOM_STATE = 42\n",
    "START_DATE = \"2020-01-01\"\n",
    "END_DATE = \"2022-12-31\"\n",
    "COMMODITY = \"oil\"\n",
    "WTI_RESULTS_FOLDER = \"WTI\"\n",
    "BRENT_RESULTS_FOLDER = \"Brent\"\n",
    "\n",
    "# if required subfolders aren't present within oil folder to store the results, create them\n",
    "if not os.path.exists(os.path.join(COMMODITY, WTI_RESULTS_FOLDER)):\n",
    "    os.mkdir(os.path.join(COMMODITY, WTI_RESULTS_FOLDER))\n",
    "    \n",
    "if not os.path.exists(os.path.join(COMMODITY, BRENT_RESULTS_FOLDER)):\n",
    "    os.mkdir(os.path.join(COMMODITY, BRENT_RESULTS_FOLDER))"
   ]
  },
  {
   "cell_type": "markdown",
   "id": "6de13e6d",
   "metadata": {},
   "source": [
    "### Filtering data available by date"
   ]
  },
  {
   "cell_type": "code",
   "execution_count": 3,
   "id": "fd72f4d6",
   "metadata": {},
   "outputs": [
    {
     "data": {
      "text/html": [
       "<div>\n",
       "<style scoped>\n",
       "    .dataframe tbody tr th:only-of-type {\n",
       "        vertical-align: middle;\n",
       "    }\n",
       "\n",
       "    .dataframe tbody tr th {\n",
       "        vertical-align: top;\n",
       "    }\n",
       "\n",
       "    .dataframe thead th {\n",
       "        text-align: right;\n",
       "    }\n",
       "</style>\n",
       "<table border=\"1\" class=\"dataframe\">\n",
       "  <thead>\n",
       "    <tr style=\"text-align: right;\">\n",
       "      <th></th>\n",
       "      <th>Date</th>\n",
       "      <th>Spot Prices</th>\n",
       "      <th>Value</th>\n",
       "      <th>duoarea</th>\n",
       "      <th>area-name</th>\n",
       "      <th>product</th>\n",
       "      <th>product-name</th>\n",
       "      <th>process</th>\n",
       "      <th>process-name</th>\n",
       "      <th>series</th>\n",
       "    </tr>\n",
       "  </thead>\n",
       "  <tbody>\n",
       "    <tr>\n",
       "      <th>0</th>\n",
       "      <td>1986-01-03</td>\n",
       "      <td>WTI Spot Price (U.S. Dollars per Barrel)</td>\n",
       "      <td>26.00</td>\n",
       "      <td>YCUOK</td>\n",
       "      <td>NaN</td>\n",
       "      <td>EPCWTI</td>\n",
       "      <td>WTI Crude Oil</td>\n",
       "      <td>PF4</td>\n",
       "      <td>Spot Price FOB</td>\n",
       "      <td>RWTC</td>\n",
       "    </tr>\n",
       "    <tr>\n",
       "      <th>1</th>\n",
       "      <td>1986-01-08</td>\n",
       "      <td>WTI Spot Price (U.S. Dollars per Barrel)</td>\n",
       "      <td>25.87</td>\n",
       "      <td>YCUOK</td>\n",
       "      <td>NaN</td>\n",
       "      <td>EPCWTI</td>\n",
       "      <td>WTI Crude Oil</td>\n",
       "      <td>PF4</td>\n",
       "      <td>Spot Price FOB</td>\n",
       "      <td>RWTC</td>\n",
       "    </tr>\n",
       "  </tbody>\n",
       "</table>\n",
       "</div>"
      ],
      "text/plain": [
       "         Date                               Spot Prices  Value duoarea  \\\n",
       "0  1986-01-03  WTI Spot Price (U.S. Dollars per Barrel)  26.00   YCUOK   \n",
       "1  1986-01-08  WTI Spot Price (U.S. Dollars per Barrel)  25.87   YCUOK   \n",
       "\n",
       "   area-name product   product-name process    process-name series  \n",
       "0        NaN  EPCWTI  WTI Crude Oil     PF4  Spot Price FOB   RWTC  \n",
       "1        NaN  EPCWTI  WTI Crude Oil     PF4  Spot Price FOB   RWTC  "
      ]
     },
     "execution_count": 3,
     "metadata": {},
     "output_type": "execute_result"
    }
   ],
   "source": [
    "# reading the CSV file\n",
    "petrol_df = pd.read_csv(PETROL_FILE_PATH, sep=\";\")\n",
    "petrol_df.head(2)"
   ]
  },
  {
   "cell_type": "code",
   "execution_count": 4,
   "id": "b4114a97",
   "metadata": {},
   "outputs": [
    {
     "data": {
      "text/plain": [
       "(1534, 10)"
      ]
     },
     "execution_count": 4,
     "metadata": {},
     "output_type": "execute_result"
    }
   ],
   "source": [
    "# filter the rows based on the required dates\n",
    "petrol_df_filtered = petrol_df.loc[(petrol_df[\"Date\"] <= END_DATE) & (petrol_df[\"Date\"] >= START_DATE)]\n",
    "petrol_df_filtered = petrol_df_filtered.sort_values(by='Date')\n",
    "petrol_df_filtered.shape"
   ]
  },
  {
   "cell_type": "code",
   "execution_count": 5,
   "id": "7b638ae2",
   "metadata": {},
   "outputs": [
    {
     "name": "stdout",
     "output_type": "stream",
     "text": [
      "Rows dropped due to NaN values: 0\n"
     ]
    }
   ],
   "source": [
    "initial_row_count = petrol_df_filtered.shape[0]\n",
    "\n",
    "columns_of_interest = [\"Value\"]\n",
    "petrol_df_filtered = petrol_df_filtered.dropna(subset=columns_of_interest)\n",
    "print(f\"Rows dropped due to NaN values: {initial_row_count - petrol_df_filtered.shape[0]}\")"
   ]
  },
  {
   "cell_type": "markdown",
   "id": "5a267ced",
   "metadata": {},
   "source": [
    "### Detecting spikes using moving average"
   ]
  },
  {
   "cell_type": "code",
   "execution_count": 6,
   "id": "5444356a",
   "metadata": {},
   "outputs": [],
   "source": [
    "def detect_spikes(df, column, window_size):\n",
    "    ## Detecting spikes\n",
    "    moving_avg = df[column].rolling(window=window_size).mean()\n",
    "    std_dev = df[column].rolling(window=window_size).std()\n",
    "\n",
    "    # Set a threshold to identify spikes\n",
    "    return (abs(df[column] - moving_avg) > SPIKES_THRESHOLD * std_dev).astype(int)"
   ]
  },
  {
   "cell_type": "markdown",
   "id": "d1973b8f",
   "metadata": {},
   "source": [
    "### Function to run ARIMA over the time series and return the residuals"
   ]
  },
  {
   "cell_type": "code",
   "execution_count": 7,
   "id": "2ecfafd9",
   "metadata": {},
   "outputs": [],
   "source": [
    "import pmdarima as pm\n",
    "\n",
    "def train_arima(dataframe: pd.DataFrame, target_column: str):\n",
    "    # Fit an Auto ARIMA model to the 'Price' series\n",
    "    model = pm.auto_arima(\n",
    "        dataframe[target_column], seasonal=True, m=12,\n",
    "        suppress_warnings=True, stepwise=True, error_action='ignore'\n",
    "    )\n",
    "\n",
    "    # Forecast the series using the model (in-sample prediction)\n",
    "    forecast = model.predict_in_sample()\n",
    "\n",
    "    # Calculate residuals (difference between actual and forecasted values)\n",
    "    residuals = dataframe[target_column] - forecast\n",
    "    return residuals"
   ]
  },
  {
   "cell_type": "markdown",
   "id": "a22c5c49",
   "metadata": {},
   "source": [
    "### Function to run spike prediction for given window sizes"
   ]
  },
  {
   "cell_type": "code",
   "execution_count": 10,
   "id": "d98e056b",
   "metadata": {},
   "outputs": [],
   "source": [
    "from sklearn.model_selection import train_test_split\n",
    "\n",
    "def analyze_spike_prediction(\n",
    "        dataframe: pd.DataFrame,\n",
    "        window_sizes: list,\n",
    "        target_column: str,\n",
    "        output_folder_path: str\n",
    "    ):\n",
    "    for window_size in window_sizes:\n",
    "        print(f\"Evaluating window size: {window_size}\")\n",
    "        dataframe['Spikes'] = detect_spikes(dataframe, target_column, window_size)\n",
    "        \n",
    "        # train ARIMA and extract residuals\n",
    "        dataframe['ARIMA_Residuals'] = train_arima(dataframe, target_column)\n",
    "        \n",
    "        # preparing features and target\n",
    "        feature_columns = [target_column, 'ARIMA_Residuals']\n",
    "        X, y = data_processing.prepare_features_and_target(dataframe, feature_columns, 'Spikes')\n",
    "        \n",
    "        # split the data\n",
    "        X_train_raw, X_test_raw, y_train, y_test = train_test_split(\n",
    "                                                        X, y, test_size=0.2,\n",
    "                                                        random_state=RANDOM_STATE,\n",
    "                                                        shuffle=False\n",
    "                                                    )\n",
    "        \n",
    "        # scale features\n",
    "        X_train_scaled, X_test_scaled = data_processing.scale_features(X_train_raw, X_test_raw)\n",
    "        \n",
    "        # create sequences\n",
    "        X_train, y_train = data_processing.create_sequences(X_train_scaled, y_train, window_size)\n",
    "        X_test, y_test = data_processing.create_sequences(X_test_scaled, y_test, window_size)\n",
    "        \n",
    "        \n",
    "        output_file_path = os.path.join(output_folder_path, f\"results_{window_size}.csv\")\n",
    "        models.evaluate_all(X_train, y_train, X_test, y_test, output_file_path)"
   ]
  },
  {
   "cell_type": "markdown",
   "id": "4fc68586",
   "metadata": {},
   "source": [
    "### Spike detection for WTI"
   ]
  },
  {
   "cell_type": "code",
   "execution_count": 9,
   "id": "efe2662a",
   "metadata": {},
   "outputs": [
    {
     "name": "stdout",
     "output_type": "stream",
     "text": [
      "(766, 10)\n"
     ]
    }
   ],
   "source": [
    "wti_df = petrol_df_filtered.loc[petrol_df_filtered[\"product-name\"] == \"WTI Crude Oil\"]\n",
    "print(wti_df.shape)"
   ]
  },
  {
   "cell_type": "code",
   "execution_count": null,
   "id": "0fa969ae",
   "metadata": {},
   "outputs": [],
   "source": [
    "SPIKE_WINDOW_SIZES = [10, 20, 30, 40, 60, 80, 100]\n",
    "\n",
    "analyze_spike_prediction(\n",
    "    dataframe=wti_df,\n",
    "    window_sizes=SPIKE_WINDOW_SIZES,\n",
    "    target_column='Value',\n",
    "    output_folder_path=os.path.join(COMMODITY, WTI_RESULTS_FOLDER)\n",
    ")"
   ]
  },
  {
   "cell_type": "markdown",
   "id": "fba6a1de",
   "metadata": {},
   "source": [
    "### Spike detection for Brent"
   ]
  },
  {
   "cell_type": "code",
   "execution_count": 18,
   "id": "1de54b27",
   "metadata": {},
   "outputs": [
    {
     "name": "stdout",
     "output_type": "stream",
     "text": [
      "(768, 10)\n"
     ]
    }
   ],
   "source": [
    "brent_df = petrol_df_filtered.loc[petrol_df_filtered[\"product-name\"] == \"UK Brent Crude Oil\"]\n",
    "print(brent_df.shape)"
   ]
  },
  {
   "cell_type": "code",
   "execution_count": null,
   "id": "d67e2eac",
   "metadata": {},
   "outputs": [],
   "source": [
    "analyze_spike_prediction(\n",
    "    dataframe=brent_df,\n",
    "    window_sizes=SPIKE_WINDOW_SIZES,\n",
    "    target_column='Value',\n",
    "    output_folder_path=os.path.join(COMMODITY, BRENT_RESULTS_FOLDER)\n",
    ")"
   ]
  }
 ],
 "metadata": {
  "kernelspec": {
   "display_name": "Python 3 (ipykernel)",
   "language": "python",
   "name": "python3"
  },
  "language_info": {
   "codemirror_mode": {
    "name": "ipython",
    "version": 3
   },
   "file_extension": ".py",
   "mimetype": "text/x-python",
   "name": "python",
   "nbconvert_exporter": "python",
   "pygments_lexer": "ipython3",
   "version": "3.8.10"
  }
 },
 "nbformat": 4,
 "nbformat_minor": 5
}
