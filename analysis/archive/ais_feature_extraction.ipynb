{
 "cells": [
  {
   "cell_type": "code",
   "execution_count": 63,
   "metadata": {},
   "outputs": [],
   "source": [
    "from pyspark.sql import SparkSession\n",
    "from pyspark.sql.types import (\n",
    "    StructType,\n",
    "    StructField,\n",
    "    StringType,\n",
    "    DoubleType,\n",
    "    TimestampType,\n",
    "    IntegerType,\n",
    "    ArrayType,\n",
    ")\n",
    "from pyspark.sql.functions import col, udf, lag, lit, when\n",
    "from pyspark.sql import functions as F\n",
    "from pyspark.sql.window import Window\n",
    "import numpy as np"
   ]
  },
  {
   "cell_type": "code",
   "execution_count": 64,
   "metadata": {},
   "outputs": [],
   "source": [
    "INPUT_PATH = \"/Users/harshdeepsingh/ASU/Lab_V2/GSN/data/anl_port_events_000000000000.csv\"\n",
    "OUTPUT_PATH = \"temp\"\n",
    "\n",
    "spark = (\n",
    "    SparkSession.builder.appName(\"MyApp\")\n",
    "    .config(\"spark.driver.memory\", \"2000g\")\n",
    "    .master(\"local[*]\")\n",
    "    .getOrCreate()\n",
    ")"
   ]
  },
  {
   "cell_type": "code",
   "execution_count": 65,
   "metadata": {},
   "outputs": [
    {
     "name": "stdout",
     "output_type": "stream",
     "text": [
      "root\n",
      " |-- mmsi: string (nullable = true)\n",
      " |-- imo: string (nullable = true)\n",
      " |-- AOI_Name: string (nullable = true)\n",
      " |-- ATA: string (nullable = true)\n",
      " |-- collection_type: string (nullable = true)\n",
      " |-- speed_first_stop: string (nullable = true)\n",
      " |-- extract_time: string (nullable = true)\n",
      " |-- last_inport_timestamp: string (nullable = true)\n",
      " |-- ATD: string (nullable = true)\n",
      " |-- in_port_position_count: string (nullable = true)\n",
      " |-- created_at: string (nullable = true)\n",
      " |-- updated_at: string (nullable = true)\n",
      " |-- port_locode: string (nullable = true)\n",
      " |-- polygon_id: string (nullable = true)\n",
      " |-- polygon_type: string (nullable = true)\n",
      " |-- draft_first_stop: string (nullable = true)\n",
      " |-- draft_after_left: string (nullable = true)\n",
      " |-- UUID: string (nullable = true)\n",
      "\n"
     ]
    }
   ],
   "source": [
    "df = spark.read.csv(INPUT_PATH, header=True)\n",
    "df.printSchema()"
   ]
  },
  {
   "cell_type": "code",
   "execution_count": 66,
   "metadata": {},
   "outputs": [],
   "source": [
    "df = df.withColumn(\"timestamp\", col(\"ATA\").cast(TimestampType())).withColumn(\"Date\", F.date_format(\"timestamp\", \"yyyy-MM-dd\")).drop(\"timestamp\")"
   ]
  },
  {
   "cell_type": "code",
   "execution_count": 67,
   "metadata": {},
   "outputs": [],
   "source": [
    "ship_count_df = df.groupBy(\"Date\").agg(F.countDistinct(\"MMSI\").alias(\"ship_count\"))"
   ]
  },
  {
   "cell_type": "code",
   "execution_count": 68,
   "metadata": {},
   "outputs": [],
   "source": [
    "grouped_df = df.groupBy(\"Date\",\"port_locode\").count()"
   ]
  },
  {
   "cell_type": "code",
   "execution_count": 69,
   "metadata": {},
   "outputs": [],
   "source": [
    "window_spec = Window.partitionBy(\"Date\").orderBy(F.desc(\"count\"))\n"
   ]
  },
  {
   "cell_type": "code",
   "execution_count": 70,
   "metadata": {},
   "outputs": [],
   "source": [
    "popular_port_df = (\n",
    "    grouped_df.withColumn(\"row_num\", F.row_number().over(window_spec))\n",
    "    .filter(col(\"row_num\") == 1)\n",
    "    .drop(\"row_num\")\n",
    "    .withColumnRenamed(\"count\", \"popular_port_count\")\n",
    "    .withColumnRenamed(\"port_locode\", \"popular_port\")\n",
    ")"
   ]
  },
  {
   "cell_type": "code",
   "execution_count": 71,
   "metadata": {},
   "outputs": [],
   "source": [
    "final_df = ship_count_df.join(popular_port_df, on=\"Date\", how=\"left\")"
   ]
  },
  {
   "cell_type": "code",
   "execution_count": 72,
   "metadata": {},
   "outputs": [
    {
     "name": "stderr",
     "output_type": "stream",
     "text": [
      "                                                                                \r"
     ]
    },
    {
     "name": "stdout",
     "output_type": "stream",
     "text": [
      "+----------+----------+------------+------------------+\n",
      "|      Date|ship_count|popular_port|popular_port_count|\n",
      "+----------+----------+------------+------------------+\n",
      "|2022-10-05|       610|       SGSIN|                16|\n",
      "|2021-11-03|         4|       ISREY|                 1|\n",
      "|2021-12-23|        11|       CNCGM|                 1|\n",
      "|2022-10-07|       593|       SGSIN|                22|\n",
      "|2022-05-17|       600|       SGSIN|                19|\n",
      "|2022-03-30|       622|       SGSIN|                23|\n",
      "|2021-10-25|         2|       ESCAR|                 1|\n",
      "|2021-11-15|         4|       GRPIR|                 1|\n",
      "|2022-07-04|       575|       NLRTM|                16|\n",
      "|2022-01-20|       569|       NLRTM|                21|\n",
      "|2022-07-08|       642|       SGSIN|                26|\n",
      "|2022-09-03|       546|       NLRTM|                18|\n",
      "|2022-07-30|       540|       USMSY|                22|\n",
      "|2022-10-24|       648|       NLRTM|                22|\n",
      "|2022-03-21|       556|       USMSY|                19|\n",
      "|2022-07-23|       579|       CNSHA|                15|\n",
      "|2022-11-23|       630|       NLRTM|                28|\n",
      "|2022-10-13|       679|       NLRTM|                21|\n",
      "|2022-11-09|       648|       SGSIN|                20|\n",
      "|2022-02-19|       459|       USMSY|                21|\n",
      "+----------+----------+------------+------------------+\n",
      "only showing top 20 rows\n",
      "\n"
     ]
    }
   ],
   "source": [
    "final_df.coalesce(1).write.csv(OUTPUT_PATH, header=True)"
   ]
  }
 ],
 "metadata": {
  "kernelspec": {
   "display_name": "lab_v2",
   "language": "python",
   "name": "python3"
  },
  "language_info": {
   "codemirror_mode": {
    "name": "ipython",
    "version": 3
   },
   "file_extension": ".py",
   "mimetype": "text/x-python",
   "name": "python",
   "nbconvert_exporter": "python",
   "pygments_lexer": "ipython3",
   "version": "3.11.0"
  }
 },
 "nbformat": 4,
 "nbformat_minor": 2
}
