{
 "cells": [
  {
   "cell_type": "code",
   "execution_count": 94,
   "metadata": {},
   "outputs": [],
   "source": [
    "\n",
    "import models\n",
    "import utils\n",
    "import data_processing\n",
    "from constants import (\n",
    "    VALUE_COLUMN,\n",
    "    UNIT_RATE_COLUMN,\n",
    "    QUANTITY_COLUMN,\n",
    "    GROSS_WEIGHT_COLUMN,\n",
    "    SHIP_COUNT_COLUMN,\n",
    "    PORT_COUNT_COLUMN,\n",
    "    FILL_METHOD,\n",
    "    TARGET_COLUMN,\n",
    "    VOLZA_COLUMNS,\n",
    "    AIS_COLUMNS,\n",
    "    OIL_COLUMNS,\n",
    "    ARIMA_RESIDUAL_COLUMN,\n",
    "    RANDOM_STATE\n",
    ")\n",
    "import pandas as pd\n",
    "import constants\n",
    "import sys\n",
    "from datetime import datetime\n",
    "from build_data import get_data\n",
    "from sklearn.model_selection import train_test_split\n",
    "from sklearn.preprocessing import KBinsDiscretizer\n",
    "\n",
    "import matplotlib.pyplot as plt\n",
    "import numpy as np"
   ]
  },
  {
   "cell_type": "code",
   "execution_count": 95,
   "metadata": {},
   "outputs": [
    {
     "name": "stdout",
     "output_type": "stream",
     "text": [
      "Building data...\n"
     ]
    },
    {
     "name": "stderr",
     "output_type": "stream",
     "text": [
      "c:\\Users\\manim\\LabV2\\ONR-Price-Prediction\\onr_price_prediction\\analysis\\build_data.py:63: SettingWithCopyWarning: \n",
      "A value is trying to be set on a copy of a slice from a DataFrame\n",
      "\n",
      "See the caveats in the documentation: https://pandas.pydata.org/pandas-docs/stable/user_guide/indexing.html#returning-a-view-versus-a-copy\n",
      "  brent_df.rename(columns={\"Value\": \"Brent Oil Value\"}, inplace=True)\n",
      "c:\\Users\\manim\\LabV2\\ONR-Price-Prediction\\onr_price_prediction\\analysis\\build_data.py:64: SettingWithCopyWarning: \n",
      "A value is trying to be set on a copy of a slice from a DataFrame\n",
      "\n",
      "See the caveats in the documentation: https://pandas.pydata.org/pandas-docs/stable/user_guide/indexing.html#returning-a-view-versus-a-copy\n",
      "  wti_df.rename(columns={\"Value\": \"WTI Oil Value\"}, inplace=True)\n",
      "c:\\Users\\manim\\LabV2\\ONR-Price-Prediction\\onr_price_prediction\\analysis\\build_data.py:73: FutureWarning: DataFrame.fillna with 'method' is deprecated and will raise in a future version. Use obj.ffill() or obj.bfill() instead.\n",
      "  aggregated_df = date_wise_volza.join(prices_pd, how=\"left\").fillna(method=FILL_METHOD)\n",
      "c:\\Users\\manim\\LabV2\\ONR-Price-Prediction\\onr_price_prediction\\analysis\\build_data.py:76: FutureWarning: DataFrame.fillna with 'method' is deprecated and will raise in a future version. Use obj.ffill() or obj.bfill() instead.\n",
      "  ).fillna(method=FILL_METHOD)\n",
      "c:\\Users\\manim\\LabV2\\ONR-Price-Prediction\\onr_price_prediction\\analysis\\build_data.py:79: FutureWarning: DataFrame.fillna with 'method' is deprecated and will raise in a future version. Use obj.ffill() or obj.bfill() instead.\n",
      "  ).fillna(method=FILL_METHOD)\n"
     ]
    },
    {
     "name": "stdout",
     "output_type": "stream",
     "text": [
      "Rows dropped due to NaN values: 1\n",
      "Detecting spikes... 20\n"
     ]
    },
    {
     "name": "stderr",
     "output_type": "stream",
     "text": [
      "c:\\Users\\manim\\LabV2\\ONR-Price-Prediction\\onr_price_prediction\\venv\\Lib\\site-packages\\statsmodels\\tsa\\base\\tsa_model.py:836: ValueWarning: No supported index is available. Prediction results will be given with an integer index beginning at `start`.\n",
      "  return get_prediction_index(\n",
      "c:\\Users\\manim\\LabV2\\ONR-Price-Prediction\\onr_price_prediction\\venv\\Lib\\site-packages\\statsmodels\\tsa\\base\\tsa_model.py:836: FutureWarning: No supported index is available. In the next version, calling this method in a model without a supported index will result in an exception.\n",
      "  return get_prediction_index(\n"
     ]
    }
   ],
   "source": [
    "COMMODITY = \"cobalt\"\n",
    "WINDOW_SIZE = 20\n",
    "\n",
    "VOLZA_FILE_PATH = f\"../volza/{COMMODITY}/{COMMODITY}.csv\"\n",
    "PRICE_FILE_PATH = f\"../volza/{COMMODITY}/{COMMODITY}_prices.csv\"\n",
    "\n",
    "# Get the data\n",
    "data = get_data(VOLZA_FILE_PATH, PRICE_FILE_PATH, window_size=WINDOW_SIZE, center=False)\n",
    "\n",
    "# Add Isolation Forest spikes column\n",
    "data['spikes_if'] = utils.detect_spikes_if(data, TARGET_COLUMN + VOLZA_COLUMNS, contamination=0.07)\n",
    "\n"
   ]
  },
  {
   "cell_type": "code",
   "execution_count": 96,
   "metadata": {},
   "outputs": [
    {
     "data": {
      "text/html": [
       "<div>\n",
       "<style scoped>\n",
       "    .dataframe tbody tr th:only-of-type {\n",
       "        vertical-align: middle;\n",
       "    }\n",
       "\n",
       "    .dataframe tbody tr th {\n",
       "        vertical-align: top;\n",
       "    }\n",
       "\n",
       "    .dataframe thead th {\n",
       "        text-align: right;\n",
       "    }\n",
       "</style>\n",
       "<table border=\"1\" class=\"dataframe\">\n",
       "  <thead>\n",
       "    <tr style=\"text-align: right;\">\n",
       "      <th></th>\n",
       "      <th>Date</th>\n",
       "      <th>Value</th>\n",
       "      <th>Std. Quantity (KG)</th>\n",
       "      <th>Gross Weight</th>\n",
       "      <th>Std. Unit Rate ($/KG)</th>\n",
       "      <th>Price</th>\n",
       "      <th>Brent Oil Value</th>\n",
       "      <th>WTI Oil Value</th>\n",
       "      <th>ARIMA_Residuals</th>\n",
       "      <th>spikes</th>\n",
       "      <th>spikes_if</th>\n",
       "    </tr>\n",
       "  </thead>\n",
       "  <tbody>\n",
       "    <tr>\n",
       "      <th>1</th>\n",
       "      <td>2020-01-02</td>\n",
       "      <td>90209.765369</td>\n",
       "      <td>2300.0</td>\n",
       "      <td>0.0</td>\n",
       "      <td>39.903707</td>\n",
       "      <td>32355.0</td>\n",
       "      <td>67.05</td>\n",
       "      <td>61.17</td>\n",
       "      <td>32355.00000</td>\n",
       "      <td>0</td>\n",
       "      <td>0</td>\n",
       "    </tr>\n",
       "    <tr>\n",
       "      <th>2</th>\n",
       "      <td>2020-01-03</td>\n",
       "      <td>411.070686</td>\n",
       "      <td>10.0</td>\n",
       "      <td>0.0</td>\n",
       "      <td>41.107069</td>\n",
       "      <td>31850.0</td>\n",
       "      <td>69.08</td>\n",
       "      <td>63.00</td>\n",
       "      <td>-16915.55263</td>\n",
       "      <td>0</td>\n",
       "      <td>0</td>\n",
       "    </tr>\n",
       "  </tbody>\n",
       "</table>\n",
       "</div>"
      ],
      "text/plain": [
       "        Date         Value  Std. Quantity (KG)  Gross Weight  \\\n",
       "1 2020-01-02  90209.765369              2300.0           0.0   \n",
       "2 2020-01-03    411.070686                10.0           0.0   \n",
       "\n",
       "   Std. Unit Rate ($/KG)    Price  Brent Oil Value  WTI Oil Value  \\\n",
       "1              39.903707  32355.0            67.05          61.17   \n",
       "2              41.107069  31850.0            69.08          63.00   \n",
       "\n",
       "   ARIMA_Residuals  spikes  spikes_if  \n",
       "1      32355.00000       0          0  \n",
       "2     -16915.55263       0          0  "
      ]
     },
     "execution_count": 96,
     "metadata": {},
     "output_type": "execute_result"
    }
   ],
   "source": [
    "import matplotlib.pyplot as plt\n",
    "\n",
    "aggregated_df = data.copy()\n",
    "data.head(2)"
   ]
  },
  {
   "cell_type": "code",
   "execution_count": 97,
   "metadata": {},
   "outputs": [
    {
     "name": "stdout",
     "output_type": "stream",
     "text": [
      "Spike Percentage: 7.04%\n"
     ]
    },
    {
     "data": {
      "image/png": "[encoded data removed]",
      "text/plain": [
       "<Figure size 1000x600 with 1 Axes>"
      ]
     },
     "metadata": {},
     "output_type": "display_data"
    }
   ],
   "source": [
    "import matplotlib.pyplot as plt\n",
    "# Plotting the price data\n",
    "utils.plot_prices(aggregated_df,column='spikes_if')"
   ]
  },
  {
   "cell_type": "code",
   "execution_count": 98,
   "metadata": {},
   "outputs": [],
   "source": [
    "PRICE_FEATURE_COLUMNS = ['ma_5', 'ma_10', 'returns']\n",
    "PRICE_LAG_FEATURE_COLUMNS = ['lag_1', 'lag_2', 'lag_3']\n",
    "PRICE_COLUMN = ['Price']\n",
    "FEATURE_COLUMNS = PRICE_COLUMN\n",
    "# PRICE_COLUMN = ['Price']\n",
    "TARGET_COLUMN = ['spikes_if']"
   ]
  },
  {
   "cell_type": "code",
   "execution_count": 99,
   "metadata": {},
   "outputs": [],
   "source": [
    "import numpy as np\n",
    "import pandas as pd\n",
    "import matplotlib.pyplot as plt\n",
    "import tensorflow as tf\n",
    "from tensorflow.keras.layers import Conv1D, MaxPooling1D, Flatten, Dense, Dropout, Dropout, LayerNormalization, MultiHeadAttention, Input, LSTM, SimpleRNN\n",
    "from tensorflow.keras.layers import Attention, Reshape\n",
    "from tensorflow.keras.models import Model, Sequential\n",
    "from sklearn.metrics import confusion_matrix, accuracy_score, classification_report\n",
    "import os\n",
    "\n",
    "def make_output_dict(name, params, classification_report, prior):\n",
    "    return {\n",
    "        \"Name\": name,\n",
    "        \"Params\": params,\n",
    "        \"Accuracy\": classification_report[\"accuracy\"],\n",
    "        \"Precision (0)\": classification_report[\"0\"][\"precision\"],\n",
    "        \"Recall (0)\": classification_report[\"0\"][\"recall\"],\n",
    "        \"F1 (0)\": classification_report[\"0\"][\"f1-score\"],\n",
    "        \"Precision (1)\": classification_report[\"1\"][\"precision\"],\n",
    "        \"Recall (1)\": classification_report[\"1\"][\"recall\"],\n",
    "        \"F1 (1)\": classification_report[\"1\"][\"f1-score\"],\n",
    "        \"Prior\": f\"{prior:.2f}\"\n",
    "    }\n",
    "\n",
    "def prior(y_test):\n",
    "    total_spikes_in_test = np.sum(y_test == 1)\n",
    "    total_data_points_in_test = y_test.shape[0]\n",
    "    spike_percentage_in_test = (total_spikes_in_test / total_data_points_in_test) \n",
    "    return spike_percentage_in_test\n",
    "\n",
    "#LSTM Model\n",
    "def evaluate_lstm(num_layers: int, X_train, y_train, X_test, y_test):\n",
    "  # Build the LSTM model\n",
    "  model = Sequential()\n",
    "  model.add(LSTM(num_layers, input_shape=(X_train.shape[1], X_train.shape[2]), activation='relu'))\n",
    "  model.add(Dense(num_layers/2, activation='relu'))\n",
    "  model.add(Dense(num_layers/2, activation='relu'))\n",
    "  model.add(Dense(1, activation='sigmoid'))\n",
    "  model.compile(optimizer='adam', loss='binary_crossentropy', metrics=[tf.keras.metrics.AUC()])\n",
    "\n",
    "  # Train the model\n",
    "  model.fit(X_train, y_train, epochs=100, batch_size=32, verbose=False)\n",
    "\n",
    "  y_pred = (model.predict(X_test) > 0.5).astype(int)\n",
    "  output = make_output_dict(f\"LSTM\", f\"{num_layers} layers\", classification_report(y_test, y_pred, output_dict=True),prior(y_test))\n",
    "  return y_pred, output\n",
    "\n",
    "# Attention CNN\n",
    "def create_acnn_model(input_shape, num_classes, filters, kernel_size):\n",
    "    inputs = tf.keras.Input(shape=input_shape)\n",
    "\n",
    "    # CNN layers\n",
    "    conv1 = Conv1D(filters, kernel_size=kernel_size, activation='relu')(inputs)\n",
    "    pool1 = MaxPooling1D(pool_size=2)(conv1)\n",
    "\n",
    "    # Calculate the new shape for dynamic reshaping\n",
    "    conv_shape = conv1.shape.as_list()\n",
    "    new_shape = (-1, conv_shape[1] * conv_shape[2] // 2)\n",
    "\n",
    "    # Reshape for attention\n",
    "    reshape = Reshape(new_shape)(pool1)\n",
    "\n",
    "    # Attention mechanism\n",
    "    attention = Attention()([reshape, reshape])\n",
    "\n",
    "    # Flatten for fully connected layers\n",
    "    flatten = Flatten()(attention)\n",
    "\n",
    "    # Fully connected layers\n",
    "    dense1 = Dense(128, activation='relu')(flatten)\n",
    "    dropout = Dropout(0.5)(dense1)\n",
    "    outputs = Dense(num_classes, activation='softmax')(dropout)\n",
    "\n",
    "    model = Model(inputs=inputs, outputs=outputs)\n",
    "\n",
    "    return model\n",
    "\n",
    "def evaluate_attention_cnn2(filters, kernel_size, X_train, y_train, X_test, y_test):\n",
    "    model = create_acnn_model(X_train.shape[1:], 2, filters, kernel_size)\n",
    "    model.compile(optimizer='adam', loss='sparse_categorical_crossentropy', metrics=['accuracy'])\n",
    "    model.fit(X_train, y_train, epochs=100, batch_size=filters, verbose=False)\n",
    "    y_pred = model.predict(X_test)\n",
    "    output = make_output_dict(\"CNN with Attention\", f\"{filters} filters, kernel size {kernel_size}\", classification_report(y_test, y_pred.argmax(axis=1), output_dict=True), prior(y_test))\n",
    "    return y_pred, output\n",
    "\n",
    "def save_predictions_to_file(model_name, y_pred, y_test, directory_path):\n",
    "    try:\n",
    "        os.makedirs(directory_path, exist_ok=True)\n",
    "\n",
    "        # Check and adjust shapes. Flatten if 2D with one column, otherwise respect multi-dimensionality for multi-class\n",
    "        if y_pred.ndim > 1 and y_pred.shape[1] == 1:\n",
    "            y_pred = y_pred.flatten()\n",
    "        if y_test.ndim > 1 and y_test.shape[1] == 1:\n",
    "            y_test = y_test.flatten()\n",
    "\n",
    "        # Handling for multi-class classification where y_pred is not 1-dimensional\n",
    "        if y_pred.ndim > 1:\n",
    "            # For multi-dimensional y_pred, create a DataFrame with a column for each class/label\n",
    "            predictions_df = pd.DataFrame(y_pred, columns=[f'Predicted_{i}' for i in range(y_pred.shape[1])])\n",
    "            predictions_df['True'] = y_test  # Assuming y_test is correctly shaped or is a single class label\n",
    "        else:\n",
    "            # For 1-dimensional y_pred, proceed as before\n",
    "            predictions_df = pd.DataFrame({'Predicted': y_pred, 'True': y_test})\n",
    "\n",
    "        csv_filename = f\"{directory_path}/{model_name}_predictions.csv\"\n",
    "        predictions_df.to_csv(csv_filename, index=False)\n",
    "\n",
    "        # Optionally, save y_pred with original shape to NPY if it's crucial to preserve multi-dimensionality\n",
    "        npy_filename = f\"{directory_path}/{model_name}_predictions.npy\"\n",
    "        np.save(npy_filename, y_pred)\n",
    "\n",
    "        print(f\"Predictions saved to CSV file: {csv_filename}\")\n",
    "        print(f\"Predictions saved to NPY file: {npy_filename}\")\n",
    "    except Exception as e:\n",
    "        print(f\"2. Failed to save predictions for {model_name}: {e}\")\n",
    "\n",
    "# Evaluate all models\n",
    "def evaluate_all(X_train, y_train, X_test, y_test, output_file_path, pred_file_path):\n",
    "    output_dicts = []\n",
    "\n",
    "    # LSTM\n",
    "    # for layers in [256, 128, 64, 32]:\n",
    "    #     try: \n",
    "    #         y_pred, output_dict = evaluate_lstm(layers, X_train, y_train, X_test, y_test)\n",
    "    #         output_dicts.append(output_dict)\n",
    "    #         save_predictions_to_file(f\"LSTM_{layers}_layers\", y_pred, y_test, pred_file_path)\n",
    "    #     except Exception as e:\n",
    "    #         print(f\"Failed to evaluate LSTM with {layers} layers: {e}\")\n",
    "\n",
    "        # CNN w/ Attention\n",
    "    for filter in [32, 64, 128, 256]:\n",
    "        for kernel in [7,5,3]:\n",
    "            try:\n",
    "                y_pred, output_dict = evaluate_attention_cnn2(filter, kernel, X_train, y_train, X_test, y_test) # Switch this later?\n",
    "                output_dicts.append(output_dict)\n",
    "                save_predictions_to_file(f\"CNN_Attention_{filter}_filters_{kernel}_kernels\", y_pred, y_test, pred_file_path)\n",
    "            except Exception as e:\n",
    "                print(f\"Failed to evaluate CNN with Attention {filter} filters and {kernel} kernel size: {e}\")\n",
    "\n",
    "    output_dicts = pd.DataFrame(output_dicts)\n",
    "    output_dicts.to_csv(output_file_path)\n",
    "    return output_dicts, y_pred\n",
    "    \n"
   ]
  },
  {
   "cell_type": "code",
   "execution_count": 100,
   "metadata": {},
   "outputs": [],
   "source": [
    "# 30% training\n",
    "train_val_df, test_df = train_test_split(aggregated_df, test_size=0.3, shuffle=False)\n",
    "\n",
    "# 60% train, 10% valid\n",
    "train_df, valid_df = train_test_split(train_val_df, test_size=1/7, shuffle=False)  \n"
   ]
  },
  {
   "cell_type": "code",
   "execution_count": 101,
   "metadata": {},
   "outputs": [],
   "source": [
    "from sklearn.preprocessing import StandardScaler\n",
    "\n",
    "def scale_features(X_train, X_test):\n",
    "    scaler = StandardScaler()\n",
    "    X_train_scaled = scaler.fit_transform(X_train)\n",
    "    X_test_scaled = scaler.transform(X_test)\n",
    "    return X_train_scaled, X_test_scaled"
   ]
  },
  {
   "cell_type": "code",
   "execution_count": 102,
   "metadata": {},
   "outputs": [
    {
     "name": "stdout",
     "output_type": "stream",
     "text": [
      "cobalt/test/predictions/test\n",
      "12/12 [==============================] - 0s 1ms/step\n",
      "Predictions saved to CSV file: cobalt/test/predictions/test/CNN_Attention_32_filters_7_kernels_predictions.csv\n",
      "Predictions saved to NPY file: cobalt/test/predictions/test/CNN_Attention_32_filters_7_kernels_predictions.npy\n"
     ]
    },
    {
     "name": "stderr",
     "output_type": "stream",
     "text": [
      "c:\\Users\\manim\\LabV2\\ONR-Price-Prediction\\onr_price_prediction\\venv\\Lib\\site-packages\\sklearn\\metrics\\_classification.py:1471: UndefinedMetricWarning: Precision and F-score are ill-defined and being set to 0.0 in labels with no predicted samples. Use `zero_division` parameter to control this behavior.\n",
      "  _warn_prf(average, modifier, msg_start, len(result))\n",
      "c:\\Users\\manim\\LabV2\\ONR-Price-Prediction\\onr_price_prediction\\venv\\Lib\\site-packages\\sklearn\\metrics\\_classification.py:1471: UndefinedMetricWarning: Precision and F-score are ill-defined and being set to 0.0 in labels with no predicted samples. Use `zero_division` parameter to control this behavior.\n",
      "  _warn_prf(average, modifier, msg_start, len(result))\n",
      "c:\\Users\\manim\\LabV2\\ONR-Price-Prediction\\onr_price_prediction\\venv\\Lib\\site-packages\\sklearn\\metrics\\_classification.py:1471: UndefinedMetricWarning: Precision and F-score are ill-defined and being set to 0.0 in labels with no predicted samples. Use `zero_division` parameter to control this behavior.\n",
      "  _warn_prf(average, modifier, msg_start, len(result))\n"
     ]
    },
    {
     "name": "stdout",
     "output_type": "stream",
     "text": [
      "12/12 [==============================] - 0s 1ms/step\n",
      "Predictions saved to CSV file: cobalt/test/predictions/test/CNN_Attention_32_filters_5_kernels_predictions.csv\n",
      "Predictions saved to NPY file: cobalt/test/predictions/test/CNN_Attention_32_filters_5_kernels_predictions.npy\n"
     ]
    },
    {
     "name": "stderr",
     "output_type": "stream",
     "text": [
      "c:\\Users\\manim\\LabV2\\ONR-Price-Prediction\\onr_price_prediction\\venv\\Lib\\site-packages\\sklearn\\metrics\\_classification.py:1471: UndefinedMetricWarning: Precision and F-score are ill-defined and being set to 0.0 in labels with no predicted samples. Use `zero_division` parameter to control this behavior.\n",
      "  _warn_prf(average, modifier, msg_start, len(result))\n",
      "c:\\Users\\manim\\LabV2\\ONR-Price-Prediction\\onr_price_prediction\\venv\\Lib\\site-packages\\sklearn\\metrics\\_classification.py:1471: UndefinedMetricWarning: Precision and F-score are ill-defined and being set to 0.0 in labels with no predicted samples. Use `zero_division` parameter to control this behavior.\n",
      "  _warn_prf(average, modifier, msg_start, len(result))\n",
      "c:\\Users\\manim\\LabV2\\ONR-Price-Prediction\\onr_price_prediction\\venv\\Lib\\site-packages\\sklearn\\metrics\\_classification.py:1471: UndefinedMetricWarning: Precision and F-score are ill-defined and being set to 0.0 in labels with no predicted samples. Use `zero_division` parameter to control this behavior.\n",
      "  _warn_prf(average, modifier, msg_start, len(result))\n"
     ]
    },
    {
     "name": "stdout",
     "output_type": "stream",
     "text": [
      "12/12 [==============================] - 0s 1ms/step\n",
      "Predictions saved to CSV file: cobalt/test/predictions/test/CNN_Attention_32_filters_3_kernels_predictions.csv\n",
      "Predictions saved to NPY file: cobalt/test/predictions/test/CNN_Attention_32_filters_3_kernels_predictions.npy\n"
     ]
    },
    {
     "name": "stderr",
     "output_type": "stream",
     "text": [
      "c:\\Users\\manim\\LabV2\\ONR-Price-Prediction\\onr_price_prediction\\venv\\Lib\\site-packages\\sklearn\\metrics\\_classification.py:1471: UndefinedMetricWarning: Precision and F-score are ill-defined and being set to 0.0 in labels with no predicted samples. Use `zero_division` parameter to control this behavior.\n",
      "  _warn_prf(average, modifier, msg_start, len(result))\n",
      "c:\\Users\\manim\\LabV2\\ONR-Price-Prediction\\onr_price_prediction\\venv\\Lib\\site-packages\\sklearn\\metrics\\_classification.py:1471: UndefinedMetricWarning: Precision and F-score are ill-defined and being set to 0.0 in labels with no predicted samples. Use `zero_division` parameter to control this behavior.\n",
      "  _warn_prf(average, modifier, msg_start, len(result))\n",
      "c:\\Users\\manim\\LabV2\\ONR-Price-Prediction\\onr_price_prediction\\venv\\Lib\\site-packages\\sklearn\\metrics\\_classification.py:1471: UndefinedMetricWarning: Precision and F-score are ill-defined and being set to 0.0 in labels with no predicted samples. Use `zero_division` parameter to control this behavior.\n",
      "  _warn_prf(average, modifier, msg_start, len(result))\n"
     ]
    },
    {
     "name": "stdout",
     "output_type": "stream",
     "text": [
      "12/12 [==============================] - 0s 1ms/step\n",
      "Predictions saved to CSV file: cobalt/test/predictions/test/CNN_Attention_64_filters_7_kernels_predictions.csv\n",
      "Predictions saved to NPY file: cobalt/test/predictions/test/CNN_Attention_64_filters_7_kernels_predictions.npy\n"
     ]
    },
    {
     "name": "stderr",
     "output_type": "stream",
     "text": [
      "c:\\Users\\manim\\LabV2\\ONR-Price-Prediction\\onr_price_prediction\\venv\\Lib\\site-packages\\sklearn\\metrics\\_classification.py:1471: UndefinedMetricWarning: Precision and F-score are ill-defined and being set to 0.0 in labels with no predicted samples. Use `zero_division` parameter to control this behavior.\n",
      "  _warn_prf(average, modifier, msg_start, len(result))\n",
      "c:\\Users\\manim\\LabV2\\ONR-Price-Prediction\\onr_price_prediction\\venv\\Lib\\site-packages\\sklearn\\metrics\\_classification.py:1471: UndefinedMetricWarning: Precision and F-score are ill-defined and being set to 0.0 in labels with no predicted samples. Use `zero_division` parameter to control this behavior.\n",
      "  _warn_prf(average, modifier, msg_start, len(result))\n",
      "c:\\Users\\manim\\LabV2\\ONR-Price-Prediction\\onr_price_prediction\\venv\\Lib\\site-packages\\sklearn\\metrics\\_classification.py:1471: UndefinedMetricWarning: Precision and F-score are ill-defined and being set to 0.0 in labels with no predicted samples. Use `zero_division` parameter to control this behavior.\n",
      "  _warn_prf(average, modifier, msg_start, len(result))\n"
     ]
    },
    {
     "name": "stdout",
     "output_type": "stream",
     "text": [
      "12/12 [==============================] - 0s 1ms/step\n",
      "Predictions saved to CSV file: cobalt/test/predictions/test/CNN_Attention_64_filters_5_kernels_predictions.csv\n",
      "Predictions saved to NPY file: cobalt/test/predictions/test/CNN_Attention_64_filters_5_kernels_predictions.npy\n"
     ]
    },
    {
     "name": "stderr",
     "output_type": "stream",
     "text": [
      "c:\\Users\\manim\\LabV2\\ONR-Price-Prediction\\onr_price_prediction\\venv\\Lib\\site-packages\\sklearn\\metrics\\_classification.py:1471: UndefinedMetricWarning: Precision and F-score are ill-defined and being set to 0.0 in labels with no predicted samples. Use `zero_division` parameter to control this behavior.\n",
      "  _warn_prf(average, modifier, msg_start, len(result))\n",
      "c:\\Users\\manim\\LabV2\\ONR-Price-Prediction\\onr_price_prediction\\venv\\Lib\\site-packages\\sklearn\\metrics\\_classification.py:1471: UndefinedMetricWarning: Precision and F-score are ill-defined and being set to 0.0 in labels with no predicted samples. Use `zero_division` parameter to control this behavior.\n",
      "  _warn_prf(average, modifier, msg_start, len(result))\n",
      "c:\\Users\\manim\\LabV2\\ONR-Price-Prediction\\onr_price_prediction\\venv\\Lib\\site-packages\\sklearn\\metrics\\_classification.py:1471: UndefinedMetricWarning: Precision and F-score are ill-defined and being set to 0.0 in labels with no predicted samples. Use `zero_division` parameter to control this behavior.\n",
      "  _warn_prf(average, modifier, msg_start, len(result))\n"
     ]
    },
    {
     "name": "stdout",
     "output_type": "stream",
     "text": [
      "12/12 [==============================] - 0s 999us/step\n",
      "Predictions saved to CSV file: cobalt/test/predictions/test/CNN_Attention_64_filters_3_kernels_predictions.csv\n",
      "Predictions saved to NPY file: cobalt/test/predictions/test/CNN_Attention_64_filters_3_kernels_predictions.npy\n"
     ]
    },
    {
     "name": "stderr",
     "output_type": "stream",
     "text": [
      "c:\\Users\\manim\\LabV2\\ONR-Price-Prediction\\onr_price_prediction\\venv\\Lib\\site-packages\\sklearn\\metrics\\_classification.py:1471: UndefinedMetricWarning: Precision and F-score are ill-defined and being set to 0.0 in labels with no predicted samples. Use `zero_division` parameter to control this behavior.\n",
      "  _warn_prf(average, modifier, msg_start, len(result))\n",
      "c:\\Users\\manim\\LabV2\\ONR-Price-Prediction\\onr_price_prediction\\venv\\Lib\\site-packages\\sklearn\\metrics\\_classification.py:1471: UndefinedMetricWarning: Precision and F-score are ill-defined and being set to 0.0 in labels with no predicted samples. Use `zero_division` parameter to control this behavior.\n",
      "  _warn_prf(average, modifier, msg_start, len(result))\n",
      "c:\\Users\\manim\\LabV2\\ONR-Price-Prediction\\onr_price_prediction\\venv\\Lib\\site-packages\\sklearn\\metrics\\_classification.py:1471: UndefinedMetricWarning: Precision and F-score are ill-defined and being set to 0.0 in labels with no predicted samples. Use `zero_division` parameter to control this behavior.\n",
      "  _warn_prf(average, modifier, msg_start, len(result))\n"
     ]
    },
    {
     "name": "stdout",
     "output_type": "stream",
     "text": [
      "12/12 [==============================] - 0s 1ms/step\n",
      "Predictions saved to CSV file: cobalt/test/predictions/test/CNN_Attention_128_filters_7_kernels_predictions.csv\n",
      "Predictions saved to NPY file: cobalt/test/predictions/test/CNN_Attention_128_filters_7_kernels_predictions.npy\n"
     ]
    },
    {
     "name": "stderr",
     "output_type": "stream",
     "text": [
      "c:\\Users\\manim\\LabV2\\ONR-Price-Prediction\\onr_price_prediction\\venv\\Lib\\site-packages\\sklearn\\metrics\\_classification.py:1471: UndefinedMetricWarning: Precision and F-score are ill-defined and being set to 0.0 in labels with no predicted samples. Use `zero_division` parameter to control this behavior.\n",
      "  _warn_prf(average, modifier, msg_start, len(result))\n",
      "c:\\Users\\manim\\LabV2\\ONR-Price-Prediction\\onr_price_prediction\\venv\\Lib\\site-packages\\sklearn\\metrics\\_classification.py:1471: UndefinedMetricWarning: Precision and F-score are ill-defined and being set to 0.0 in labels with no predicted samples. Use `zero_division` parameter to control this behavior.\n",
      "  _warn_prf(average, modifier, msg_start, len(result))\n",
      "c:\\Users\\manim\\LabV2\\ONR-Price-Prediction\\onr_price_prediction\\venv\\Lib\\site-packages\\sklearn\\metrics\\_classification.py:1471: UndefinedMetricWarning: Precision and F-score are ill-defined and being set to 0.0 in labels with no predicted samples. Use `zero_division` parameter to control this behavior.\n",
      "  _warn_prf(average, modifier, msg_start, len(result))\n"
     ]
    },
    {
     "name": "stdout",
     "output_type": "stream",
     "text": [
      "12/12 [==============================] - 0s 1ms/step\n",
      "Predictions saved to CSV file: cobalt/test/predictions/test/CNN_Attention_128_filters_5_kernels_predictions.csv\n",
      "Predictions saved to NPY file: cobalt/test/predictions/test/CNN_Attention_128_filters_5_kernels_predictions.npy\n"
     ]
    },
    {
     "name": "stderr",
     "output_type": "stream",
     "text": [
      "c:\\Users\\manim\\LabV2\\ONR-Price-Prediction\\onr_price_prediction\\venv\\Lib\\site-packages\\sklearn\\metrics\\_classification.py:1471: UndefinedMetricWarning: Precision and F-score are ill-defined and being set to 0.0 in labels with no predicted samples. Use `zero_division` parameter to control this behavior.\n",
      "  _warn_prf(average, modifier, msg_start, len(result))\n",
      "c:\\Users\\manim\\LabV2\\ONR-Price-Prediction\\onr_price_prediction\\venv\\Lib\\site-packages\\sklearn\\metrics\\_classification.py:1471: UndefinedMetricWarning: Precision and F-score are ill-defined and being set to 0.0 in labels with no predicted samples. Use `zero_division` parameter to control this behavior.\n",
      "  _warn_prf(average, modifier, msg_start, len(result))\n",
      "c:\\Users\\manim\\LabV2\\ONR-Price-Prediction\\onr_price_prediction\\venv\\Lib\\site-packages\\sklearn\\metrics\\_classification.py:1471: UndefinedMetricWarning: Precision and F-score are ill-defined and being set to 0.0 in labels with no predicted samples. Use `zero_division` parameter to control this behavior.\n",
      "  _warn_prf(average, modifier, msg_start, len(result))\n"
     ]
    },
    {
     "name": "stdout",
     "output_type": "stream",
     "text": [
      "12/12 [==============================] - 0s 1ms/step\n",
      "Predictions saved to CSV file: cobalt/test/predictions/test/CNN_Attention_128_filters_3_kernels_predictions.csv\n",
      "Predictions saved to NPY file: cobalt/test/predictions/test/CNN_Attention_128_filters_3_kernels_predictions.npy\n"
     ]
    },
    {
     "name": "stderr",
     "output_type": "stream",
     "text": [
      "c:\\Users\\manim\\LabV2\\ONR-Price-Prediction\\onr_price_prediction\\venv\\Lib\\site-packages\\sklearn\\metrics\\_classification.py:1471: UndefinedMetricWarning: Precision and F-score are ill-defined and being set to 0.0 in labels with no predicted samples. Use `zero_division` parameter to control this behavior.\n",
      "  _warn_prf(average, modifier, msg_start, len(result))\n",
      "c:\\Users\\manim\\LabV2\\ONR-Price-Prediction\\onr_price_prediction\\venv\\Lib\\site-packages\\sklearn\\metrics\\_classification.py:1471: UndefinedMetricWarning: Precision and F-score are ill-defined and being set to 0.0 in labels with no predicted samples. Use `zero_division` parameter to control this behavior.\n",
      "  _warn_prf(average, modifier, msg_start, len(result))\n",
      "c:\\Users\\manim\\LabV2\\ONR-Price-Prediction\\onr_price_prediction\\venv\\Lib\\site-packages\\sklearn\\metrics\\_classification.py:1471: UndefinedMetricWarning: Precision and F-score are ill-defined and being set to 0.0 in labels with no predicted samples. Use `zero_division` parameter to control this behavior.\n",
      "  _warn_prf(average, modifier, msg_start, len(result))\n"
     ]
    },
    {
     "name": "stdout",
     "output_type": "stream",
     "text": [
      "12/12 [==============================] - 0s 1ms/step\n",
      "Predictions saved to CSV file: cobalt/test/predictions/test/CNN_Attention_256_filters_7_kernels_predictions.csv\n",
      "Predictions saved to NPY file: cobalt/test/predictions/test/CNN_Attention_256_filters_7_kernels_predictions.npy\n"
     ]
    },
    {
     "name": "stderr",
     "output_type": "stream",
     "text": [
      "c:\\Users\\manim\\LabV2\\ONR-Price-Prediction\\onr_price_prediction\\venv\\Lib\\site-packages\\sklearn\\metrics\\_classification.py:1471: UndefinedMetricWarning: Precision and F-score are ill-defined and being set to 0.0 in labels with no predicted samples. Use `zero_division` parameter to control this behavior.\n",
      "  _warn_prf(average, modifier, msg_start, len(result))\n",
      "c:\\Users\\manim\\LabV2\\ONR-Price-Prediction\\onr_price_prediction\\venv\\Lib\\site-packages\\sklearn\\metrics\\_classification.py:1471: UndefinedMetricWarning: Precision and F-score are ill-defined and being set to 0.0 in labels with no predicted samples. Use `zero_division` parameter to control this behavior.\n",
      "  _warn_prf(average, modifier, msg_start, len(result))\n",
      "c:\\Users\\manim\\LabV2\\ONR-Price-Prediction\\onr_price_prediction\\venv\\Lib\\site-packages\\sklearn\\metrics\\_classification.py:1471: UndefinedMetricWarning: Precision and F-score are ill-defined and being set to 0.0 in labels with no predicted samples. Use `zero_division` parameter to control this behavior.\n",
      "  _warn_prf(average, modifier, msg_start, len(result))\n"
     ]
    },
    {
     "name": "stdout",
     "output_type": "stream",
     "text": [
      "12/12 [==============================] - 0s 1ms/step\n",
      "Predictions saved to CSV file: cobalt/test/predictions/test/CNN_Attention_256_filters_5_kernels_predictions.csv\n",
      "Predictions saved to NPY file: cobalt/test/predictions/test/CNN_Attention_256_filters_5_kernels_predictions.npy\n"
     ]
    },
    {
     "name": "stderr",
     "output_type": "stream",
     "text": [
      "c:\\Users\\manim\\LabV2\\ONR-Price-Prediction\\onr_price_prediction\\venv\\Lib\\site-packages\\sklearn\\metrics\\_classification.py:1471: UndefinedMetricWarning: Precision and F-score are ill-defined and being set to 0.0 in labels with no predicted samples. Use `zero_division` parameter to control this behavior.\n",
      "  _warn_prf(average, modifier, msg_start, len(result))\n",
      "c:\\Users\\manim\\LabV2\\ONR-Price-Prediction\\onr_price_prediction\\venv\\Lib\\site-packages\\sklearn\\metrics\\_classification.py:1471: UndefinedMetricWarning: Precision and F-score are ill-defined and being set to 0.0 in labels with no predicted samples. Use `zero_division` parameter to control this behavior.\n",
      "  _warn_prf(average, modifier, msg_start, len(result))\n",
      "c:\\Users\\manim\\LabV2\\ONR-Price-Prediction\\onr_price_prediction\\venv\\Lib\\site-packages\\sklearn\\metrics\\_classification.py:1471: UndefinedMetricWarning: Precision and F-score are ill-defined and being set to 0.0 in labels with no predicted samples. Use `zero_division` parameter to control this behavior.\n",
      "  _warn_prf(average, modifier, msg_start, len(result))\n"
     ]
    },
    {
     "name": "stdout",
     "output_type": "stream",
     "text": [
      "12/12 [==============================] - 0s 1ms/step\n",
      "Predictions saved to CSV file: cobalt/test/predictions/test/CNN_Attention_256_filters_3_kernels_predictions.csv\n",
      "Predictions saved to NPY file: cobalt/test/predictions/test/CNN_Attention_256_filters_3_kernels_predictions.npy\n"
     ]
    },
    {
     "name": "stderr",
     "output_type": "stream",
     "text": [
      "c:\\Users\\manim\\LabV2\\ONR-Price-Prediction\\onr_price_prediction\\venv\\Lib\\site-packages\\sklearn\\metrics\\_classification.py:1471: UndefinedMetricWarning: Precision and F-score are ill-defined and being set to 0.0 in labels with no predicted samples. Use `zero_division` parameter to control this behavior.\n",
      "  _warn_prf(average, modifier, msg_start, len(result))\n",
      "c:\\Users\\manim\\LabV2\\ONR-Price-Prediction\\onr_price_prediction\\venv\\Lib\\site-packages\\sklearn\\metrics\\_classification.py:1471: UndefinedMetricWarning: Precision and F-score are ill-defined and being set to 0.0 in labels with no predicted samples. Use `zero_division` parameter to control this behavior.\n",
      "  _warn_prf(average, modifier, msg_start, len(result))\n",
      "c:\\Users\\manim\\LabV2\\ONR-Price-Prediction\\onr_price_prediction\\venv\\Lib\\site-packages\\sklearn\\metrics\\_classification.py:1471: UndefinedMetricWarning: Precision and F-score are ill-defined and being set to 0.0 in labels with no predicted samples. Use `zero_division` parameter to control this behavior.\n",
      "  _warn_prf(average, modifier, msg_start, len(result))\n"
     ]
    },
    {
     "data": {
      "text/html": [
       "<div>\n",
       "<style scoped>\n",
       "    .dataframe tbody tr th:only-of-type {\n",
       "        vertical-align: middle;\n",
       "    }\n",
       "\n",
       "    .dataframe tbody tr th {\n",
       "        vertical-align: top;\n",
       "    }\n",
       "\n",
       "    .dataframe thead th {\n",
       "        text-align: right;\n",
       "    }\n",
       "</style>\n",
       "<table border=\"1\" class=\"dataframe\">\n",
       "  <thead>\n",
       "    <tr style=\"text-align: right;\">\n",
       "      <th></th>\n",
       "      <th>Name</th>\n",
       "      <th>Params</th>\n",
       "      <th>Accuracy</th>\n",
       "      <th>Precision (0)</th>\n",
       "      <th>Recall (0)</th>\n",
       "      <th>F1 (0)</th>\n",
       "      <th>Precision (1)</th>\n",
       "      <th>Recall (1)</th>\n",
       "      <th>F1 (1)</th>\n",
       "      <th>Prior</th>\n",
       "    </tr>\n",
       "  </thead>\n",
       "  <tbody>\n",
       "    <tr>\n",
       "      <th>0</th>\n",
       "      <td>CNN with Attention</td>\n",
       "      <td>32 filters, kernel size 7</td>\n",
       "      <td>0.9437</td>\n",
       "      <td>0.9437</td>\n",
       "      <td>1.0</td>\n",
       "      <td>0.971034</td>\n",
       "      <td>0.0</td>\n",
       "      <td>0.0</td>\n",
       "      <td>0.0</td>\n",
       "      <td>0.06</td>\n",
       "    </tr>\n",
       "    <tr>\n",
       "      <th>1</th>\n",
       "      <td>CNN with Attention</td>\n",
       "      <td>32 filters, kernel size 5</td>\n",
       "      <td>0.9437</td>\n",
       "      <td>0.9437</td>\n",
       "      <td>1.0</td>\n",
       "      <td>0.971034</td>\n",
       "      <td>0.0</td>\n",
       "      <td>0.0</td>\n",
       "      <td>0.0</td>\n",
       "      <td>0.06</td>\n",
       "    </tr>\n",
       "    <tr>\n",
       "      <th>2</th>\n",
       "      <td>CNN with Attention</td>\n",
       "      <td>32 filters, kernel size 3</td>\n",
       "      <td>0.9437</td>\n",
       "      <td>0.9437</td>\n",
       "      <td>1.0</td>\n",
       "      <td>0.971034</td>\n",
       "      <td>0.0</td>\n",
       "      <td>0.0</td>\n",
       "      <td>0.0</td>\n",
       "      <td>0.06</td>\n",
       "    </tr>\n",
       "    <tr>\n",
       "      <th>3</th>\n",
       "      <td>CNN with Attention</td>\n",
       "      <td>64 filters, kernel size 7</td>\n",
       "      <td>0.9437</td>\n",
       "      <td>0.9437</td>\n",
       "      <td>1.0</td>\n",
       "      <td>0.971034</td>\n",
       "      <td>0.0</td>\n",
       "      <td>0.0</td>\n",
       "      <td>0.0</td>\n",
       "      <td>0.06</td>\n",
       "    </tr>\n",
       "    <tr>\n",
       "      <th>4</th>\n",
       "      <td>CNN with Attention</td>\n",
       "      <td>64 filters, kernel size 5</td>\n",
       "      <td>0.9437</td>\n",
       "      <td>0.9437</td>\n",
       "      <td>1.0</td>\n",
       "      <td>0.971034</td>\n",
       "      <td>0.0</td>\n",
       "      <td>0.0</td>\n",
       "      <td>0.0</td>\n",
       "      <td>0.06</td>\n",
       "    </tr>\n",
       "    <tr>\n",
       "      <th>5</th>\n",
       "      <td>CNN with Attention</td>\n",
       "      <td>64 filters, kernel size 3</td>\n",
       "      <td>0.9437</td>\n",
       "      <td>0.9437</td>\n",
       "      <td>1.0</td>\n",
       "      <td>0.971034</td>\n",
       "      <td>0.0</td>\n",
       "      <td>0.0</td>\n",
       "      <td>0.0</td>\n",
       "      <td>0.06</td>\n",
       "    </tr>\n",
       "    <tr>\n",
       "      <th>6</th>\n",
       "      <td>CNN with Attention</td>\n",
       "      <td>128 filters, kernel size 7</td>\n",
       "      <td>0.9437</td>\n",
       "      <td>0.9437</td>\n",
       "      <td>1.0</td>\n",
       "      <td>0.971034</td>\n",
       "      <td>0.0</td>\n",
       "      <td>0.0</td>\n",
       "      <td>0.0</td>\n",
       "      <td>0.06</td>\n",
       "    </tr>\n",
       "    <tr>\n",
       "      <th>7</th>\n",
       "      <td>CNN with Attention</td>\n",
       "      <td>128 filters, kernel size 5</td>\n",
       "      <td>0.9437</td>\n",
       "      <td>0.9437</td>\n",
       "      <td>1.0</td>\n",
       "      <td>0.971034</td>\n",
       "      <td>0.0</td>\n",
       "      <td>0.0</td>\n",
       "      <td>0.0</td>\n",
       "      <td>0.06</td>\n",
       "    </tr>\n",
       "    <tr>\n",
       "      <th>8</th>\n",
       "      <td>CNN with Attention</td>\n",
       "      <td>128 filters, kernel size 3</td>\n",
       "      <td>0.9437</td>\n",
       "      <td>0.9437</td>\n",
       "      <td>1.0</td>\n",
       "      <td>0.971034</td>\n",
       "      <td>0.0</td>\n",
       "      <td>0.0</td>\n",
       "      <td>0.0</td>\n",
       "      <td>0.06</td>\n",
       "    </tr>\n",
       "    <tr>\n",
       "      <th>9</th>\n",
       "      <td>CNN with Attention</td>\n",
       "      <td>256 filters, kernel size 7</td>\n",
       "      <td>0.9437</td>\n",
       "      <td>0.9437</td>\n",
       "      <td>1.0</td>\n",
       "      <td>0.971034</td>\n",
       "      <td>0.0</td>\n",
       "      <td>0.0</td>\n",
       "      <td>0.0</td>\n",
       "      <td>0.06</td>\n",
       "    </tr>\n",
       "    <tr>\n",
       "      <th>10</th>\n",
       "      <td>CNN with Attention</td>\n",
       "      <td>256 filters, kernel size 5</td>\n",
       "      <td>0.9437</td>\n",
       "      <td>0.9437</td>\n",
       "      <td>1.0</td>\n",
       "      <td>0.971034</td>\n",
       "      <td>0.0</td>\n",
       "      <td>0.0</td>\n",
       "      <td>0.0</td>\n",
       "      <td>0.06</td>\n",
       "    </tr>\n",
       "    <tr>\n",
       "      <th>11</th>\n",
       "      <td>CNN with Attention</td>\n",
       "      <td>256 filters, kernel size 3</td>\n",
       "      <td>0.9437</td>\n",
       "      <td>0.9437</td>\n",
       "      <td>1.0</td>\n",
       "      <td>0.971034</td>\n",
       "      <td>0.0</td>\n",
       "      <td>0.0</td>\n",
       "      <td>0.0</td>\n",
       "      <td>0.06</td>\n",
       "    </tr>\n",
       "  </tbody>\n",
       "</table>\n",
       "</div>"
      ],
      "text/plain": [
       "                  Name                      Params  Accuracy  Precision (0)  \\\n",
       "0   CNN with Attention   32 filters, kernel size 7    0.9437         0.9437   \n",
       "1   CNN with Attention   32 filters, kernel size 5    0.9437         0.9437   \n",
       "2   CNN with Attention   32 filters, kernel size 3    0.9437         0.9437   \n",
       "3   CNN with Attention   64 filters, kernel size 7    0.9437         0.9437   \n",
       "4   CNN with Attention   64 filters, kernel size 5    0.9437         0.9437   \n",
       "5   CNN with Attention   64 filters, kernel size 3    0.9437         0.9437   \n",
       "6   CNN with Attention  128 filters, kernel size 7    0.9437         0.9437   \n",
       "7   CNN with Attention  128 filters, kernel size 5    0.9437         0.9437   \n",
       "8   CNN with Attention  128 filters, kernel size 3    0.9437         0.9437   \n",
       "9   CNN with Attention  256 filters, kernel size 7    0.9437         0.9437   \n",
       "10  CNN with Attention  256 filters, kernel size 5    0.9437         0.9437   \n",
       "11  CNN with Attention  256 filters, kernel size 3    0.9437         0.9437   \n",
       "\n",
       "    Recall (0)    F1 (0)  Precision (1)  Recall (1)  F1 (1) Prior  \n",
       "0          1.0  0.971034            0.0         0.0     0.0  0.06  \n",
       "1          1.0  0.971034            0.0         0.0     0.0  0.06  \n",
       "2          1.0  0.971034            0.0         0.0     0.0  0.06  \n",
       "3          1.0  0.971034            0.0         0.0     0.0  0.06  \n",
       "4          1.0  0.971034            0.0         0.0     0.0  0.06  \n",
       "5          1.0  0.971034            0.0         0.0     0.0  0.06  \n",
       "6          1.0  0.971034            0.0         0.0     0.0  0.06  \n",
       "7          1.0  0.971034            0.0         0.0     0.0  0.06  \n",
       "8          1.0  0.971034            0.0         0.0     0.0  0.06  \n",
       "9          1.0  0.971034            0.0         0.0     0.0  0.06  \n",
       "10         1.0  0.971034            0.0         0.0     0.0  0.06  \n",
       "11         1.0  0.971034            0.0         0.0     0.0  0.06  "
      ]
     },
     "execution_count": 102,
     "metadata": {},
     "output_type": "execute_result"
    }
   ],
   "source": [
    "from imblearn.over_sampling import RandomOverSampler\n",
    "from imblearn.under_sampling import RandomUnderSampler\n",
    "\n",
    "X, y = data_processing.prepare_features_and_target(aggregated_df, FEATURE_COLUMNS, 'spikes_if')\n",
    "X_train, X_test, y_train, y_test = train_test_split(X, y, test_size=0.3, shuffle=False)\n",
    "\n",
    "X_train, y_train = RandomOverSampler(random_state=RANDOM_STATE).fit_resample(X_train, y_train)\n",
    "X_train, X_test = scale_features(X_train, X_test)\n",
    "\n",
    "X_train, y_train = data_processing.create_sequences(X_train, y_train, WINDOW_SIZE)\n",
    "X_test, y_test = data_processing.create_sequences(X_test, y_test, WINDOW_SIZE)\n",
    "\n",
    "output_file_path = f'{COMMODITY}/test/results_test.csv'\n",
    "pred_file_path = f'{COMMODITY}/test/predictions/test'\n",
    "print(pred_file_path)\n",
    "results_df, y_pred = evaluate_all(X_train, y_train, X_test, y_test, output_file_path, pred_file_path)\n",
    "\n",
    "results_df"
   ]
  },
  {
   "cell_type": "code",
   "execution_count": 103,
   "metadata": {},
   "outputs": [],
   "source": [
    "sequence_length = WINDOW_SIZE\n",
    "test_offset = len(aggregated_df) - len(X_test)  \n",
    "\n",
    "# Creating a series of NaNs for the length of the sequence and train offset\n",
    "pred_series_length = len(aggregated_df) - sequence_length - test_offset\n",
    "pred_series = np.array([None] * (sequence_length + test_offset) + list(y_pred.flatten()) + [None] * pred_series_length)\n",
    "\n",
    "pred_series = pred_series[:len(aggregated_df)]\n"
   ]
  },
  {
   "cell_type": "code",
   "execution_count": 104,
   "metadata": {},
   "outputs": [],
   "source": [
    "aggregated_df['Predicted_Spikes'] = pred_series\n"
   ]
  },
  {
   "cell_type": "code",
   "execution_count": 105,
   "metadata": {},
   "outputs": [
    {
     "data": {
      "image/png": "[encoded data removed]",
      "text/plain": [
       "<Figure size 1000x600 with 1 Axes>"
      ]
     },
     "metadata": {},
     "output_type": "display_data"
    }
   ],
   "source": [
    "# Plotting the price data and spikes\n",
    "plt.figure(figsize=(10, 6))\n",
    "plt.plot(aggregated_df.index, aggregated_df['Price'], label='Price', color='blue', alpha=0.6)\n",
    "\n",
    "# Highlighting actual spikes\n",
    "spike_indices = aggregated_df[aggregated_df['spikes_if'] == 1].index\n",
    "spike_prices = aggregated_df.loc[spike_indices, 'Price']\n",
    "plt.scatter(spike_indices, spike_prices, color='red', marker='^', label='Actual Spikes', alpha=0.7)\n",
    "\n",
    "# Highlighting predicted spikes\n",
    "predicted_spike_indices = aggregated_df[aggregated_df['Predicted_Spikes'] == 1].index\n",
    "predicted_spike_prices = aggregated_df.loc[predicted_spike_indices, 'Price']\n",
    "plt.scatter(predicted_spike_indices, predicted_spike_prices, color='green', marker='x', label='Predicted Spikes', alpha=0.7)\n",
    "\n",
    "# Adding a vertical line to indicate where prediction starts\n",
    "prediction_start_date = aggregated_df.index[test_offset]\n",
    "plt.axvline(x=prediction_start_date, color='purple', linestyle='--', label='Prediction Start')\n",
    "\n",
    "plt.xlabel('Date')\n",
    "plt.ylabel('Price')\n",
    "plt.title('Price Data with Actual and Predicted Spikes')\n",
    "plt.legend()\n",
    "plt.show()\n"
   ]
  },
  {
   "cell_type": "code",
   "execution_count": 106,
   "metadata": {},
   "outputs": [
    {
     "name": "stdout",
     "output_type": "stream",
     "text": [
      "Spike Percentage in Test Sample: 5.63%\n"
     ]
    }
   ],
   "source": [
    "# Assuming spikes are labeled as 1 in 'y_test'\n",
    "total_spikes_in_test = np.sum(y_test == 1)\n",
    "total_data_points_in_test = y_test.shape[0]\n",
    "spike_percentage_in_test = (total_spikes_in_test / total_data_points_in_test) * 100\n",
    "\n",
    "print(f\"Spike Percentage in Test Sample: {spike_percentage_in_test:.2f}%\")\n"
   ]
  }
 ],
 "metadata": {
  "kernelspec": {
   "display_name": "lab_v2",
   "language": "python",
   "name": "python3"
  },
  "language_info": {
   "codemirror_mode": {
    "name": "ipython",
    "version": 3
   },
   "file_extension": ".py",
   "mimetype": "text/x-python",
   "name": "python",
   "nbconvert_exporter": "python",
   "pygments_lexer": "ipython3",
   "version": "3.11.6"
  }
 },
 "nbformat": 4,
 "nbformat_minor": 2
}
