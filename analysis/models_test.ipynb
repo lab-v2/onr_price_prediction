{
 "cells": [
  {
   "cell_type": "code",
   "execution_count": 1,
   "metadata": {},
   "outputs": [
    {
     "name": "stdout",
     "output_type": "stream",
     "text": [
      "WARNING:tensorflow:From c:\\Users\\manim\\LabV2\\ONR-Price-Prediction\\onr_price_prediction\\venv\\Lib\\site-packages\\keras\\src\\losses.py:2976: The name tf.losses.sparse_softmax_cross_entropy is deprecated. Please use tf.compat.v1.losses.sparse_softmax_cross_entropy instead.\n",
      "\n",
      "WARNING:tensorflow:From c:\\Users\\manim\\LabV2\\ONR-Price-Prediction\\onr_price_prediction\\venv\\Lib\\site-packages\\keras\\src\\backend.py:873: The name tf.get_default_graph is deprecated. Please use tf.compat.v1.get_default_graph instead.\n",
      "\n"
     ]
    }
   ],
   "source": [
    "import models\n",
    "import utils\n",
    "import data_processing\n",
    "from constants import (\n",
    "    VALUE_COLUMN,\n",
    "    UNIT_RATE_COLUMN,\n",
    "    QUANTITY_COLUMN,\n",
    "    GROSS_WEIGHT_COLUMN,\n",
    "    SHIP_COUNT_COLUMN,\n",
    "    PORT_COUNT_COLUMN,\n",
    "    FILL_METHOD,\n",
    "    TARGET_COLUMN,\n",
    "    VOLZA_COLUMNS,\n",
    "    AIS_COLUMNS,\n",
    "    OIL_COLUMNS,\n",
    "    ARIMA_RESIDUAL_COLUMN,\n",
    "    RANDOM_STATE\n",
    ")\n",
    "import pandas as pd\n",
    "import constants\n",
    "import sys\n",
    "from datetime import datetime\n",
    "from build_data import get_data\n",
    "from sklearn.model_selection import train_test_split\n",
    "from sklearn.preprocessing import KBinsDiscretizer\n",
    "\n",
    "import matplotlib.pyplot as plt\n",
    "import numpy as np"
   ]
  },
  {
   "cell_type": "code",
   "execution_count": 2,
   "metadata": {},
   "outputs": [],
   "source": [
    "COMMODITYS = ['cobalt', 'copper', 'germanium', 'magnesium']\n",
    "target_COMMODITY = \"copper\"\n",
    "WINDOW_SIZE = 20"
   ]
  },
  {
   "cell_type": "code",
   "execution_count": 3,
   "metadata": {},
   "outputs": [
    {
     "name": "stdout",
     "output_type": "stream",
     "text": [
      "Building data...\n"
     ]
    },
    {
     "name": "stderr",
     "output_type": "stream",
     "text": [
      "c:\\Users\\manim\\LabV2\\ONR-Price-Prediction\\onr_price_prediction\\analysis\\build_data.py:63: SettingWithCopyWarning: \n",
      "A value is trying to be set on a copy of a slice from a DataFrame\n",
      "\n",
      "See the caveats in the documentation: https://pandas.pydata.org/pandas-docs/stable/user_guide/indexing.html#returning-a-view-versus-a-copy\n",
      "  brent_df.rename(columns={\"Value\": \"Brent Oil Value\"}, inplace=True)\n",
      "c:\\Users\\manim\\LabV2\\ONR-Price-Prediction\\onr_price_prediction\\analysis\\build_data.py:64: SettingWithCopyWarning: \n",
      "A value is trying to be set on a copy of a slice from a DataFrame\n",
      "\n",
      "See the caveats in the documentation: https://pandas.pydata.org/pandas-docs/stable/user_guide/indexing.html#returning-a-view-versus-a-copy\n",
      "  wti_df.rename(columns={\"Value\": \"WTI Oil Value\"}, inplace=True)\n",
      "c:\\Users\\manim\\LabV2\\ONR-Price-Prediction\\onr_price_prediction\\analysis\\build_data.py:73: FutureWarning: DataFrame.fillna with 'method' is deprecated and will raise in a future version. Use obj.ffill() or obj.bfill() instead.\n",
      "  aggregated_df = date_wise_volza.join(prices_pd, how=\"left\").fillna(method=FILL_METHOD)\n",
      "c:\\Users\\manim\\LabV2\\ONR-Price-Prediction\\onr_price_prediction\\analysis\\build_data.py:76: FutureWarning: DataFrame.fillna with 'method' is deprecated and will raise in a future version. Use obj.ffill() or obj.bfill() instead.\n",
      "  ).fillna(method=FILL_METHOD)\n",
      "c:\\Users\\manim\\LabV2\\ONR-Price-Prediction\\onr_price_prediction\\analysis\\build_data.py:79: FutureWarning: DataFrame.fillna with 'method' is deprecated and will raise in a future version. Use obj.ffill() or obj.bfill() instead.\n",
      "  ).fillna(method=FILL_METHOD)\n"
     ]
    },
    {
     "name": "stdout",
     "output_type": "stream",
     "text": [
      "Rows dropped due to NaN values: 1\n",
      "Detecting spikes... 20\n"
     ]
    },
    {
     "name": "stderr",
     "output_type": "stream",
     "text": [
      "c:\\Users\\manim\\LabV2\\ONR-Price-Prediction\\onr_price_prediction\\venv\\Lib\\site-packages\\statsmodels\\tsa\\base\\tsa_model.py:836: ValueWarning: No supported index is available. Prediction results will be given with an integer index beginning at `start`.\n",
      "  return get_prediction_index(\n",
      "c:\\Users\\manim\\LabV2\\ONR-Price-Prediction\\onr_price_prediction\\venv\\Lib\\site-packages\\statsmodels\\tsa\\base\\tsa_model.py:836: FutureWarning: No supported index is available. In the next version, calling this method in a model without a supported index will result in an exception.\n",
      "  return get_prediction_index(\n"
     ]
    },
    {
     "data": {
      "text/html": [
       "<div>\n",
       "<style scoped>\n",
       "    .dataframe tbody tr th:only-of-type {\n",
       "        vertical-align: middle;\n",
       "    }\n",
       "\n",
       "    .dataframe tbody tr th {\n",
       "        vertical-align: top;\n",
       "    }\n",
       "\n",
       "    .dataframe thead th {\n",
       "        text-align: right;\n",
       "    }\n",
       "</style>\n",
       "<table border=\"1\" class=\"dataframe\">\n",
       "  <thead>\n",
       "    <tr style=\"text-align: right;\">\n",
       "      <th></th>\n",
       "      <th>Date</th>\n",
       "      <th>Value</th>\n",
       "      <th>Std. Quantity (KG)</th>\n",
       "      <th>Gross Weight</th>\n",
       "      <th>Std. Unit Rate ($/KG)</th>\n",
       "      <th>Price</th>\n",
       "      <th>Brent Oil Value</th>\n",
       "      <th>WTI Oil Value</th>\n",
       "      <th>ARIMA_Residuals</th>\n",
       "      <th>spikes</th>\n",
       "      <th>spikes_if</th>\n",
       "    </tr>\n",
       "  </thead>\n",
       "  <tbody>\n",
       "    <tr>\n",
       "      <th>1</th>\n",
       "      <td>2019-01-02</td>\n",
       "      <td>28997742.33</td>\n",
       "      <td>4504496.0</td>\n",
       "      <td>4507752.0</td>\n",
       "      <td>6.420416</td>\n",
       "      <td>2.6250</td>\n",
       "      <td>54.06</td>\n",
       "      <td>46.31</td>\n",
       "      <td>2.6250</td>\n",
       "      <td>0</td>\n",
       "      <td>0</td>\n",
       "    </tr>\n",
       "    <tr>\n",
       "      <th>2</th>\n",
       "      <td>2019-01-03</td>\n",
       "      <td>16525428.57</td>\n",
       "      <td>2427492.0</td>\n",
       "      <td>2428782.0</td>\n",
       "      <td>9.079466</td>\n",
       "      <td>2.5705</td>\n",
       "      <td>53.23</td>\n",
       "      <td>46.92</td>\n",
       "      <td>-0.0545</td>\n",
       "      <td>0</td>\n",
       "      <td>0</td>\n",
       "    </tr>\n",
       "  </tbody>\n",
       "</table>\n",
       "</div>"
      ],
      "text/plain": [
       "        Date        Value  Std. Quantity (KG)  Gross Weight  \\\n",
       "1 2019-01-02  28997742.33           4504496.0     4507752.0   \n",
       "2 2019-01-03  16525428.57           2427492.0     2428782.0   \n",
       "\n",
       "   Std. Unit Rate ($/KG)   Price  Brent Oil Value  WTI Oil Value  \\\n",
       "1               6.420416  2.6250            54.06          46.31   \n",
       "2               9.079466  2.5705            53.23          46.92   \n",
       "\n",
       "   ARIMA_Residuals  spikes  spikes_if  \n",
       "1           2.6250       0          0  \n",
       "2          -0.0545       0          0  "
      ]
     },
     "execution_count": 3,
     "metadata": {},
     "output_type": "execute_result"
    }
   ],
   "source": [
    "pre_features = []\n",
    "pre_labels = []\n",
    "tar_features = []\n",
    "tar_labels = []\n",
    "# for COMMODITY in COMMODITYS:\n",
    "COMMODITY = target_COMMODITY\n",
    "\n",
    "VOLZA_FILE_PATH = f\"../volza/{COMMODITY}/{COMMODITY}.csv\"\n",
    "PRICE_FILE_PATH = f\"../volza/{COMMODITY}/{COMMODITY}_prices.csv\"\n",
    "\n",
    "# Get the data\n",
    "data = get_data(VOLZA_FILE_PATH, PRICE_FILE_PATH, window_size=WINDOW_SIZE, center=False)\n",
    "\n",
    "# Add Isolation Forest spikes column\n",
    "data['spikes_if'] = utils.detect_spikes_if(data, TARGET_COLUMN + VOLZA_COLUMNS, contamination=0.05)\n",
    "\n",
    "# Add Bowen's spike detection\n",
    "spikes, features, labels = utils.detect_spikes_new(data, TARGET_COLUMN, window_size=WINDOW_SIZE, center=False)\n",
    "if COMMODITY == target_COMMODITY:\n",
    "    tar_features.extend(features)\n",
    "    tar_labels.extend(labels)\n",
    "    #     continue\n",
    "    # pre_features.extend(features)\n",
    "    # pre_labels.extend(labels)\n",
    "\n",
    "data.head(2)"
   ]
  },
  {
   "cell_type": "code",
   "execution_count": 4,
   "metadata": {},
   "outputs": [
    {
     "name": "stdout",
     "output_type": "stream",
     "text": [
      "Spike Percentage: 16.65%\n"
     ]
    },
    {
     "data": {
      "image/png": "[encoded data removed]",
      "text/plain": [
       "<Figure size 1000x600 with 1 Axes>"
      ]
     },
     "metadata": {},
     "output_type": "display_data"
    }
   ],
   "source": [
    "padded_spikes = np.pad(spikes, (data.shape[0] - len(spikes), 0), 'constant', constant_values=(0,))\n",
    "data['spikes_new'] = padded_spikes\n",
    "utils.plot_prices(data,column='spikes_new')"
   ]
  },
  {
   "cell_type": "code",
   "execution_count": 5,
   "metadata": {},
   "outputs": [],
   "source": [
    "from imblearn.over_sampling import RandomOverSampler\n",
    "from imblearn.under_sampling import RandomUnderSampler\n",
    "\n",
    "sampler = RandomOverSampler\n",
    "output_file_path = f'{target_COMMODITY}/test/results_test.csv'\n",
    "pred_file_path = f'{target_COMMODITY}/test/predictions/test'\n",
    "model_path = f'{target_COMMODITY}/best_model'"
   ]
  },
  {
   "cell_type": "code",
   "execution_count": 6,
   "metadata": {},
   "outputs": [],
   "source": [
    "aggregated_df = data\n",
    "SPIKE_COLUMN = 'spikes_if'"
   ]
  },
  {
   "cell_type": "code",
   "execution_count": 7,
   "metadata": {},
   "outputs": [
    {
     "name": "stderr",
     "output_type": "stream",
     "text": [
      "c:\\Users\\manim\\LabV2\\ONR-Price-Prediction\\onr_price_prediction\\venv\\Lib\\site-packages\\sklearn\\preprocessing\\_discretization.py:248: FutureWarning: In version 1.5 onwards, subsample=200_000 will be used by default. Set subsample explicitly to silence this warning in the mean time. Set subsample=None to disable subsampling explicitly.\n",
      "  warnings.warn(\n"
     ]
    },
    {
     "data": {
      "text/html": [
       "<div>\n",
       "<style scoped>\n",
       "    .dataframe tbody tr th:only-of-type {\n",
       "        vertical-align: middle;\n",
       "    }\n",
       "\n",
       "    .dataframe tbody tr th {\n",
       "        vertical-align: top;\n",
       "    }\n",
       "\n",
       "    .dataframe thead th {\n",
       "        text-align: right;\n",
       "    }\n",
       "</style>\n",
       "<table border=\"1\" class=\"dataframe\">\n",
       "  <thead>\n",
       "    <tr style=\"text-align: right;\">\n",
       "      <th></th>\n",
       "      <th>Date</th>\n",
       "      <th>Value</th>\n",
       "      <th>Std. Quantity (KG)</th>\n",
       "      <th>Gross Weight</th>\n",
       "      <th>Std. Unit Rate ($/KG)</th>\n",
       "      <th>Price</th>\n",
       "      <th>Brent Oil Value</th>\n",
       "      <th>WTI Oil Value</th>\n",
       "      <th>ARIMA_Residuals</th>\n",
       "      <th>spikes</th>\n",
       "      <th>spikes_if</th>\n",
       "      <th>spikes_new</th>\n",
       "      <th>Price_binned</th>\n",
       "    </tr>\n",
       "  </thead>\n",
       "  <tbody>\n",
       "    <tr>\n",
       "      <th>1</th>\n",
       "      <td>2019-01-02</td>\n",
       "      <td>2.899774e+07</td>\n",
       "      <td>4.504496e+06</td>\n",
       "      <td>4507752.0</td>\n",
       "      <td>6.420416</td>\n",
       "      <td>2.6250</td>\n",
       "      <td>54.06</td>\n",
       "      <td>46.31</td>\n",
       "      <td>2.625000e+00</td>\n",
       "      <td>0</td>\n",
       "      <td>0</td>\n",
       "      <td>0</td>\n",
       "      <td>0.0</td>\n",
       "    </tr>\n",
       "    <tr>\n",
       "      <th>2</th>\n",
       "      <td>2019-01-03</td>\n",
       "      <td>1.652543e+07</td>\n",
       "      <td>2.427492e+06</td>\n",
       "      <td>2428782.0</td>\n",
       "      <td>9.079466</td>\n",
       "      <td>2.5705</td>\n",
       "      <td>53.23</td>\n",
       "      <td>46.92</td>\n",
       "      <td>-5.450000e-02</td>\n",
       "      <td>0</td>\n",
       "      <td>0</td>\n",
       "      <td>0</td>\n",
       "      <td>0.0</td>\n",
       "    </tr>\n",
       "    <tr>\n",
       "      <th>3</th>\n",
       "      <td>2019-01-04</td>\n",
       "      <td>1.381037e+05</td>\n",
       "      <td>1.978600e+04</td>\n",
       "      <td>0.0</td>\n",
       "      <td>5.651829</td>\n",
       "      <td>2.6515</td>\n",
       "      <td>55.64</td>\n",
       "      <td>47.76</td>\n",
       "      <td>8.100000e-02</td>\n",
       "      <td>0</td>\n",
       "      <td>0</td>\n",
       "      <td>0</td>\n",
       "      <td>0.0</td>\n",
       "    </tr>\n",
       "    <tr>\n",
       "      <th>4</th>\n",
       "      <td>2019-01-06</td>\n",
       "      <td>1.854971e+07</td>\n",
       "      <td>3.025544e+06</td>\n",
       "      <td>0.0</td>\n",
       "      <td>3947.152515</td>\n",
       "      <td>2.6515</td>\n",
       "      <td>55.64</td>\n",
       "      <td>47.76</td>\n",
       "      <td>2.039406e-09</td>\n",
       "      <td>0</td>\n",
       "      <td>0</td>\n",
       "      <td>0</td>\n",
       "      <td>0.0</td>\n",
       "    </tr>\n",
       "    <tr>\n",
       "      <th>5</th>\n",
       "      <td>2019-01-07</td>\n",
       "      <td>3.339545e+07</td>\n",
       "      <td>5.543534e+06</td>\n",
       "      <td>4648720.0</td>\n",
       "      <td>3074.211012</td>\n",
       "      <td>2.6410</td>\n",
       "      <td>57.10</td>\n",
       "      <td>48.27</td>\n",
       "      <td>-1.050000e-02</td>\n",
       "      <td>0</td>\n",
       "      <td>0</td>\n",
       "      <td>0</td>\n",
       "      <td>0.0</td>\n",
       "    </tr>\n",
       "    <tr>\n",
       "      <th>...</th>\n",
       "      <td>...</td>\n",
       "      <td>...</td>\n",
       "      <td>...</td>\n",
       "      <td>...</td>\n",
       "      <td>...</td>\n",
       "      <td>...</td>\n",
       "      <td>...</td>\n",
       "      <td>...</td>\n",
       "      <td>...</td>\n",
       "      <td>...</td>\n",
       "      <td>...</td>\n",
       "      <td>...</td>\n",
       "      <td>...</td>\n",
       "    </tr>\n",
       "    <tr>\n",
       "      <th>1233</th>\n",
       "      <td>2022-12-28</td>\n",
       "      <td>3.660210e+07</td>\n",
       "      <td>4.590079e+06</td>\n",
       "      <td>2301364.0</td>\n",
       "      <td>7.600228</td>\n",
       "      <td>3.8320</td>\n",
       "      <td>81.70</td>\n",
       "      <td>78.89</td>\n",
       "      <td>-5.630000e-01</td>\n",
       "      <td>0</td>\n",
       "      <td>0</td>\n",
       "      <td>0</td>\n",
       "      <td>3.0</td>\n",
       "    </tr>\n",
       "    <tr>\n",
       "      <th>1234</th>\n",
       "      <td>2022-12-29</td>\n",
       "      <td>9.597299e+06</td>\n",
       "      <td>2.434564e+06</td>\n",
       "      <td>2415.6</td>\n",
       "      <td>13.516123</td>\n",
       "      <td>3.8210</td>\n",
       "      <td>80.96</td>\n",
       "      <td>78.43</td>\n",
       "      <td>-5.740000e-01</td>\n",
       "      <td>0</td>\n",
       "      <td>0</td>\n",
       "      <td>0</td>\n",
       "      <td>3.0</td>\n",
       "    </tr>\n",
       "    <tr>\n",
       "      <th>1235</th>\n",
       "      <td>2022-12-30</td>\n",
       "      <td>1.148950e+08</td>\n",
       "      <td>2.272949e+06</td>\n",
       "      <td>360.0</td>\n",
       "      <td>371.032957</td>\n",
       "      <td>3.8055</td>\n",
       "      <td>82.82</td>\n",
       "      <td>80.16</td>\n",
       "      <td>-5.895000e-01</td>\n",
       "      <td>0</td>\n",
       "      <td>0</td>\n",
       "      <td>0</td>\n",
       "      <td>3.0</td>\n",
       "    </tr>\n",
       "    <tr>\n",
       "      <th>1236</th>\n",
       "      <td>2022-12-31</td>\n",
       "      <td>1.290664e+07</td>\n",
       "      <td>1.515365e+06</td>\n",
       "      <td>0.0</td>\n",
       "      <td>8.285327</td>\n",
       "      <td>3.8055</td>\n",
       "      <td>82.82</td>\n",
       "      <td>80.16</td>\n",
       "      <td>-5.895000e-01</td>\n",
       "      <td>0</td>\n",
       "      <td>0</td>\n",
       "      <td>0</td>\n",
       "      <td>3.0</td>\n",
       "    </tr>\n",
       "    <tr>\n",
       "      <th>1237</th>\n",
       "      <td>2023-01-01</td>\n",
       "      <td>3.461623e+08</td>\n",
       "      <td>3.257413e+07</td>\n",
       "      <td>962244.0</td>\n",
       "      <td>43.673350</td>\n",
       "      <td>3.8055</td>\n",
       "      <td>82.82</td>\n",
       "      <td>80.16</td>\n",
       "      <td>NaN</td>\n",
       "      <td>0</td>\n",
       "      <td>1</td>\n",
       "      <td>0</td>\n",
       "      <td>3.0</td>\n",
       "    </tr>\n",
       "  </tbody>\n",
       "</table>\n",
       "<p>1237 rows × 13 columns</p>\n",
       "</div>"
      ],
      "text/plain": [
       "           Date         Value  Std. Quantity (KG)  Gross Weight  \\\n",
       "1    2019-01-02  2.899774e+07        4.504496e+06     4507752.0   \n",
       "2    2019-01-03  1.652543e+07        2.427492e+06     2428782.0   \n",
       "3    2019-01-04  1.381037e+05        1.978600e+04           0.0   \n",
       "4    2019-01-06  1.854971e+07        3.025544e+06           0.0   \n",
       "5    2019-01-07  3.339545e+07        5.543534e+06     4648720.0   \n",
       "...         ...           ...                 ...           ...   \n",
       "1233 2022-12-28  3.660210e+07        4.590079e+06     2301364.0   \n",
       "1234 2022-12-29  9.597299e+06        2.434564e+06        2415.6   \n",
       "1235 2022-12-30  1.148950e+08        2.272949e+06         360.0   \n",
       "1236 2022-12-31  1.290664e+07        1.515365e+06           0.0   \n",
       "1237 2023-01-01  3.461623e+08        3.257413e+07      962244.0   \n",
       "\n",
       "      Std. Unit Rate ($/KG)   Price  Brent Oil Value  WTI Oil Value  \\\n",
       "1                  6.420416  2.6250            54.06          46.31   \n",
       "2                  9.079466  2.5705            53.23          46.92   \n",
       "3                  5.651829  2.6515            55.64          47.76   \n",
       "4               3947.152515  2.6515            55.64          47.76   \n",
       "5               3074.211012  2.6410            57.10          48.27   \n",
       "...                     ...     ...              ...            ...   \n",
       "1233               7.600228  3.8320            81.70          78.89   \n",
       "1234              13.516123  3.8210            80.96          78.43   \n",
       "1235             371.032957  3.8055            82.82          80.16   \n",
       "1236               8.285327  3.8055            82.82          80.16   \n",
       "1237              43.673350  3.8055            82.82          80.16   \n",
       "\n",
       "      ARIMA_Residuals  spikes  spikes_if  spikes_new  Price_binned  \n",
       "1        2.625000e+00       0          0           0           0.0  \n",
       "2       -5.450000e-02       0          0           0           0.0  \n",
       "3        8.100000e-02       0          0           0           0.0  \n",
       "4        2.039406e-09       0          0           0           0.0  \n",
       "5       -1.050000e-02       0          0           0           0.0  \n",
       "...               ...     ...        ...         ...           ...  \n",
       "1233    -5.630000e-01       0          0           0           3.0  \n",
       "1234    -5.740000e-01       0          0           0           3.0  \n",
       "1235    -5.895000e-01       0          0           0           3.0  \n",
       "1236    -5.895000e-01       0          0           0           3.0  \n",
       "1237              NaN       0          1           0           3.0  \n",
       "\n",
       "[1237 rows x 13 columns]"
      ]
     },
     "execution_count": 7,
     "metadata": {},
     "output_type": "execute_result"
    }
   ],
   "source": [
    "discretizer = KBinsDiscretizer(n_bins=5, encode='ordinal', strategy='uniform')\n",
    "\n",
    "aggregated_df['Price_binned'] = discretizer.fit_transform(aggregated_df[['Price']])\n",
    "aggregated_df"
   ]
  },
  {
   "cell_type": "code",
   "execution_count": 8,
   "metadata": {},
   "outputs": [
    {
     "data": {
      "image/png": "[encoded data removed]",
      "text/plain": [
       "<Figure size 1000x600 with 1 Axes>"
      ]
     },
     "metadata": {},
     "output_type": "display_data"
    }
   ],
   "source": [
    "import matplotlib.pyplot as plt\n",
    "\n",
    "# Assuming 'Price_binned' has been properly added to 'aggregated_df'\n",
    "# Count the frequency of each bin\n",
    "bin_counts = aggregated_df['Price_binned'].value_counts().sort_index()\n",
    "\n",
    "# Plotting\n",
    "plt.figure(figsize=(10, 6))\n",
    "bin_counts.plot(kind='bar', color='skyblue')\n",
    "plt.title('Distribution of Price Bins')\n",
    "plt.xlabel('Bin')\n",
    "plt.ylabel('Frequency')\n",
    "plt.xticks(rotation=0)  # Keep the x-axis labels horizontal\n",
    "plt.grid(axis='y', linestyle='--', alpha=0.7)\n",
    "\n",
    "plt.show()"
   ]
  },
  {
   "cell_type": "code",
   "execution_count": 9,
   "metadata": {},
   "outputs": [],
   "source": [
    "# TARGET_COLUMN = ['Price_binned']"
   ]
  },
  {
   "cell_type": "code",
   "execution_count": 10,
   "metadata": {},
   "outputs": [],
   "source": [
    "# Prepare price data\n",
    "# X_price, y_price = data_processing.prepare_features_and_target(aggregated_df, TARGET_COLUMN, 'spikes')\n",
    "X_price = np.array(tar_features)\n",
    "y_price = np.array(tar_labels)\n",
    "\n",
    "# Split price data\n",
    "X_train_price, X_test_price, y_train_price, y_test_price = train_test_split(X_price, y_price, test_size=0.3, random_state=RANDOM_STATE, shuffle=False)\n",
    "X_train_price, X_val_price, y_train_price, y_val_price = train_test_split(X_train_price, y_train_price, test_size=(10/70), random_state=RANDOM_STATE, shuffle=False)\n",
    "\n",
    "# Discretizing\n",
    "\n",
    "\n",
    "# Balancing\n",
    "X_train_price, y_train_price = sampler(random_state=RANDOM_STATE).fit_resample(X_train_price, y_train_price)\n",
    "\n",
    "# Scaling\n",
    "X_train_price, X_test_price, X_val_price = data_processing.scale_features(X_train_price, X_test_price, X_val_price)\n",
    "\n",
    "# Sequence making\n",
    "# X_train_price, y_train_price = data_processing.create_sequences(X_train_price, y_train_price, WINDOW_SIZE)\n",
    "# X_test_price, y_test_price = data_processing.create_sequences(X_test_price, y_test_price, WINDOW_SIZE)\n",
    "# X_val_price, y_val_price = data_processing.create_sequences(X_val_price, y_val_price, WINDOW_SIZE)\n",
    "\n",
    "\n",
    "X_train_price = np.expand_dims(X_train_price, axis = 2)\n",
    "X_test_price = np.expand_dims(X_test_price, axis = 2)\n",
    "X_val_price = np.expand_dims(X_val_price, axis = 2)"
   ]
  },
  {
   "cell_type": "code",
   "execution_count": 11,
   "metadata": {},
   "outputs": [
    {
     "name": "stdout",
     "output_type": "stream",
     "text": [
      "WARNING:tensorflow:From c:\\Users\\manim\\LabV2\\ONR-Price-Prediction\\onr_price_prediction\\venv\\Lib\\site-packages\\keras\\src\\utils\\tf_utils.py:492: The name tf.ragged.RaggedTensorValue is deprecated. Please use tf.compat.v1.ragged.RaggedTensorValue instead.\n",
      "\n",
      "12/12 [==============================] - 0s 4ms/step\n",
      "12/12 [==============================] - 0s 4ms/step\n",
      "Predictions saved to CSV file: copper/test/predictions/test/LSTM_256_layers_predictions.csv\n",
      "Predictions saved to NPY file: copper/test/predictions/test/LSTM_256_layers_predictions.npy\n",
      "Predictions saved to CSV file: copper/test/predictions/test_confidence/LSTM_256_layers_predictions.csv\n",
      "Predictions saved to NPY file: copper/test/predictions/test_confidence/LSTM_256_layers_predictions.npy\n",
      "{'Name': 'LSTM', 'Params': '256 layers', 'Accuracy': 0.4821917808219178, 'Precision (0)': 0.8241758241758241, 'Recall (0)': 0.48859934853420195, 'F1 (0)': 0.6134969325153374, 'Precision (1)': 0.14207650273224043, 'Recall (1)': 0.4482758620689655, 'F1 (1)': 0.21576763485477182, 'Prior': '0.16'}\n"
     ]
    },
    {
     "name": "stderr",
     "output_type": "stream",
     "text": [
      "c:\\Users\\manim\\LabV2\\ONR-Price-Prediction\\onr_price_prediction\\venv\\Lib\\site-packages\\keras\\src\\engine\\training.py:3103: UserWarning: You are saving your model as an HDF5 file via `model.save()`. This file format is considered legacy. We recommend using instead the native Keras format, e.g. `model.save('my_model.keras')`.\n",
      "  saving_api.save_model(\n"
     ]
    },
    {
     "name": "stdout",
     "output_type": "stream",
     "text": [
      "12/12 [==============================] - 0s 3ms/step\n",
      "12/12 [==============================] - 0s 3ms/step\n",
      "Predictions saved to CSV file: copper/test/predictions/test/LSTM_128_layers_predictions.csv\n",
      "Predictions saved to NPY file: copper/test/predictions/test/LSTM_128_layers_predictions.npy\n",
      "Predictions saved to CSV file: copper/test/predictions/test_confidence/LSTM_128_layers_predictions.csv\n",
      "Predictions saved to NPY file: copper/test/predictions/test_confidence/LSTM_128_layers_predictions.npy\n",
      "{'Name': 'LSTM', 'Params': '128 layers', 'Accuracy': 0.4849315068493151, 'Precision (0)': 0.825136612021858, 'Recall (0)': 0.49185667752442996, 'F1 (0)': 0.6163265306122448, 'Precision (1)': 0.14285714285714285, 'Recall (1)': 0.4482758620689655, 'F1 (1)': 0.21666666666666665, 'Prior': '0.16'}\n"
     ]
    },
    {
     "name": "stderr",
     "output_type": "stream",
     "text": [
      "c:\\Users\\manim\\LabV2\\ONR-Price-Prediction\\onr_price_prediction\\venv\\Lib\\site-packages\\keras\\src\\engine\\training.py:3103: UserWarning: You are saving your model as an HDF5 file via `model.save()`. This file format is considered legacy. We recommend using instead the native Keras format, e.g. `model.save('my_model.keras')`.\n",
      "  saving_api.save_model(\n"
     ]
    },
    {
     "name": "stdout",
     "output_type": "stream",
     "text": [
      "12/12 [==============================] - 0s 2ms/step\n",
      "12/12 [==============================] - 0s 2ms/step\n",
      "Predictions saved to CSV file: copper/test/predictions/test/LSTM_64_layers_predictions.csv\n",
      "Predictions saved to NPY file: copper/test/predictions/test/LSTM_64_layers_predictions.npy\n",
      "Predictions saved to CSV file: copper/test/predictions/test_confidence/LSTM_64_layers_predictions.csv\n",
      "Predictions saved to NPY file: copper/test/predictions/test_confidence/LSTM_64_layers_predictions.npy\n",
      "{'Name': 'LSTM', 'Params': '64 layers', 'Accuracy': 0.4136986301369863, 'Precision (0)': 0.8251748251748252, 'Recall (0)': 0.38436482084690554, 'F1 (0)': 0.5244444444444445, 'Precision (1)': 0.14864864864864866, 'Recall (1)': 0.5689655172413793, 'F1 (1)': 0.2357142857142857, 'Prior': '0.16'}\n"
     ]
    },
    {
     "name": "stderr",
     "output_type": "stream",
     "text": [
      "c:\\Users\\manim\\LabV2\\ONR-Price-Prediction\\onr_price_prediction\\venv\\Lib\\site-packages\\keras\\src\\engine\\training.py:3103: UserWarning: You are saving your model as an HDF5 file via `model.save()`. This file format is considered legacy. We recommend using instead the native Keras format, e.g. `model.save('my_model.keras')`.\n",
      "  saving_api.save_model(\n"
     ]
    },
    {
     "name": "stdout",
     "output_type": "stream",
     "text": [
      "12/12 [==============================] - 0s 1ms/step\n",
      "12/12 [==============================] - 0s 1ms/step\n",
      "Predictions saved to CSV file: copper/test/predictions/test/LSTM_32_layers_predictions.csv\n",
      "Predictions saved to NPY file: copper/test/predictions/test/LSTM_32_layers_predictions.npy\n",
      "Predictions saved to CSV file: copper/test/predictions/test_confidence/LSTM_32_layers_predictions.csv\n",
      "Predictions saved to NPY file: copper/test/predictions/test_confidence/LSTM_32_layers_predictions.npy\n",
      "{'Name': 'LSTM', 'Params': '32 layers', 'Accuracy': 0.8410958904109589, 'Precision (0)': 0.8410958904109589, 'Recall (0)': 1.0, 'F1 (0)': 0.9136904761904762, 'Precision (1)': 0.0, 'Recall (1)': 0.0, 'F1 (1)': 0.0, 'Prior': '0.16'}\n",
      "WARNING:tensorflow:From c:\\Users\\manim\\LabV2\\ONR-Price-Prediction\\onr_price_prediction\\venv\\Lib\\site-packages\\keras\\src\\backend.py:6642: The name tf.nn.max_pool is deprecated. Please use tf.nn.max_pool2d instead.\n",
      "\n"
     ]
    },
    {
     "name": "stderr",
     "output_type": "stream",
     "text": [
      "c:\\Users\\manim\\LabV2\\ONR-Price-Prediction\\onr_price_prediction\\venv\\Lib\\site-packages\\sklearn\\metrics\\_classification.py:1471: UndefinedMetricWarning: Precision and F-score are ill-defined and being set to 0.0 in labels with no predicted samples. Use `zero_division` parameter to control this behavior.\n",
      "  _warn_prf(average, modifier, msg_start, len(result))\n",
      "c:\\Users\\manim\\LabV2\\ONR-Price-Prediction\\onr_price_prediction\\venv\\Lib\\site-packages\\sklearn\\metrics\\_classification.py:1471: UndefinedMetricWarning: Precision and F-score are ill-defined and being set to 0.0 in labels with no predicted samples. Use `zero_division` parameter to control this behavior.\n",
      "  _warn_prf(average, modifier, msg_start, len(result))\n",
      "c:\\Users\\manim\\LabV2\\ONR-Price-Prediction\\onr_price_prediction\\venv\\Lib\\site-packages\\sklearn\\metrics\\_classification.py:1471: UndefinedMetricWarning: Precision and F-score are ill-defined and being set to 0.0 in labels with no predicted samples. Use `zero_division` parameter to control this behavior.\n",
      "  _warn_prf(average, modifier, msg_start, len(result))\n",
      "c:\\Users\\manim\\LabV2\\ONR-Price-Prediction\\onr_price_prediction\\venv\\Lib\\site-packages\\keras\\src\\engine\\training.py:3103: UserWarning: You are saving your model as an HDF5 file via `model.save()`. This file format is considered legacy. We recommend using instead the native Keras format, e.g. `model.save('my_model.keras')`.\n",
      "  saving_api.save_model(\n"
     ]
    },
    {
     "name": "stdout",
     "output_type": "stream",
     "text": [
      "WARNING:tensorflow:From c:\\Users\\manim\\LabV2\\ONR-Price-Prediction\\onr_price_prediction\\venv\\Lib\\site-packages\\keras\\src\\engine\\base_layer_utils.py:384: The name tf.executing_eagerly_outside_functions is deprecated. Please use tf.compat.v1.executing_eagerly_outside_functions instead.\n",
      "\n",
      "12/12 [==============================] - 0s 1ms/step\n",
      "Predictions saved to CSV file: copper/test/predictions/test/CNN_Attention_32_filters_7_kernels_predictions.csv\n",
      "Predictions saved to NPY file: copper/test/predictions/test/CNN_Attention_32_filters_7_kernels_predictions.npy\n",
      "Predictions saved to CSV file: copper/test/predictions/test_confidence/CNN_Attention_32_filters_7_kernels_predictions.csv\n",
      "Predictions saved to NPY file: copper/test/predictions/test_confidence/CNN_Attention_32_filters_7_kernels_predictions.npy\n",
      "CNN_Attention_32_filters_7_kernels {'Name': 'CNN with Attention', 'Params': '32 filters, kernel size 7', 'Accuracy': 0.5287671232876713, 'Precision (0)': 0.8325123152709359, 'Recall (0)': 0.5504885993485342, 'F1 (0)': 0.6627450980392157, 'Precision (1)': 0.14814814814814814, 'Recall (1)': 0.41379310344827586, 'F1 (1)': 0.2181818181818182, 'Prior': '0.16'}\n"
     ]
    },
    {
     "name": "stderr",
     "output_type": "stream",
     "text": [
      "c:\\Users\\manim\\LabV2\\ONR-Price-Prediction\\onr_price_prediction\\venv\\Lib\\site-packages\\keras\\src\\engine\\training.py:3103: UserWarning: You are saving your model as an HDF5 file via `model.save()`. This file format is considered legacy. We recommend using instead the native Keras format, e.g. `model.save('my_model.keras')`.\n",
      "  saving_api.save_model(\n"
     ]
    },
    {
     "name": "stdout",
     "output_type": "stream",
     "text": [
      "12/12 [==============================] - 0s 1ms/step\n",
      "Predictions saved to CSV file: copper/test/predictions/test/CNN_Attention_32_filters_5_kernels_predictions.csv\n",
      "Predictions saved to NPY file: copper/test/predictions/test/CNN_Attention_32_filters_5_kernels_predictions.npy\n",
      "Predictions saved to CSV file: copper/test/predictions/test_confidence/CNN_Attention_32_filters_5_kernels_predictions.csv\n",
      "Predictions saved to NPY file: copper/test/predictions/test_confidence/CNN_Attention_32_filters_5_kernels_predictions.npy\n",
      "CNN_Attention_32_filters_5_kernels {'Name': 'CNN with Attention', 'Params': '32 filters, kernel size 5', 'Accuracy': 0.5780821917808219, 'Precision (0)': 0.8370044052863436, 'Recall (0)': 0.6188925081433225, 'F1 (0)': 0.7116104868913857, 'Precision (1)': 0.15217391304347827, 'Recall (1)': 0.3620689655172414, 'F1 (1)': 0.21428571428571433, 'Prior': '0.16'}\n"
     ]
    },
    {
     "name": "stderr",
     "output_type": "stream",
     "text": [
      "c:\\Users\\manim\\LabV2\\ONR-Price-Prediction\\onr_price_prediction\\venv\\Lib\\site-packages\\keras\\src\\engine\\training.py:3103: UserWarning: You are saving your model as an HDF5 file via `model.save()`. This file format is considered legacy. We recommend using instead the native Keras format, e.g. `model.save('my_model.keras')`.\n",
      "  saving_api.save_model(\n"
     ]
    },
    {
     "name": "stdout",
     "output_type": "stream",
     "text": [
      "12/12 [==============================] - 0s 1ms/step\n",
      "Predictions saved to CSV file: copper/test/predictions/test/CNN_Attention_32_filters_3_kernels_predictions.csv\n",
      "Predictions saved to NPY file: copper/test/predictions/test/CNN_Attention_32_filters_3_kernels_predictions.npy\n",
      "Predictions saved to CSV file: copper/test/predictions/test_confidence/CNN_Attention_32_filters_3_kernels_predictions.csv\n",
      "Predictions saved to NPY file: copper/test/predictions/test_confidence/CNN_Attention_32_filters_3_kernels_predictions.npy\n",
      "CNN_Attention_32_filters_3_kernels {'Name': 'CNN with Attention', 'Params': '32 filters, kernel size 3', 'Accuracy': 0.6164383561643836, 'Precision (0)': 0.8408163265306122, 'Recall (0)': 0.6710097719869706, 'F1 (0)': 0.7463768115942028, 'Precision (1)': 0.15833333333333333, 'Recall (1)': 0.3275862068965517, 'F1 (1)': 0.21348314606741572, 'Prior': '0.16'}\n"
     ]
    },
    {
     "name": "stderr",
     "output_type": "stream",
     "text": [
      "c:\\Users\\manim\\LabV2\\ONR-Price-Prediction\\onr_price_prediction\\venv\\Lib\\site-packages\\keras\\src\\engine\\training.py:3103: UserWarning: You are saving your model as an HDF5 file via `model.save()`. This file format is considered legacy. We recommend using instead the native Keras format, e.g. `model.save('my_model.keras')`.\n",
      "  saving_api.save_model(\n"
     ]
    },
    {
     "name": "stdout",
     "output_type": "stream",
     "text": [
      "12/12 [==============================] - 0s 1ms/step\n",
      "Predictions saved to CSV file: copper/test/predictions/test/CNN_Attention_64_filters_7_kernels_predictions.csv\n",
      "Predictions saved to NPY file: copper/test/predictions/test/CNN_Attention_64_filters_7_kernels_predictions.npy\n",
      "Predictions saved to CSV file: copper/test/predictions/test_confidence/CNN_Attention_64_filters_7_kernels_predictions.csv\n",
      "Predictions saved to NPY file: copper/test/predictions/test_confidence/CNN_Attention_64_filters_7_kernels_predictions.npy\n",
      "CNN_Attention_64_filters_7_kernels {'Name': 'CNN with Attention', 'Params': '64 filters, kernel size 7', 'Accuracy': 0.6356164383561644, 'Precision (0)': 0.8346153846153846, 'Recall (0)': 0.7068403908794788, 'F1 (0)': 0.7654320987654321, 'Precision (1)': 0.14285714285714285, 'Recall (1)': 0.25862068965517243, 'F1 (1)': 0.18404907975460125, 'Prior': '0.16'}\n"
     ]
    },
    {
     "name": "stderr",
     "output_type": "stream",
     "text": [
      "c:\\Users\\manim\\LabV2\\ONR-Price-Prediction\\onr_price_prediction\\venv\\Lib\\site-packages\\keras\\src\\engine\\training.py:3103: UserWarning: You are saving your model as an HDF5 file via `model.save()`. This file format is considered legacy. We recommend using instead the native Keras format, e.g. `model.save('my_model.keras')`.\n",
      "  saving_api.save_model(\n"
     ]
    },
    {
     "name": "stdout",
     "output_type": "stream",
     "text": [
      "12/12 [==============================] - 0s 1ms/step\n",
      "Predictions saved to CSV file: copper/test/predictions/test/CNN_Attention_64_filters_5_kernels_predictions.csv\n",
      "Predictions saved to NPY file: copper/test/predictions/test/CNN_Attention_64_filters_5_kernels_predictions.npy\n",
      "Predictions saved to CSV file: copper/test/predictions/test_confidence/CNN_Attention_64_filters_5_kernels_predictions.csv\n",
      "Predictions saved to NPY file: copper/test/predictions/test_confidence/CNN_Attention_64_filters_5_kernels_predictions.npy\n",
      "CNN_Attention_64_filters_5_kernels {'Name': 'CNN with Attention', 'Params': '64 filters, kernel size 5', 'Accuracy': 0.6082191780821918, 'Precision (0)': 0.8416666666666667, 'Recall (0)': 0.6579804560260586, 'F1 (0)': 0.7385740402193783, 'Precision (1)': 0.16, 'Recall (1)': 0.3448275862068966, 'F1 (1)': 0.2185792349726776, 'Prior': '0.16'}\n"
     ]
    },
    {
     "name": "stderr",
     "output_type": "stream",
     "text": [
      "c:\\Users\\manim\\LabV2\\ONR-Price-Prediction\\onr_price_prediction\\venv\\Lib\\site-packages\\keras\\src\\engine\\training.py:3103: UserWarning: You are saving your model as an HDF5 file via `model.save()`. This file format is considered legacy. We recommend using instead the native Keras format, e.g. `model.save('my_model.keras')`.\n",
      "  saving_api.save_model(\n"
     ]
    },
    {
     "name": "stdout",
     "output_type": "stream",
     "text": [
      "12/12 [==============================] - 0s 1ms/step\n",
      "Predictions saved to CSV file: copper/test/predictions/test/CNN_Attention_64_filters_3_kernels_predictions.csv\n",
      "Predictions saved to NPY file: copper/test/predictions/test/CNN_Attention_64_filters_3_kernels_predictions.npy\n",
      "Predictions saved to CSV file: copper/test/predictions/test_confidence/CNN_Attention_64_filters_3_kernels_predictions.csv\n",
      "Predictions saved to NPY file: copper/test/predictions/test_confidence/CNN_Attention_64_filters_3_kernels_predictions.npy\n",
      "CNN_Attention_64_filters_3_kernels {'Name': 'CNN with Attention', 'Params': '64 filters, kernel size 3', 'Accuracy': 0.6164383561643836, 'Precision (0)': 0.8353413654618473, 'Recall (0)': 0.6775244299674267, 'F1 (0)': 0.7482014388489208, 'Precision (1)': 0.14655172413793102, 'Recall (1)': 0.29310344827586204, 'F1 (1)': 0.1954022988505747, 'Prior': '0.16'}\n"
     ]
    },
    {
     "name": "stderr",
     "output_type": "stream",
     "text": [
      "c:\\Users\\manim\\LabV2\\ONR-Price-Prediction\\onr_price_prediction\\venv\\Lib\\site-packages\\keras\\src\\engine\\training.py:3103: UserWarning: You are saving your model as an HDF5 file via `model.save()`. This file format is considered legacy. We recommend using instead the native Keras format, e.g. `model.save('my_model.keras')`.\n",
      "  saving_api.save_model(\n"
     ]
    },
    {
     "name": "stdout",
     "output_type": "stream",
     "text": [
      "12/12 [==============================] - 0s 1ms/step\n",
      "Predictions saved to CSV file: copper/test/predictions/test/CNN_Attention_128_filters_7_kernels_predictions.csv\n",
      "Predictions saved to NPY file: copper/test/predictions/test/CNN_Attention_128_filters_7_kernels_predictions.npy\n",
      "Predictions saved to CSV file: copper/test/predictions/test_confidence/CNN_Attention_128_filters_7_kernels_predictions.csv\n",
      "Predictions saved to NPY file: copper/test/predictions/test_confidence/CNN_Attention_128_filters_7_kernels_predictions.npy\n",
      "CNN_Attention_128_filters_7_kernels {'Name': 'CNN with Attention', 'Params': '128 filters, kernel size 7', 'Accuracy': 0.5698630136986301, 'Precision (0)': 0.8289473684210527, 'Recall (0)': 0.6156351791530945, 'F1 (0)': 0.7065420560747664, 'Precision (1)': 0.1386861313868613, 'Recall (1)': 0.3275862068965517, 'F1 (1)': 0.19487179487179487, 'Prior': '0.16'}\n"
     ]
    },
    {
     "name": "stderr",
     "output_type": "stream",
     "text": [
      "c:\\Users\\manim\\LabV2\\ONR-Price-Prediction\\onr_price_prediction\\venv\\Lib\\site-packages\\keras\\src\\engine\\training.py:3103: UserWarning: You are saving your model as an HDF5 file via `model.save()`. This file format is considered legacy. We recommend using instead the native Keras format, e.g. `model.save('my_model.keras')`.\n",
      "  saving_api.save_model(\n"
     ]
    },
    {
     "name": "stdout",
     "output_type": "stream",
     "text": [
      "12/12 [==============================] - 0s 1ms/step\n",
      "Predictions saved to CSV file: copper/test/predictions/test/CNN_Attention_128_filters_5_kernels_predictions.csv\n",
      "Predictions saved to NPY file: copper/test/predictions/test/CNN_Attention_128_filters_5_kernels_predictions.npy\n",
      "Predictions saved to CSV file: copper/test/predictions/test_confidence/CNN_Attention_128_filters_5_kernels_predictions.csv\n",
      "Predictions saved to NPY file: copper/test/predictions/test_confidence/CNN_Attention_128_filters_5_kernels_predictions.npy\n",
      "CNN_Attention_128_filters_5_kernels {'Name': 'CNN with Attention', 'Params': '128 filters, kernel size 5', 'Accuracy': 0.5671232876712329, 'Precision (0)': 0.8401826484018264, 'Recall (0)': 0.5993485342019544, 'F1 (0)': 0.6996197718631179, 'Precision (1)': 0.15753424657534246, 'Recall (1)': 0.39655172413793105, 'F1 (1)': 0.22549019607843138, 'Prior': '0.16'}\n"
     ]
    },
    {
     "name": "stderr",
     "output_type": "stream",
     "text": [
      "c:\\Users\\manim\\LabV2\\ONR-Price-Prediction\\onr_price_prediction\\venv\\Lib\\site-packages\\keras\\src\\engine\\training.py:3103: UserWarning: You are saving your model as an HDF5 file via `model.save()`. This file format is considered legacy. We recommend using instead the native Keras format, e.g. `model.save('my_model.keras')`.\n",
      "  saving_api.save_model(\n"
     ]
    },
    {
     "name": "stdout",
     "output_type": "stream",
     "text": [
      "12/12 [==============================] - 0s 2ms/step\n",
      "Predictions saved to CSV file: copper/test/predictions/test/CNN_Attention_128_filters_3_kernels_predictions.csv\n",
      "Predictions saved to NPY file: copper/test/predictions/test/CNN_Attention_128_filters_3_kernels_predictions.npy\n",
      "Predictions saved to CSV file: copper/test/predictions/test_confidence/CNN_Attention_128_filters_3_kernels_predictions.csv\n",
      "Predictions saved to NPY file: copper/test/predictions/test_confidence/CNN_Attention_128_filters_3_kernels_predictions.npy\n",
      "CNN_Attention_128_filters_3_kernels {'Name': 'CNN with Attention', 'Params': '128 filters, kernel size 3', 'Accuracy': 0.589041095890411, 'Precision (0)': 0.8204081632653061, 'Recall (0)': 0.6547231270358306, 'F1 (0)': 0.7282608695652174, 'Precision (1)': 0.11666666666666667, 'Recall (1)': 0.2413793103448276, 'F1 (1)': 0.15730337078651688, 'Prior': '0.16'}\n"
     ]
    },
    {
     "name": "stderr",
     "output_type": "stream",
     "text": [
      "c:\\Users\\manim\\LabV2\\ONR-Price-Prediction\\onr_price_prediction\\venv\\Lib\\site-packages\\keras\\src\\engine\\training.py:3103: UserWarning: You are saving your model as an HDF5 file via `model.save()`. This file format is considered legacy. We recommend using instead the native Keras format, e.g. `model.save('my_model.keras')`.\n",
      "  saving_api.save_model(\n"
     ]
    },
    {
     "name": "stdout",
     "output_type": "stream",
     "text": [
      "12/12 [==============================] - 0s 2ms/step\n",
      "Predictions saved to CSV file: copper/test/predictions/test/CNN_Attention_256_filters_7_kernels_predictions.csv\n",
      "Predictions saved to NPY file: copper/test/predictions/test/CNN_Attention_256_filters_7_kernels_predictions.npy\n",
      "Predictions saved to CSV file: copper/test/predictions/test_confidence/CNN_Attention_256_filters_7_kernels_predictions.csv\n",
      "Predictions saved to NPY file: copper/test/predictions/test_confidence/CNN_Attention_256_filters_7_kernels_predictions.npy\n",
      "CNN_Attention_256_filters_7_kernels {'Name': 'CNN with Attention', 'Params': '256 filters, kernel size 7', 'Accuracy': 0.5780821917808219, 'Precision (0)': 0.8311688311688312, 'Recall (0)': 0.6254071661237784, 'F1 (0)': 0.7137546468401486, 'Precision (1)': 0.1417910447761194, 'Recall (1)': 0.3275862068965517, 'F1 (1)': 0.19791666666666669, 'Prior': '0.16'}\n"
     ]
    },
    {
     "name": "stderr",
     "output_type": "stream",
     "text": [
      "c:\\Users\\manim\\LabV2\\ONR-Price-Prediction\\onr_price_prediction\\venv\\Lib\\site-packages\\keras\\src\\engine\\training.py:3103: UserWarning: You are saving your model as an HDF5 file via `model.save()`. This file format is considered legacy. We recommend using instead the native Keras format, e.g. `model.save('my_model.keras')`.\n",
      "  saving_api.save_model(\n"
     ]
    },
    {
     "name": "stdout",
     "output_type": "stream",
     "text": [
      "12/12 [==============================] - 0s 1ms/step\n",
      "Predictions saved to CSV file: copper/test/predictions/test/CNN_Attention_256_filters_5_kernels_predictions.csv\n",
      "Predictions saved to NPY file: copper/test/predictions/test/CNN_Attention_256_filters_5_kernels_predictions.npy\n",
      "Predictions saved to CSV file: copper/test/predictions/test_confidence/CNN_Attention_256_filters_5_kernels_predictions.csv\n",
      "Predictions saved to NPY file: copper/test/predictions/test_confidence/CNN_Attention_256_filters_5_kernels_predictions.npy\n",
      "CNN_Attention_256_filters_5_kernels {'Name': 'CNN with Attention', 'Params': '256 filters, kernel size 5', 'Accuracy': 0.663013698630137, 'Precision (0)': 0.8357664233576643, 'Recall (0)': 0.745928338762215, 'F1 (0)': 0.7882960413080895, 'Precision (1)': 0.14285714285714285, 'Recall (1)': 0.22413793103448276, 'F1 (1)': 0.17449664429530198, 'Prior': '0.16'}\n"
     ]
    },
    {
     "name": "stderr",
     "output_type": "stream",
     "text": [
      "c:\\Users\\manim\\LabV2\\ONR-Price-Prediction\\onr_price_prediction\\venv\\Lib\\site-packages\\keras\\src\\engine\\training.py:3103: UserWarning: You are saving your model as an HDF5 file via `model.save()`. This file format is considered legacy. We recommend using instead the native Keras format, e.g. `model.save('my_model.keras')`.\n",
      "  saving_api.save_model(\n"
     ]
    },
    {
     "name": "stdout",
     "output_type": "stream",
     "text": [
      "12/12 [==============================] - 0s 1ms/step\n",
      "Predictions saved to CSV file: copper/test/predictions/test/CNN_Attention_256_filters_3_kernels_predictions.csv\n",
      "Predictions saved to NPY file: copper/test/predictions/test/CNN_Attention_256_filters_3_kernels_predictions.npy\n",
      "Predictions saved to CSV file: copper/test/predictions/test_confidence/CNN_Attention_256_filters_3_kernels_predictions.csv\n",
      "Predictions saved to NPY file: copper/test/predictions/test_confidence/CNN_Attention_256_filters_3_kernels_predictions.npy\n",
      "CNN_Attention_256_filters_3_kernels {'Name': 'CNN with Attention', 'Params': '256 filters, kernel size 3', 'Accuracy': 0.5863013698630137, 'Precision (0)': 0.8451327433628318, 'Recall (0)': 0.6221498371335505, 'F1 (0)': 0.7166979362101313, 'Precision (1)': 0.16546762589928057, 'Recall (1)': 0.39655172413793105, 'F1 (1)': 0.23350253807106602, 'Prior': '0.16'}\n"
     ]
    },
    {
     "name": "stderr",
     "output_type": "stream",
     "text": [
      "c:\\Users\\manim\\LabV2\\ONR-Price-Prediction\\onr_price_prediction\\venv\\Lib\\site-packages\\keras\\src\\engine\\training.py:3103: UserWarning: You are saving your model as an HDF5 file via `model.save()`. This file format is considered legacy. We recommend using instead the native Keras format, e.g. `model.save('my_model.keras')`.\n",
      "  saving_api.save_model(\n"
     ]
    },
    {
     "name": "stdout",
     "output_type": "stream",
     "text": [
      "12/12 [==============================] - 0s 2ms/step\n",
      "12/12 [==============================] - 0s 2ms/step\n",
      "Predictions saved to CSV file: copper/test/predictions/test/RNN_256_units_predictions.csv\n",
      "Predictions saved to NPY file: copper/test/predictions/test/RNN_256_units_predictions.npy\n",
      "Predictions saved to CSV file: copper/test/predictions/test_confidence/RNN_256_units_predictions.csv\n",
      "Predictions saved to NPY file: copper/test/predictions/test_confidence/RNN_256_units_predictions.npy\n",
      "RNN_256_units: {'Name': 'RNN', 'Params': '256 units', 'Accuracy': 0.6082191780821918, 'Precision (0)': 0.8333333333333334, 'Recall (0)': 0.6677524429967426, 'F1 (0)': 0.7414104882459314, 'Precision (1)': 0.14285714285714285, 'Recall (1)': 0.29310344827586204, 'F1 (1)': 0.192090395480226, 'Prior': '0.16'}\n"
     ]
    },
    {
     "name": "stderr",
     "output_type": "stream",
     "text": [
      "c:\\Users\\manim\\LabV2\\ONR-Price-Prediction\\onr_price_prediction\\venv\\Lib\\site-packages\\keras\\src\\engine\\training.py:3103: UserWarning: You are saving your model as an HDF5 file via `model.save()`. This file format is considered legacy. We recommend using instead the native Keras format, e.g. `model.save('my_model.keras')`.\n",
      "  saving_api.save_model(\n"
     ]
    },
    {
     "name": "stdout",
     "output_type": "stream",
     "text": [
      "12/12 [==============================] - 0s 1ms/step\n",
      "12/12 [==============================] - 0s 1ms/step\n",
      "Predictions saved to CSV file: copper/test/predictions/test/RNN_128_units_predictions.csv\n",
      "Predictions saved to NPY file: copper/test/predictions/test/RNN_128_units_predictions.npy\n",
      "Predictions saved to CSV file: copper/test/predictions/test_confidence/RNN_128_units_predictions.csv\n",
      "Predictions saved to NPY file: copper/test/predictions/test_confidence/RNN_128_units_predictions.npy\n",
      "RNN_128_units: {'Name': 'RNN', 'Params': '128 units', 'Accuracy': 0.5534246575342465, 'Precision (0)': 0.8272727272727273, 'Recall (0)': 0.5928338762214984, 'F1 (0)': 0.6907020872865275, 'Precision (1)': 0.13793103448275862, 'Recall (1)': 0.3448275862068966, 'F1 (1)': 0.19704433497536947, 'Prior': '0.16'}\n"
     ]
    },
    {
     "name": "stderr",
     "output_type": "stream",
     "text": [
      "c:\\Users\\manim\\LabV2\\ONR-Price-Prediction\\onr_price_prediction\\venv\\Lib\\site-packages\\keras\\src\\engine\\training.py:3103: UserWarning: You are saving your model as an HDF5 file via `model.save()`. This file format is considered legacy. We recommend using instead the native Keras format, e.g. `model.save('my_model.keras')`.\n",
      "  saving_api.save_model(\n"
     ]
    },
    {
     "name": "stdout",
     "output_type": "stream",
     "text": [
      "12/12 [==============================] - 0s 1ms/step\n",
      "12/12 [==============================] - 0s 1ms/step\n",
      "Predictions saved to CSV file: copper/test/predictions/test/RNN_64_units_predictions.csv\n",
      "Predictions saved to NPY file: copper/test/predictions/test/RNN_64_units_predictions.npy\n",
      "Predictions saved to CSV file: copper/test/predictions/test_confidence/RNN_64_units_predictions.csv\n",
      "Predictions saved to NPY file: copper/test/predictions/test_confidence/RNN_64_units_predictions.npy\n",
      "RNN_64_units: {'Name': 'RNN', 'Params': '64 units', 'Accuracy': 0.7479452054794521, 'Precision (0)': 0.8524590163934426, 'Recall (0)': 0.8469055374592834, 'F1 (0)': 0.8496732026143791, 'Precision (1)': 0.21666666666666667, 'Recall (1)': 0.22413793103448276, 'F1 (1)': 0.22033898305084748, 'Prior': '0.16'}\n"
     ]
    },
    {
     "name": "stderr",
     "output_type": "stream",
     "text": [
      "c:\\Users\\manim\\LabV2\\ONR-Price-Prediction\\onr_price_prediction\\venv\\Lib\\site-packages\\keras\\src\\engine\\training.py:3103: UserWarning: You are saving your model as an HDF5 file via `model.save()`. This file format is considered legacy. We recommend using instead the native Keras format, e.g. `model.save('my_model.keras')`.\n",
      "  saving_api.save_model(\n"
     ]
    },
    {
     "name": "stdout",
     "output_type": "stream",
     "text": [
      "12/12 [==============================] - 0s 1ms/step\n",
      "12/12 [==============================] - 0s 1ms/step\n",
      "Predictions saved to CSV file: copper/test/predictions/test/RNN_32_units_predictions.csv\n",
      "Predictions saved to NPY file: copper/test/predictions/test/RNN_32_units_predictions.npy\n",
      "Predictions saved to CSV file: copper/test/predictions/test_confidence/RNN_32_units_predictions.csv\n",
      "Predictions saved to NPY file: copper/test/predictions/test_confidence/RNN_32_units_predictions.npy\n",
      "RNN_32_units: {'Name': 'RNN', 'Params': '32 units', 'Accuracy': 0.25753424657534246, 'Precision (0)': 0.6956521739130435, 'Recall (0)': 0.20846905537459284, 'F1 (0)': 0.3208020050125313, 'Precision (1)': 0.10989010989010989, 'Recall (1)': 0.5172413793103449, 'F1 (1)': 0.1812688821752266, 'Prior': '0.16'}\n"
     ]
    },
    {
     "name": "stderr",
     "output_type": "stream",
     "text": [
      "c:\\Users\\manim\\LabV2\\ONR-Price-Prediction\\onr_price_prediction\\venv\\Lib\\site-packages\\keras\\src\\engine\\training.py:3103: UserWarning: You are saving your model as an HDF5 file via `model.save()`. This file format is considered legacy. We recommend using instead the native Keras format, e.g. `model.save('my_model.keras')`.\n",
      "  saving_api.save_model(\n"
     ]
    },
    {
     "name": "stdout",
     "output_type": "stream",
     "text": [
      "12/12 [==============================] - 0s 889us/step\n",
      "12/12 [==============================] - 0s 941us/step\n",
      "Predictions saved to CSV file: copper/test/predictions/test/CNN_32_filters_7_kernels_predictions.csv\n",
      "Predictions saved to NPY file: copper/test/predictions/test/CNN_32_filters_7_kernels_predictions.npy\n",
      "Predictions saved to CSV file: copper/test/predictions/test_confidence/CNN_32_filters_7_kernels_predictions.csv\n",
      "Predictions saved to NPY file: copper/test/predictions/test_confidence/CNN_32_filters_7_kernels_predictions.npy\n",
      "CNN_32_filters_7_kernels {'Name': 'CNN', 'Params': '32 filters, kernel size 7', 'Accuracy': 0.5753424657534246, 'Precision (0)': 0.8392857142857143, 'Recall (0)': 0.6123778501628665, 'F1 (0)': 0.7080979284369116, 'Precision (1)': 0.15602836879432624, 'Recall (1)': 0.3793103448275862, 'F1 (1)': 0.22110552763819094, 'Prior': '0.16'}\n"
     ]
    },
    {
     "name": "stderr",
     "output_type": "stream",
     "text": [
      "c:\\Users\\manim\\LabV2\\ONR-Price-Prediction\\onr_price_prediction\\venv\\Lib\\site-packages\\keras\\src\\engine\\training.py:3103: UserWarning: You are saving your model as an HDF5 file via `model.save()`. This file format is considered legacy. We recommend using instead the native Keras format, e.g. `model.save('my_model.keras')`.\n",
      "  saving_api.save_model(\n"
     ]
    },
    {
     "name": "stdout",
     "output_type": "stream",
     "text": [
      "12/12 [==============================] - 0s 898us/step\n",
      "12/12 [==============================] - 0s 942us/step\n",
      "Predictions saved to CSV file: copper/test/predictions/test/CNN_32_filters_5_kernels_predictions.csv\n",
      "Predictions saved to NPY file: copper/test/predictions/test/CNN_32_filters_5_kernels_predictions.npy\n",
      "Predictions saved to CSV file: copper/test/predictions/test_confidence/CNN_32_filters_5_kernels_predictions.csv\n",
      "Predictions saved to NPY file: copper/test/predictions/test_confidence/CNN_32_filters_5_kernels_predictions.npy\n",
      "CNN_32_filters_5_kernels {'Name': 'CNN', 'Params': '32 filters, kernel size 5', 'Accuracy': 0.5123287671232877, 'Precision (0)': 0.8241206030150754, 'Recall (0)': 0.5342019543973942, 'F1 (0)': 0.6482213438735178, 'Precision (1)': 0.13855421686746988, 'Recall (1)': 0.39655172413793105, 'F1 (1)': 0.20535714285714288, 'Prior': '0.16'}\n"
     ]
    },
    {
     "name": "stderr",
     "output_type": "stream",
     "text": [
      "c:\\Users\\manim\\LabV2\\ONR-Price-Prediction\\onr_price_prediction\\venv\\Lib\\site-packages\\keras\\src\\engine\\training.py:3103: UserWarning: You are saving your model as an HDF5 file via `model.save()`. This file format is considered legacy. We recommend using instead the native Keras format, e.g. `model.save('my_model.keras')`.\n",
      "  saving_api.save_model(\n"
     ]
    },
    {
     "name": "stdout",
     "output_type": "stream",
     "text": [
      "12/12 [==============================] - 0s 871us/step\n",
      "12/12 [==============================] - 0s 874us/step\n",
      "Predictions saved to CSV file: copper/test/predictions/test/CNN_32_filters_3_kernels_predictions.csv\n",
      "Predictions saved to NPY file: copper/test/predictions/test/CNN_32_filters_3_kernels_predictions.npy\n",
      "Predictions saved to CSV file: copper/test/predictions/test_confidence/CNN_32_filters_3_kernels_predictions.csv\n",
      "Predictions saved to NPY file: copper/test/predictions/test_confidence/CNN_32_filters_3_kernels_predictions.npy\n",
      "CNN_32_filters_3_kernels {'Name': 'CNN', 'Params': '32 filters, kernel size 3', 'Accuracy': 0.5589041095890411, 'Precision (0)': 0.8318181818181818, 'Recall (0)': 0.5960912052117264, 'F1 (0)': 0.6944971537001897, 'Precision (1)': 0.14482758620689656, 'Recall (1)': 0.3620689655172414, 'F1 (1)': 0.20689655172413793, 'Prior': '0.16'}\n"
     ]
    },
    {
     "name": "stderr",
     "output_type": "stream",
     "text": [
      "c:\\Users\\manim\\LabV2\\ONR-Price-Prediction\\onr_price_prediction\\venv\\Lib\\site-packages\\keras\\src\\engine\\training.py:3103: UserWarning: You are saving your model as an HDF5 file via `model.save()`. This file format is considered legacy. We recommend using instead the native Keras format, e.g. `model.save('my_model.keras')`.\n",
      "  saving_api.save_model(\n"
     ]
    },
    {
     "name": "stdout",
     "output_type": "stream",
     "text": [
      "12/12 [==============================] - 0s 1ms/step\n",
      "12/12 [==============================] - 0s 1ms/step\n",
      "Predictions saved to CSV file: copper/test/predictions/test/CNN_64_filters_7_kernels_predictions.csv\n",
      "Predictions saved to NPY file: copper/test/predictions/test/CNN_64_filters_7_kernels_predictions.npy\n",
      "Predictions saved to CSV file: copper/test/predictions/test_confidence/CNN_64_filters_7_kernels_predictions.csv\n",
      "Predictions saved to NPY file: copper/test/predictions/test_confidence/CNN_64_filters_7_kernels_predictions.npy\n",
      "CNN_64_filters_7_kernels {'Name': 'CNN', 'Params': '64 filters, kernel size 7', 'Accuracy': 0.5123287671232877, 'Precision (0)': 0.8341968911917098, 'Recall (0)': 0.5244299674267101, 'F1 (0)': 0.6439999999999999, 'Precision (1)': 0.1511627906976744, 'Recall (1)': 0.4482758620689655, 'F1 (1)': 0.22608695652173907, 'Prior': '0.16'}\n"
     ]
    },
    {
     "name": "stderr",
     "output_type": "stream",
     "text": [
      "c:\\Users\\manim\\LabV2\\ONR-Price-Prediction\\onr_price_prediction\\venv\\Lib\\site-packages\\keras\\src\\engine\\training.py:3103: UserWarning: You are saving your model as an HDF5 file via `model.save()`. This file format is considered legacy. We recommend using instead the native Keras format, e.g. `model.save('my_model.keras')`.\n",
      "  saving_api.save_model(\n"
     ]
    },
    {
     "name": "stdout",
     "output_type": "stream",
     "text": [
      "12/12 [==============================] - 0s 864us/step\n",
      "12/12 [==============================] - 0s 697us/step\n",
      "Predictions saved to CSV file: copper/test/predictions/test/CNN_64_filters_5_kernels_predictions.csv\n",
      "Predictions saved to NPY file: copper/test/predictions/test/CNN_64_filters_5_kernels_predictions.npy\n",
      "Predictions saved to CSV file: copper/test/predictions/test_confidence/CNN_64_filters_5_kernels_predictions.csv\n",
      "Predictions saved to NPY file: copper/test/predictions/test_confidence/CNN_64_filters_5_kernels_predictions.npy\n",
      "CNN_64_filters_5_kernels {'Name': 'CNN', 'Params': '64 filters, kernel size 5', 'Accuracy': 0.5643835616438356, 'Precision (0)': 0.8363636363636363, 'Recall (0)': 0.5993485342019544, 'F1 (0)': 0.6982922201138521, 'Precision (1)': 0.15172413793103448, 'Recall (1)': 0.3793103448275862, 'F1 (1)': 0.21674876847290642, 'Prior': '0.16'}\n"
     ]
    },
    {
     "name": "stderr",
     "output_type": "stream",
     "text": [
      "c:\\Users\\manim\\LabV2\\ONR-Price-Prediction\\onr_price_prediction\\venv\\Lib\\site-packages\\keras\\src\\engine\\training.py:3103: UserWarning: You are saving your model as an HDF5 file via `model.save()`. This file format is considered legacy. We recommend using instead the native Keras format, e.g. `model.save('my_model.keras')`.\n",
      "  saving_api.save_model(\n"
     ]
    },
    {
     "name": "stdout",
     "output_type": "stream",
     "text": [
      "12/12 [==============================] - 0s 892us/step\n",
      "12/12 [==============================] - 0s 554us/step\n",
      "Predictions saved to CSV file: copper/test/predictions/test/CNN_64_filters_3_kernels_predictions.csv\n",
      "Predictions saved to NPY file: copper/test/predictions/test/CNN_64_filters_3_kernels_predictions.npy\n",
      "Predictions saved to CSV file: copper/test/predictions/test_confidence/CNN_64_filters_3_kernels_predictions.csv\n",
      "Predictions saved to NPY file: copper/test/predictions/test_confidence/CNN_64_filters_3_kernels_predictions.npy\n",
      "CNN_64_filters_3_kernels {'Name': 'CNN', 'Params': '64 filters, kernel size 3', 'Accuracy': 0.5835616438356165, 'Precision (0)': 0.8297872340425532, 'Recall (0)': 0.6351791530944625, 'F1 (0)': 0.7195571955719557, 'Precision (1)': 0.13846153846153847, 'Recall (1)': 0.3103448275862069, 'F1 (1)': 0.19148936170212766, 'Prior': '0.16'}\n"
     ]
    },
    {
     "name": "stderr",
     "output_type": "stream",
     "text": [
      "c:\\Users\\manim\\LabV2\\ONR-Price-Prediction\\onr_price_prediction\\venv\\Lib\\site-packages\\keras\\src\\engine\\training.py:3103: UserWarning: You are saving your model as an HDF5 file via `model.save()`. This file format is considered legacy. We recommend using instead the native Keras format, e.g. `model.save('my_model.keras')`.\n",
      "  saving_api.save_model(\n"
     ]
    },
    {
     "name": "stdout",
     "output_type": "stream",
     "text": [
      "12/12 [==============================] - 0s 1ms/step\n",
      "12/12 [==============================] - 0s 1ms/step\n",
      "Predictions saved to CSV file: copper/test/predictions/test/CNN_128_filters_7_kernels_predictions.csv\n",
      "Predictions saved to NPY file: copper/test/predictions/test/CNN_128_filters_7_kernels_predictions.npy\n",
      "Predictions saved to CSV file: copper/test/predictions/test_confidence/CNN_128_filters_7_kernels_predictions.csv\n",
      "Predictions saved to NPY file: copper/test/predictions/test_confidence/CNN_128_filters_7_kernels_predictions.npy\n",
      "CNN_128_filters_7_kernels {'Name': 'CNN', 'Params': '128 filters, kernel size 7', 'Accuracy': 0.6246575342465753, 'Precision (0)': 0.842741935483871, 'Recall (0)': 0.6807817589576547, 'F1 (0)': 0.7531531531531532, 'Precision (1)': 0.1623931623931624, 'Recall (1)': 0.3275862068965517, 'F1 (1)': 0.21714285714285717, 'Prior': '0.16'}\n"
     ]
    },
    {
     "name": "stderr",
     "output_type": "stream",
     "text": [
      "c:\\Users\\manim\\LabV2\\ONR-Price-Prediction\\onr_price_prediction\\venv\\Lib\\site-packages\\keras\\src\\engine\\training.py:3103: UserWarning: You are saving your model as an HDF5 file via `model.save()`. This file format is considered legacy. We recommend using instead the native Keras format, e.g. `model.save('my_model.keras')`.\n",
      "  saving_api.save_model(\n"
     ]
    },
    {
     "name": "stdout",
     "output_type": "stream",
     "text": [
      "12/12 [==============================] - 0s 1ms/step\n",
      "12/12 [==============================] - 0s 1ms/step\n",
      "Predictions saved to CSV file: copper/test/predictions/test/CNN_128_filters_5_kernels_predictions.csv\n",
      "Predictions saved to NPY file: copper/test/predictions/test/CNN_128_filters_5_kernels_predictions.npy\n",
      "Predictions saved to CSV file: copper/test/predictions/test_confidence/CNN_128_filters_5_kernels_predictions.csv\n",
      "Predictions saved to NPY file: copper/test/predictions/test_confidence/CNN_128_filters_5_kernels_predictions.npy\n",
      "CNN_128_filters_5_kernels {'Name': 'CNN', 'Params': '128 filters, kernel size 5', 'Accuracy': 0.5808219178082191, 'Precision (0)': 0.8347826086956521, 'Recall (0)': 0.6254071661237784, 'F1 (0)': 0.7150837988826815, 'Precision (1)': 0.14814814814814814, 'Recall (1)': 0.3448275862068966, 'F1 (1)': 0.2072538860103627, 'Prior': '0.16'}\n"
     ]
    },
    {
     "name": "stderr",
     "output_type": "stream",
     "text": [
      "c:\\Users\\manim\\LabV2\\ONR-Price-Prediction\\onr_price_prediction\\venv\\Lib\\site-packages\\keras\\src\\engine\\training.py:3103: UserWarning: You are saving your model as an HDF5 file via `model.save()`. This file format is considered legacy. We recommend using instead the native Keras format, e.g. `model.save('my_model.keras')`.\n",
      "  saving_api.save_model(\n"
     ]
    },
    {
     "name": "stdout",
     "output_type": "stream",
     "text": [
      "12/12 [==============================] - 0s 873us/step\n",
      "12/12 [==============================] - 0s 1ms/step\n",
      "Predictions saved to CSV file: copper/test/predictions/test/CNN_128_filters_3_kernels_predictions.csv\n",
      "Predictions saved to NPY file: copper/test/predictions/test/CNN_128_filters_3_kernels_predictions.npy\n",
      "Predictions saved to CSV file: copper/test/predictions/test_confidence/CNN_128_filters_3_kernels_predictions.csv\n",
      "Predictions saved to NPY file: copper/test/predictions/test_confidence/CNN_128_filters_3_kernels_predictions.npy\n",
      "CNN_128_filters_3_kernels {'Name': 'CNN', 'Params': '128 filters, kernel size 3', 'Accuracy': 0.6219178082191781, 'Precision (0)': 0.8366533864541833, 'Recall (0)': 0.6840390879478827, 'F1 (0)': 0.7526881720430108, 'Precision (1)': 0.14912280701754385, 'Recall (1)': 0.29310344827586204, 'F1 (1)': 0.19767441860465115, 'Prior': '0.16'}\n"
     ]
    },
    {
     "name": "stderr",
     "output_type": "stream",
     "text": [
      "c:\\Users\\manim\\LabV2\\ONR-Price-Prediction\\onr_price_prediction\\venv\\Lib\\site-packages\\keras\\src\\engine\\training.py:3103: UserWarning: You are saving your model as an HDF5 file via `model.save()`. This file format is considered legacy. We recommend using instead the native Keras format, e.g. `model.save('my_model.keras')`.\n",
      "  saving_api.save_model(\n"
     ]
    },
    {
     "name": "stdout",
     "output_type": "stream",
     "text": [
      "12/12 [==============================] - 0s 986us/step\n",
      "12/12 [==============================] - 0s 1ms/step\n",
      "Predictions saved to CSV file: copper/test/predictions/test/CNN_256_filters_7_kernels_predictions.csv\n",
      "Predictions saved to NPY file: copper/test/predictions/test/CNN_256_filters_7_kernels_predictions.npy\n",
      "Predictions saved to CSV file: copper/test/predictions/test_confidence/CNN_256_filters_7_kernels_predictions.csv\n",
      "Predictions saved to NPY file: copper/test/predictions/test_confidence/CNN_256_filters_7_kernels_predictions.npy\n",
      "CNN_256_filters_7_kernels {'Name': 'CNN', 'Params': '256 filters, kernel size 7', 'Accuracy': 0.5863013698630137, 'Precision (0)': 0.8362068965517241, 'Recall (0)': 0.6319218241042345, 'F1 (0)': 0.7198515769944341, 'Precision (1)': 0.15037593984962405, 'Recall (1)': 0.3448275862068966, 'F1 (1)': 0.2094240837696335, 'Prior': '0.16'}\n"
     ]
    },
    {
     "name": "stderr",
     "output_type": "stream",
     "text": [
      "c:\\Users\\manim\\LabV2\\ONR-Price-Prediction\\onr_price_prediction\\venv\\Lib\\site-packages\\keras\\src\\engine\\training.py:3103: UserWarning: You are saving your model as an HDF5 file via `model.save()`. This file format is considered legacy. We recommend using instead the native Keras format, e.g. `model.save('my_model.keras')`.\n",
      "  saving_api.save_model(\n"
     ]
    },
    {
     "name": "stdout",
     "output_type": "stream",
     "text": [
      "12/12 [==============================] - 0s 908us/step\n",
      "12/12 [==============================] - 0s 1ms/step\n",
      "Predictions saved to CSV file: copper/test/predictions/test/CNN_256_filters_5_kernels_predictions.csv\n",
      "Predictions saved to NPY file: copper/test/predictions/test/CNN_256_filters_5_kernels_predictions.npy\n",
      "Predictions saved to CSV file: copper/test/predictions/test_confidence/CNN_256_filters_5_kernels_predictions.csv\n",
      "Predictions saved to NPY file: copper/test/predictions/test_confidence/CNN_256_filters_5_kernels_predictions.npy\n",
      "CNN_256_filters_5_kernels {'Name': 'CNN', 'Params': '256 filters, kernel size 5', 'Accuracy': 0.5835616438356165, 'Precision (0)': 0.8384279475982532, 'Recall (0)': 0.6254071661237784, 'F1 (0)': 0.716417910447761, 'Precision (1)': 0.15441176470588236, 'Recall (1)': 0.3620689655172414, 'F1 (1)': 0.21649484536082472, 'Prior': '0.16'}\n"
     ]
    },
    {
     "name": "stderr",
     "output_type": "stream",
     "text": [
      "c:\\Users\\manim\\LabV2\\ONR-Price-Prediction\\onr_price_prediction\\venv\\Lib\\site-packages\\keras\\src\\engine\\training.py:3103: UserWarning: You are saving your model as an HDF5 file via `model.save()`. This file format is considered legacy. We recommend using instead the native Keras format, e.g. `model.save('my_model.keras')`.\n",
      "  saving_api.save_model(\n"
     ]
    },
    {
     "name": "stdout",
     "output_type": "stream",
     "text": [
      "12/12 [==============================] - 0s 902us/step\n",
      "12/12 [==============================] - 0s 1ms/step\n",
      "Predictions saved to CSV file: copper/test/predictions/test/CNN_256_filters_3_kernels_predictions.csv\n",
      "Predictions saved to NPY file: copper/test/predictions/test/CNN_256_filters_3_kernels_predictions.npy\n",
      "Predictions saved to CSV file: copper/test/predictions/test_confidence/CNN_256_filters_3_kernels_predictions.csv\n",
      "Predictions saved to NPY file: copper/test/predictions/test_confidence/CNN_256_filters_3_kernels_predictions.npy\n",
      "CNN_256_filters_3_kernels {'Name': 'CNN', 'Params': '256 filters, kernel size 3', 'Accuracy': 0.6246575342465753, 'Precision (0)': 0.8294573643410853, 'Recall (0)': 0.6970684039087948, 'F1 (0)': 0.7575221238938054, 'Precision (1)': 0.1308411214953271, 'Recall (1)': 0.2413793103448276, 'F1 (1)': 0.16969696969696968, 'Prior': '0.16'}\n",
      "Predictions saved to CSV file: copper/test/predictions/test/Dumb_Model_spikes_predictions.csv\n",
      "Predictions saved to NPY file: copper/test/predictions/test/Dumb_Model_spikes_predictions.npy\n",
      "Predictions saved to CSV file: copper/test/predictions/test/Dumb_Model_non_spikes_predictions.csv\n",
      "Predictions saved to NPY file: copper/test/predictions/test/Dumb_Model_non_spikes_predictions.npy\n"
     ]
    },
    {
     "name": "stderr",
     "output_type": "stream",
     "text": [
      "c:\\Users\\manim\\LabV2\\ONR-Price-Prediction\\onr_price_prediction\\venv\\Lib\\site-packages\\keras\\src\\engine\\training.py:3103: UserWarning: You are saving your model as an HDF5 file via `model.save()`. This file format is considered legacy. We recommend using instead the native Keras format, e.g. `model.save('my_model.keras')`.\n",
      "  saving_api.save_model(\n",
      "c:\\Users\\manim\\LabV2\\ONR-Price-Prediction\\onr_price_prediction\\venv\\Lib\\site-packages\\sklearn\\metrics\\_classification.py:1471: UndefinedMetricWarning: Precision and F-score are ill-defined and being set to 0.0 in labels with no predicted samples. Use `zero_division` parameter to control this behavior.\n",
      "  _warn_prf(average, modifier, msg_start, len(result))\n",
      "c:\\Users\\manim\\LabV2\\ONR-Price-Prediction\\onr_price_prediction\\venv\\Lib\\site-packages\\sklearn\\metrics\\_classification.py:1471: UndefinedMetricWarning: Precision and F-score are ill-defined and being set to 0.0 in labels with no predicted samples. Use `zero_division` parameter to control this behavior.\n",
      "  _warn_prf(average, modifier, msg_start, len(result))\n",
      "c:\\Users\\manim\\LabV2\\ONR-Price-Prediction\\onr_price_prediction\\venv\\Lib\\site-packages\\sklearn\\metrics\\_classification.py:1471: UndefinedMetricWarning: Precision and F-score are ill-defined and being set to 0.0 in labels with no predicted samples. Use `zero_division` parameter to control this behavior.\n",
      "  _warn_prf(average, modifier, msg_start, len(result))\n",
      "c:\\Users\\manim\\LabV2\\ONR-Price-Prediction\\onr_price_prediction\\venv\\Lib\\site-packages\\sklearn\\metrics\\_classification.py:1471: UndefinedMetricWarning: Precision and F-score are ill-defined and being set to 0.0 in labels with no predicted samples. Use `zero_division` parameter to control this behavior.\n",
      "  _warn_prf(average, modifier, msg_start, len(result))\n",
      "c:\\Users\\manim\\LabV2\\ONR-Price-Prediction\\onr_price_prediction\\venv\\Lib\\site-packages\\sklearn\\metrics\\_classification.py:1471: UndefinedMetricWarning: Precision and F-score are ill-defined and being set to 0.0 in labels with no predicted samples. Use `zero_division` parameter to control this behavior.\n",
      "  _warn_prf(average, modifier, msg_start, len(result))\n",
      "c:\\Users\\manim\\LabV2\\ONR-Price-Prediction\\onr_price_prediction\\venv\\Lib\\site-packages\\sklearn\\metrics\\_classification.py:1471: UndefinedMetricWarning: Precision and F-score are ill-defined and being set to 0.0 in labels with no predicted samples. Use `zero_division` parameter to control this behavior.\n",
      "  _warn_prf(average, modifier, msg_start, len(result))\n"
     ]
    }
   ],
   "source": [
    "results_df  = models.evaluate_all(X_train_price, y_train_price, X_val_price, y_val_price, X_test_price, y_test_price, output_file_path, pred_file_path, model_path, False, False)"
   ]
  },
  {
   "cell_type": "code",
   "execution_count": 12,
   "metadata": {},
   "outputs": [
    {
     "data": {
      "text/html": [
       "<div>\n",
       "<style scoped>\n",
       "    .dataframe tbody tr th:only-of-type {\n",
       "        vertical-align: middle;\n",
       "    }\n",
       "\n",
       "    .dataframe tbody tr th {\n",
       "        vertical-align: top;\n",
       "    }\n",
       "\n",
       "    .dataframe thead th {\n",
       "        text-align: right;\n",
       "    }\n",
       "</style>\n",
       "<table border=\"1\" class=\"dataframe\">\n",
       "  <thead>\n",
       "    <tr style=\"text-align: right;\">\n",
       "      <th></th>\n",
       "      <th>Name</th>\n",
       "      <th>Params</th>\n",
       "      <th>Accuracy</th>\n",
       "      <th>Precision (0)</th>\n",
       "      <th>Recall (0)</th>\n",
       "      <th>F1 (0)</th>\n",
       "      <th>Precision (1)</th>\n",
       "      <th>Recall (1)</th>\n",
       "      <th>F1 (1)</th>\n",
       "      <th>Prior</th>\n",
       "    </tr>\n",
       "  </thead>\n",
       "  <tbody>\n",
       "    <tr>\n",
       "      <th>0</th>\n",
       "      <td>LSTM</td>\n",
       "      <td>256 layers</td>\n",
       "      <td>0.482192</td>\n",
       "      <td>0.824176</td>\n",
       "      <td>0.488599</td>\n",
       "      <td>0.613497</td>\n",
       "      <td>0.142077</td>\n",
       "      <td>0.448276</td>\n",
       "      <td>0.215768</td>\n",
       "      <td>0.16</td>\n",
       "    </tr>\n",
       "    <tr>\n",
       "      <th>1</th>\n",
       "      <td>LSTM</td>\n",
       "      <td>128 layers</td>\n",
       "      <td>0.484932</td>\n",
       "      <td>0.825137</td>\n",
       "      <td>0.491857</td>\n",
       "      <td>0.616327</td>\n",
       "      <td>0.142857</td>\n",
       "      <td>0.448276</td>\n",
       "      <td>0.216667</td>\n",
       "      <td>0.16</td>\n",
       "    </tr>\n",
       "    <tr>\n",
       "      <th>2</th>\n",
       "      <td>LSTM</td>\n",
       "      <td>64 layers</td>\n",
       "      <td>0.413699</td>\n",
       "      <td>0.825175</td>\n",
       "      <td>0.384365</td>\n",
       "      <td>0.524444</td>\n",
       "      <td>0.148649</td>\n",
       "      <td>0.568966</td>\n",
       "      <td>0.235714</td>\n",
       "      <td>0.16</td>\n",
       "    </tr>\n",
       "    <tr>\n",
       "      <th>3</th>\n",
       "      <td>LSTM</td>\n",
       "      <td>32 layers</td>\n",
       "      <td>0.841096</td>\n",
       "      <td>0.841096</td>\n",
       "      <td>1.000000</td>\n",
       "      <td>0.913690</td>\n",
       "      <td>0.000000</td>\n",
       "      <td>0.000000</td>\n",
       "      <td>0.000000</td>\n",
       "      <td>0.16</td>\n",
       "    </tr>\n",
       "    <tr>\n",
       "      <th>4</th>\n",
       "      <td>CNN with Attention</td>\n",
       "      <td>32 filters, kernel size 7</td>\n",
       "      <td>0.528767</td>\n",
       "      <td>0.832512</td>\n",
       "      <td>0.550489</td>\n",
       "      <td>0.662745</td>\n",
       "      <td>0.148148</td>\n",
       "      <td>0.413793</td>\n",
       "      <td>0.218182</td>\n",
       "      <td>0.16</td>\n",
       "    </tr>\n",
       "    <tr>\n",
       "      <th>5</th>\n",
       "      <td>CNN with Attention</td>\n",
       "      <td>32 filters, kernel size 5</td>\n",
       "      <td>0.578082</td>\n",
       "      <td>0.837004</td>\n",
       "      <td>0.618893</td>\n",
       "      <td>0.711610</td>\n",
       "      <td>0.152174</td>\n",
       "      <td>0.362069</td>\n",
       "      <td>0.214286</td>\n",
       "      <td>0.16</td>\n",
       "    </tr>\n",
       "    <tr>\n",
       "      <th>6</th>\n",
       "      <td>CNN with Attention</td>\n",
       "      <td>32 filters, kernel size 3</td>\n",
       "      <td>0.616438</td>\n",
       "      <td>0.840816</td>\n",
       "      <td>0.671010</td>\n",
       "      <td>0.746377</td>\n",
       "      <td>0.158333</td>\n",
       "      <td>0.327586</td>\n",
       "      <td>0.213483</td>\n",
       "      <td>0.16</td>\n",
       "    </tr>\n",
       "    <tr>\n",
       "      <th>7</th>\n",
       "      <td>CNN with Attention</td>\n",
       "      <td>64 filters, kernel size 7</td>\n",
       "      <td>0.635616</td>\n",
       "      <td>0.834615</td>\n",
       "      <td>0.706840</td>\n",
       "      <td>0.765432</td>\n",
       "      <td>0.142857</td>\n",
       "      <td>0.258621</td>\n",
       "      <td>0.184049</td>\n",
       "      <td>0.16</td>\n",
       "    </tr>\n",
       "    <tr>\n",
       "      <th>8</th>\n",
       "      <td>CNN with Attention</td>\n",
       "      <td>64 filters, kernel size 5</td>\n",
       "      <td>0.608219</td>\n",
       "      <td>0.841667</td>\n",
       "      <td>0.657980</td>\n",
       "      <td>0.738574</td>\n",
       "      <td>0.160000</td>\n",
       "      <td>0.344828</td>\n",
       "      <td>0.218579</td>\n",
       "      <td>0.16</td>\n",
       "    </tr>\n",
       "    <tr>\n",
       "      <th>9</th>\n",
       "      <td>CNN with Attention</td>\n",
       "      <td>64 filters, kernel size 3</td>\n",
       "      <td>0.616438</td>\n",
       "      <td>0.835341</td>\n",
       "      <td>0.677524</td>\n",
       "      <td>0.748201</td>\n",
       "      <td>0.146552</td>\n",
       "      <td>0.293103</td>\n",
       "      <td>0.195402</td>\n",
       "      <td>0.16</td>\n",
       "    </tr>\n",
       "    <tr>\n",
       "      <th>10</th>\n",
       "      <td>CNN with Attention</td>\n",
       "      <td>128 filters, kernel size 7</td>\n",
       "      <td>0.569863</td>\n",
       "      <td>0.828947</td>\n",
       "      <td>0.615635</td>\n",
       "      <td>0.706542</td>\n",
       "      <td>0.138686</td>\n",
       "      <td>0.327586</td>\n",
       "      <td>0.194872</td>\n",
       "      <td>0.16</td>\n",
       "    </tr>\n",
       "    <tr>\n",
       "      <th>11</th>\n",
       "      <td>CNN with Attention</td>\n",
       "      <td>128 filters, kernel size 5</td>\n",
       "      <td>0.567123</td>\n",
       "      <td>0.840183</td>\n",
       "      <td>0.599349</td>\n",
       "      <td>0.699620</td>\n",
       "      <td>0.157534</td>\n",
       "      <td>0.396552</td>\n",
       "      <td>0.225490</td>\n",
       "      <td>0.16</td>\n",
       "    </tr>\n",
       "    <tr>\n",
       "      <th>12</th>\n",
       "      <td>CNN with Attention</td>\n",
       "      <td>128 filters, kernel size 3</td>\n",
       "      <td>0.589041</td>\n",
       "      <td>0.820408</td>\n",
       "      <td>0.654723</td>\n",
       "      <td>0.728261</td>\n",
       "      <td>0.116667</td>\n",
       "      <td>0.241379</td>\n",
       "      <td>0.157303</td>\n",
       "      <td>0.16</td>\n",
       "    </tr>\n",
       "    <tr>\n",
       "      <th>13</th>\n",
       "      <td>CNN with Attention</td>\n",
       "      <td>256 filters, kernel size 7</td>\n",
       "      <td>0.578082</td>\n",
       "      <td>0.831169</td>\n",
       "      <td>0.625407</td>\n",
       "      <td>0.713755</td>\n",
       "      <td>0.141791</td>\n",
       "      <td>0.327586</td>\n",
       "      <td>0.197917</td>\n",
       "      <td>0.16</td>\n",
       "    </tr>\n",
       "    <tr>\n",
       "      <th>14</th>\n",
       "      <td>CNN with Attention</td>\n",
       "      <td>256 filters, kernel size 5</td>\n",
       "      <td>0.663014</td>\n",
       "      <td>0.835766</td>\n",
       "      <td>0.745928</td>\n",
       "      <td>0.788296</td>\n",
       "      <td>0.142857</td>\n",
       "      <td>0.224138</td>\n",
       "      <td>0.174497</td>\n",
       "      <td>0.16</td>\n",
       "    </tr>\n",
       "    <tr>\n",
       "      <th>15</th>\n",
       "      <td>CNN with Attention</td>\n",
       "      <td>256 filters, kernel size 3</td>\n",
       "      <td>0.586301</td>\n",
       "      <td>0.845133</td>\n",
       "      <td>0.622150</td>\n",
       "      <td>0.716698</td>\n",
       "      <td>0.165468</td>\n",
       "      <td>0.396552</td>\n",
       "      <td>0.233503</td>\n",
       "      <td>0.16</td>\n",
       "    </tr>\n",
       "    <tr>\n",
       "      <th>16</th>\n",
       "      <td>RNN</td>\n",
       "      <td>256 units</td>\n",
       "      <td>0.608219</td>\n",
       "      <td>0.833333</td>\n",
       "      <td>0.667752</td>\n",
       "      <td>0.741410</td>\n",
       "      <td>0.142857</td>\n",
       "      <td>0.293103</td>\n",
       "      <td>0.192090</td>\n",
       "      <td>0.16</td>\n",
       "    </tr>\n",
       "    <tr>\n",
       "      <th>17</th>\n",
       "      <td>RNN</td>\n",
       "      <td>128 units</td>\n",
       "      <td>0.553425</td>\n",
       "      <td>0.827273</td>\n",
       "      <td>0.592834</td>\n",
       "      <td>0.690702</td>\n",
       "      <td>0.137931</td>\n",
       "      <td>0.344828</td>\n",
       "      <td>0.197044</td>\n",
       "      <td>0.16</td>\n",
       "    </tr>\n",
       "    <tr>\n",
       "      <th>18</th>\n",
       "      <td>RNN</td>\n",
       "      <td>64 units</td>\n",
       "      <td>0.747945</td>\n",
       "      <td>0.852459</td>\n",
       "      <td>0.846906</td>\n",
       "      <td>0.849673</td>\n",
       "      <td>0.216667</td>\n",
       "      <td>0.224138</td>\n",
       "      <td>0.220339</td>\n",
       "      <td>0.16</td>\n",
       "    </tr>\n",
       "    <tr>\n",
       "      <th>19</th>\n",
       "      <td>RNN</td>\n",
       "      <td>32 units</td>\n",
       "      <td>0.257534</td>\n",
       "      <td>0.695652</td>\n",
       "      <td>0.208469</td>\n",
       "      <td>0.320802</td>\n",
       "      <td>0.109890</td>\n",
       "      <td>0.517241</td>\n",
       "      <td>0.181269</td>\n",
       "      <td>0.16</td>\n",
       "    </tr>\n",
       "    <tr>\n",
       "      <th>20</th>\n",
       "      <td>CNN</td>\n",
       "      <td>32 filters, kernel size 7</td>\n",
       "      <td>0.575342</td>\n",
       "      <td>0.839286</td>\n",
       "      <td>0.612378</td>\n",
       "      <td>0.708098</td>\n",
       "      <td>0.156028</td>\n",
       "      <td>0.379310</td>\n",
       "      <td>0.221106</td>\n",
       "      <td>0.16</td>\n",
       "    </tr>\n",
       "    <tr>\n",
       "      <th>21</th>\n",
       "      <td>CNN</td>\n",
       "      <td>32 filters, kernel size 5</td>\n",
       "      <td>0.512329</td>\n",
       "      <td>0.824121</td>\n",
       "      <td>0.534202</td>\n",
       "      <td>0.648221</td>\n",
       "      <td>0.138554</td>\n",
       "      <td>0.396552</td>\n",
       "      <td>0.205357</td>\n",
       "      <td>0.16</td>\n",
       "    </tr>\n",
       "    <tr>\n",
       "      <th>22</th>\n",
       "      <td>CNN</td>\n",
       "      <td>32 filters, kernel size 3</td>\n",
       "      <td>0.558904</td>\n",
       "      <td>0.831818</td>\n",
       "      <td>0.596091</td>\n",
       "      <td>0.694497</td>\n",
       "      <td>0.144828</td>\n",
       "      <td>0.362069</td>\n",
       "      <td>0.206897</td>\n",
       "      <td>0.16</td>\n",
       "    </tr>\n",
       "    <tr>\n",
       "      <th>23</th>\n",
       "      <td>CNN</td>\n",
       "      <td>64 filters, kernel size 7</td>\n",
       "      <td>0.512329</td>\n",
       "      <td>0.834197</td>\n",
       "      <td>0.524430</td>\n",
       "      <td>0.644000</td>\n",
       "      <td>0.151163</td>\n",
       "      <td>0.448276</td>\n",
       "      <td>0.226087</td>\n",
       "      <td>0.16</td>\n",
       "    </tr>\n",
       "    <tr>\n",
       "      <th>24</th>\n",
       "      <td>CNN</td>\n",
       "      <td>64 filters, kernel size 5</td>\n",
       "      <td>0.564384</td>\n",
       "      <td>0.836364</td>\n",
       "      <td>0.599349</td>\n",
       "      <td>0.698292</td>\n",
       "      <td>0.151724</td>\n",
       "      <td>0.379310</td>\n",
       "      <td>0.216749</td>\n",
       "      <td>0.16</td>\n",
       "    </tr>\n",
       "    <tr>\n",
       "      <th>25</th>\n",
       "      <td>CNN</td>\n",
       "      <td>64 filters, kernel size 3</td>\n",
       "      <td>0.583562</td>\n",
       "      <td>0.829787</td>\n",
       "      <td>0.635179</td>\n",
       "      <td>0.719557</td>\n",
       "      <td>0.138462</td>\n",
       "      <td>0.310345</td>\n",
       "      <td>0.191489</td>\n",
       "      <td>0.16</td>\n",
       "    </tr>\n",
       "    <tr>\n",
       "      <th>26</th>\n",
       "      <td>CNN</td>\n",
       "      <td>128 filters, kernel size 7</td>\n",
       "      <td>0.624658</td>\n",
       "      <td>0.842742</td>\n",
       "      <td>0.680782</td>\n",
       "      <td>0.753153</td>\n",
       "      <td>0.162393</td>\n",
       "      <td>0.327586</td>\n",
       "      <td>0.217143</td>\n",
       "      <td>0.16</td>\n",
       "    </tr>\n",
       "    <tr>\n",
       "      <th>27</th>\n",
       "      <td>CNN</td>\n",
       "      <td>128 filters, kernel size 5</td>\n",
       "      <td>0.580822</td>\n",
       "      <td>0.834783</td>\n",
       "      <td>0.625407</td>\n",
       "      <td>0.715084</td>\n",
       "      <td>0.148148</td>\n",
       "      <td>0.344828</td>\n",
       "      <td>0.207254</td>\n",
       "      <td>0.16</td>\n",
       "    </tr>\n",
       "    <tr>\n",
       "      <th>28</th>\n",
       "      <td>CNN</td>\n",
       "      <td>128 filters, kernel size 3</td>\n",
       "      <td>0.621918</td>\n",
       "      <td>0.836653</td>\n",
       "      <td>0.684039</td>\n",
       "      <td>0.752688</td>\n",
       "      <td>0.149123</td>\n",
       "      <td>0.293103</td>\n",
       "      <td>0.197674</td>\n",
       "      <td>0.16</td>\n",
       "    </tr>\n",
       "    <tr>\n",
       "      <th>29</th>\n",
       "      <td>CNN</td>\n",
       "      <td>256 filters, kernel size 7</td>\n",
       "      <td>0.586301</td>\n",
       "      <td>0.836207</td>\n",
       "      <td>0.631922</td>\n",
       "      <td>0.719852</td>\n",
       "      <td>0.150376</td>\n",
       "      <td>0.344828</td>\n",
       "      <td>0.209424</td>\n",
       "      <td>0.16</td>\n",
       "    </tr>\n",
       "    <tr>\n",
       "      <th>30</th>\n",
       "      <td>CNN</td>\n",
       "      <td>256 filters, kernel size 5</td>\n",
       "      <td>0.583562</td>\n",
       "      <td>0.838428</td>\n",
       "      <td>0.625407</td>\n",
       "      <td>0.716418</td>\n",
       "      <td>0.154412</td>\n",
       "      <td>0.362069</td>\n",
       "      <td>0.216495</td>\n",
       "      <td>0.16</td>\n",
       "    </tr>\n",
       "    <tr>\n",
       "      <th>31</th>\n",
       "      <td>CNN</td>\n",
       "      <td>256 filters, kernel size 3</td>\n",
       "      <td>0.624658</td>\n",
       "      <td>0.829457</td>\n",
       "      <td>0.697068</td>\n",
       "      <td>0.757522</td>\n",
       "      <td>0.130841</td>\n",
       "      <td>0.241379</td>\n",
       "      <td>0.169697</td>\n",
       "      <td>0.16</td>\n",
       "    </tr>\n",
       "    <tr>\n",
       "      <th>32</th>\n",
       "      <td>Dumb Model</td>\n",
       "      <td>spikes</td>\n",
       "      <td>0.158904</td>\n",
       "      <td>0.000000</td>\n",
       "      <td>0.000000</td>\n",
       "      <td>0.000000</td>\n",
       "      <td>0.158904</td>\n",
       "      <td>1.000000</td>\n",
       "      <td>0.274232</td>\n",
       "      <td>0.16</td>\n",
       "    </tr>\n",
       "    <tr>\n",
       "      <th>33</th>\n",
       "      <td>Dumb Model</td>\n",
       "      <td>non_spikes</td>\n",
       "      <td>0.841096</td>\n",
       "      <td>0.841096</td>\n",
       "      <td>1.000000</td>\n",
       "      <td>0.913690</td>\n",
       "      <td>0.000000</td>\n",
       "      <td>0.000000</td>\n",
       "      <td>0.000000</td>\n",
       "      <td>0.16</td>\n",
       "    </tr>\n",
       "  </tbody>\n",
       "</table>\n",
       "</div>"
      ],
      "text/plain": [
       "                  Name                      Params  Accuracy  Precision (0)  \\\n",
       "0                 LSTM                  256 layers  0.482192       0.824176   \n",
       "1                 LSTM                  128 layers  0.484932       0.825137   \n",
       "2                 LSTM                   64 layers  0.413699       0.825175   \n",
       "3                 LSTM                   32 layers  0.841096       0.841096   \n",
       "4   CNN with Attention   32 filters, kernel size 7  0.528767       0.832512   \n",
       "5   CNN with Attention   32 filters, kernel size 5  0.578082       0.837004   \n",
       "6   CNN with Attention   32 filters, kernel size 3  0.616438       0.840816   \n",
       "7   CNN with Attention   64 filters, kernel size 7  0.635616       0.834615   \n",
       "8   CNN with Attention   64 filters, kernel size 5  0.608219       0.841667   \n",
       "9   CNN with Attention   64 filters, kernel size 3  0.616438       0.835341   \n",
       "10  CNN with Attention  128 filters, kernel size 7  0.569863       0.828947   \n",
       "11  CNN with Attention  128 filters, kernel size 5  0.567123       0.840183   \n",
       "12  CNN with Attention  128 filters, kernel size 3  0.589041       0.820408   \n",
       "13  CNN with Attention  256 filters, kernel size 7  0.578082       0.831169   \n",
       "14  CNN with Attention  256 filters, kernel size 5  0.663014       0.835766   \n",
       "15  CNN with Attention  256 filters, kernel size 3  0.586301       0.845133   \n",
       "16                 RNN                   256 units  0.608219       0.833333   \n",
       "17                 RNN                   128 units  0.553425       0.827273   \n",
       "18                 RNN                    64 units  0.747945       0.852459   \n",
       "19                 RNN                    32 units  0.257534       0.695652   \n",
       "20                 CNN   32 filters, kernel size 7  0.575342       0.839286   \n",
       "21                 CNN   32 filters, kernel size 5  0.512329       0.824121   \n",
       "22                 CNN   32 filters, kernel size 3  0.558904       0.831818   \n",
       "23                 CNN   64 filters, kernel size 7  0.512329       0.834197   \n",
       "24                 CNN   64 filters, kernel size 5  0.564384       0.836364   \n",
       "25                 CNN   64 filters, kernel size 3  0.583562       0.829787   \n",
       "26                 CNN  128 filters, kernel size 7  0.624658       0.842742   \n",
       "27                 CNN  128 filters, kernel size 5  0.580822       0.834783   \n",
       "28                 CNN  128 filters, kernel size 3  0.621918       0.836653   \n",
       "29                 CNN  256 filters, kernel size 7  0.586301       0.836207   \n",
       "30                 CNN  256 filters, kernel size 5  0.583562       0.838428   \n",
       "31                 CNN  256 filters, kernel size 3  0.624658       0.829457   \n",
       "32          Dumb Model                      spikes  0.158904       0.000000   \n",
       "33          Dumb Model                  non_spikes  0.841096       0.841096   \n",
       "\n",
       "    Recall (0)    F1 (0)  Precision (1)  Recall (1)    F1 (1) Prior  \n",
       "0     0.488599  0.613497       0.142077    0.448276  0.215768  0.16  \n",
       "1     0.491857  0.616327       0.142857    0.448276  0.216667  0.16  \n",
       "2     0.384365  0.524444       0.148649    0.568966  0.235714  0.16  \n",
       "3     1.000000  0.913690       0.000000    0.000000  0.000000  0.16  \n",
       "4     0.550489  0.662745       0.148148    0.413793  0.218182  0.16  \n",
       "5     0.618893  0.711610       0.152174    0.362069  0.214286  0.16  \n",
       "6     0.671010  0.746377       0.158333    0.327586  0.213483  0.16  \n",
       "7     0.706840  0.765432       0.142857    0.258621  0.184049  0.16  \n",
       "8     0.657980  0.738574       0.160000    0.344828  0.218579  0.16  \n",
       "9     0.677524  0.748201       0.146552    0.293103  0.195402  0.16  \n",
       "10    0.615635  0.706542       0.138686    0.327586  0.194872  0.16  \n",
       "11    0.599349  0.699620       0.157534    0.396552  0.225490  0.16  \n",
       "12    0.654723  0.728261       0.116667    0.241379  0.157303  0.16  \n",
       "13    0.625407  0.713755       0.141791    0.327586  0.197917  0.16  \n",
       "14    0.745928  0.788296       0.142857    0.224138  0.174497  0.16  \n",
       "15    0.622150  0.716698       0.165468    0.396552  0.233503  0.16  \n",
       "16    0.667752  0.741410       0.142857    0.293103  0.192090  0.16  \n",
       "17    0.592834  0.690702       0.137931    0.344828  0.197044  0.16  \n",
       "18    0.846906  0.849673       0.216667    0.224138  0.220339  0.16  \n",
       "19    0.208469  0.320802       0.109890    0.517241  0.181269  0.16  \n",
       "20    0.612378  0.708098       0.156028    0.379310  0.221106  0.16  \n",
       "21    0.534202  0.648221       0.138554    0.396552  0.205357  0.16  \n",
       "22    0.596091  0.694497       0.144828    0.362069  0.206897  0.16  \n",
       "23    0.524430  0.644000       0.151163    0.448276  0.226087  0.16  \n",
       "24    0.599349  0.698292       0.151724    0.379310  0.216749  0.16  \n",
       "25    0.635179  0.719557       0.138462    0.310345  0.191489  0.16  \n",
       "26    0.680782  0.753153       0.162393    0.327586  0.217143  0.16  \n",
       "27    0.625407  0.715084       0.148148    0.344828  0.207254  0.16  \n",
       "28    0.684039  0.752688       0.149123    0.293103  0.197674  0.16  \n",
       "29    0.631922  0.719852       0.150376    0.344828  0.209424  0.16  \n",
       "30    0.625407  0.716418       0.154412    0.362069  0.216495  0.16  \n",
       "31    0.697068  0.757522       0.130841    0.241379  0.169697  0.16  \n",
       "32    0.000000  0.000000       0.158904    1.000000  0.274232  0.16  \n",
       "33    1.000000  0.913690       0.000000    0.000000  0.000000  0.16  "
      ]
     },
     "execution_count": 12,
     "metadata": {},
     "output_type": "execute_result"
    }
   ],
   "source": [
    "results_df"
   ]
  }
 ],
 "metadata": {
  "kernelspec": {
   "display_name": "venv",
   "language": "python",
   "name": "python3"
  },
  "language_info": {
   "codemirror_mode": {
    "name": "ipython",
    "version": 3
   },
   "file_extension": ".py",
   "mimetype": "text/x-python",
   "name": "python",
   "nbconvert_exporter": "python",
   "pygments_lexer": "ipython3",
   "version": "3.11.6"
  }
 },
 "nbformat": 4,
 "nbformat_minor": 2
}
