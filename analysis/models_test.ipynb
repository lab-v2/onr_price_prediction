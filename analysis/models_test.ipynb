{
 "cells": [
  {
   "cell_type": "code",
   "execution_count": 1,
   "metadata": {},
   "outputs": [
    {
     "name": "stdout",
     "output_type": "stream",
     "text": [
      "WARNING:tensorflow:From c:\\Users\\manim\\LabV2\\ONR-Price-Prediction\\onr_price_prediction\\venv\\Lib\\site-packages\\keras\\src\\losses.py:2976: The name tf.losses.sparse_softmax_cross_entropy is deprecated. Please use tf.compat.v1.losses.sparse_softmax_cross_entropy instead.\n",
      "\n",
      "WARNING:tensorflow:From c:\\Users\\manim\\LabV2\\ONR-Price-Prediction\\onr_price_prediction\\venv\\Lib\\site-packages\\keras\\src\\backend.py:873: The name tf.get_default_graph is deprecated. Please use tf.compat.v1.get_default_graph instead.\n",
      "\n"
     ]
    }
   ],
   "source": [
    "import models\n",
    "import utils\n",
    "import data_processing\n",
    "from constants import (\n",
    "    VALUE_COLUMN,\n",
    "    UNIT_RATE_COLUMN,\n",
    "    QUANTITY_COLUMN,\n",
    "    GROSS_WEIGHT_COLUMN,\n",
    "    SHIP_COUNT_COLUMN,\n",
    "    PORT_COUNT_COLUMN,\n",
    "    FILL_METHOD,\n",
    "    TARGET_COLUMN,\n",
    "    VOLZA_COLUMNS,\n",
    "    AIS_COLUMNS,\n",
    "    OIL_COLUMNS,\n",
    "    ARIMA_RESIDUAL_COLUMN,\n",
    "    RANDOM_STATE\n",
    ")\n",
    "import pandas as pd\n",
    "import constants\n",
    "import sys\n",
    "from datetime import datetime\n",
    "from build_data import get_data\n",
    "from sklearn.model_selection import train_test_split\n",
    "from sklearn.preprocessing import KBinsDiscretizer\n",
    "\n",
    "import matplotlib.pyplot as plt\n",
    "import numpy as np"
   ]
  },
  {
   "cell_type": "code",
   "execution_count": 2,
   "metadata": {},
   "outputs": [],
   "source": [
    "COMMODITYS = ['cobalt', 'copper', 'germanium', 'magnesium']\n",
    "#target_COMMODITY = \"copper\"\n",
    "target_COMMODITY = \"copper\"\n",
    "WINDOW_SIZE = 20"
   ]
  },
  {
   "cell_type": "code",
   "execution_count": 3,
   "metadata": {},
   "outputs": [
    {
     "name": "stdout",
     "output_type": "stream",
     "text": [
      "Building data...\n"
     ]
    },
    {
     "name": "stderr",
     "output_type": "stream",
     "text": [
      "c:\\Users\\manim\\LabV2\\ONR-Price-Prediction\\onr_price_prediction\\analysis\\build_data.py:63: SettingWithCopyWarning: \n",
      "A value is trying to be set on a copy of a slice from a DataFrame\n",
      "\n",
      "See the caveats in the documentation: https://pandas.pydata.org/pandas-docs/stable/user_guide/indexing.html#returning-a-view-versus-a-copy\n",
      "  brent_df.rename(columns={\"Value\": \"Brent Oil Value\"}, inplace=True)\n",
      "c:\\Users\\manim\\LabV2\\ONR-Price-Prediction\\onr_price_prediction\\analysis\\build_data.py:64: SettingWithCopyWarning: \n",
      "A value is trying to be set on a copy of a slice from a DataFrame\n",
      "\n",
      "See the caveats in the documentation: https://pandas.pydata.org/pandas-docs/stable/user_guide/indexing.html#returning-a-view-versus-a-copy\n",
      "  wti_df.rename(columns={\"Value\": \"WTI Oil Value\"}, inplace=True)\n",
      "c:\\Users\\manim\\LabV2\\ONR-Price-Prediction\\onr_price_prediction\\analysis\\build_data.py:69: FutureWarning: DataFrame.fillna with 'method' is deprecated and will raise in a future version. Use obj.ffill() or obj.bfill() instead.\n",
      "  date_wise_volza = date_wise_volza.join(ais_popular_pd, how=\"left\").fillna(\n",
      "c:\\Users\\manim\\LabV2\\ONR-Price-Prediction\\onr_price_prediction\\analysis\\build_data.py:72: FutureWarning: DataFrame.fillna with 'method' is deprecated and will raise in a future version. Use obj.ffill() or obj.bfill() instead.\n",
      "  aggregated_df = date_wise_volza.join(prices_pd, how=\"left\").fillna(method=FILL_METHOD)\n",
      "c:\\Users\\manim\\LabV2\\ONR-Price-Prediction\\onr_price_prediction\\analysis\\build_data.py:75: FutureWarning: DataFrame.fillna with 'method' is deprecated and will raise in a future version. Use obj.ffill() or obj.bfill() instead.\n",
      "  ).fillna(method=FILL_METHOD)\n",
      "c:\\Users\\manim\\LabV2\\ONR-Price-Prediction\\onr_price_prediction\\analysis\\build_data.py:78: FutureWarning: DataFrame.fillna with 'method' is deprecated and will raise in a future version. Use obj.ffill() or obj.bfill() instead.\n",
      "  ).fillna(method=FILL_METHOD)\n"
     ]
    },
    {
     "name": "stdout",
     "output_type": "stream",
     "text": [
      "Rows dropped due to NaN values: 1\n"
     ]
    },
    {
     "name": "stderr",
     "output_type": "stream",
     "text": [
      "c:\\Users\\manim\\LabV2\\ONR-Price-Prediction\\onr_price_prediction\\venv\\Lib\\site-packages\\statsmodels\\tsa\\base\\tsa_model.py:836: ValueWarning: No supported index is available. Prediction results will be given with an integer index beginning at `start`.\n",
      "  return get_prediction_index(\n",
      "c:\\Users\\manim\\LabV2\\ONR-Price-Prediction\\onr_price_prediction\\venv\\Lib\\site-packages\\statsmodels\\tsa\\base\\tsa_model.py:836: FutureWarning: No supported index is available. In the next version, calling this method in a model without a supported index will result in an exception.\n",
      "  return get_prediction_index(\n"
     ]
    },
    {
     "name": "stdout",
     "output_type": "stream",
     "text": [
      "Detecting spikes... 20\n",
      "Building data...\n"
     ]
    },
    {
     "name": "stderr",
     "output_type": "stream",
     "text": [
      "c:\\Users\\manim\\LabV2\\ONR-Price-Prediction\\onr_price_prediction\\analysis\\build_data.py:63: SettingWithCopyWarning: \n",
      "A value is trying to be set on a copy of a slice from a DataFrame\n",
      "\n",
      "See the caveats in the documentation: https://pandas.pydata.org/pandas-docs/stable/user_guide/indexing.html#returning-a-view-versus-a-copy\n",
      "  brent_df.rename(columns={\"Value\": \"Brent Oil Value\"}, inplace=True)\n",
      "c:\\Users\\manim\\LabV2\\ONR-Price-Prediction\\onr_price_prediction\\analysis\\build_data.py:64: SettingWithCopyWarning: \n",
      "A value is trying to be set on a copy of a slice from a DataFrame\n",
      "\n",
      "See the caveats in the documentation: https://pandas.pydata.org/pandas-docs/stable/user_guide/indexing.html#returning-a-view-versus-a-copy\n",
      "  wti_df.rename(columns={\"Value\": \"WTI Oil Value\"}, inplace=True)\n",
      "c:\\Users\\manim\\LabV2\\ONR-Price-Prediction\\onr_price_prediction\\analysis\\build_data.py:69: FutureWarning: DataFrame.fillna with 'method' is deprecated and will raise in a future version. Use obj.ffill() or obj.bfill() instead.\n",
      "  date_wise_volza = date_wise_volza.join(ais_popular_pd, how=\"left\").fillna(\n",
      "c:\\Users\\manim\\LabV2\\ONR-Price-Prediction\\onr_price_prediction\\analysis\\build_data.py:72: FutureWarning: DataFrame.fillna with 'method' is deprecated and will raise in a future version. Use obj.ffill() or obj.bfill() instead.\n",
      "  aggregated_df = date_wise_volza.join(prices_pd, how=\"left\").fillna(method=FILL_METHOD)\n",
      "c:\\Users\\manim\\LabV2\\ONR-Price-Prediction\\onr_price_prediction\\analysis\\build_data.py:75: FutureWarning: DataFrame.fillna with 'method' is deprecated and will raise in a future version. Use obj.ffill() or obj.bfill() instead.\n",
      "  ).fillna(method=FILL_METHOD)\n",
      "c:\\Users\\manim\\LabV2\\ONR-Price-Prediction\\onr_price_prediction\\analysis\\build_data.py:78: FutureWarning: DataFrame.fillna with 'method' is deprecated and will raise in a future version. Use obj.ffill() or obj.bfill() instead.\n",
      "  ).fillna(method=FILL_METHOD)\n"
     ]
    },
    {
     "name": "stdout",
     "output_type": "stream",
     "text": [
      "Rows dropped due to NaN values: 1\n"
     ]
    },
    {
     "name": "stderr",
     "output_type": "stream",
     "text": [
      "c:\\Users\\manim\\LabV2\\ONR-Price-Prediction\\onr_price_prediction\\venv\\Lib\\site-packages\\statsmodels\\tsa\\base\\tsa_model.py:836: ValueWarning: No supported index is available. Prediction results will be given with an integer index beginning at `start`.\n",
      "  return get_prediction_index(\n",
      "c:\\Users\\manim\\LabV2\\ONR-Price-Prediction\\onr_price_prediction\\venv\\Lib\\site-packages\\statsmodels\\tsa\\base\\tsa_model.py:836: FutureWarning: No supported index is available. In the next version, calling this method in a model without a supported index will result in an exception.\n",
      "  return get_prediction_index(\n"
     ]
    },
    {
     "name": "stdout",
     "output_type": "stream",
     "text": [
      "Detecting spikes... 20\n",
      "Building data...\n"
     ]
    },
    {
     "name": "stderr",
     "output_type": "stream",
     "text": [
      "c:\\Users\\manim\\LabV2\\ONR-Price-Prediction\\onr_price_prediction\\analysis\\build_data.py:63: SettingWithCopyWarning: \n",
      "A value is trying to be set on a copy of a slice from a DataFrame\n",
      "\n",
      "See the caveats in the documentation: https://pandas.pydata.org/pandas-docs/stable/user_guide/indexing.html#returning-a-view-versus-a-copy\n",
      "  brent_df.rename(columns={\"Value\": \"Brent Oil Value\"}, inplace=True)\n",
      "c:\\Users\\manim\\LabV2\\ONR-Price-Prediction\\onr_price_prediction\\analysis\\build_data.py:64: SettingWithCopyWarning: \n",
      "A value is trying to be set on a copy of a slice from a DataFrame\n",
      "\n",
      "See the caveats in the documentation: https://pandas.pydata.org/pandas-docs/stable/user_guide/indexing.html#returning-a-view-versus-a-copy\n",
      "  wti_df.rename(columns={\"Value\": \"WTI Oil Value\"}, inplace=True)\n",
      "c:\\Users\\manim\\LabV2\\ONR-Price-Prediction\\onr_price_prediction\\analysis\\build_data.py:69: FutureWarning: DataFrame.fillna with 'method' is deprecated and will raise in a future version. Use obj.ffill() or obj.bfill() instead.\n",
      "  date_wise_volza = date_wise_volza.join(ais_popular_pd, how=\"left\").fillna(\n",
      "c:\\Users\\manim\\LabV2\\ONR-Price-Prediction\\onr_price_prediction\\analysis\\build_data.py:72: FutureWarning: DataFrame.fillna with 'method' is deprecated and will raise in a future version. Use obj.ffill() or obj.bfill() instead.\n",
      "  aggregated_df = date_wise_volza.join(prices_pd, how=\"left\").fillna(method=FILL_METHOD)\n",
      "c:\\Users\\manim\\LabV2\\ONR-Price-Prediction\\onr_price_prediction\\analysis\\build_data.py:75: FutureWarning: DataFrame.fillna with 'method' is deprecated and will raise in a future version. Use obj.ffill() or obj.bfill() instead.\n",
      "  ).fillna(method=FILL_METHOD)\n",
      "c:\\Users\\manim\\LabV2\\ONR-Price-Prediction\\onr_price_prediction\\analysis\\build_data.py:78: FutureWarning: DataFrame.fillna with 'method' is deprecated and will raise in a future version. Use obj.ffill() or obj.bfill() instead.\n",
      "  ).fillna(method=FILL_METHOD)\n"
     ]
    },
    {
     "name": "stdout",
     "output_type": "stream",
     "text": [
      "Rows dropped due to NaN values: 3\n"
     ]
    },
    {
     "name": "stderr",
     "output_type": "stream",
     "text": [
      "c:\\Users\\manim\\LabV2\\ONR-Price-Prediction\\onr_price_prediction\\venv\\Lib\\site-packages\\statsmodels\\tsa\\base\\tsa_model.py:836: ValueWarning: No supported index is available. Prediction results will be given with an integer index beginning at `start`.\n",
      "  return get_prediction_index(\n",
      "c:\\Users\\manim\\LabV2\\ONR-Price-Prediction\\onr_price_prediction\\venv\\Lib\\site-packages\\statsmodels\\tsa\\base\\tsa_model.py:836: FutureWarning: No supported index is available. In the next version, calling this method in a model without a supported index will result in an exception.\n",
      "  return get_prediction_index(\n"
     ]
    },
    {
     "name": "stdout",
     "output_type": "stream",
     "text": [
      "Detecting spikes... 20\n",
      "Building data...\n"
     ]
    },
    {
     "name": "stderr",
     "output_type": "stream",
     "text": [
      "c:\\Users\\manim\\LabV2\\ONR-Price-Prediction\\onr_price_prediction\\analysis\\build_data.py:63: SettingWithCopyWarning: \n",
      "A value is trying to be set on a copy of a slice from a DataFrame\n",
      "\n",
      "See the caveats in the documentation: https://pandas.pydata.org/pandas-docs/stable/user_guide/indexing.html#returning-a-view-versus-a-copy\n",
      "  brent_df.rename(columns={\"Value\": \"Brent Oil Value\"}, inplace=True)\n",
      "c:\\Users\\manim\\LabV2\\ONR-Price-Prediction\\onr_price_prediction\\analysis\\build_data.py:64: SettingWithCopyWarning: \n",
      "A value is trying to be set on a copy of a slice from a DataFrame\n",
      "\n",
      "See the caveats in the documentation: https://pandas.pydata.org/pandas-docs/stable/user_guide/indexing.html#returning-a-view-versus-a-copy\n",
      "  wti_df.rename(columns={\"Value\": \"WTI Oil Value\"}, inplace=True)\n",
      "c:\\Users\\manim\\LabV2\\ONR-Price-Prediction\\onr_price_prediction\\analysis\\build_data.py:69: FutureWarning: DataFrame.fillna with 'method' is deprecated and will raise in a future version. Use obj.ffill() or obj.bfill() instead.\n",
      "  date_wise_volza = date_wise_volza.join(ais_popular_pd, how=\"left\").fillna(\n",
      "c:\\Users\\manim\\LabV2\\ONR-Price-Prediction\\onr_price_prediction\\analysis\\build_data.py:72: FutureWarning: DataFrame.fillna with 'method' is deprecated and will raise in a future version. Use obj.ffill() or obj.bfill() instead.\n",
      "  aggregated_df = date_wise_volza.join(prices_pd, how=\"left\").fillna(method=FILL_METHOD)\n",
      "c:\\Users\\manim\\LabV2\\ONR-Price-Prediction\\onr_price_prediction\\analysis\\build_data.py:75: FutureWarning: DataFrame.fillna with 'method' is deprecated and will raise in a future version. Use obj.ffill() or obj.bfill() instead.\n",
      "  ).fillna(method=FILL_METHOD)\n",
      "c:\\Users\\manim\\LabV2\\ONR-Price-Prediction\\onr_price_prediction\\analysis\\build_data.py:78: FutureWarning: DataFrame.fillna with 'method' is deprecated and will raise in a future version. Use obj.ffill() or obj.bfill() instead.\n",
      "  ).fillna(method=FILL_METHOD)\n"
     ]
    },
    {
     "name": "stdout",
     "output_type": "stream",
     "text": [
      "Rows dropped due to NaN values: 1\n",
      "Detecting spikes... 20\n"
     ]
    },
    {
     "name": "stderr",
     "output_type": "stream",
     "text": [
      "c:\\Users\\manim\\LabV2\\ONR-Price-Prediction\\onr_price_prediction\\venv\\Lib\\site-packages\\statsmodels\\tsa\\base\\tsa_model.py:836: ValueWarning: No supported index is available. Prediction results will be given with an integer index beginning at `start`.\n",
      "  return get_prediction_index(\n",
      "c:\\Users\\manim\\LabV2\\ONR-Price-Prediction\\onr_price_prediction\\venv\\Lib\\site-packages\\statsmodels\\tsa\\base\\tsa_model.py:836: FutureWarning: No supported index is available. In the next version, calling this method in a model without a supported index will result in an exception.\n",
      "  return get_prediction_index(\n"
     ]
    }
   ],
   "source": [
    "pre_features = []\n",
    "pre_labels = []\n",
    "tar_features = []\n",
    "tar_labels = []\n",
    "for COMMODITY in COMMODITYS:\n",
    "    VOLZA_FILE_PATH = f\"../volza/{COMMODITY}/{COMMODITY}.csv\"\n",
    "    PRICE_FILE_PATH = f\"../volza/{COMMODITY}/{COMMODITY}_prices.csv\"\n",
    "    \n",
    "    # Get the data\n",
    "    data = get_data(VOLZA_FILE_PATH, PRICE_FILE_PATH, window_size=20, center=False)\n",
    "    \n",
    "    # Add Isolation Forest spikes column\n",
    "    data['spikes_if'] = utils.detect_spikes_if(data, TARGET_COLUMN, contamination=0.1)\n",
    "    \n",
    "    # Add Bowen's spike detection\n",
    "    _, features, labels = utils.detect_spikes_new(data, TARGET_COLUMN, window_size=WINDOW_SIZE, center=False)\n",
    "    if COMMODITY == target_COMMODITY:\n",
    "        tar_features.extend(features)\n",
    "        tar_labels.extend(labels)\n",
    "        continue\n",
    "    pre_features.extend(features)\n",
    "    pre_labels.extend(labels)"
   ]
  },
  {
   "cell_type": "code",
   "execution_count": 4,
   "metadata": {},
   "outputs": [],
   "source": [
    "from imblearn.over_sampling import RandomOverSampler\n",
    "from imblearn.under_sampling import RandomUnderSampler\n",
    "\n",
    "sampler = RandomOverSampler\n",
    "output_file_path = f'{target_COMMODITY}/test/results_test.csv'\n",
    "pred_file_path = f'{target_COMMODITY}/test/predictions/test'\n",
    "model_path = f'{target_COMMODITY}/best_model'"
   ]
  },
  {
   "cell_type": "code",
   "execution_count": 5,
   "metadata": {},
   "outputs": [],
   "source": [
    "aggregated_df = data\n",
    "SPIKE_COLUMN = 'spikes_if'"
   ]
  },
  {
   "cell_type": "code",
   "execution_count": 6,
   "metadata": {},
   "outputs": [],
   "source": [
    "# Prepare price data\n",
    "# X_price, y_price = data_processing.prepare_features_and_target(aggregated_df, TARGET_COLUMN, SPIKE_COLUMN)\n",
    "X_price = np.array(tar_features)\n",
    "y_price = np.array(tar_labels)\n",
    "\n",
    "# Split price data\n",
    "X_train_price, X_test_price, y_train_price, y_test_price = train_test_split(X_price, y_price, test_size=0.3, random_state=RANDOM_STATE, shuffle=False)\n",
    "X_train_price, X_val_price, y_train_price, y_val_price = train_test_split(X_train_price, y_train_price, test_size=(10/70), random_state=RANDOM_STATE, shuffle=False)\n",
    "\n",
    "# Balancing\n",
    "X_train_price, y_train_price = sampler(random_state=RANDOM_STATE).fit_resample(X_train_price, y_train_price)\n",
    "\n",
    "# Scaling\n",
    "X_train_price, X_test_price, X_val_price = data_processing.scale_features(X_train_price, X_test_price, X_val_price)\n",
    "\n",
    "# Sequence making\n",
    "# X_train_price, y_train_price = data_processing.create_sequences(X_train_price, y_train_price, WINDOW_SIZE)\n",
    "# X_test_price, y_test_price = data_processing.create_sequences(X_test_price, y_test_price, WINDOW_SIZE)\n",
    "# X_val_price, y_val_price = data_processing.create_sequences(X_val_price, y_val_price, WINDOW_SIZE)\n",
    "\n",
    "\n",
    "X_train_price = np.expand_dims(X_train_price, axis = 2)\n",
    "X_test_price = np.expand_dims(X_test_price, axis = 2)\n",
    "X_val_price = np.expand_dims(X_val_price, axis = 2)"
   ]
  },
  {
   "cell_type": "code",
   "execution_count": 7,
   "metadata": {},
   "outputs": [
    {
     "name": "stdout",
     "output_type": "stream",
     "text": [
      "WARNING:tensorflow:From c:\\Users\\manim\\LabV2\\ONR-Price-Prediction\\onr_price_prediction\\venv\\Lib\\site-packages\\keras\\src\\optimizers\\__init__.py:309: The name tf.train.Optimizer is deprecated. Please use tf.compat.v1.train.Optimizer instead.\n",
      "\n",
      "WARNING:tensorflow:From c:\\Users\\manim\\LabV2\\ONR-Price-Prediction\\onr_price_prediction\\venv\\Lib\\site-packages\\keras\\src\\utils\\tf_utils.py:492: The name tf.ragged.RaggedTensorValue is deprecated. Please use tf.compat.v1.ragged.RaggedTensorValue instead.\n",
      "\n",
      "7/7 [==============================] - 0s 13ms/step\n",
      "7/7 [==============================] - 0s 9ms/step\n",
      "Predictions saved to CSV file: copper/test/predictions/test/LSTM_256_layers_predictions.csv\n",
      "Predictions saved to NPY file: copper/test/predictions/test/LSTM_256_layers_predictions.npy\n",
      "Predictions saved to CSV file: copper/test/predictions/test_confidence/LSTM_256_layers_predictions.csv\n",
      "Predictions saved to NPY file: copper/test/predictions/test_confidence/LSTM_256_layers_predictions.npy\n",
      "{'Name': 'LSTM', 'Params': '256 layers', 'Accuracy': 0.6081081081081081, 'Precision (0)': 0.8424657534246576, 'Recall (0)': 0.6577540106951871, 'F1 (0)': 0.7387387387387387, 'Precision (1)': 0.15789473684210525, 'Recall (1)': 0.34285714285714286, 'F1 (1)': 0.21621621621621623, 'Prior': '0.16'}\n"
     ]
    },
    {
     "name": "stderr",
     "output_type": "stream",
     "text": [
      "c:\\Users\\manim\\LabV2\\ONR-Price-Prediction\\onr_price_prediction\\venv\\Lib\\site-packages\\keras\\src\\engine\\training.py:3103: UserWarning: You are saving your model as an HDF5 file via `model.save()`. This file format is considered legacy. We recommend using instead the native Keras format, e.g. `model.save('my_model.keras')`.\n",
      "  saving_api.save_model(\n"
     ]
    },
    {
     "name": "stdout",
     "output_type": "stream",
     "text": [
      "7/7 [==============================] - 0s 3ms/step\n",
      "7/7 [==============================] - 0s 5ms/step\n",
      "Predictions saved to CSV file: copper/test/predictions/test/LSTM_128_layers_predictions.csv\n",
      "Predictions saved to NPY file: copper/test/predictions/test/LSTM_128_layers_predictions.npy\n",
      "Predictions saved to CSV file: copper/test/predictions/test_confidence/LSTM_128_layers_predictions.csv\n",
      "Predictions saved to NPY file: copper/test/predictions/test_confidence/LSTM_128_layers_predictions.npy\n",
      "{'Name': 'LSTM', 'Params': '128 layers', 'Accuracy': 0.7882882882882883, 'Precision (0)': 0.8608247422680413, 'Recall (0)': 0.893048128342246, 'F1 (0)': 0.8766404199475065, 'Precision (1)': 0.2857142857142857, 'Recall (1)': 0.22857142857142856, 'F1 (1)': 0.25396825396825395, 'Prior': '0.16'}\n"
     ]
    },
    {
     "name": "stderr",
     "output_type": "stream",
     "text": [
      "c:\\Users\\manim\\LabV2\\ONR-Price-Prediction\\onr_price_prediction\\venv\\Lib\\site-packages\\keras\\src\\engine\\training.py:3103: UserWarning: You are saving your model as an HDF5 file via `model.save()`. This file format is considered legacy. We recommend using instead the native Keras format, e.g. `model.save('my_model.keras')`.\n",
      "  saving_api.save_model(\n"
     ]
    },
    {
     "name": "stdout",
     "output_type": "stream",
     "text": [
      "7/7 [==============================] - 0s 2ms/step\n",
      "7/7 [==============================] - 0s 1ms/step\n",
      "Predictions saved to CSV file: copper/test/predictions/test/LSTM_64_layers_predictions.csv\n",
      "Predictions saved to NPY file: copper/test/predictions/test/LSTM_64_layers_predictions.npy\n",
      "Predictions saved to CSV file: copper/test/predictions/test_confidence/LSTM_64_layers_predictions.csv\n",
      "Predictions saved to NPY file: copper/test/predictions/test_confidence/LSTM_64_layers_predictions.npy\n",
      "{'Name': 'LSTM', 'Params': '64 layers', 'Accuracy': 0.6531531531531531, 'Precision (0)': 0.8481012658227848, 'Recall (0)': 0.7165775401069518, 'F1 (0)': 0.7768115942028986, 'Precision (1)': 0.171875, 'Recall (1)': 0.3142857142857143, 'F1 (1)': 0.22222222222222224, 'Prior': '0.16'}\n"
     ]
    },
    {
     "name": "stderr",
     "output_type": "stream",
     "text": [
      "c:\\Users\\manim\\LabV2\\ONR-Price-Prediction\\onr_price_prediction\\venv\\Lib\\site-packages\\keras\\src\\engine\\training.py:3103: UserWarning: You are saving your model as an HDF5 file via `model.save()`. This file format is considered legacy. We recommend using instead the native Keras format, e.g. `model.save('my_model.keras')`.\n",
      "  saving_api.save_model(\n"
     ]
    },
    {
     "name": "stdout",
     "output_type": "stream",
     "text": [
      "7/7 [==============================] - 0s 2ms/step\n",
      "7/7 [==============================] - 0s 3ms/step\n",
      "Predictions saved to CSV file: copper/test/predictions/test/LSTM_32_layers_predictions.csv\n",
      "Predictions saved to NPY file: copper/test/predictions/test/LSTM_32_layers_predictions.npy\n",
      "Predictions saved to CSV file: copper/test/predictions/test_confidence/LSTM_32_layers_predictions.csv\n",
      "Predictions saved to NPY file: copper/test/predictions/test_confidence/LSTM_32_layers_predictions.npy\n",
      "{'Name': 'LSTM', 'Params': '32 layers', 'Accuracy': 0.25225225225225223, 'Precision (0)': 0.7692307692307693, 'Recall (0)': 0.16042780748663102, 'F1 (0)': 0.26548672566371684, 'Precision (1)': 0.14207650273224043, 'Recall (1)': 0.7428571428571429, 'F1 (1)': 0.23853211009174313, 'Prior': '0.16'}\n",
      "WARNING:tensorflow:From c:\\Users\\manim\\LabV2\\ONR-Price-Prediction\\onr_price_prediction\\venv\\Lib\\site-packages\\keras\\src\\backend.py:6642: The name tf.nn.max_pool is deprecated. Please use tf.nn.max_pool2d instead.\n",
      "\n"
     ]
    },
    {
     "name": "stderr",
     "output_type": "stream",
     "text": [
      "c:\\Users\\manim\\LabV2\\ONR-Price-Prediction\\onr_price_prediction\\venv\\Lib\\site-packages\\keras\\src\\engine\\training.py:3103: UserWarning: You are saving your model as an HDF5 file via `model.save()`. This file format is considered legacy. We recommend using instead the native Keras format, e.g. `model.save('my_model.keras')`.\n",
      "  saving_api.save_model(\n"
     ]
    },
    {
     "name": "stdout",
     "output_type": "stream",
     "text": [
      "WARNING:tensorflow:From c:\\Users\\manim\\LabV2\\ONR-Price-Prediction\\onr_price_prediction\\venv\\Lib\\site-packages\\keras\\src\\engine\\base_layer_utils.py:384: The name tf.executing_eagerly_outside_functions is deprecated. Please use tf.compat.v1.executing_eagerly_outside_functions instead.\n",
      "\n",
      "7/7 [==============================] - 0s 3ms/step\n",
      "Predictions saved to CSV file: copper/test/predictions/test/CNN_Attention_32_filters_7_kernels_predictions.csv\n",
      "Predictions saved to NPY file: copper/test/predictions/test/CNN_Attention_32_filters_7_kernels_predictions.npy\n",
      "Predictions saved to CSV file: copper/test/predictions/test_confidence/CNN_Attention_32_filters_7_kernels_predictions.csv\n",
      "Predictions saved to NPY file: copper/test/predictions/test_confidence/CNN_Attention_32_filters_7_kernels_predictions.npy\n",
      "CNN_Attention_32_filters_7_kernels {'Name': 'CNN with Attention', 'Params': '32 filters, kernel size 7', 'Accuracy': 0.5945945945945946, 'Precision (0)': 0.825503355704698, 'Recall (0)': 0.6577540106951871, 'F1 (0)': 0.7321428571428571, 'Precision (1)': 0.1232876712328767, 'Recall (1)': 0.2571428571428571, 'F1 (1)': 0.16666666666666663, 'Prior': '0.16'}\n"
     ]
    },
    {
     "name": "stderr",
     "output_type": "stream",
     "text": [
      "c:\\Users\\manim\\LabV2\\ONR-Price-Prediction\\onr_price_prediction\\venv\\Lib\\site-packages\\keras\\src\\engine\\training.py:3103: UserWarning: You are saving your model as an HDF5 file via `model.save()`. This file format is considered legacy. We recommend using instead the native Keras format, e.g. `model.save('my_model.keras')`.\n",
      "  saving_api.save_model(\n"
     ]
    },
    {
     "name": "stdout",
     "output_type": "stream",
     "text": [
      "7/7 [==============================] - 0s 2ms/step\n",
      "Predictions saved to CSV file: copper/test/predictions/test/CNN_Attention_32_filters_5_kernels_predictions.csv\n",
      "Predictions saved to NPY file: copper/test/predictions/test/CNN_Attention_32_filters_5_kernels_predictions.npy\n",
      "Predictions saved to CSV file: copper/test/predictions/test_confidence/CNN_Attention_32_filters_5_kernels_predictions.csv\n",
      "Predictions saved to NPY file: copper/test/predictions/test_confidence/CNN_Attention_32_filters_5_kernels_predictions.npy\n",
      "CNN_Attention_32_filters_5_kernels {'Name': 'CNN with Attention', 'Params': '32 filters, kernel size 5', 'Accuracy': 0.5315315315315315, 'Precision (0)': 0.816793893129771, 'Recall (0)': 0.5721925133689839, 'F1 (0)': 0.6729559748427673, 'Precision (1)': 0.12087912087912088, 'Recall (1)': 0.3142857142857143, 'F1 (1)': 0.17460317460317462, 'Prior': '0.16'}\n"
     ]
    },
    {
     "name": "stderr",
     "output_type": "stream",
     "text": [
      "c:\\Users\\manim\\LabV2\\ONR-Price-Prediction\\onr_price_prediction\\venv\\Lib\\site-packages\\keras\\src\\engine\\training.py:3103: UserWarning: You are saving your model as an HDF5 file via `model.save()`. This file format is considered legacy. We recommend using instead the native Keras format, e.g. `model.save('my_model.keras')`.\n",
      "  saving_api.save_model(\n"
     ]
    },
    {
     "name": "stdout",
     "output_type": "stream",
     "text": [
      "7/7 [==============================] - 0s 2ms/step\n",
      "Predictions saved to CSV file: copper/test/predictions/test/CNN_Attention_32_filters_3_kernels_predictions.csv\n",
      "Predictions saved to NPY file: copper/test/predictions/test/CNN_Attention_32_filters_3_kernels_predictions.npy\n",
      "Predictions saved to CSV file: copper/test/predictions/test_confidence/CNN_Attention_32_filters_3_kernels_predictions.csv\n",
      "Predictions saved to NPY file: copper/test/predictions/test_confidence/CNN_Attention_32_filters_3_kernels_predictions.npy\n",
      "CNN_Attention_32_filters_3_kernels {'Name': 'CNN with Attention', 'Params': '32 filters, kernel size 3', 'Accuracy': 0.7792792792792793, 'Precision (0)': 0.8382352941176471, 'Recall (0)': 0.9144385026737968, 'F1 (0)': 0.8746803069053708, 'Precision (1)': 0.1111111111111111, 'Recall (1)': 0.05714285714285714, 'F1 (1)': 0.07547169811320754, 'Prior': '0.16'}\n"
     ]
    },
    {
     "name": "stderr",
     "output_type": "stream",
     "text": [
      "c:\\Users\\manim\\LabV2\\ONR-Price-Prediction\\onr_price_prediction\\venv\\Lib\\site-packages\\keras\\src\\engine\\training.py:3103: UserWarning: You are saving your model as an HDF5 file via `model.save()`. This file format is considered legacy. We recommend using instead the native Keras format, e.g. `model.save('my_model.keras')`.\n",
      "  saving_api.save_model(\n"
     ]
    },
    {
     "name": "stdout",
     "output_type": "stream",
     "text": [
      "7/7 [==============================] - 0s 3ms/step\n",
      "Predictions saved to CSV file: copper/test/predictions/test/CNN_Attention_64_filters_7_kernels_predictions.csv\n",
      "Predictions saved to NPY file: copper/test/predictions/test/CNN_Attention_64_filters_7_kernels_predictions.npy\n",
      "Predictions saved to CSV file: copper/test/predictions/test_confidence/CNN_Attention_64_filters_7_kernels_predictions.csv\n",
      "Predictions saved to NPY file: copper/test/predictions/test_confidence/CNN_Attention_64_filters_7_kernels_predictions.npy\n",
      "CNN_Attention_64_filters_7_kernels {'Name': 'CNN with Attention', 'Params': '64 filters, kernel size 7', 'Accuracy': 0.7072072072072072, 'Precision (0)': 0.8465909090909091, 'Recall (0)': 0.7967914438502673, 'F1 (0)': 0.8209366391184573, 'Precision (1)': 0.17391304347826086, 'Recall (1)': 0.22857142857142856, 'F1 (1)': 0.19753086419753085, 'Prior': '0.16'}\n"
     ]
    },
    {
     "name": "stderr",
     "output_type": "stream",
     "text": [
      "c:\\Users\\manim\\LabV2\\ONR-Price-Prediction\\onr_price_prediction\\venv\\Lib\\site-packages\\keras\\src\\engine\\training.py:3103: UserWarning: You are saving your model as an HDF5 file via `model.save()`. This file format is considered legacy. We recommend using instead the native Keras format, e.g. `model.save('my_model.keras')`.\n",
      "  saving_api.save_model(\n"
     ]
    },
    {
     "name": "stdout",
     "output_type": "stream",
     "text": [
      "7/7 [==============================] - 0s 1ms/step\n",
      "Predictions saved to CSV file: copper/test/predictions/test/CNN_Attention_64_filters_5_kernels_predictions.csv\n",
      "Predictions saved to NPY file: copper/test/predictions/test/CNN_Attention_64_filters_5_kernels_predictions.npy\n",
      "Predictions saved to CSV file: copper/test/predictions/test_confidence/CNN_Attention_64_filters_5_kernels_predictions.csv\n",
      "Predictions saved to NPY file: copper/test/predictions/test_confidence/CNN_Attention_64_filters_5_kernels_predictions.npy\n",
      "CNN_Attention_64_filters_5_kernels {'Name': 'CNN with Attention', 'Params': '64 filters, kernel size 5', 'Accuracy': 0.7387387387387387, 'Precision (0)': 0.8486486486486486, 'Recall (0)': 0.839572192513369, 'F1 (0)': 0.8440860215053764, 'Precision (1)': 0.1891891891891892, 'Recall (1)': 0.2, 'F1 (1)': 0.19444444444444445, 'Prior': '0.16'}\n"
     ]
    },
    {
     "name": "stderr",
     "output_type": "stream",
     "text": [
      "c:\\Users\\manim\\LabV2\\ONR-Price-Prediction\\onr_price_prediction\\venv\\Lib\\site-packages\\keras\\src\\engine\\training.py:3103: UserWarning: You are saving your model as an HDF5 file via `model.save()`. This file format is considered legacy. We recommend using instead the native Keras format, e.g. `model.save('my_model.keras')`.\n",
      "  saving_api.save_model(\n"
     ]
    },
    {
     "name": "stdout",
     "output_type": "stream",
     "text": [
      "7/7 [==============================] - 0s 3ms/step\n",
      "Predictions saved to CSV file: copper/test/predictions/test/CNN_Attention_64_filters_3_kernels_predictions.csv\n",
      "Predictions saved to NPY file: copper/test/predictions/test/CNN_Attention_64_filters_3_kernels_predictions.npy\n",
      "Predictions saved to CSV file: copper/test/predictions/test_confidence/CNN_Attention_64_filters_3_kernels_predictions.csv\n",
      "Predictions saved to NPY file: copper/test/predictions/test_confidence/CNN_Attention_64_filters_3_kernels_predictions.npy\n",
      "CNN_Attention_64_filters_3_kernels {'Name': 'CNN with Attention', 'Params': '64 filters, kernel size 3', 'Accuracy': 0.4189189189189189, 'Precision (0)': 0.8020833333333334, 'Recall (0)': 0.4117647058823529, 'F1 (0)': 0.5441696113074205, 'Precision (1)': 0.12698412698412698, 'Recall (1)': 0.45714285714285713, 'F1 (1)': 0.1987577639751553, 'Prior': '0.16'}\n"
     ]
    },
    {
     "name": "stderr",
     "output_type": "stream",
     "text": [
      "c:\\Users\\manim\\LabV2\\ONR-Price-Prediction\\onr_price_prediction\\venv\\Lib\\site-packages\\keras\\src\\engine\\training.py:3103: UserWarning: You are saving your model as an HDF5 file via `model.save()`. This file format is considered legacy. We recommend using instead the native Keras format, e.g. `model.save('my_model.keras')`.\n",
      "  saving_api.save_model(\n"
     ]
    },
    {
     "name": "stdout",
     "output_type": "stream",
     "text": [
      "7/7 [==============================] - 0s 2ms/step\n",
      "Predictions saved to CSV file: copper/test/predictions/test/CNN_Attention_128_filters_7_kernels_predictions.csv\n",
      "Predictions saved to NPY file: copper/test/predictions/test/CNN_Attention_128_filters_7_kernels_predictions.npy\n",
      "Predictions saved to CSV file: copper/test/predictions/test_confidence/CNN_Attention_128_filters_7_kernels_predictions.csv\n",
      "Predictions saved to NPY file: copper/test/predictions/test_confidence/CNN_Attention_128_filters_7_kernels_predictions.npy\n",
      "CNN_Attention_128_filters_7_kernels {'Name': 'CNN with Attention', 'Params': '128 filters, kernel size 7', 'Accuracy': 0.6261261261261262, 'Precision (0)': 0.8376623376623377, 'Recall (0)': 0.6898395721925134, 'F1 (0)': 0.7565982404692082, 'Precision (1)': 0.14705882352941177, 'Recall (1)': 0.2857142857142857, 'F1 (1)': 0.19417475728155337, 'Prior': '0.16'}\n"
     ]
    },
    {
     "name": "stderr",
     "output_type": "stream",
     "text": [
      "c:\\Users\\manim\\LabV2\\ONR-Price-Prediction\\onr_price_prediction\\venv\\Lib\\site-packages\\keras\\src\\engine\\training.py:3103: UserWarning: You are saving your model as an HDF5 file via `model.save()`. This file format is considered legacy. We recommend using instead the native Keras format, e.g. `model.save('my_model.keras')`.\n",
      "  saving_api.save_model(\n"
     ]
    },
    {
     "name": "stdout",
     "output_type": "stream",
     "text": [
      "7/7 [==============================] - 0s 2ms/step\n",
      "Predictions saved to CSV file: copper/test/predictions/test/CNN_Attention_128_filters_5_kernels_predictions.csv\n",
      "Predictions saved to NPY file: copper/test/predictions/test/CNN_Attention_128_filters_5_kernels_predictions.npy\n",
      "Predictions saved to CSV file: copper/test/predictions/test_confidence/CNN_Attention_128_filters_5_kernels_predictions.csv\n",
      "Predictions saved to NPY file: copper/test/predictions/test_confidence/CNN_Attention_128_filters_5_kernels_predictions.npy\n",
      "CNN_Attention_128_filters_5_kernels {'Name': 'CNN with Attention', 'Params': '128 filters, kernel size 5', 'Accuracy': 0.49099099099099097, 'Precision (0)': 0.8189655172413793, 'Recall (0)': 0.5080213903743316, 'F1 (0)': 0.6270627062706272, 'Precision (1)': 0.1320754716981132, 'Recall (1)': 0.4, 'F1 (1)': 0.19858156028368795, 'Prior': '0.16'}\n"
     ]
    },
    {
     "name": "stderr",
     "output_type": "stream",
     "text": [
      "c:\\Users\\manim\\LabV2\\ONR-Price-Prediction\\onr_price_prediction\\venv\\Lib\\site-packages\\keras\\src\\engine\\training.py:3103: UserWarning: You are saving your model as an HDF5 file via `model.save()`. This file format is considered legacy. We recommend using instead the native Keras format, e.g. `model.save('my_model.keras')`.\n",
      "  saving_api.save_model(\n"
     ]
    },
    {
     "name": "stdout",
     "output_type": "stream",
     "text": [
      "7/7 [==============================] - 0s 3ms/step\n",
      "Predictions saved to CSV file: copper/test/predictions/test/CNN_Attention_128_filters_3_kernels_predictions.csv\n",
      "Predictions saved to NPY file: copper/test/predictions/test/CNN_Attention_128_filters_3_kernels_predictions.npy\n",
      "Predictions saved to CSV file: copper/test/predictions/test_confidence/CNN_Attention_128_filters_3_kernels_predictions.csv\n",
      "Predictions saved to NPY file: copper/test/predictions/test_confidence/CNN_Attention_128_filters_3_kernels_predictions.npy\n",
      "CNN_Attention_128_filters_3_kernels {'Name': 'CNN with Attention', 'Params': '128 filters, kernel size 3', 'Accuracy': 0.3963963963963964, 'Precision (0)': 0.8533333333333334, 'Recall (0)': 0.3422459893048128, 'F1 (0)': 0.4885496183206107, 'Precision (1)': 0.16326530612244897, 'Recall (1)': 0.6857142857142857, 'F1 (1)': 0.26373626373626374, 'Prior': '0.16'}\n"
     ]
    },
    {
     "name": "stderr",
     "output_type": "stream",
     "text": [
      "c:\\Users\\manim\\LabV2\\ONR-Price-Prediction\\onr_price_prediction\\venv\\Lib\\site-packages\\keras\\src\\engine\\training.py:3103: UserWarning: You are saving your model as an HDF5 file via `model.save()`. This file format is considered legacy. We recommend using instead the native Keras format, e.g. `model.save('my_model.keras')`.\n",
      "  saving_api.save_model(\n"
     ]
    },
    {
     "name": "stdout",
     "output_type": "stream",
     "text": [
      "7/7 [==============================] - 0s 2ms/step\n",
      "Predictions saved to CSV file: copper/test/predictions/test/CNN_Attention_256_filters_7_kernels_predictions.csv\n",
      "Predictions saved to NPY file: copper/test/predictions/test/CNN_Attention_256_filters_7_kernels_predictions.npy\n",
      "Predictions saved to CSV file: copper/test/predictions/test_confidence/CNN_Attention_256_filters_7_kernels_predictions.csv\n",
      "Predictions saved to NPY file: copper/test/predictions/test_confidence/CNN_Attention_256_filters_7_kernels_predictions.npy\n",
      "CNN_Attention_256_filters_7_kernels {'Name': 'CNN with Attention', 'Params': '256 filters, kernel size 7', 'Accuracy': 0.7927927927927928, 'Precision (0)': 0.8578680203045685, 'Recall (0)': 0.9037433155080213, 'F1 (0)': 0.8802083333333333, 'Precision (1)': 0.28, 'Recall (1)': 0.2, 'F1 (1)': 0.23333333333333334, 'Prior': '0.16'}\n"
     ]
    },
    {
     "name": "stderr",
     "output_type": "stream",
     "text": [
      "c:\\Users\\manim\\LabV2\\ONR-Price-Prediction\\onr_price_prediction\\venv\\Lib\\site-packages\\keras\\src\\engine\\training.py:3103: UserWarning: You are saving your model as an HDF5 file via `model.save()`. This file format is considered legacy. We recommend using instead the native Keras format, e.g. `model.save('my_model.keras')`.\n",
      "  saving_api.save_model(\n"
     ]
    },
    {
     "name": "stdout",
     "output_type": "stream",
     "text": [
      "7/7 [==============================] - 0s 2ms/step\n",
      "Predictions saved to CSV file: copper/test/predictions/test/CNN_Attention_256_filters_5_kernels_predictions.csv\n",
      "Predictions saved to NPY file: copper/test/predictions/test/CNN_Attention_256_filters_5_kernels_predictions.npy\n",
      "Predictions saved to CSV file: copper/test/predictions/test_confidence/CNN_Attention_256_filters_5_kernels_predictions.csv\n",
      "Predictions saved to NPY file: copper/test/predictions/test_confidence/CNN_Attention_256_filters_5_kernels_predictions.npy\n",
      "CNN_Attention_256_filters_5_kernels {'Name': 'CNN with Attention', 'Params': '256 filters, kernel size 5', 'Accuracy': 0.6981981981981982, 'Precision (0)': 0.8448275862068966, 'Recall (0)': 0.786096256684492, 'F1 (0)': 0.814404432132964, 'Precision (1)': 0.16666666666666666, 'Recall (1)': 0.22857142857142856, 'F1 (1)': 0.19277108433734938, 'Prior': '0.16'}\n"
     ]
    },
    {
     "name": "stderr",
     "output_type": "stream",
     "text": [
      "c:\\Users\\manim\\LabV2\\ONR-Price-Prediction\\onr_price_prediction\\venv\\Lib\\site-packages\\keras\\src\\engine\\training.py:3103: UserWarning: You are saving your model as an HDF5 file via `model.save()`. This file format is considered legacy. We recommend using instead the native Keras format, e.g. `model.save('my_model.keras')`.\n",
      "  saving_api.save_model(\n"
     ]
    },
    {
     "name": "stdout",
     "output_type": "stream",
     "text": [
      "7/7 [==============================] - 0s 2ms/step\n",
      "Predictions saved to CSV file: copper/test/predictions/test/CNN_Attention_256_filters_3_kernels_predictions.csv\n",
      "Predictions saved to NPY file: copper/test/predictions/test/CNN_Attention_256_filters_3_kernels_predictions.npy\n",
      "Predictions saved to CSV file: copper/test/predictions/test_confidence/CNN_Attention_256_filters_3_kernels_predictions.csv\n",
      "Predictions saved to NPY file: copper/test/predictions/test_confidence/CNN_Attention_256_filters_3_kernels_predictions.npy\n",
      "CNN_Attention_256_filters_3_kernels {'Name': 'CNN with Attention', 'Params': '256 filters, kernel size 3', 'Accuracy': 0.3063063063063063, 'Precision (0)': 0.7391304347826086, 'Recall (0)': 0.2727272727272727, 'F1 (0)': 0.3984375, 'Precision (1)': 0.1111111111111111, 'Recall (1)': 0.4857142857142857, 'F1 (1)': 0.18085106382978722, 'Prior': '0.16'}\n"
     ]
    },
    {
     "name": "stderr",
     "output_type": "stream",
     "text": [
      "c:\\Users\\manim\\LabV2\\ONR-Price-Prediction\\onr_price_prediction\\venv\\Lib\\site-packages\\keras\\src\\engine\\training.py:3103: UserWarning: You are saving your model as an HDF5 file via `model.save()`. This file format is considered legacy. We recommend using instead the native Keras format, e.g. `model.save('my_model.keras')`.\n",
      "  saving_api.save_model(\n"
     ]
    },
    {
     "name": "stdout",
     "output_type": "stream",
     "text": [
      "7/7 [==============================] - 0s 2ms/step\n",
      "7/7 [==============================] - 0s 2ms/step\n",
      "Predictions saved to CSV file: copper/test/predictions/test/RNN_256_units_predictions.csv\n",
      "Predictions saved to NPY file: copper/test/predictions/test/RNN_256_units_predictions.npy\n",
      "Predictions saved to CSV file: copper/test/predictions/test_confidence/RNN_256_units_predictions.csv\n",
      "Predictions saved to NPY file: copper/test/predictions/test_confidence/RNN_256_units_predictions.npy\n",
      "RNN_256_units: {'Name': 'RNN', 'Params': '256 units', 'Accuracy': 0.8288288288288288, 'Precision (0)': 0.8669950738916257, 'Recall (0)': 0.9411764705882353, 'F1 (0)': 0.9025641025641026, 'Precision (1)': 0.42105263157894735, 'Recall (1)': 0.22857142857142856, 'F1 (1)': 0.2962962962962963, 'Prior': '0.16'}\n"
     ]
    },
    {
     "name": "stderr",
     "output_type": "stream",
     "text": [
      "c:\\Users\\manim\\LabV2\\ONR-Price-Prediction\\onr_price_prediction\\venv\\Lib\\site-packages\\keras\\src\\engine\\training.py:3103: UserWarning: You are saving your model as an HDF5 file via `model.save()`. This file format is considered legacy. We recommend using instead the native Keras format, e.g. `model.save('my_model.keras')`.\n",
      "  saving_api.save_model(\n"
     ]
    },
    {
     "name": "stdout",
     "output_type": "stream",
     "text": [
      "7/7 [==============================] - 0s 1ms/step\n",
      "7/7 [==============================] - 0s 3ms/step\n",
      "Predictions saved to CSV file: copper/test/predictions/test/RNN_128_units_predictions.csv\n",
      "Predictions saved to NPY file: copper/test/predictions/test/RNN_128_units_predictions.npy\n",
      "Predictions saved to CSV file: copper/test/predictions/test_confidence/RNN_128_units_predictions.csv\n",
      "Predictions saved to NPY file: copper/test/predictions/test_confidence/RNN_128_units_predictions.npy\n",
      "RNN_128_units: {'Name': 'RNN', 'Params': '128 units', 'Accuracy': 0.24774774774774774, 'Precision (0)': 0.8125, 'Recall (0)': 0.13903743315508021, 'F1 (0)': 0.23744292237442924, 'Precision (1)': 0.15263157894736842, 'Recall (1)': 0.8285714285714286, 'F1 (1)': 0.2577777777777778, 'Prior': '0.16'}\n"
     ]
    },
    {
     "name": "stderr",
     "output_type": "stream",
     "text": [
      "c:\\Users\\manim\\LabV2\\ONR-Price-Prediction\\onr_price_prediction\\venv\\Lib\\site-packages\\keras\\src\\engine\\training.py:3103: UserWarning: You are saving your model as an HDF5 file via `model.save()`. This file format is considered legacy. We recommend using instead the native Keras format, e.g. `model.save('my_model.keras')`.\n",
      "  saving_api.save_model(\n"
     ]
    },
    {
     "name": "stdout",
     "output_type": "stream",
     "text": [
      "7/7 [==============================] - 0s 2ms/step\n",
      "7/7 [==============================] - 0s 840us/step\n",
      "Predictions saved to CSV file: copper/test/predictions/test/RNN_64_units_predictions.csv\n",
      "Predictions saved to NPY file: copper/test/predictions/test/RNN_64_units_predictions.npy\n",
      "Predictions saved to CSV file: copper/test/predictions/test_confidence/RNN_64_units_predictions.csv\n",
      "Predictions saved to NPY file: copper/test/predictions/test_confidence/RNN_64_units_predictions.npy\n",
      "RNN_64_units: {'Name': 'RNN', 'Params': '64 units', 'Accuracy': 0.545045045045045, 'Precision (0)': 0.8161764705882353, 'Recall (0)': 0.5935828877005348, 'F1 (0)': 0.6873065015479878, 'Precision (1)': 0.11627906976744186, 'Recall (1)': 0.2857142857142857, 'F1 (1)': 0.1652892561983471, 'Prior': '0.16'}\n"
     ]
    },
    {
     "name": "stderr",
     "output_type": "stream",
     "text": [
      "c:\\Users\\manim\\LabV2\\ONR-Price-Prediction\\onr_price_prediction\\venv\\Lib\\site-packages\\keras\\src\\engine\\training.py:3103: UserWarning: You are saving your model as an HDF5 file via `model.save()`. This file format is considered legacy. We recommend using instead the native Keras format, e.g. `model.save('my_model.keras')`.\n",
      "  saving_api.save_model(\n"
     ]
    },
    {
     "name": "stdout",
     "output_type": "stream",
     "text": [
      "7/7 [==============================] - 0s 0s/step\n",
      "7/7 [==============================] - 0s 0s/step\n",
      "Predictions saved to CSV file: copper/test/predictions/test/RNN_32_units_predictions.csv\n",
      "Predictions saved to NPY file: copper/test/predictions/test/RNN_32_units_predictions.npy\n",
      "Predictions saved to CSV file: copper/test/predictions/test_confidence/RNN_32_units_predictions.csv\n",
      "Predictions saved to NPY file: copper/test/predictions/test_confidence/RNN_32_units_predictions.npy\n",
      "RNN_32_units: {'Name': 'RNN', 'Params': '32 units', 'Accuracy': 0.6216216216216216, 'Precision (0)': 0.8366013071895425, 'Recall (0)': 0.6844919786096256, 'F1 (0)': 0.7529411764705882, 'Precision (1)': 0.14492753623188406, 'Recall (1)': 0.2857142857142857, 'F1 (1)': 0.19230769230769232, 'Prior': '0.16'}\n"
     ]
    },
    {
     "name": "stderr",
     "output_type": "stream",
     "text": [
      "c:\\Users\\manim\\LabV2\\ONR-Price-Prediction\\onr_price_prediction\\venv\\Lib\\site-packages\\keras\\src\\engine\\training.py:3103: UserWarning: You are saving your model as an HDF5 file via `model.save()`. This file format is considered legacy. We recommend using instead the native Keras format, e.g. `model.save('my_model.keras')`.\n",
      "  saving_api.save_model(\n"
     ]
    },
    {
     "name": "stdout",
     "output_type": "stream",
     "text": [
      "7/7 [==============================] - 0s 0s/step\n",
      "7/7 [==============================] - 0s 3ms/step\n",
      "Predictions saved to CSV file: copper/test/predictions/test/CNN_32_filters_7_kernels_predictions.csv\n",
      "Predictions saved to NPY file: copper/test/predictions/test/CNN_32_filters_7_kernels_predictions.npy\n",
      "Predictions saved to CSV file: copper/test/predictions/test_confidence/CNN_32_filters_7_kernels_predictions.csv\n",
      "Predictions saved to NPY file: copper/test/predictions/test_confidence/CNN_32_filters_7_kernels_predictions.npy\n",
      "CNN_32_filters_7_kernels {'Name': 'CNN', 'Params': '32 filters, kernel size 7', 'Accuracy': 0.6171171171171171, 'Precision (0)': 0.84, 'Recall (0)': 0.6737967914438503, 'F1 (0)': 0.7477744807121662, 'Precision (1)': 0.1527777777777778, 'Recall (1)': 0.3142857142857143, 'F1 (1)': 0.20560747663551404, 'Prior': '0.16'}\n"
     ]
    },
    {
     "name": "stderr",
     "output_type": "stream",
     "text": [
      "c:\\Users\\manim\\LabV2\\ONR-Price-Prediction\\onr_price_prediction\\venv\\Lib\\site-packages\\keras\\src\\engine\\training.py:3103: UserWarning: You are saving your model as an HDF5 file via `model.save()`. This file format is considered legacy. We recommend using instead the native Keras format, e.g. `model.save('my_model.keras')`.\n",
      "  saving_api.save_model(\n"
     ]
    },
    {
     "name": "stdout",
     "output_type": "stream",
     "text": [
      "7/7 [==============================] - 0s 3ms/step\n",
      "7/7 [==============================] - 0s 3ms/step\n",
      "Predictions saved to CSV file: copper/test/predictions/test/CNN_32_filters_5_kernels_predictions.csv\n",
      "Predictions saved to NPY file: copper/test/predictions/test/CNN_32_filters_5_kernels_predictions.npy\n",
      "Predictions saved to CSV file: copper/test/predictions/test_confidence/CNN_32_filters_5_kernels_predictions.csv\n",
      "Predictions saved to NPY file: copper/test/predictions/test_confidence/CNN_32_filters_5_kernels_predictions.npy\n",
      "CNN_32_filters_5_kernels {'Name': 'CNN', 'Params': '32 filters, kernel size 5', 'Accuracy': 0.32432432432432434, 'Precision (0)': 0.8135593220338984, 'Recall (0)': 0.25668449197860965, 'F1 (0)': 0.39024390243902435, 'Precision (1)': 0.147239263803681, 'Recall (1)': 0.6857142857142857, 'F1 (1)': 0.24242424242424243, 'Prior': '0.16'}\n"
     ]
    },
    {
     "name": "stderr",
     "output_type": "stream",
     "text": [
      "c:\\Users\\manim\\LabV2\\ONR-Price-Prediction\\onr_price_prediction\\venv\\Lib\\site-packages\\keras\\src\\engine\\training.py:3103: UserWarning: You are saving your model as an HDF5 file via `model.save()`. This file format is considered legacy. We recommend using instead the native Keras format, e.g. `model.save('my_model.keras')`.\n",
      "  saving_api.save_model(\n"
     ]
    },
    {
     "name": "stdout",
     "output_type": "stream",
     "text": [
      "7/7 [==============================] - 0s 1ms/step\n",
      "7/7 [==============================] - 0s 2ms/step\n",
      "Predictions saved to CSV file: copper/test/predictions/test/CNN_32_filters_3_kernels_predictions.csv\n",
      "Predictions saved to NPY file: copper/test/predictions/test/CNN_32_filters_3_kernels_predictions.npy\n",
      "Predictions saved to CSV file: copper/test/predictions/test_confidence/CNN_32_filters_3_kernels_predictions.csv\n",
      "Predictions saved to NPY file: copper/test/predictions/test_confidence/CNN_32_filters_3_kernels_predictions.npy\n",
      "CNN_32_filters_3_kernels {'Name': 'CNN', 'Params': '32 filters, kernel size 3', 'Accuracy': 0.7747747747747747, 'Precision (0)': 0.8549222797927462, 'Recall (0)': 0.8823529411764706, 'F1 (0)': 0.868421052631579, 'Precision (1)': 0.2413793103448276, 'Recall (1)': 0.2, 'F1 (1)': 0.21875000000000003, 'Prior': '0.16'}\n"
     ]
    },
    {
     "name": "stderr",
     "output_type": "stream",
     "text": [
      "c:\\Users\\manim\\LabV2\\ONR-Price-Prediction\\onr_price_prediction\\venv\\Lib\\site-packages\\keras\\src\\engine\\training.py:3103: UserWarning: You are saving your model as an HDF5 file via `model.save()`. This file format is considered legacy. We recommend using instead the native Keras format, e.g. `model.save('my_model.keras')`.\n",
      "  saving_api.save_model(\n"
     ]
    },
    {
     "name": "stdout",
     "output_type": "stream",
     "text": [
      "7/7 [==============================] - 0s 3ms/step\n",
      "7/7 [==============================] - 0s 1ms/step\n",
      "Predictions saved to CSV file: copper/test/predictions/test/CNN_64_filters_7_kernels_predictions.csv\n",
      "Predictions saved to NPY file: copper/test/predictions/test/CNN_64_filters_7_kernels_predictions.npy\n",
      "Predictions saved to CSV file: copper/test/predictions/test_confidence/CNN_64_filters_7_kernels_predictions.csv\n",
      "Predictions saved to NPY file: copper/test/predictions/test_confidence/CNN_64_filters_7_kernels_predictions.npy\n",
      "CNN_64_filters_7_kernels {'Name': 'CNN', 'Params': '64 filters, kernel size 7', 'Accuracy': 0.7387387387387387, 'Precision (0)': 0.8449197860962567, 'Recall (0)': 0.8449197860962567, 'F1 (0)': 0.8449197860962568, 'Precision (1)': 0.17142857142857143, 'Recall (1)': 0.17142857142857143, 'F1 (1)': 0.17142857142857143, 'Prior': '0.16'}\n"
     ]
    },
    {
     "name": "stderr",
     "output_type": "stream",
     "text": [
      "c:\\Users\\manim\\LabV2\\ONR-Price-Prediction\\onr_price_prediction\\venv\\Lib\\site-packages\\keras\\src\\engine\\training.py:3103: UserWarning: You are saving your model as an HDF5 file via `model.save()`. This file format is considered legacy. We recommend using instead the native Keras format, e.g. `model.save('my_model.keras')`.\n",
      "  saving_api.save_model(\n"
     ]
    },
    {
     "name": "stdout",
     "output_type": "stream",
     "text": [
      "7/7 [==============================] - 0s 1ms/step\n",
      "7/7 [==============================] - 0s 2ms/step\n",
      "Predictions saved to CSV file: copper/test/predictions/test/CNN_64_filters_5_kernels_predictions.csv\n",
      "Predictions saved to NPY file: copper/test/predictions/test/CNN_64_filters_5_kernels_predictions.npy\n",
      "Predictions saved to CSV file: copper/test/predictions/test_confidence/CNN_64_filters_5_kernels_predictions.csv\n",
      "Predictions saved to NPY file: copper/test/predictions/test_confidence/CNN_64_filters_5_kernels_predictions.npy\n",
      "CNN_64_filters_5_kernels {'Name': 'CNN', 'Params': '64 filters, kernel size 5', 'Accuracy': 0.7117117117117117, 'Precision (0)': 0.8435754189944135, 'Recall (0)': 0.8074866310160428, 'F1 (0)': 0.825136612021858, 'Precision (1)': 0.16279069767441862, 'Recall (1)': 0.2, 'F1 (1)': 0.17948717948717952, 'Prior': '0.16'}\n"
     ]
    },
    {
     "name": "stderr",
     "output_type": "stream",
     "text": [
      "c:\\Users\\manim\\LabV2\\ONR-Price-Prediction\\onr_price_prediction\\venv\\Lib\\site-packages\\keras\\src\\engine\\training.py:3103: UserWarning: You are saving your model as an HDF5 file via `model.save()`. This file format is considered legacy. We recommend using instead the native Keras format, e.g. `model.save('my_model.keras')`.\n",
      "  saving_api.save_model(\n"
     ]
    },
    {
     "name": "stdout",
     "output_type": "stream",
     "text": [
      "7/7 [==============================] - 0s 460us/step\n",
      "7/7 [==============================] - 0s 0s/step\n",
      "Predictions saved to CSV file: copper/test/predictions/test/CNN_64_filters_3_kernels_predictions.csv\n",
      "Predictions saved to NPY file: copper/test/predictions/test/CNN_64_filters_3_kernels_predictions.npy\n",
      "Predictions saved to CSV file: copper/test/predictions/test_confidence/CNN_64_filters_3_kernels_predictions.csv\n",
      "Predictions saved to NPY file: copper/test/predictions/test_confidence/CNN_64_filters_3_kernels_predictions.npy\n",
      "CNN_64_filters_3_kernels {'Name': 'CNN', 'Params': '64 filters, kernel size 3', 'Accuracy': 0.5045045045045045, 'Precision (0)': 0.8181818181818182, 'Recall (0)': 0.5294117647058824, 'F1 (0)': 0.6428571428571428, 'Precision (1)': 0.12871287128712872, 'Recall (1)': 0.37142857142857144, 'F1 (1)': 0.1911764705882353, 'Prior': '0.16'}\n"
     ]
    },
    {
     "name": "stderr",
     "output_type": "stream",
     "text": [
      "c:\\Users\\manim\\LabV2\\ONR-Price-Prediction\\onr_price_prediction\\venv\\Lib\\site-packages\\keras\\src\\engine\\training.py:3103: UserWarning: You are saving your model as an HDF5 file via `model.save()`. This file format is considered legacy. We recommend using instead the native Keras format, e.g. `model.save('my_model.keras')`.\n",
      "  saving_api.save_model(\n"
     ]
    },
    {
     "name": "stdout",
     "output_type": "stream",
     "text": [
      "7/7 [==============================] - 0s 3ms/step\n",
      "7/7 [==============================] - 0s 2ms/step\n",
      "Predictions saved to CSV file: copper/test/predictions/test/CNN_128_filters_7_kernels_predictions.csv\n",
      "Predictions saved to NPY file: copper/test/predictions/test/CNN_128_filters_7_kernels_predictions.npy\n",
      "Predictions saved to CSV file: copper/test/predictions/test_confidence/CNN_128_filters_7_kernels_predictions.csv\n",
      "Predictions saved to NPY file: copper/test/predictions/test_confidence/CNN_128_filters_7_kernels_predictions.npy\n",
      "CNN_128_filters_7_kernels {'Name': 'CNN', 'Params': '128 filters, kernel size 7', 'Accuracy': 0.6396396396396397, 'Precision (0)': 0.8451612903225807, 'Recall (0)': 0.7005347593582888, 'F1 (0)': 0.7660818713450293, 'Precision (1)': 0.16417910447761194, 'Recall (1)': 0.3142857142857143, 'F1 (1)': 0.2156862745098039, 'Prior': '0.16'}\n"
     ]
    },
    {
     "name": "stderr",
     "output_type": "stream",
     "text": [
      "c:\\Users\\manim\\LabV2\\ONR-Price-Prediction\\onr_price_prediction\\venv\\Lib\\site-packages\\keras\\src\\engine\\training.py:3103: UserWarning: You are saving your model as an HDF5 file via `model.save()`. This file format is considered legacy. We recommend using instead the native Keras format, e.g. `model.save('my_model.keras')`.\n",
      "  saving_api.save_model(\n"
     ]
    },
    {
     "name": "stdout",
     "output_type": "stream",
     "text": [
      "7/7 [==============================] - 0s 3ms/step\n",
      "7/7 [==============================] - 0s 3ms/step\n",
      "Predictions saved to CSV file: copper/test/predictions/test/CNN_128_filters_5_kernels_predictions.csv\n",
      "Predictions saved to NPY file: copper/test/predictions/test/CNN_128_filters_5_kernels_predictions.npy\n",
      "Predictions saved to CSV file: copper/test/predictions/test_confidence/CNN_128_filters_5_kernels_predictions.csv\n",
      "Predictions saved to NPY file: copper/test/predictions/test_confidence/CNN_128_filters_5_kernels_predictions.npy\n",
      "CNN_128_filters_5_kernels {'Name': 'CNN', 'Params': '128 filters, kernel size 5', 'Accuracy': 0.6621621621621622, 'Precision (0)': 0.8414634146341463, 'Recall (0)': 0.7379679144385026, 'F1 (0)': 0.7863247863247862, 'Precision (1)': 0.15517241379310345, 'Recall (1)': 0.2571428571428571, 'F1 (1)': 0.19354838709677422, 'Prior': '0.16'}\n"
     ]
    },
    {
     "name": "stderr",
     "output_type": "stream",
     "text": [
      "c:\\Users\\manim\\LabV2\\ONR-Price-Prediction\\onr_price_prediction\\venv\\Lib\\site-packages\\keras\\src\\engine\\training.py:3103: UserWarning: You are saving your model as an HDF5 file via `model.save()`. This file format is considered legacy. We recommend using instead the native Keras format, e.g. `model.save('my_model.keras')`.\n",
      "  saving_api.save_model(\n"
     ]
    },
    {
     "name": "stdout",
     "output_type": "stream",
     "text": [
      "7/7 [==============================] - 0s 0s/step\n",
      "7/7 [==============================] - 0s 1ms/step\n",
      "Predictions saved to CSV file: copper/test/predictions/test/CNN_128_filters_3_kernels_predictions.csv\n",
      "Predictions saved to NPY file: copper/test/predictions/test/CNN_128_filters_3_kernels_predictions.npy\n",
      "Predictions saved to CSV file: copper/test/predictions/test_confidence/CNN_128_filters_3_kernels_predictions.csv\n",
      "Predictions saved to NPY file: copper/test/predictions/test_confidence/CNN_128_filters_3_kernels_predictions.npy\n",
      "CNN_128_filters_3_kernels {'Name': 'CNN', 'Params': '128 filters, kernel size 3', 'Accuracy': 0.7837837837837838, 'Precision (0)': 0.8564102564102564, 'Recall (0)': 0.893048128342246, 'F1 (0)': 0.8743455497382198, 'Precision (1)': 0.25925925925925924, 'Recall (1)': 0.2, 'F1 (1)': 0.22580645161290322, 'Prior': '0.16'}\n"
     ]
    },
    {
     "name": "stderr",
     "output_type": "stream",
     "text": [
      "c:\\Users\\manim\\LabV2\\ONR-Price-Prediction\\onr_price_prediction\\venv\\Lib\\site-packages\\keras\\src\\engine\\training.py:3103: UserWarning: You are saving your model as an HDF5 file via `model.save()`. This file format is considered legacy. We recommend using instead the native Keras format, e.g. `model.save('my_model.keras')`.\n",
      "  saving_api.save_model(\n"
     ]
    },
    {
     "name": "stdout",
     "output_type": "stream",
     "text": [
      "7/7 [==============================] - 0s 3ms/step\n",
      "7/7 [==============================] - 0s 3ms/step\n",
      "Predictions saved to CSV file: copper/test/predictions/test/CNN_256_filters_7_kernels_predictions.csv\n",
      "Predictions saved to NPY file: copper/test/predictions/test/CNN_256_filters_7_kernels_predictions.npy\n",
      "Predictions saved to CSV file: copper/test/predictions/test_confidence/CNN_256_filters_7_kernels_predictions.csv\n",
      "Predictions saved to NPY file: copper/test/predictions/test_confidence/CNN_256_filters_7_kernels_predictions.npy\n",
      "CNN_256_filters_7_kernels {'Name': 'CNN', 'Params': '256 filters, kernel size 7', 'Accuracy': 0.6936936936936937, 'Precision (0)': 0.8361581920903954, 'Recall (0)': 0.7914438502673797, 'F1 (0)': 0.8131868131868132, 'Precision (1)': 0.13333333333333333, 'Recall (1)': 0.17142857142857143, 'F1 (1)': 0.15, 'Prior': '0.16'}\n"
     ]
    },
    {
     "name": "stderr",
     "output_type": "stream",
     "text": [
      "c:\\Users\\manim\\LabV2\\ONR-Price-Prediction\\onr_price_prediction\\venv\\Lib\\site-packages\\keras\\src\\engine\\training.py:3103: UserWarning: You are saving your model as an HDF5 file via `model.save()`. This file format is considered legacy. We recommend using instead the native Keras format, e.g. `model.save('my_model.keras')`.\n",
      "  saving_api.save_model(\n"
     ]
    },
    {
     "name": "stdout",
     "output_type": "stream",
     "text": [
      "7/7 [==============================] - 0s 2ms/step\n",
      "7/7 [==============================] - 0s 2ms/step\n",
      "Predictions saved to CSV file: copper/test/predictions/test/CNN_256_filters_5_kernels_predictions.csv\n",
      "Predictions saved to NPY file: copper/test/predictions/test/CNN_256_filters_5_kernels_predictions.npy\n",
      "Predictions saved to CSV file: copper/test/predictions/test_confidence/CNN_256_filters_5_kernels_predictions.csv\n",
      "Predictions saved to NPY file: copper/test/predictions/test_confidence/CNN_256_filters_5_kernels_predictions.npy\n",
      "CNN_256_filters_5_kernels {'Name': 'CNN', 'Params': '256 filters, kernel size 5', 'Accuracy': 0.7252252252252253, 'Precision (0)': 0.8539325842696629, 'Recall (0)': 0.8128342245989305, 'F1 (0)': 0.8328767123287671, 'Precision (1)': 0.20454545454545456, 'Recall (1)': 0.2571428571428571, 'F1 (1)': 0.22784810126582275, 'Prior': '0.16'}\n"
     ]
    },
    {
     "name": "stderr",
     "output_type": "stream",
     "text": [
      "c:\\Users\\manim\\LabV2\\ONR-Price-Prediction\\onr_price_prediction\\venv\\Lib\\site-packages\\keras\\src\\engine\\training.py:3103: UserWarning: You are saving your model as an HDF5 file via `model.save()`. This file format is considered legacy. We recommend using instead the native Keras format, e.g. `model.save('my_model.keras')`.\n",
      "  saving_api.save_model(\n"
     ]
    },
    {
     "name": "stdout",
     "output_type": "stream",
     "text": [
      "7/7 [==============================] - 0s 1ms/step\n",
      "7/7 [==============================] - 0s 1ms/step\n",
      "Predictions saved to CSV file: copper/test/predictions/test/CNN_256_filters_3_kernels_predictions.csv\n",
      "Predictions saved to NPY file: copper/test/predictions/test/CNN_256_filters_3_kernels_predictions.npy\n",
      "Predictions saved to CSV file: copper/test/predictions/test_confidence/CNN_256_filters_3_kernels_predictions.csv\n",
      "Predictions saved to NPY file: copper/test/predictions/test_confidence/CNN_256_filters_3_kernels_predictions.npy\n",
      "CNN_256_filters_3_kernels {'Name': 'CNN', 'Params': '256 filters, kernel size 3', 'Accuracy': 0.8153153153153153, 'Precision (0)': 0.8476190476190476, 'Recall (0)': 0.9518716577540107, 'F1 (0)': 0.8967254408060453, 'Precision (1)': 0.25, 'Recall (1)': 0.08571428571428572, 'F1 (1)': 0.1276595744680851, 'Prior': '0.16'}\n",
      "Predictions saved to CSV file: copper/test/predictions/test/Dumb_Model_spikes_predictions.csv\n",
      "Predictions saved to NPY file: copper/test/predictions/test/Dumb_Model_spikes_predictions.npy\n",
      "Predictions saved to CSV file: copper/test/predictions/test/Dumb_Model_non_spikes_predictions.csv\n",
      "Predictions saved to NPY file: copper/test/predictions/test/Dumb_Model_non_spikes_predictions.npy\n"
     ]
    },
    {
     "name": "stderr",
     "output_type": "stream",
     "text": [
      "c:\\Users\\manim\\LabV2\\ONR-Price-Prediction\\onr_price_prediction\\venv\\Lib\\site-packages\\keras\\src\\engine\\training.py:3103: UserWarning: You are saving your model as an HDF5 file via `model.save()`. This file format is considered legacy. We recommend using instead the native Keras format, e.g. `model.save('my_model.keras')`.\n",
      "  saving_api.save_model(\n",
      "c:\\Users\\manim\\LabV2\\ONR-Price-Prediction\\onr_price_prediction\\venv\\Lib\\site-packages\\sklearn\\metrics\\_classification.py:1471: UndefinedMetricWarning: Precision and F-score are ill-defined and being set to 0.0 in labels with no predicted samples. Use `zero_division` parameter to control this behavior.\n",
      "  _warn_prf(average, modifier, msg_start, len(result))\n",
      "c:\\Users\\manim\\LabV2\\ONR-Price-Prediction\\onr_price_prediction\\venv\\Lib\\site-packages\\sklearn\\metrics\\_classification.py:1471: UndefinedMetricWarning: Precision and F-score are ill-defined and being set to 0.0 in labels with no predicted samples. Use `zero_division` parameter to control this behavior.\n",
      "  _warn_prf(average, modifier, msg_start, len(result))\n",
      "c:\\Users\\manim\\LabV2\\ONR-Price-Prediction\\onr_price_prediction\\venv\\Lib\\site-packages\\sklearn\\metrics\\_classification.py:1471: UndefinedMetricWarning: Precision and F-score are ill-defined and being set to 0.0 in labels with no predicted samples. Use `zero_division` parameter to control this behavior.\n",
      "  _warn_prf(average, modifier, msg_start, len(result))\n",
      "c:\\Users\\manim\\LabV2\\ONR-Price-Prediction\\onr_price_prediction\\venv\\Lib\\site-packages\\sklearn\\metrics\\_classification.py:1471: UndefinedMetricWarning: Precision and F-score are ill-defined and being set to 0.0 in labels with no predicted samples. Use `zero_division` parameter to control this behavior.\n",
      "  _warn_prf(average, modifier, msg_start, len(result))\n",
      "c:\\Users\\manim\\LabV2\\ONR-Price-Prediction\\onr_price_prediction\\venv\\Lib\\site-packages\\sklearn\\metrics\\_classification.py:1471: UndefinedMetricWarning: Precision and F-score are ill-defined and being set to 0.0 in labels with no predicted samples. Use `zero_division` parameter to control this behavior.\n",
      "  _warn_prf(average, modifier, msg_start, len(result))\n",
      "c:\\Users\\manim\\LabV2\\ONR-Price-Prediction\\onr_price_prediction\\venv\\Lib\\site-packages\\sklearn\\metrics\\_classification.py:1471: UndefinedMetricWarning: Precision and F-score are ill-defined and being set to 0.0 in labels with no predicted samples. Use `zero_division` parameter to control this behavior.\n",
      "  _warn_prf(average, modifier, msg_start, len(result))\n"
     ]
    }
   ],
   "source": [
    "results_df  = models.evaluate_all(X_train_price, y_train_price, X_val_price, y_val_price, X_test_price, y_test_price, output_file_path, pred_file_path, model_path, False, False)"
   ]
  },
  {
   "cell_type": "code",
   "execution_count": 8,
   "metadata": {},
   "outputs": [
    {
     "data": {
      "text/html": [
       "<div>\n",
       "<style scoped>\n",
       "    .dataframe tbody tr th:only-of-type {\n",
       "        vertical-align: middle;\n",
       "    }\n",
       "\n",
       "    .dataframe tbody tr th {\n",
       "        vertical-align: top;\n",
       "    }\n",
       "\n",
       "    .dataframe thead th {\n",
       "        text-align: right;\n",
       "    }\n",
       "</style>\n",
       "<table border=\"1\" class=\"dataframe\">\n",
       "  <thead>\n",
       "    <tr style=\"text-align: right;\">\n",
       "      <th></th>\n",
       "      <th>Name</th>\n",
       "      <th>Params</th>\n",
       "      <th>Accuracy</th>\n",
       "      <th>Precision (0)</th>\n",
       "      <th>Recall (0)</th>\n",
       "      <th>F1 (0)</th>\n",
       "      <th>Precision (1)</th>\n",
       "      <th>Recall (1)</th>\n",
       "      <th>F1 (1)</th>\n",
       "      <th>Prior</th>\n",
       "    </tr>\n",
       "  </thead>\n",
       "  <tbody>\n",
       "    <tr>\n",
       "      <th>0</th>\n",
       "      <td>LSTM</td>\n",
       "      <td>256 layers</td>\n",
       "      <td>0.608108</td>\n",
       "      <td>0.842466</td>\n",
       "      <td>0.657754</td>\n",
       "      <td>0.738739</td>\n",
       "      <td>0.157895</td>\n",
       "      <td>0.342857</td>\n",
       "      <td>0.216216</td>\n",
       "      <td>0.16</td>\n",
       "    </tr>\n",
       "    <tr>\n",
       "      <th>1</th>\n",
       "      <td>LSTM</td>\n",
       "      <td>128 layers</td>\n",
       "      <td>0.788288</td>\n",
       "      <td>0.860825</td>\n",
       "      <td>0.893048</td>\n",
       "      <td>0.876640</td>\n",
       "      <td>0.285714</td>\n",
       "      <td>0.228571</td>\n",
       "      <td>0.253968</td>\n",
       "      <td>0.16</td>\n",
       "    </tr>\n",
       "    <tr>\n",
       "      <th>2</th>\n",
       "      <td>LSTM</td>\n",
       "      <td>64 layers</td>\n",
       "      <td>0.653153</td>\n",
       "      <td>0.848101</td>\n",
       "      <td>0.716578</td>\n",
       "      <td>0.776812</td>\n",
       "      <td>0.171875</td>\n",
       "      <td>0.314286</td>\n",
       "      <td>0.222222</td>\n",
       "      <td>0.16</td>\n",
       "    </tr>\n",
       "    <tr>\n",
       "      <th>3</th>\n",
       "      <td>LSTM</td>\n",
       "      <td>32 layers</td>\n",
       "      <td>0.252252</td>\n",
       "      <td>0.769231</td>\n",
       "      <td>0.160428</td>\n",
       "      <td>0.265487</td>\n",
       "      <td>0.142077</td>\n",
       "      <td>0.742857</td>\n",
       "      <td>0.238532</td>\n",
       "      <td>0.16</td>\n",
       "    </tr>\n",
       "    <tr>\n",
       "      <th>4</th>\n",
       "      <td>CNN with Attention</td>\n",
       "      <td>32 filters, kernel size 7</td>\n",
       "      <td>0.594595</td>\n",
       "      <td>0.825503</td>\n",
       "      <td>0.657754</td>\n",
       "      <td>0.732143</td>\n",
       "      <td>0.123288</td>\n",
       "      <td>0.257143</td>\n",
       "      <td>0.166667</td>\n",
       "      <td>0.16</td>\n",
       "    </tr>\n",
       "    <tr>\n",
       "      <th>5</th>\n",
       "      <td>CNN with Attention</td>\n",
       "      <td>32 filters, kernel size 5</td>\n",
       "      <td>0.531532</td>\n",
       "      <td>0.816794</td>\n",
       "      <td>0.572193</td>\n",
       "      <td>0.672956</td>\n",
       "      <td>0.120879</td>\n",
       "      <td>0.314286</td>\n",
       "      <td>0.174603</td>\n",
       "      <td>0.16</td>\n",
       "    </tr>\n",
       "    <tr>\n",
       "      <th>6</th>\n",
       "      <td>CNN with Attention</td>\n",
       "      <td>32 filters, kernel size 3</td>\n",
       "      <td>0.779279</td>\n",
       "      <td>0.838235</td>\n",
       "      <td>0.914439</td>\n",
       "      <td>0.874680</td>\n",
       "      <td>0.111111</td>\n",
       "      <td>0.057143</td>\n",
       "      <td>0.075472</td>\n",
       "      <td>0.16</td>\n",
       "    </tr>\n",
       "    <tr>\n",
       "      <th>7</th>\n",
       "      <td>CNN with Attention</td>\n",
       "      <td>64 filters, kernel size 7</td>\n",
       "      <td>0.707207</td>\n",
       "      <td>0.846591</td>\n",
       "      <td>0.796791</td>\n",
       "      <td>0.820937</td>\n",
       "      <td>0.173913</td>\n",
       "      <td>0.228571</td>\n",
       "      <td>0.197531</td>\n",
       "      <td>0.16</td>\n",
       "    </tr>\n",
       "    <tr>\n",
       "      <th>8</th>\n",
       "      <td>CNN with Attention</td>\n",
       "      <td>64 filters, kernel size 5</td>\n",
       "      <td>0.738739</td>\n",
       "      <td>0.848649</td>\n",
       "      <td>0.839572</td>\n",
       "      <td>0.844086</td>\n",
       "      <td>0.189189</td>\n",
       "      <td>0.200000</td>\n",
       "      <td>0.194444</td>\n",
       "      <td>0.16</td>\n",
       "    </tr>\n",
       "    <tr>\n",
       "      <th>9</th>\n",
       "      <td>CNN with Attention</td>\n",
       "      <td>64 filters, kernel size 3</td>\n",
       "      <td>0.418919</td>\n",
       "      <td>0.802083</td>\n",
       "      <td>0.411765</td>\n",
       "      <td>0.544170</td>\n",
       "      <td>0.126984</td>\n",
       "      <td>0.457143</td>\n",
       "      <td>0.198758</td>\n",
       "      <td>0.16</td>\n",
       "    </tr>\n",
       "    <tr>\n",
       "      <th>10</th>\n",
       "      <td>CNN with Attention</td>\n",
       "      <td>128 filters, kernel size 7</td>\n",
       "      <td>0.626126</td>\n",
       "      <td>0.837662</td>\n",
       "      <td>0.689840</td>\n",
       "      <td>0.756598</td>\n",
       "      <td>0.147059</td>\n",
       "      <td>0.285714</td>\n",
       "      <td>0.194175</td>\n",
       "      <td>0.16</td>\n",
       "    </tr>\n",
       "    <tr>\n",
       "      <th>11</th>\n",
       "      <td>CNN with Attention</td>\n",
       "      <td>128 filters, kernel size 5</td>\n",
       "      <td>0.490991</td>\n",
       "      <td>0.818966</td>\n",
       "      <td>0.508021</td>\n",
       "      <td>0.627063</td>\n",
       "      <td>0.132075</td>\n",
       "      <td>0.400000</td>\n",
       "      <td>0.198582</td>\n",
       "      <td>0.16</td>\n",
       "    </tr>\n",
       "    <tr>\n",
       "      <th>12</th>\n",
       "      <td>CNN with Attention</td>\n",
       "      <td>128 filters, kernel size 3</td>\n",
       "      <td>0.396396</td>\n",
       "      <td>0.853333</td>\n",
       "      <td>0.342246</td>\n",
       "      <td>0.488550</td>\n",
       "      <td>0.163265</td>\n",
       "      <td>0.685714</td>\n",
       "      <td>0.263736</td>\n",
       "      <td>0.16</td>\n",
       "    </tr>\n",
       "    <tr>\n",
       "      <th>13</th>\n",
       "      <td>CNN with Attention</td>\n",
       "      <td>256 filters, kernel size 7</td>\n",
       "      <td>0.792793</td>\n",
       "      <td>0.857868</td>\n",
       "      <td>0.903743</td>\n",
       "      <td>0.880208</td>\n",
       "      <td>0.280000</td>\n",
       "      <td>0.200000</td>\n",
       "      <td>0.233333</td>\n",
       "      <td>0.16</td>\n",
       "    </tr>\n",
       "    <tr>\n",
       "      <th>14</th>\n",
       "      <td>CNN with Attention</td>\n",
       "      <td>256 filters, kernel size 5</td>\n",
       "      <td>0.698198</td>\n",
       "      <td>0.844828</td>\n",
       "      <td>0.786096</td>\n",
       "      <td>0.814404</td>\n",
       "      <td>0.166667</td>\n",
       "      <td>0.228571</td>\n",
       "      <td>0.192771</td>\n",
       "      <td>0.16</td>\n",
       "    </tr>\n",
       "    <tr>\n",
       "      <th>15</th>\n",
       "      <td>CNN with Attention</td>\n",
       "      <td>256 filters, kernel size 3</td>\n",
       "      <td>0.306306</td>\n",
       "      <td>0.739130</td>\n",
       "      <td>0.272727</td>\n",
       "      <td>0.398438</td>\n",
       "      <td>0.111111</td>\n",
       "      <td>0.485714</td>\n",
       "      <td>0.180851</td>\n",
       "      <td>0.16</td>\n",
       "    </tr>\n",
       "    <tr>\n",
       "      <th>16</th>\n",
       "      <td>RNN</td>\n",
       "      <td>256 units</td>\n",
       "      <td>0.828829</td>\n",
       "      <td>0.866995</td>\n",
       "      <td>0.941176</td>\n",
       "      <td>0.902564</td>\n",
       "      <td>0.421053</td>\n",
       "      <td>0.228571</td>\n",
       "      <td>0.296296</td>\n",
       "      <td>0.16</td>\n",
       "    </tr>\n",
       "    <tr>\n",
       "      <th>17</th>\n",
       "      <td>RNN</td>\n",
       "      <td>128 units</td>\n",
       "      <td>0.247748</td>\n",
       "      <td>0.812500</td>\n",
       "      <td>0.139037</td>\n",
       "      <td>0.237443</td>\n",
       "      <td>0.152632</td>\n",
       "      <td>0.828571</td>\n",
       "      <td>0.257778</td>\n",
       "      <td>0.16</td>\n",
       "    </tr>\n",
       "    <tr>\n",
       "      <th>18</th>\n",
       "      <td>RNN</td>\n",
       "      <td>64 units</td>\n",
       "      <td>0.545045</td>\n",
       "      <td>0.816176</td>\n",
       "      <td>0.593583</td>\n",
       "      <td>0.687307</td>\n",
       "      <td>0.116279</td>\n",
       "      <td>0.285714</td>\n",
       "      <td>0.165289</td>\n",
       "      <td>0.16</td>\n",
       "    </tr>\n",
       "    <tr>\n",
       "      <th>19</th>\n",
       "      <td>RNN</td>\n",
       "      <td>32 units</td>\n",
       "      <td>0.621622</td>\n",
       "      <td>0.836601</td>\n",
       "      <td>0.684492</td>\n",
       "      <td>0.752941</td>\n",
       "      <td>0.144928</td>\n",
       "      <td>0.285714</td>\n",
       "      <td>0.192308</td>\n",
       "      <td>0.16</td>\n",
       "    </tr>\n",
       "    <tr>\n",
       "      <th>20</th>\n",
       "      <td>CNN</td>\n",
       "      <td>32 filters, kernel size 7</td>\n",
       "      <td>0.617117</td>\n",
       "      <td>0.840000</td>\n",
       "      <td>0.673797</td>\n",
       "      <td>0.747774</td>\n",
       "      <td>0.152778</td>\n",
       "      <td>0.314286</td>\n",
       "      <td>0.205607</td>\n",
       "      <td>0.16</td>\n",
       "    </tr>\n",
       "    <tr>\n",
       "      <th>21</th>\n",
       "      <td>CNN</td>\n",
       "      <td>32 filters, kernel size 5</td>\n",
       "      <td>0.324324</td>\n",
       "      <td>0.813559</td>\n",
       "      <td>0.256684</td>\n",
       "      <td>0.390244</td>\n",
       "      <td>0.147239</td>\n",
       "      <td>0.685714</td>\n",
       "      <td>0.242424</td>\n",
       "      <td>0.16</td>\n",
       "    </tr>\n",
       "    <tr>\n",
       "      <th>22</th>\n",
       "      <td>CNN</td>\n",
       "      <td>32 filters, kernel size 3</td>\n",
       "      <td>0.774775</td>\n",
       "      <td>0.854922</td>\n",
       "      <td>0.882353</td>\n",
       "      <td>0.868421</td>\n",
       "      <td>0.241379</td>\n",
       "      <td>0.200000</td>\n",
       "      <td>0.218750</td>\n",
       "      <td>0.16</td>\n",
       "    </tr>\n",
       "    <tr>\n",
       "      <th>23</th>\n",
       "      <td>CNN</td>\n",
       "      <td>64 filters, kernel size 7</td>\n",
       "      <td>0.738739</td>\n",
       "      <td>0.844920</td>\n",
       "      <td>0.844920</td>\n",
       "      <td>0.844920</td>\n",
       "      <td>0.171429</td>\n",
       "      <td>0.171429</td>\n",
       "      <td>0.171429</td>\n",
       "      <td>0.16</td>\n",
       "    </tr>\n",
       "    <tr>\n",
       "      <th>24</th>\n",
       "      <td>CNN</td>\n",
       "      <td>64 filters, kernel size 5</td>\n",
       "      <td>0.711712</td>\n",
       "      <td>0.843575</td>\n",
       "      <td>0.807487</td>\n",
       "      <td>0.825137</td>\n",
       "      <td>0.162791</td>\n",
       "      <td>0.200000</td>\n",
       "      <td>0.179487</td>\n",
       "      <td>0.16</td>\n",
       "    </tr>\n",
       "    <tr>\n",
       "      <th>25</th>\n",
       "      <td>CNN</td>\n",
       "      <td>64 filters, kernel size 3</td>\n",
       "      <td>0.504505</td>\n",
       "      <td>0.818182</td>\n",
       "      <td>0.529412</td>\n",
       "      <td>0.642857</td>\n",
       "      <td>0.128713</td>\n",
       "      <td>0.371429</td>\n",
       "      <td>0.191176</td>\n",
       "      <td>0.16</td>\n",
       "    </tr>\n",
       "    <tr>\n",
       "      <th>26</th>\n",
       "      <td>CNN</td>\n",
       "      <td>128 filters, kernel size 7</td>\n",
       "      <td>0.639640</td>\n",
       "      <td>0.845161</td>\n",
       "      <td>0.700535</td>\n",
       "      <td>0.766082</td>\n",
       "      <td>0.164179</td>\n",
       "      <td>0.314286</td>\n",
       "      <td>0.215686</td>\n",
       "      <td>0.16</td>\n",
       "    </tr>\n",
       "    <tr>\n",
       "      <th>27</th>\n",
       "      <td>CNN</td>\n",
       "      <td>128 filters, kernel size 5</td>\n",
       "      <td>0.662162</td>\n",
       "      <td>0.841463</td>\n",
       "      <td>0.737968</td>\n",
       "      <td>0.786325</td>\n",
       "      <td>0.155172</td>\n",
       "      <td>0.257143</td>\n",
       "      <td>0.193548</td>\n",
       "      <td>0.16</td>\n",
       "    </tr>\n",
       "    <tr>\n",
       "      <th>28</th>\n",
       "      <td>CNN</td>\n",
       "      <td>128 filters, kernel size 3</td>\n",
       "      <td>0.783784</td>\n",
       "      <td>0.856410</td>\n",
       "      <td>0.893048</td>\n",
       "      <td>0.874346</td>\n",
       "      <td>0.259259</td>\n",
       "      <td>0.200000</td>\n",
       "      <td>0.225806</td>\n",
       "      <td>0.16</td>\n",
       "    </tr>\n",
       "    <tr>\n",
       "      <th>29</th>\n",
       "      <td>CNN</td>\n",
       "      <td>256 filters, kernel size 7</td>\n",
       "      <td>0.693694</td>\n",
       "      <td>0.836158</td>\n",
       "      <td>0.791444</td>\n",
       "      <td>0.813187</td>\n",
       "      <td>0.133333</td>\n",
       "      <td>0.171429</td>\n",
       "      <td>0.150000</td>\n",
       "      <td>0.16</td>\n",
       "    </tr>\n",
       "    <tr>\n",
       "      <th>30</th>\n",
       "      <td>CNN</td>\n",
       "      <td>256 filters, kernel size 5</td>\n",
       "      <td>0.725225</td>\n",
       "      <td>0.853933</td>\n",
       "      <td>0.812834</td>\n",
       "      <td>0.832877</td>\n",
       "      <td>0.204545</td>\n",
       "      <td>0.257143</td>\n",
       "      <td>0.227848</td>\n",
       "      <td>0.16</td>\n",
       "    </tr>\n",
       "    <tr>\n",
       "      <th>31</th>\n",
       "      <td>CNN</td>\n",
       "      <td>256 filters, kernel size 3</td>\n",
       "      <td>0.815315</td>\n",
       "      <td>0.847619</td>\n",
       "      <td>0.951872</td>\n",
       "      <td>0.896725</td>\n",
       "      <td>0.250000</td>\n",
       "      <td>0.085714</td>\n",
       "      <td>0.127660</td>\n",
       "      <td>0.16</td>\n",
       "    </tr>\n",
       "    <tr>\n",
       "      <th>32</th>\n",
       "      <td>Dumb Model</td>\n",
       "      <td>spikes</td>\n",
       "      <td>0.157658</td>\n",
       "      <td>0.000000</td>\n",
       "      <td>0.000000</td>\n",
       "      <td>0.000000</td>\n",
       "      <td>0.157658</td>\n",
       "      <td>1.000000</td>\n",
       "      <td>0.272374</td>\n",
       "      <td>0.16</td>\n",
       "    </tr>\n",
       "    <tr>\n",
       "      <th>33</th>\n",
       "      <td>Dumb Model</td>\n",
       "      <td>non_spikes</td>\n",
       "      <td>0.842342</td>\n",
       "      <td>0.842342</td>\n",
       "      <td>1.000000</td>\n",
       "      <td>0.914425</td>\n",
       "      <td>0.000000</td>\n",
       "      <td>0.000000</td>\n",
       "      <td>0.000000</td>\n",
       "      <td>0.16</td>\n",
       "    </tr>\n",
       "  </tbody>\n",
       "</table>\n",
       "</div>"
      ],
      "text/plain": [
       "                  Name                      Params  Accuracy  Precision (0)  \\\n",
       "0                 LSTM                  256 layers  0.608108       0.842466   \n",
       "1                 LSTM                  128 layers  0.788288       0.860825   \n",
       "2                 LSTM                   64 layers  0.653153       0.848101   \n",
       "3                 LSTM                   32 layers  0.252252       0.769231   \n",
       "4   CNN with Attention   32 filters, kernel size 7  0.594595       0.825503   \n",
       "5   CNN with Attention   32 filters, kernel size 5  0.531532       0.816794   \n",
       "6   CNN with Attention   32 filters, kernel size 3  0.779279       0.838235   \n",
       "7   CNN with Attention   64 filters, kernel size 7  0.707207       0.846591   \n",
       "8   CNN with Attention   64 filters, kernel size 5  0.738739       0.848649   \n",
       "9   CNN with Attention   64 filters, kernel size 3  0.418919       0.802083   \n",
       "10  CNN with Attention  128 filters, kernel size 7  0.626126       0.837662   \n",
       "11  CNN with Attention  128 filters, kernel size 5  0.490991       0.818966   \n",
       "12  CNN with Attention  128 filters, kernel size 3  0.396396       0.853333   \n",
       "13  CNN with Attention  256 filters, kernel size 7  0.792793       0.857868   \n",
       "14  CNN with Attention  256 filters, kernel size 5  0.698198       0.844828   \n",
       "15  CNN with Attention  256 filters, kernel size 3  0.306306       0.739130   \n",
       "16                 RNN                   256 units  0.828829       0.866995   \n",
       "17                 RNN                   128 units  0.247748       0.812500   \n",
       "18                 RNN                    64 units  0.545045       0.816176   \n",
       "19                 RNN                    32 units  0.621622       0.836601   \n",
       "20                 CNN   32 filters, kernel size 7  0.617117       0.840000   \n",
       "21                 CNN   32 filters, kernel size 5  0.324324       0.813559   \n",
       "22                 CNN   32 filters, kernel size 3  0.774775       0.854922   \n",
       "23                 CNN   64 filters, kernel size 7  0.738739       0.844920   \n",
       "24                 CNN   64 filters, kernel size 5  0.711712       0.843575   \n",
       "25                 CNN   64 filters, kernel size 3  0.504505       0.818182   \n",
       "26                 CNN  128 filters, kernel size 7  0.639640       0.845161   \n",
       "27                 CNN  128 filters, kernel size 5  0.662162       0.841463   \n",
       "28                 CNN  128 filters, kernel size 3  0.783784       0.856410   \n",
       "29                 CNN  256 filters, kernel size 7  0.693694       0.836158   \n",
       "30                 CNN  256 filters, kernel size 5  0.725225       0.853933   \n",
       "31                 CNN  256 filters, kernel size 3  0.815315       0.847619   \n",
       "32          Dumb Model                      spikes  0.157658       0.000000   \n",
       "33          Dumb Model                  non_spikes  0.842342       0.842342   \n",
       "\n",
       "    Recall (0)    F1 (0)  Precision (1)  Recall (1)    F1 (1) Prior  \n",
       "0     0.657754  0.738739       0.157895    0.342857  0.216216  0.16  \n",
       "1     0.893048  0.876640       0.285714    0.228571  0.253968  0.16  \n",
       "2     0.716578  0.776812       0.171875    0.314286  0.222222  0.16  \n",
       "3     0.160428  0.265487       0.142077    0.742857  0.238532  0.16  \n",
       "4     0.657754  0.732143       0.123288    0.257143  0.166667  0.16  \n",
       "5     0.572193  0.672956       0.120879    0.314286  0.174603  0.16  \n",
       "6     0.914439  0.874680       0.111111    0.057143  0.075472  0.16  \n",
       "7     0.796791  0.820937       0.173913    0.228571  0.197531  0.16  \n",
       "8     0.839572  0.844086       0.189189    0.200000  0.194444  0.16  \n",
       "9     0.411765  0.544170       0.126984    0.457143  0.198758  0.16  \n",
       "10    0.689840  0.756598       0.147059    0.285714  0.194175  0.16  \n",
       "11    0.508021  0.627063       0.132075    0.400000  0.198582  0.16  \n",
       "12    0.342246  0.488550       0.163265    0.685714  0.263736  0.16  \n",
       "13    0.903743  0.880208       0.280000    0.200000  0.233333  0.16  \n",
       "14    0.786096  0.814404       0.166667    0.228571  0.192771  0.16  \n",
       "15    0.272727  0.398438       0.111111    0.485714  0.180851  0.16  \n",
       "16    0.941176  0.902564       0.421053    0.228571  0.296296  0.16  \n",
       "17    0.139037  0.237443       0.152632    0.828571  0.257778  0.16  \n",
       "18    0.593583  0.687307       0.116279    0.285714  0.165289  0.16  \n",
       "19    0.684492  0.752941       0.144928    0.285714  0.192308  0.16  \n",
       "20    0.673797  0.747774       0.152778    0.314286  0.205607  0.16  \n",
       "21    0.256684  0.390244       0.147239    0.685714  0.242424  0.16  \n",
       "22    0.882353  0.868421       0.241379    0.200000  0.218750  0.16  \n",
       "23    0.844920  0.844920       0.171429    0.171429  0.171429  0.16  \n",
       "24    0.807487  0.825137       0.162791    0.200000  0.179487  0.16  \n",
       "25    0.529412  0.642857       0.128713    0.371429  0.191176  0.16  \n",
       "26    0.700535  0.766082       0.164179    0.314286  0.215686  0.16  \n",
       "27    0.737968  0.786325       0.155172    0.257143  0.193548  0.16  \n",
       "28    0.893048  0.874346       0.259259    0.200000  0.225806  0.16  \n",
       "29    0.791444  0.813187       0.133333    0.171429  0.150000  0.16  \n",
       "30    0.812834  0.832877       0.204545    0.257143  0.227848  0.16  \n",
       "31    0.951872  0.896725       0.250000    0.085714  0.127660  0.16  \n",
       "32    0.000000  0.000000       0.157658    1.000000  0.272374  0.16  \n",
       "33    1.000000  0.914425       0.000000    0.000000  0.000000  0.16  "
      ]
     },
     "execution_count": 8,
     "metadata": {},
     "output_type": "execute_result"
    }
   ],
   "source": [
    "results_df"
   ]
  }
 ],
 "metadata": {
  "kernelspec": {
   "display_name": "venv",
   "language": "python",
   "name": "python3"
  },
  "language_info": {
   "codemirror_mode": {
    "name": "ipython",
    "version": 3
   },
   "file_extension": ".py",
   "mimetype": "text/x-python",
   "name": "python",
   "nbconvert_exporter": "python",
   "pygments_lexer": "ipython3",
   "version": "3.11.6"
  }
 },
 "nbformat": 4,
 "nbformat_minor": 2
}
