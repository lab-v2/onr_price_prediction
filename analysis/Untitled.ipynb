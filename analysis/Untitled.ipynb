{
 "cells": [
  {
   "cell_type": "code",
   "execution_count": 12,
   "id": "5d1080b3-1a4c-4914-8591-88addc1142e0",
   "metadata": {},
   "outputs": [],
   "source": [
    "import pandas as pd\n",
    "import numpy as np"
   ]
  },
  {
   "cell_type": "code",
   "execution_count": 2,
   "id": "bddfae15-5d49-4a77-9ead-1d2625ea705f",
   "metadata": {},
   "outputs": [],
   "source": [
    "a = [x for x in range(100)]"
   ]
  },
  {
   "cell_type": "code",
   "execution_count": 20,
   "id": "ddac1da0-8c18-4fa0-ae7e-891fed107b6f",
   "metadata": {},
   "outputs": [],
   "source": [
    "def detect_spikes_new(df, column, window_size, center=False):\n",
    "    spikes = np.zeros(len(df), dtype=float)\n",
    "\n",
    "    if isinstance(column, str):\n",
    "        column = [column]\n",
    "    \n",
    "    for col in column:\n",
    "        # Calculate rolling mean and std deviation for the current column\n",
    "        rolling_mean = df[col].rolling(window=window_size, center=center).mean()\n",
    "        rolling_std = df[col].rolling(window=window_size, center=center).std()\n",
    "        \n",
    "        # Calculate if a spike occurred based on threshold\n",
    "        for i in range(len(df)):  # Start from window_size - 1 to have a full window\n",
    "            print(f\"i:{df[col].iloc[i]},mean:{rolling_mean.iloc[i]},std:{rolling_std.iloc[i]}\")\n",
    "            if abs(df[col].iloc[i] - rolling_mean.iloc[i]) > 2 * rolling_std.iloc[i]:\n",
    "                spikes[i] = 1\n",
    "\n",
    "    spikes = spikes.astype(int)\n",
    "    \n",
    "    return spikes\n"
   ]
  },
  {
   "cell_type": "code",
   "execution_count": 4,
   "id": "5115d40e-c36a-480e-b131-a10076ae543d",
   "metadata": {},
   "outputs": [],
   "source": [
    "data = {'price':a}\n",
    "df = pd.DataFrame(data)"
   ]
  },
  {
   "cell_type": "code",
   "execution_count": 21,
   "id": "7b2be4f2-c714-41c2-8d8a-9daff0b5e478",
   "metadata": {},
   "outputs": [
    {
     "name": "stdout",
     "output_type": "stream",
     "text": [
      "i:0,mean:nan,std:nan\n",
      "i:1,mean:nan,std:nan\n",
      "i:2,mean:nan,std:nan\n",
      "i:3,mean:nan,std:nan\n",
      "i:4,mean:nan,std:nan\n",
      "i:5,mean:nan,std:nan\n",
      "i:6,mean:nan,std:nan\n",
      "i:7,mean:nan,std:nan\n",
      "i:8,mean:nan,std:nan\n",
      "i:9,mean:4.5,std:3.0276503540974917\n",
      "i:10,mean:5.5,std:3.0276503540974917\n",
      "i:11,mean:6.5,std:3.0276503540974917\n",
      "i:12,mean:7.5,std:3.0276503540974917\n",
      "i:13,mean:8.5,std:3.0276503540974917\n",
      "i:14,mean:9.5,std:3.0276503540974917\n",
      "i:15,mean:10.5,std:3.0276503540974917\n",
      "i:16,mean:11.5,std:3.0276503540974917\n",
      "i:17,mean:12.5,std:3.0276503540974917\n",
      "i:18,mean:13.5,std:3.0276503540974917\n",
      "i:19,mean:14.5,std:3.0276503540974917\n",
      "i:20,mean:15.5,std:3.0276503540974917\n",
      "i:21,mean:16.5,std:3.0276503540974917\n",
      "i:22,mean:17.5,std:3.0276503540974917\n",
      "i:23,mean:18.5,std:3.0276503540974917\n",
      "i:24,mean:19.5,std:3.0276503540974917\n",
      "i:25,mean:20.5,std:3.0276503540974917\n",
      "i:26,mean:21.5,std:3.0276503540974917\n",
      "i:27,mean:22.5,std:3.0276503540974917\n",
      "i:28,mean:23.5,std:3.0276503540974917\n",
      "i:29,mean:24.5,std:3.0276503540974917\n",
      "i:30,mean:25.5,std:3.0276503540974917\n",
      "i:31,mean:26.5,std:3.0276503540974917\n",
      "i:32,mean:27.5,std:3.0276503540974917\n",
      "i:33,mean:28.5,std:3.0276503540974917\n",
      "i:34,mean:29.5,std:3.0276503540974917\n",
      "i:35,mean:30.5,std:3.0276503540974917\n",
      "i:36,mean:31.5,std:3.0276503540974917\n",
      "i:37,mean:32.5,std:3.0276503540974917\n",
      "i:38,mean:33.5,std:3.0276503540974917\n",
      "i:39,mean:34.5,std:3.0276503540974917\n",
      "i:40,mean:35.5,std:3.0276503540974917\n",
      "i:41,mean:36.5,std:3.0276503540974917\n",
      "i:42,mean:37.5,std:3.0276503540974917\n",
      "i:43,mean:38.5,std:3.0276503540974917\n",
      "i:44,mean:39.5,std:3.0276503540974917\n",
      "i:45,mean:40.5,std:3.0276503540974917\n",
      "i:46,mean:41.5,std:3.0276503540974917\n",
      "i:47,mean:42.5,std:3.0276503540974917\n",
      "i:48,mean:43.5,std:3.0276503540974917\n",
      "i:49,mean:44.5,std:3.0276503540974917\n",
      "i:50,mean:45.5,std:3.0276503540974917\n",
      "i:51,mean:46.5,std:3.0276503540974917\n",
      "i:52,mean:47.5,std:3.0276503540974917\n",
      "i:53,mean:48.5,std:3.0276503540974917\n",
      "i:54,mean:49.5,std:3.0276503540974917\n",
      "i:55,mean:50.5,std:3.0276503540974917\n",
      "i:56,mean:51.5,std:3.0276503540974917\n",
      "i:57,mean:52.5,std:3.0276503540974917\n",
      "i:58,mean:53.5,std:3.0276503540974917\n",
      "i:59,mean:54.5,std:3.0276503540974917\n",
      "i:60,mean:55.5,std:3.0276503540974917\n",
      "i:61,mean:56.5,std:3.0276503540974917\n",
      "i:62,mean:57.5,std:3.0276503540974917\n",
      "i:63,mean:58.5,std:3.0276503540974917\n",
      "i:64,mean:59.5,std:3.0276503540974917\n",
      "i:65,mean:60.5,std:3.0276503540974917\n",
      "i:66,mean:61.5,std:3.0276503540974917\n",
      "i:67,mean:62.5,std:3.0276503540974917\n",
      "i:68,mean:63.5,std:3.0276503540974917\n",
      "i:69,mean:64.5,std:3.0276503540974917\n",
      "i:70,mean:65.5,std:3.0276503540974917\n",
      "i:71,mean:66.5,std:3.0276503540974917\n",
      "i:72,mean:67.5,std:3.0276503540974917\n",
      "i:73,mean:68.5,std:3.0276503540974917\n",
      "i:74,mean:69.5,std:3.0276503540974917\n",
      "i:75,mean:70.5,std:3.0276503540974917\n",
      "i:76,mean:71.5,std:3.0276503540974917\n",
      "i:77,mean:72.5,std:3.0276503540974917\n",
      "i:78,mean:73.5,std:3.0276503540974917\n",
      "i:79,mean:74.5,std:3.0276503540974917\n",
      "i:80,mean:75.5,std:3.0276503540974917\n",
      "i:81,mean:76.5,std:3.0276503540974917\n",
      "i:82,mean:77.5,std:3.0276503540974917\n",
      "i:83,mean:78.5,std:3.0276503540974917\n",
      "i:84,mean:79.5,std:3.0276503540974917\n",
      "i:85,mean:80.5,std:3.0276503540974917\n",
      "i:86,mean:81.5,std:3.0276503540974917\n",
      "i:87,mean:82.5,std:3.0276503540974917\n",
      "i:88,mean:83.5,std:3.0276503540974917\n",
      "i:89,mean:84.5,std:3.0276503540974917\n",
      "i:90,mean:85.5,std:3.0276503540974917\n",
      "i:91,mean:86.5,std:3.0276503540974917\n",
      "i:92,mean:87.5,std:3.0276503540974917\n",
      "i:93,mean:88.5,std:3.0276503540974917\n",
      "i:94,mean:89.5,std:3.0276503540974917\n",
      "i:95,mean:90.5,std:3.0276503540974917\n",
      "i:96,mean:91.5,std:3.0276503540974917\n",
      "i:97,mean:92.5,std:3.0276503540974917\n",
      "i:98,mean:93.5,std:3.0276503540974917\n",
      "i:99,mean:94.5,std:3.0276503540974917\n"
     ]
    },
    {
     "data": {
      "text/plain": [
       "array([0, 0, 0, 0, 0, 0, 0, 0, 0, 0, 0, 0, 0, 0, 0, 0, 0, 0, 0, 0, 0, 0,\n",
       "       0, 0, 0, 0, 0, 0, 0, 0, 0, 0, 0, 0, 0, 0, 0, 0, 0, 0, 0, 0, 0, 0,\n",
       "       0, 0, 0, 0, 0, 0, 0, 0, 0, 0, 0, 0, 0, 0, 0, 0, 0, 0, 0, 0, 0, 0,\n",
       "       0, 0, 0, 0, 0, 0, 0, 0, 0, 0, 0, 0, 0, 0, 0, 0, 0, 0, 0, 0, 0, 0,\n",
       "       0, 0, 0, 0, 0, 0, 0, 0, 0, 0, 0, 0])"
      ]
     },
     "execution_count": 21,
     "metadata": {},
     "output_type": "execute_result"
    }
   ],
   "source": [
    "detect_spikes_new(df,'price',10,False)"
   ]
  },
  {
   "cell_type": "code",
   "execution_count": 7,
   "id": "154e63c2-80d4-431a-b996-51766aa1e9ce",
   "metadata": {},
   "outputs": [],
   "source": [
    "rolling_mean = df['price'].rolling(window=10, center=True).mean()"
   ]
  },
  {
   "cell_type": "code",
   "execution_count": 9,
   "id": "8cf37eca-6bed-43eb-8c55-1abd52e654cf",
   "metadata": {},
   "outputs": [
    {
     "data": {
      "text/plain": [
       "0      NaN\n",
       "1      NaN\n",
       "2      NaN\n",
       "3      NaN\n",
       "4      NaN\n",
       "5      4.5\n",
       "6      5.5\n",
       "7      6.5\n",
       "8      7.5\n",
       "9      8.5\n",
       "10     9.5\n",
       "11    10.5\n",
       "12    11.5\n",
       "13    12.5\n",
       "14    13.5\n",
       "15    14.5\n",
       "16    15.5\n",
       "17    16.5\n",
       "18    17.5\n",
       "19    18.5\n",
       "Name: price, dtype: float64"
      ]
     },
     "execution_count": 9,
     "metadata": {},
     "output_type": "execute_result"
    }
   ],
   "source": [
    "rolling_mean[:20]"
   ]
  },
  {
   "cell_type": "code",
   "execution_count": null,
   "id": "804c80b8-65f5-46ea-bea4-5a69147c15c3",
   "metadata": {},
   "outputs": [],
   "source": []
  }
 ],
 "metadata": {
  "kernelspec": {
   "display_name": "Python 3 (ipykernel)",
   "language": "python",
   "name": "python3"
  },
  "language_info": {
   "codemirror_mode": {
    "name": "ipython",
    "version": 3
   },
   "file_extension": ".py",
   "mimetype": "text/x-python",
   "name": "python",
   "nbconvert_exporter": "python",
   "pygments_lexer": "ipython3",
   "version": "3.9.12"
  }
 },
 "nbformat": 4,
 "nbformat_minor": 5
}
