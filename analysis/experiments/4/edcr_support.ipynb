{
 "cells": [
  {
   "cell_type": "code",
   "execution_count": 8,
   "metadata": {},
   "outputs": [],
   "source": [
    "\n",
    "import models\n",
    "import utils\n",
    "import data_processing\n",
    "from constants import (\n",
    "    VALUE_COLUMN,\n",
    "    UNIT_RATE_COLUMN,\n",
    "    QUANTITY_COLUMN,\n",
    "    GROSS_WEIGHT_COLUMN,\n",
    "    SHIP_COUNT_COLUMN,\n",
    "    PORT_COUNT_COLUMN,\n",
    "    FILL_METHOD,\n",
    "    TARGET_COLUMN,\n",
    "    VOLZA_COLUMNS,\n",
    "    AIS_COLUMNS,\n",
    "    OIL_COLUMNS,\n",
    "    ARIMA_RESIDUAL_COLUMN,\n",
    "    RANDOM_STATE\n",
    ")\n",
    "import pandas as pd\n",
    "import constants\n",
    "import sys\n",
    "from datetime import datetime\n",
    "from build_data import get_data\n",
    "from sklearn.model_selection import train_test_split\n",
    "from sklearn.preprocessing import KBinsDiscretizer\n",
    "\n",
    "import matplotlib.pyplot as plt\n",
    "import numpy as np"
   ]
  },
  {
   "cell_type": "code",
   "execution_count": 9,
   "metadata": {},
   "outputs": [
    {
     "name": "stdout",
     "output_type": "stream",
     "text": [
      "Building data...\n"
     ]
    },
    {
     "name": "stderr",
     "output_type": "stream",
     "text": [
      "c:\\Users\\nocet\\OneDrive\\Documents\\Projects\\lab-v2\\ezra\\venv\\lib\\site-packages\\pandas\\core\\frame.py:5047: SettingWithCopyWarning: \n",
      "A value is trying to be set on a copy of a slice from a DataFrame\n",
      "\n",
      "See the caveats in the documentation: https://pandas.pydata.org/pandas-docs/stable/user_guide/indexing.html#returning-a-view-versus-a-copy\n",
      "  errors=errors,\n"
     ]
    },
    {
     "name": "stdout",
     "output_type": "stream",
     "text": [
      "Rows dropped due to NaN values: 1\n"
     ]
    }
   ],
   "source": [
    "COMMODITY = \"copper\"\n",
    "WINDOW_SIZE = 20\n",
    "\n",
    "VOLZA_FILE_PATH = f\"../volza/{COMMODITY}/{COMMODITY}.csv\"\n",
    "PRICE_FILE_PATH = f\"../volza/{COMMODITY}/{COMMODITY}_prices.csv\"\n",
    "\n",
    "# Get the data\n",
    "data = get_data(VOLZA_FILE_PATH, PRICE_FILE_PATH, window_size=20, center=False)\n",
    "\n",
    "# Add Isolation Forest spikes column\n",
    "data['spikes_if'] = utils.detect_spikes_if(data, TARGET_COLUMN, contamination=0.1)\n",
    "\n",
    "# # Add Bowen's spike detection\n",
    "data['spikes_new'] = utils.detect_spikes_new(data, TARGET_COLUMN, window_size=WINDOW_SIZE)"
   ]
  },
  {
   "cell_type": "code",
   "execution_count": null,
   "metadata": {},
   "outputs": [
    {
     "data": {
      "text/html": [
       "<div>\n",
       "<style scoped>\n",
       "    .dataframe tbody tr th:only-of-type {\n",
       "        vertical-align: middle;\n",
       "    }\n",
       "\n",
       "    .dataframe tbody tr th {\n",
       "        vertical-align: top;\n",
       "    }\n",
       "\n",
       "    .dataframe thead th {\n",
       "        text-align: right;\n",
       "    }\n",
       "</style>\n",
       "<table border=\"1\" class=\"dataframe\">\n",
       "  <thead>\n",
       "    <tr style=\"text-align: right;\">\n",
       "      <th></th>\n",
       "      <th>Date</th>\n",
       "      <th>Value</th>\n",
       "      <th>Std. Quantity (KG)</th>\n",
       "      <th>Gross Weight</th>\n",
       "      <th>Std. Unit Rate ($/KG)</th>\n",
       "      <th>ship_count</th>\n",
       "      <th>popular_port</th>\n",
       "      <th>popular_port_count</th>\n",
       "      <th>Price</th>\n",
       "      <th>Brent Oil Value</th>\n",
       "      <th>WTI Oil Value</th>\n",
       "      <th>ARIMA_Residuals</th>\n",
       "      <th>spikes</th>\n",
       "      <th>spikes_if</th>\n",
       "      <th>spikes_new</th>\n",
       "    </tr>\n",
       "  </thead>\n",
       "  <tbody>\n",
       "    <tr>\n",
       "      <th>1</th>\n",
       "      <td>2019-01-02</td>\n",
       "      <td>28997742.33</td>\n",
       "      <td>4504496.0</td>\n",
       "      <td>4507752.0</td>\n",
       "      <td>6.420416</td>\n",
       "      <td>NaN</td>\n",
       "      <td>NaN</td>\n",
       "      <td>NaN</td>\n",
       "      <td>2.6250</td>\n",
       "      <td>54.06</td>\n",
       "      <td>46.31</td>\n",
       "      <td>2.6250</td>\n",
       "      <td>0</td>\n",
       "      <td>0</td>\n",
       "      <td>0</td>\n",
       "    </tr>\n",
       "    <tr>\n",
       "      <th>2</th>\n",
       "      <td>2019-01-03</td>\n",
       "      <td>16525428.57</td>\n",
       "      <td>2427492.0</td>\n",
       "      <td>2428782.0</td>\n",
       "      <td>9.079466</td>\n",
       "      <td>NaN</td>\n",
       "      <td>NaN</td>\n",
       "      <td>NaN</td>\n",
       "      <td>2.5705</td>\n",
       "      <td>53.23</td>\n",
       "      <td>46.92</td>\n",
       "      <td>-0.0545</td>\n",
       "      <td>0</td>\n",
       "      <td>0</td>\n",
       "      <td>0</td>\n",
       "    </tr>\n",
       "  </tbody>\n",
       "</table>\n",
       "</div>"
      ],
      "text/plain": [
       "        Date        Value  Std. Quantity (KG)  Gross Weight  \\\n",
       "1 2019-01-02  28997742.33           4504496.0     4507752.0   \n",
       "2 2019-01-03  16525428.57           2427492.0     2428782.0   \n",
       "\n",
       "   Std. Unit Rate ($/KG)  ship_count popular_port  popular_port_count   Price  \\\n",
       "1               6.420416         NaN          NaN                 NaN  2.6250   \n",
       "2               9.079466         NaN          NaN                 NaN  2.5705   \n",
       "\n",
       "   Brent Oil Value  WTI Oil Value  ARIMA_Residuals  spikes  spikes_if  \\\n",
       "1            54.06          46.31           2.6250       0          0   \n",
       "2            53.23          46.92          -0.0545       0          0   \n",
       "\n",
       "   spikes_new  \n",
       "1           0  \n",
       "2           0  "
      ]
     },
     "execution_count": 3,
     "metadata": {},
     "output_type": "execute_result"
    }
   ],
   "source": [
    "import matplotlib.pyplot as plt\n",
    "\n",
    "aggregated_df = data.copy()\n",
    "data.head(2)"
   ]
  },
  {
   "cell_type": "code",
   "execution_count": null,
   "metadata": {},
   "outputs": [],
   "source": [
    "# Add Lagged Features\n",
    "aggregated_df = utils.add_lagged_features(aggregated_df, 'Price', n_lags=5)\n",
    "\n",
    "# Add Moving Averages\n",
    "aggregated_df = utils.add_moving_averages(aggregated_df, 'Price', windows=[5, 10])\n",
    "\n",
    "# Add Returns\n",
    "aggregated_df = utils.add_returns(aggregated_df, 'Price')\n",
    "\n",
    "# Add Volatility\n",
    "aggregated_df = utils.add_volatility(aggregated_df, 'returns', windows=[7, 14])"
   ]
  },
  {
   "cell_type": "code",
   "execution_count": null,
   "metadata": {},
   "outputs": [
    {
     "name": "stdout",
     "output_type": "stream",
     "text": [
      "Spike Percentage: 5.74%\n"
     ]
    },
    {
     "data": {
      "image/png": "[encoded data removed]",
      "text/plain": [
       "<Figure size 1000x600 with 1 Axes>"
      ]
     },
     "metadata": {},
     "output_type": "display_data"
    }
   ],
   "source": [
    "import matplotlib.pyplot as plt\n",
    "# Plotting the price data\n",
    "utils.plot_prices(aggregated_df,column='spikes_new')"
   ]
  },
  {
   "cell_type": "code",
   "execution_count": null,
   "metadata": {},
   "outputs": [],
   "source": [
    "PRICE_FEATURE_COLUMNS = ['ma_5', 'ma_10', 'returns']\n",
    "PRICE_LAG_FEATURE_COLUMNS = ['lag_1', 'lag_2', 'lag_3']\n",
    "FEATURE_COLUMNS = VOLZA_COLUMNS + OIL_COLUMNS + [ARIMA_RESIDUAL_COLUMN]  # Mix and match features here\n",
    "SPIKE_COLUMN = ['spikes_new']"
   ]
  },
  {
   "cell_type": "code",
   "execution_count": null,
   "metadata": {},
   "outputs": [
    {
     "ename": "SyntaxError",
     "evalue": "invalid syntax (_metadata_requests.py, line 1492)",
     "output_type": "error",
     "traceback": [
      "Traceback \u001b[1;36m(most recent call last)\u001b[0m:\n",
      "  File \u001b[0;32m\"c:\\Users\\nocet\\OneDrive\\Documents\\Projects\\lab-v2\\ezra\\venv\\lib\\site-packages\\IPython\\core\\interactiveshell.py\"\u001b[0m, line \u001b[0;32m3553\u001b[0m, in \u001b[0;35mrun_code\u001b[0m\n    exec(code_obj, self.user_global_ns, self.user_ns)\n",
      "  File \u001b[0;32m\"C:\\Users\\nocet\\AppData\\Local\\Temp\\ipykernel_39460\\3974843561.py\"\u001b[0m, line \u001b[0;32m1\u001b[0m, in \u001b[0;35m<module>\u001b[0m\n    from imblearn.over_sampling import RandomOverSampler\n",
      "  File \u001b[0;32m\"c:\\Users\\nocet\\OneDrive\\Documents\\Projects\\lab-v2\\ezra\\venv\\lib\\site-packages\\imblearn\\__init__.py\"\u001b[0m, line \u001b[0;32m52\u001b[0m, in \u001b[0;35m<module>\u001b[0m\n    from . import (\n",
      "  File \u001b[0;32m\"c:\\Users\\nocet\\OneDrive\\Documents\\Projects\\lab-v2\\ezra\\venv\\lib\\site-packages\\imblearn\\ensemble\\__init__.py\"\u001b[0m, line \u001b[0;32m6\u001b[0m, in \u001b[0;35m<module>\u001b[0m\n    from ._bagging import BalancedBaggingClassifier\n",
      "  File \u001b[0;32m\"c:\\Users\\nocet\\OneDrive\\Documents\\Projects\\lab-v2\\ezra\\venv\\lib\\site-packages\\imblearn\\ensemble\\_bagging.py\"\u001b[0m, line \u001b[0;32m30\u001b[0m, in \u001b[0;35m<module>\u001b[0m\n    from ..pipeline import Pipeline\n",
      "\u001b[1;36m  File \u001b[1;32m\"c:\\Users\\nocet\\OneDrive\\Documents\\Projects\\lab-v2\\ezra\\venv\\lib\\site-packages\\imblearn\\pipeline.py\"\u001b[1;36m, line \u001b[1;32m22\u001b[1;36m, in \u001b[1;35m<module>\u001b[1;36m\u001b[0m\n\u001b[1;33m    from .utils._metadata_requests import (\u001b[0m\n",
      "\u001b[1;36m  File \u001b[1;32m\"c:\\Users\\nocet\\OneDrive\\Documents\\Projects\\lab-v2\\ezra\\venv\\lib\\site-packages\\imblearn\\utils\\_metadata_requests.py\"\u001b[1;36m, line \u001b[1;32m1492\u001b[0m\n\u001b[1;33m    def process_routing(_obj, _method, /, **kwargs):\u001b[0m\n\u001b[1;37m                                       ^\u001b[0m\n\u001b[1;31mSyntaxError\u001b[0m\u001b[1;31m:\u001b[0m invalid syntax\n"
     ]
    }
   ],
   "source": [
    "from imblearn.over_sampling import RandomOverSampler\n",
    "\n",
    "# Prepare mixed data\n",
    "X_mix, y_mix = data_processing.prepare_features_and_target(aggregated_df, FEATURE_COLUMNS, SPIKE_COLUMN)\n",
    "\n",
    "# Split mixed data\n",
    "X_train_mix, X_test_mix, y_train_mix, y_test_mix = train_test_split(X_mix, y_mix, test_size=0.3, random_state=RANDOM_STATE, shuffle=False)\n",
    "X_train_mix, X_val_mix, y_train_mix, y_val_mix = train_test_split(X_train_mix, y_train_mix, test_size=0.14, random_state=RANDOM_STATE, shuffle=False)  # Adjusting test_size to get ~10% of the original\n",
    "\n",
    "# Balancing\n",
    "X_train_mix, y_train_mix = RandomOverSampler(random_state=RANDOM_STATE).fit_resample(X_train_mix, y_train_mix)\n",
    "\n",
    "# Scaling\n",
    "X_train_mix, X_test_mix, X_val_mix = data_processing.scale_features(X_train_mix, X_test_mix, X_val_mix)\n",
    "\n",
    "# Sequence making\n",
    "X_train_mix, y_train_mix = data_processing.create_sequences(X_train_mix, y_train_mix, WINDOW_SIZE)\n",
    "X_test_mix, y_test_mix = data_processing.create_sequences(X_test_mix, y_test_mix, WINDOW_SIZE)\n",
    "X_val_mix, y_val_mix = data_processing.create_sequences(X_val_mix, y_val_mix, WINDOW_SIZE)\n",
    "\n",
    "# Evaluate and create pre-trained model\n",
    "output_file_path = f'{COMMODITY}/test/results_test.csv'\n",
    "pred_file_path = f'{COMMODITY}/test/predictions/test'\n",
    "model_path = f'{COMMODITY}/best_model'\n",
    "print(pred_file_path)\n",
    "\n",
    "results_df = models.evaluate_all(X_train_mix, y_train_mix, X_val_mix, y_val_mix, X_test_mix, y_test_mix, output_file_path, pred_file_path, model_path, pretrain=False)"
   ]
  },
  {
   "cell_type": "code",
   "execution_count": null,
   "metadata": {},
   "outputs": [],
   "source": [
    "# print(f'Best Model: {best_model_descriptor} \\nBest Accuracy: {best_acc}')"
   ]
  },
  {
   "cell_type": "code",
   "execution_count": null,
   "metadata": {},
   "outputs": [],
   "source": [
    "# Prepare price data\n",
    "X_price, y_price = data_processing.prepare_features_and_target(aggregated_df, TARGET_COLUMN, SPIKE_COLUMN)\n",
    "\n",
    "# Split price data\n",
    "X_train_price, X_test_price, y_train_price, y_test_price = train_test_split(X_price, y_price, test_size=0.3, random_state=RANDOM_STATE, shuffle=False)\n",
    "X_train_price, X_val_price, y_train_price, y_val_price = train_test_split(X_train_price, y_train_price, test_size=(10/70), random_state=RANDOM_STATE, shuffle=False)\n",
    "\n",
    "# Balancing\n",
    "X_train_price, y_train_price = RandomOverSampler(random_state=RANDOM_STATE).fit_resample(X_train_price, y_train_price)\n",
    "\n",
    "# Scaling\n",
    "X_train_price, X_test_price, X_val_price = data_processing.scale_features(X_train_price, X_test_price, X_val_price)\n",
    "\n",
    "# Sequence making\n",
    "X_train_price, y_train_price = data_processing.create_sequences(X_train_price, y_train_price, WINDOW_SIZE)\n",
    "X_test_price, y_test_price = data_processing.create_sequences(X_test_price, y_test_price, WINDOW_SIZE)\n",
    "X_val_price, y_val_price = data_processing.create_sequences(X_val_price, y_val_price, WINDOW_SIZE)"
   ]
  },
  {
   "cell_type": "code",
   "execution_count": null,
   "metadata": {},
   "outputs": [],
   "source": [
    "# from tensorflow.keras.models import load_model\n",
    "\n",
    "# saved_model_path = f'{model_path}/{best_model_descriptor}.h5'\n",
    "# model = load_model(saved_model_path)\n",
    "# # model.summary()\n"
   ]
  },
  {
   "cell_type": "code",
   "execution_count": null,
   "metadata": {},
   "outputs": [],
   "source": [
    "# print(X_train_price.shape, X_val_price.shape, X_test_price.shape)\n",
    "# print(X_train_mix.shape, X_val_mix.shape, X_test_mix.shape)"
   ]
  },
  {
   "cell_type": "code",
   "execution_count": null,
   "metadata": {},
   "outputs": [],
   "source": [
    "# results_df = models.retrain_best_model(saved_model_path, X_train_price, y_train_price, X_val_price, y_val_price, X_test_price, y_test_price)"
   ]
  },
  {
   "cell_type": "code",
   "execution_count": null,
   "metadata": {},
   "outputs": [],
   "source": [
    "# results_df"
   ]
  },
  {
   "cell_type": "code",
   "execution_count": null,
   "metadata": {},
   "outputs": [],
   "source": []
  }
 ],
 "metadata": {
  "kernelspec": {
   "display_name": "venv",
   "language": "python",
   "name": "python3"
  },
  "language_info": {
   "codemirror_mode": {
    "name": "ipython",
    "version": 3
   },
   "file_extension": ".py",
   "mimetype": "text/x-python",
   "name": "python",
   "nbconvert_exporter": "python",
   "pygments_lexer": "ipython3",
   "version": "3.7.8"
  }
 },
 "nbformat": 4,
 "nbformat_minor": 4
}
