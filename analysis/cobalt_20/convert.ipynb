{
 "cells": [
  {
   "cell_type": "code",
   "execution_count": 9,
   "metadata": {},
   "outputs": [],
   "source": [
    "import pandas as pd\n",
    "\n",
    "df = pd.read_csv('test/results_test.csv').head(34)\n",
    "\n",
    "writer = pd.ExcelWriter('Results.xlsx', engine='xlsxwriter')\n",
    "\n",
    "df.to_excel(writer, sheet_name='Base Model Results', index=False)\n",
    "\n",
    "additional_sheets = ['Strong Model', 'Weak Model', 'High P Low R', 'High R Low P', 'Dumb Model']\n",
    "\n",
    "for sheet in additional_sheets:\n",
    "    df.head(0).to_excel(writer, sheet_name=sheet, index=False)\n",
    "\n",
    "writer.close()\n"
   ]
  }
 ],
 "metadata": {
  "kernelspec": {
   "display_name": "venv",
   "language": "python",
   "name": "python3"
  },
  "language_info": {
   "codemirror_mode": {
    "name": "ipython",
    "version": 3
   },
   "file_extension": ".py",
   "mimetype": "text/x-python",
   "name": "python",
   "nbconvert_exporter": "python",
   "pygments_lexer": "ipython3",
   "version": "3.11.6"
  }
 },
 "nbformat": 4,
 "nbformat_minor": 2
}
